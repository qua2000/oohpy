{
  "nbformat": 4,
  "nbformat_minor": 0,
  "metadata": {
    "colab": {
      "name": "OoH!Py Python for Kids   Vol.1",
      "provenance": [],
      "collapsed_sections": [],
      "authorship_tag": "ABX9TyO/4przy/5QU8hgnJw4I90z",
      "include_colab_link": true
    },
    "kernelspec": {
      "name": "python3",
      "display_name": "Python 3"
    },
    "language_info": {
      "name": "python"
    }
  },
  "cells": [
    {
      "cell_type": "markdown",
      "metadata": {
        "id": "view-in-github",
        "colab_type": "text"
      },
      "source": [
        "<a href=\"https://colab.research.google.com/github/qua2000/oohpy/blob/main/OoH!Py_Python_for_Kids_Vol_1.ipynb\" target=\"_parent\"><img src=\"https://colab.research.google.com/assets/colab-badge.svg\" alt=\"Open In Colab\"/></a>"
      ]
    },
    {
      "cell_type": "markdown",
      "source": [
        "#***OoH!Py*** \n",
        "#**Python for Kids! Vol.1**\n",
        "(Vol. 1)(May, 31 ,2022)\n",
        "\n",
        "\n"
      ],
      "metadata": {
        "id": "BxArDEcVX8_R"
      }
    },
    {
      "cell_type": "code",
      "execution_count": null,
      "metadata": {
        "cellView": "both",
        "colab": {
          "height": 39,
          "base_uri": "https://localhost:8080/"
        },
        "id": "odfM-_GxWbCy",
        "outputId": "caf340d1-a2de-41cd-89e9-f49fa1031c54"
      },
      "outputs": [
        {
          "output_type": "display_data",
          "data": {
            "text/plain": [
              "<IPython.core.display.HTML object>"
            ],
            "text/html": [
              "<marquee style='width: 100%; color: white;'><b>Welcome to OoH!Py</b></marquee>"
            ]
          },
          "metadata": {}
        }
      ],
      "source": [
        "%%html\n",
        "<marquee style='width: 100%; color: white;'><b>Welcome to OoH!Py</b></marquee>"
      ]
    },
    {
      "cell_type": "markdown",
      "source": [
        "#Foreword\n",
        "\n",
        "\n",
        "Hello everyone.\n",
        "\n",
        "\\\n",
        "This notebook is just a record of what I played with Python, not a textbook.\n",
        "\n",
        "Think of this as just a joy for playing.\n",
        "\n",
        "\\\n",
        "Please note that the written English here is not an accurate one, \n",
        "\n",
        "as I am not familiar with English.\n",
        "\n",
        "\\\n",
        "The code written is just one example for you, \n",
        "\n",
        "so if you get used to creating code, you could find a better code.\n",
        "\n",
        "\\\n",
        "As the problems are not in the order of ease, if you feel it's difficult, \n",
        "\n",
        "skip it and move on.\n",
        "\n",
        "\\\n",
        "It's not well organized, so there might same problems and calculations.\n",
        "\n",
        "\\\n",
        "It seems to be the same for other programs, but please note that \n",
        "\n",
        "if you do not enter the code correctly, you will get an error when you run it.\n",
        "\n",
        "\\\n",
        "From now on, I have little time to play with Colab for taking the junior high\n",
        "\n",
        " school exam next year, so I will baton touch the junior friends to add or \n",
        " \n",
        " revise this note (June 2022).\n",
        "\n",
        "ーーーーーーーーーーーーーーーーーーーーーーーーーーーーーーーーーーーーーーー\n",
        "\n",
        "This note is called Google Colaboratory.(GoogleColab: Google Collaboration) \n",
        "\n",
        "\\\n",
        "First of all, as a recommendation, please use GoogleChrome as the browser.\n",
        "\n",
        "\\\n",
        "Secondary,  let's create GoogleDrive as stated below(%).\n",
        "\n",
        "\\\n",
        "In the procedure described below, create your own copy \n",
        "\n",
        "and save it in GoogleDrive Google Drive.\n",
        "\n",
        "\\\n",
        "To Copy, click \"File\" in the menu above → \"Save a copy in Drive\".\n",
        "\n",
        "\\\n",
        "A new Colab copy is created automatically in `Colab Notebooks` folder of `My Drive`.\n",
        "\n",
        "\\\n",
        "Then you can save your own programs (code).\n",
        "\n",
        "\\\n",
        "Your note is automatically saved, but can be done with \"File\" → \"Save\".\n",
        "\n",
        "\\\n",
        "Once you make your own, you will be overwritten and saved by \"Save\".\n",
        "\n",
        "\\\n",
        "(%) To create a Google Drive, you need Google Account, so please check it \n",
        "\n",
        "yourself because it is `Easy and real Free` to make Google accounts and drives.\n",
        "\n",
        "\\\n",
        "There are many sites on Python and Colab.\n",
        "\n",
        "Below is just for your reference.\n",
        "\n",
        "\\\n",
        "For more details on Colab please refer to \n",
        "\n",
        "→[Welcome to Colaboratory](https://colab.research.google.com/?utm_source=scs-index&hl=en)\n",
        "\n",
        "and \n",
        "\n",
        "[Overview of Colaboratory Features](https://colab.research.google.com/notebooks/basic_features_overview.ipynb)\n",
        "\n",
        "\\\n",
        "As for Python, youmay learn more at\n",
        "\n",
        "[Python basics](https://colab.research.google.com/github/data-psl/lectures2020/blob/master/notebooks/01_python_basics.ipynb)\n",
        "\n",
        "or\n",
        "\n",
        "[The Python Tutorial](https://docs.python.org/3/tutorial/index.html)\n",
        "\n",
        "\n"
      ],
      "metadata": {
        "id": "d6fDtCrhLWyx"
      }
    },
    {
      "cell_type": "markdown",
      "source": [
        "#Colab can do for you."
      ],
      "metadata": {
        "id": "Ce8jNpmz3wST"
      }
    },
    {
      "cell_type": "markdown",
      "source": [
        "---\n",
        "As you know the number $\\pi$ (pi) is a mathematical constant\n",
        "\n",
        "which is the ratio of a circle's circumference to its diameter.\n",
        "\n",
        "\\\n",
        "It is approximately equal to 3.14159, but it is an irrational number\n",
        "\n",
        "which can not be expressed exactly as fraction.\n",
        "\n",
        "\\\n",
        "Therefore, its decimal representation never ends.\n",
        "\n",
        "\\\n",
        "Python can calculate and display decimals for you.\n",
        "\n",
        "\\\n",
        "Press the play button $\\rhd$ to the left of the code cell below.\n",
        "\n",
        "\\\n",
        "When some text is displayed, input number of decimal places \n",
        "\n",
        "and press Enter key. "
      ],
      "metadata": {
        "id": "E6OrHEJq_cBX"
      }
    },
    {
      "cell_type": "code",
      "metadata": {
        "id": "bNr-Q0Z_67t_"
      },
      "source": [
        "import sympy\n",
        "\n",
        "pi_input = int(input('How many digits of pi do you want to see? :'))\n",
        "\n",
        "pi = sympy.pi.evalf(pi_input)\n",
        "\n",
        "print(\"pi is approx.\", pi)\n"
      ],
      "execution_count": null,
      "outputs": []
    },
    {
      "cell_type": "markdown",
      "source": [
        "---\n",
        "Do you want to know the time now?\n",
        "\n",
        "\\\n",
        "Press the play button  $\\rhd$  to the left of the code cell below.\n",
        "\n",
        "\\"
      ],
      "metadata": {
        "id": "cfVe14vkGAnL"
      }
    },
    {
      "cell_type": "code",
      "source": [
        "import datetime\n",
        "\n",
        "dt_now = datetime.datetime.now()\n",
        "\n",
        "print(dt_now)\n"
      ],
      "metadata": {
        "id": "JJ63-ms3c8yg"
      },
      "execution_count": null,
      "outputs": []
    },
    {
      "cell_type": "markdown",
      "metadata": {
        "id": "iJDqBXRzBntM"
      },
      "source": [
        "---\n",
        "How many digits would be if 123 is multiplied 100 times?\n",
        "\n",
        "\\\n",
        "Press ▶ the Play icon in the left gutter of the cell\n",
        "\n",
        "\\"
      ]
    },
    {
      "cell_type": "code",
      "metadata": {
        "id": "zxckVdRHBntN"
      },
      "source": [
        "n = 123**100\n",
        "\n",
        "print(str(len(str(n))) + \" digits\")\n"
      ],
      "execution_count": null,
      "outputs": []
    },
    {
      "cell_type": "markdown",
      "metadata": {
        "id": "IS1vIqy9BntN"
      },
      "source": [
        "---\n",
        "What is it if you multiply by 1 to 200?\n",
        "\n",
        " $1\\times 2 \\times 3 \\times 4 \\times ・・・・ \\times 199 \\times 200 = ?$\n",
        "\n",
        "\\\n",
        "Click ▶ the Play icon in the left gutter of the cell\n"
      ]
    },
    {
      "cell_type": "code",
      "metadata": {
        "id": "tf8G2XthBntO"
      },
      "source": [
        "p = 1\n",
        "for a in range(1, 201):\n",
        "  p = p * a\n",
        "print(p)"
      ],
      "execution_count": null,
      "outputs": []
    },
    {
      "cell_type": "markdown",
      "source": [
        "---\n",
        "#Python calculates for you.\n",
        "\n",
        "Write the code in the code cell and click he play button to the left of the code, then Python will calculate it. \n",
        "\n",
        "The symbol for calculation is called the `operator`.\n",
        "\n",
        "\\\n",
        "The operators are `+` for addition (add/ plus) and `-` for subtraction (subtract / minus).\n",
        "\n",
        "\\\n",
        "Above is the same as math, but `*` is for multiplication (multiply / time) and `/` is for division (divide). \n",
        "\n",
        "\\\n",
        "The priority of calculation is the same as that of arithmetic.\n",
        "\n",
        "Parentheses (brackets) are calculated first.\n",
        "\n",
        "\\\n",
        "Use `**` (power / exponentiation / exponent) to multiply the same number twice\n",
        "\n",
        "Write ` 5 ** 2` as `5 * 5` and\n",
        "\n",
        " ` 5 ** 3` as `5 * 5 * 5`.\n",
        "\n",
        "\\"
      ],
      "metadata": {
        "id": "Fkgo_bcRQZk9"
      }
    },
    {
      "cell_type": "code",
      "source": [
        ""
      ],
      "metadata": {
        "id": "0XzyeC7jI_jM"
      },
      "execution_count": null,
      "outputs": []
    },
    {
      "cell_type": "code",
      "source": [
        "5 ** 2"
      ],
      "metadata": {
        "id": "k8K0kTYuMGlr"
      },
      "execution_count": null,
      "outputs": []
    },
    {
      "cell_type": "code",
      "source": [
        "5 ** 3"
      ],
      "metadata": {
        "id": "f3bfWIsRI7UG"
      },
      "execution_count": null,
      "outputs": []
    },
    {
      "cell_type": "markdown",
      "source": [
        "---\n",
        "## Arithmetic operators\n",
        "\n",
        "There are signs / symbols for operations.\n",
        "\n",
        "\\\n",
        "\n",
        "| operation | symbol |\n",
        "|:------:|:------:|\n",
        "| add / plus | `+` |\n",
        "| subtract / minus | `-` |\n",
        "| multiply / times | `*` |\n",
        "| divide | `/` |\n",
        "| power / exponent | `**` |  \n",
        "\n",
        "\\\n",
        "\n",
        "\"Power / Exponent\" → It will come out later, so you should remember this symbol.\n",
        "\n",
        "It is the operation of \"multiplying the same number\".\n",
        "\n"
      ],
      "metadata": {
        "id": "mcwUvzLWhlyN"
      }
    },
    {
      "cell_type": "markdown",
      "source": [
        "---\n",
        "#Markdown\n",
        "\n",
        "Text Cell is partially written by a writing method called Markdown.\n",
        "\n",
        "There is also a place to explain in the problem\n",
        "\n",
        "For your reference, see the sites listed here [Markdown Guide](https://colab.research.google.com/notebooks/markdown_guide.ipynb) (GoogleColab)\n",
        "\n"
      ],
      "metadata": {
        "id": "8Fiz1JdZipyY"
      }
    },
    {
      "cell_type": "markdown",
      "source": [
        "#Let's calculate with Colab!"
      ],
      "metadata": {
        "id": "XeGozrqd2me5"
      }
    },
    {
      "cell_type": "markdown",
      "source": [
        "---\n",
        "##Calculate with Colab!\n",
        "\n",
        "You can see the number of digits that can be calculated by Colab.\n",
        "\n",
        "---\n",
        "Q?\n",
        "\n",
        "Wanted to do this calculation with a calculator?\n",
        "\n",
        "\\\n",
        "123456789 $\\times$ 123456789\n",
        "\n",
        "\\\n",
        "With Python, use `*` for multiplication (half-width)\n",
        "\n",
        "To display `*` → Hold down the `Shift key` and press the` * key`\n",
        "\n",
        "`123456789 * 123456789`\n",
        "\n",
        "\\\n",
        "`[ Note ]`\n",
        "\n",
        " not `123456789*123456789` but `123456789 * 123456789`\n",
        "\n",
        "`half-width space` between numbers and symbols as easier to see.\n",
        "\n",
        "\n"
      ],
      "metadata": {
        "id": "UvLO89XYj_CD"
      }
    },
    {
      "cell_type": "code",
      "source": [
        ""
      ],
      "metadata": {
        "id": "QhwPNC_2lVzg"
      },
      "execution_count": null,
      "outputs": []
    },
    {
      "cell_type": "code",
      "source": [
        "#sample\n",
        "\n",
        "123456789 * 123456789"
      ],
      "metadata": {
        "id": "CQjsxNVklWzV"
      },
      "execution_count": null,
      "outputs": []
    },
    {
      "cell_type": "markdown",
      "source": [
        "Let's multiply the same number 3 times\n",
        "\n",
        "---\n",
        "\n",
        "Q?\n",
        "\n",
        "\n",
        "\n",
        "How to write/input 123456789 $\\times$ 123456789 $\\times$ 123456789 to calculate in Python?\n",
        "\n"
      ],
      "metadata": {
        "id": "QNvoz4Shlluz"
      }
    },
    {
      "cell_type": "code",
      "source": [
        ""
      ],
      "metadata": {
        "id": "AJgoMKzaV1Cu"
      },
      "execution_count": null,
      "outputs": []
    },
    {
      "cell_type": "code",
      "source": [
        "#sample\n",
        "\n",
        "123456789 * 123456789 * 123456789"
      ],
      "metadata": {
        "id": "6Qy39yM1pcuh"
      },
      "execution_count": null,
      "outputs": []
    },
    {
      "cell_type": "markdown",
      "source": [
        "### `**` (Exponentiation)"
      ],
      "metadata": {
        "id": "ztRpEjL9IgqN"
      }
    },
    {
      "cell_type": "markdown",
      "source": [
        "In Python, when you multiply the same number twice,\n",
        "\n",
        "`123456789 ** 2` (123456789 squared)\n",
        "\n",
        "\\\n",
        "When calling 3 times, write `123456789 ** 3` (123456789 cubed)\n",
        "\n",
        "\\\n",
        "4 times, write `123456789 ** 4` (4th poower)"
      ],
      "metadata": {
        "id": "2qWblL61p4Mp"
      }
    },
    {
      "cell_type": "code",
      "source": [
        ""
      ],
      "metadata": {
        "id": "xtVvkpOVke-r"
      },
      "execution_count": null,
      "outputs": []
    },
    {
      "cell_type": "code",
      "source": [
        "#sample \n",
        "\n",
        "123456789 ** 2\n"
      ],
      "metadata": {
        "id": "N9hmNKdmqbGf"
      },
      "execution_count": null,
      "outputs": []
    },
    {
      "cell_type": "markdown",
      "source": [
        "---\n",
        "Q?\n",
        "\n",
        "1234 $\\times$ 1234 $\\times$ 1234 $\\times$ 1234 $\\times$ 1234 "
      ],
      "metadata": {
        "id": "8z8eltwOkhs1"
      }
    },
    {
      "cell_type": "code",
      "source": [
        ""
      ],
      "metadata": {
        "id": "D7Xzs0nUkjk9"
      },
      "execution_count": null,
      "outputs": []
    },
    {
      "cell_type": "markdown",
      "source": [
        "---\n",
        "Q?\n",
        "\n",
        "9999999 $\\times$ 9999999 "
      ],
      "metadata": {
        "id": "NhJ2XN8UHQqa"
      }
    },
    {
      "cell_type": "code",
      "source": [
        ""
      ],
      "metadata": {
        "id": "qZO1LGDSHV4h"
      },
      "execution_count": null,
      "outputs": []
    },
    {
      "cell_type": "markdown",
      "source": [
        "By the way, in mathematics, when multiplying the same number\n",
        "\n",
        "Write small on the right shoulder, such as 123456789 <sup> 2 </sup>, 123456789 <sup> 3 </sup>, etc.\n",
        "\n",
        "\\\n",
        "This is easier to write, so remember it now"
      ],
      "metadata": {
        "id": "8IWNBCfZqrVy"
      }
    },
    {
      "cell_type": "markdown",
      "source": [
        "To display the plus `+` → Hold down the `Shift key` and press ` + key`\n",
        "\n",
        "\n",
        "Addition practice is coming soon."
      ],
      "metadata": {
        "id": "9BkzGY9HrMoA"
      }
    },
    {
      "cell_type": "markdown",
      "source": [
        "Q?\n",
        "\n",
        "98939412<sup>2</sup>＋10243728<sup>2</sup>"
      ],
      "metadata": {
        "id": "hQR-0eCXLkPF"
      }
    },
    {
      "cell_type": "code",
      "source": [
        ""
      ],
      "metadata": {
        "id": "Mt9ThxsALyos"
      },
      "execution_count": null,
      "outputs": []
    },
    {
      "cell_type": "markdown",
      "source": [
        "Write `9839412 **2 + 10243728 **2` instead of `98939412 * 98939412 + 10243728 * 10243728`"
      ],
      "metadata": {
        "id": "ri3f0uQ2rdjP"
      }
    },
    {
      "cell_type": "code",
      "source": [
        ""
      ],
      "metadata": {
        "id": "fa-jOJuLA39o"
      },
      "execution_count": null,
      "outputs": []
    },
    {
      "cell_type": "markdown",
      "source": [
        "---\n",
        "Q?\n",
        "\n",
        "2682440<sup>4</sup>＋15365639<sup>4</sup>＋18796760<sup>4</sup>\n",
        "\n",
        "\\\n",
        "`2682440 * 2682440 * 2682440 * 2682440 + 15365639 * ・・・・・・`?\n",
        "\n",
        "\n",
        "\\\n",
        "Write `2682440 **4 + 15365639 **4 + 18796760 **4`\n",
        "\n",
        "\\\n",
        "`[ Note]`\n",
        "\n",
        "Compare the answer of this calculation with the answer of the formula below"
      ],
      "metadata": {
        "id": "788iBzE6B079"
      }
    },
    {
      "cell_type": "code",
      "source": [
        ""
      ],
      "metadata": {
        "id": "Mk1HT2jWDHGs"
      },
      "execution_count": null,
      "outputs": []
    },
    {
      "cell_type": "markdown",
      "source": [
        "---\n",
        "Q?\n",
        "\n",
        "Compared to the answer in the above formula\n",
        "\n",
        "\\\n",
        "20615673<sup>4</sup>"
      ],
      "metadata": {
        "id": "GnzQyjVRFjGU"
      }
    },
    {
      "cell_type": "code",
      "source": [
        ""
      ],
      "metadata": {
        "id": "F9_Jz53qFssg"
      },
      "execution_count": null,
      "outputs": []
    },
    {
      "cell_type": "markdown",
      "source": [
        "It is the same answer !!!"
      ],
      "metadata": {
        "id": "vNaPjxiesghL"
      }
    },
    {
      "cell_type": "markdown",
      "source": [
        "---\n",
        "\n",
        "Q?\n",
        "\n",
        "Consider the question, \"How many times do you fold origami to reach the sun ?\"\n",
        "\n",
        "\\\n",
        "Assuming that the thickness of origami = 0.1 mm (millimeters), which equals 0.0001 m (meter)\n",
        "\n",
        "0.0001 m = 0.0000001 km (kilometers)\n",
        "\n",
        "\\\n",
        " \n",
        "How many times the paper is to be fold to reach 149,600,000 km of the distance to the sun ?\n",
        "\n",
        " \\\n",
        "\n",
        "Once folded, the thickness is 0.0000001 km x 2 → `0.0000001 * 2`\n",
        "\n",
        "\n",
        "When folded twice, 0.0000001 km $\\times$ 2 $\\times$ 2 → `0.0000001 * 2 * 2`\n",
        "\n",
        "\\\n",
        "\n",
        "After 5 folds, 0.0000001 x 2 x 2 x 2 x 2 x 2 → `0.000001 * 2 * 2 * 2 * 2 * 2`\n",
        "\n",
        "Because it is troublesome to wirte like this, \n",
        "\n",
        "`0.0000001 * 2 ** 5` 2 fold are repeated 5 times =` \"$\\times$ 2\" to the 5th power`\n",
        "\n",
        "\\\n",
        "\n",
        "After 10 fold, 0.0000001 $\\times$ 2 $\\times$… $\\times$ 2 (2 times 10 times) → `0.0000001 * (2 ** 10)` (No parentheses are required)\n",
        "\n",
        "\n",
        "\n",
        "After 30 fold, `0.0000001 * (2 ** 30)`\n",
        "\n",
        "After 40 fold, `0.0000001 * (2 ** 40)`\n",
        "\n",
        "Is it a little more?\n",
        "\n",
        "`0.0000001 * (2 ** 41)`\n",
        "\n",
        "And increased by 1\n",
        "\n",
        "Check for yourself how many times\n"
      ],
      "metadata": {
        "id": "7JOwD3AmxVlp"
      }
    },
    {
      "cell_type": "code",
      "source": [
        "#fold 41 times\n",
        "\n",
        "0.0000001 * (2 **41)"
      ],
      "metadata": {
        "id": "bvPfSEBW8RmP"
      },
      "execution_count": null,
      "outputs": []
    },
    {
      "cell_type": "code",
      "source": [
        "0.0000001 * (2 **42)"
      ],
      "metadata": {
        "id": "tnf9i14VDlrw"
      },
      "execution_count": null,
      "outputs": []
    },
    {
      "cell_type": "markdown",
      "source": [
        "This shows approx. 439,804 km\n",
        "\n",
        "As the distance to the sun is 149,600,000km, it looks still far away."
      ],
      "metadata": {
        "id": "w6VntEUfD0Lm"
      }
    },
    {
      "cell_type": "code",
      "source": [
        "#50times？\n",
        "\n",
        "0.0000001 * (2 **50)"
      ],
      "metadata": {
        "id": "414h-5YsDqf9"
      },
      "execution_count": null,
      "outputs": []
    },
    {
      "cell_type": "markdown",
      "source": [
        "---\n",
        "Q?\n",
        "\n",
        "16<sup>3</sup>＋50<sup>3</sup>＋33<sup>3</sup>\n",
        "\n",
        "\\\n",
        "this program shows\n",
        "\n",
        "`16**3 + 50**3 + 33**3`\n",
        "\n"
      ],
      "metadata": {
        "id": "Y2auGOXHH_kb"
      }
    },
    {
      "cell_type": "code",
      "source": [
        ""
      ],
      "metadata": {
        "id": "t5X5dXV-T2gp"
      },
      "execution_count": null,
      "outputs": []
    },
    {
      "cell_type": "markdown",
      "source": [
        "---\n",
        "Q?\n",
        "\n",
        "What is it if you multiply 0 by 0? \n",
        "\n",
        "What is \"0 to the 0th power\"?\n",
        "\n",
        "\n",
        "\\\n",
        "`0**0`"
      ],
      "metadata": {
        "id": "9bYI6KBAsOu9"
      }
    },
    {
      "cell_type": "code",
      "source": [
        ""
      ],
      "metadata": {
        "id": "MZ-kbyG2sPvy"
      },
      "execution_count": null,
      "outputs": []
    },
    {
      "cell_type": "markdown",
      "source": [
        "### `+` (addition)"
      ],
      "metadata": {
        "id": "8GqvEMhmItiv"
      }
    },
    {
      "cell_type": "markdown",
      "source": [
        "\n",
        "To display the plus `+` → `Shift key` and press ` + key`\n"
      ],
      "metadata": {
        "id": "HolNb7iLeEpZ"
      }
    },
    {
      "cell_type": "code",
      "source": [
        ""
      ],
      "metadata": {
        "id": "lS2dXZu2daUK"
      },
      "execution_count": null,
      "outputs": []
    },
    {
      "cell_type": "markdown",
      "metadata": {
        "id": "RA0OJNhv1duK"
      },
      "source": [
        "---\n",
        "Q?\n",
        "\n",
        "How to write `16 + 7 + 8` in Code Cell with Python ?"
      ]
    },
    {
      "cell_type": "markdown",
      "source": [
        "\n",
        "[ Answer ]\n",
        "\n",
        "\\\n",
        "`16 + 7 + 8`\n",
        "\n",
        "This formula is enough a good `computer program`.\n",
        "\n",
        "\\\n",
        "\n",
        "[ Note] \n",
        "\n",
        "\\\n",
        "(1)  Do not include `=` sumbol\n",
        "\n",
        "\\\n",
        "(2)  It is the same even if you do not put a `space (blank)` between numbers and symbols like `16+7+8`.\n",
        "\n",
        "However, if you put a space, it will be easier to see, so let's usually put the space.\n"
      ],
      "metadata": {
        "id": "LHbZNGg719-3"
      }
    },
    {
      "cell_type": "markdown",
      "source": [
        "### `#`Comment"
      ],
      "metadata": {
        "id": "mHQge0TmI0E4"
      }
    },
    {
      "cell_type": "code",
      "source": [
        "#Let's input in the same way as above\n",
        "\n"
      ],
      "metadata": {
        "id": "8GFUm3DHEQXA"
      },
      "execution_count": null,
      "outputs": []
    },
    {
      "cell_type": "markdown",
      "source": [
        "\n",
        "\n",
        "As you can see `#`(Sharp / hash) at the beginning like in the Code Cell above,\n",
        "\n",
        "it is called `comment` and characters and numbers in the same line are not included in the program.\n",
        "\n"
      ],
      "metadata": {
        "id": "M-B0Ddij3kbh"
      }
    },
    {
      "cell_type": "markdown",
      "source": [
        "---\n",
        "Q?\n",
        "\n",
        "3163 ＋ 3613 "
      ],
      "metadata": {
        "id": "1XAUdl3Tp8kP"
      }
    },
    {
      "cell_type": "code",
      "source": [
        ""
      ],
      "metadata": {
        "id": "0DGVVcIn5NhP"
      },
      "execution_count": null,
      "outputs": []
    },
    {
      "cell_type": "markdown",
      "source": [
        "###`-` (Subtraction)"
      ],
      "metadata": {
        "id": "hzL4ARgFI5Eh"
      }
    },
    {
      "cell_type": "markdown",
      "metadata": {
        "id": "eNtNv6qS1duL"
      },
      "source": [
        "---\n",
        "Q?\n",
        "\n",
        "Calculate\n",
        "\n",
        " 54 - 6 - 9 \n",
        "\n",
        " To display the `-` of the subtraction, the`-key` to the right of the `0` key"
      ]
    },
    {
      "cell_type": "code",
      "metadata": {
        "id": "eQSTih2I1duM"
      },
      "source": [
        ""
      ],
      "execution_count": null,
      "outputs": []
    },
    {
      "cell_type": "markdown",
      "source": [
        "### `/` (Division)"
      ],
      "metadata": {
        "id": "B6Pcy4I4I-8u"
      }
    },
    {
      "cell_type": "markdown",
      "source": [
        "---\n",
        "Uses the `/` symbol as division operator\n",
        "\n",
        "\n",
        "Q?\n",
        "\n",
        "956956 $\\div$ 7 $\\div$ 11 $\\div$ 13 = ?\n",
        "\n",
        "\\\n",
        "How to write\n",
        "\n",
        "\\\n",
        "`956956 / 7 / 11 / 13`"
      ],
      "metadata": {
        "id": "0PlT3dZasr4b"
      }
    },
    {
      "cell_type": "code",
      "source": [
        ""
      ],
      "metadata": {
        "id": "s2Kmez0as4bM"
      },
      "execution_count": null,
      "outputs": []
    },
    {
      "cell_type": "markdown",
      "source": [
        "---\n",
        "Q?\n",
        "\n",
        "894894 $\\div$ 7 $\\div$ 11 $\\div$ 13 =?"
      ],
      "metadata": {
        "id": "hJXhTMd1s_pf"
      }
    },
    {
      "cell_type": "code",
      "source": [
        ""
      ],
      "metadata": {
        "id": "WieqPrSj5SE3"
      },
      "execution_count": null,
      "outputs": []
    },
    {
      "cell_type": "markdown",
      "source": [
        "###`*` (Multiplication)"
      ],
      "metadata": {
        "id": "qMnNLnC565MQ"
      }
    },
    {
      "cell_type": "markdown",
      "metadata": {
        "id": "614eiCYfeBOF"
      },
      "source": [
        "---\n",
        "Q?\n",
        "\n",
        "4 $\\times$ 7 $\\times$ 2\n",
        "\n",
        "\\\n",
        "Use `*` for multiplication\n",
        "\n",
        "\\\n",
        "`4 * 7 * 2`\n"
      ]
    },
    {
      "cell_type": "code",
      "metadata": {
        "id": "N4cmy3Yk1duN"
      },
      "source": [
        ""
      ],
      "execution_count": null,
      "outputs": []
    },
    {
      "cell_type": "markdown",
      "source": [
        "---\n",
        "Q?\\\n",
        "239 $\\times$ 4649"
      ],
      "metadata": {
        "id": "5FN-0Bu_o6c8"
      }
    },
    {
      "cell_type": "code",
      "source": [
        ""
      ],
      "metadata": {
        "id": "3LPPV9W7pFSW"
      },
      "execution_count": null,
      "outputs": []
    },
    {
      "cell_type": "markdown",
      "source": [
        "---\n",
        "Q?\\\n",
        "7373 $\\times$ 1507"
      ],
      "metadata": {
        "id": "bAvKLun1pD_R"
      }
    },
    {
      "cell_type": "code",
      "source": [
        ""
      ],
      "metadata": {
        "id": "EM2DUN9G5UXb"
      },
      "execution_count": null,
      "outputs": []
    },
    {
      "cell_type": "markdown",
      "metadata": {
        "id": "4ZyBAMUo1duO"
      },
      "source": [
        "---\n",
        "Q?\\\n",
        "18 $\\div$ 3 $\\div$ 2"
      ]
    },
    {
      "cell_type": "code",
      "metadata": {
        "id": "M38hwMNV1duO"
      },
      "source": [
        ""
      ],
      "execution_count": null,
      "outputs": []
    },
    {
      "cell_type": "markdown",
      "source": [
        "The quotient is 3.0, but the same as 3."
      ],
      "metadata": {
        "id": "oFPZPYgA5UDp"
      }
    },
    {
      "cell_type": "markdown",
      "metadata": {
        "id": "xuMmlU8e1duO"
      },
      "source": [
        "---\n",
        "Q?\\\n",
        "345 + 65"
      ]
    },
    {
      "cell_type": "code",
      "metadata": {
        "id": "gITuAzz31duO"
      },
      "source": [
        ""
      ],
      "execution_count": null,
      "outputs": []
    },
    {
      "cell_type": "markdown",
      "metadata": {
        "id": "2vxXd_2h1duP"
      },
      "source": [
        "---\n",
        "Q?\\\n",
        "355 $\\div$ 113"
      ]
    },
    {
      "cell_type": "code",
      "metadata": {
        "id": "K2gDBGv91duP"
      },
      "source": [
        ""
      ],
      "execution_count": null,
      "outputs": []
    },
    {
      "cell_type": "markdown",
      "metadata": {
        "id": "AyOSjcoL1duP"
      },
      "source": [
        "It became the same as pi up to the 6th decimal place!"
      ]
    },
    {
      "cell_type": "markdown",
      "source": [
        "---\n",
        "Q?\\\n",
        "856 $\\times$ 35"
      ],
      "metadata": {
        "id": "dn_usQfBqnYi"
      }
    },
    {
      "cell_type": "code",
      "source": [
        ""
      ],
      "metadata": {
        "id": "7GKRGjcxq3_b"
      },
      "execution_count": null,
      "outputs": []
    },
    {
      "cell_type": "markdown",
      "source": [
        "---\n",
        "Q?\\\n",
        "21978 $\\times$ 4 "
      ],
      "metadata": {
        "id": "qnE5xXv0LI8i"
      }
    },
    {
      "cell_type": "code",
      "source": [
        "#Attention to sort order of the number of quotient\n",
        "\n",
        "21978 * 4\n"
      ],
      "metadata": {
        "id": "LiiFFPYcLPMl"
      },
      "execution_count": null,
      "outputs": []
    },
    {
      "cell_type": "markdown",
      "source": [
        "---\n",
        "Q?\n",
        "\n",
        "682 $\\times$ 18 \n",
        "\n",
        "716 $\\times$ 84"
      ],
      "metadata": {
        "id": "CrtVYge9qvdy"
      }
    },
    {
      "cell_type": "code",
      "source": [
        ""
      ],
      "metadata": {
        "id": "N32WEGMpJR0w"
      },
      "execution_count": null,
      "outputs": []
    },
    {
      "cell_type": "markdown",
      "source": [
        "### print"
      ],
      "metadata": {
        "id": "MFRH3iYkJSc0"
      }
    },
    {
      "cell_type": "markdown",
      "source": [
        "---\n",
        "Even if you write two multiplication formulas, only the last one output is dislayed.\n",
        "\n",
        "`682 * 18`\n",
        "\n",
        "`716 * 84`"
      ],
      "metadata": {
        "id": "DaPDpBUDbMj0"
      }
    },
    {
      "cell_type": "code",
      "source": [
        ""
      ],
      "metadata": {
        "id": "12sfanEhq8rM"
      },
      "execution_count": null,
      "outputs": []
    },
    {
      "cell_type": "markdown",
      "source": [
        "If you want to see the output of both of the two formulas,\n",
        "\n",
        "use the `print program`.\n",
        "\n",
        "\\\n",
        "`print ()` is a program that outputs the number in parentheses and the calculation result.\n",
        "\n",
        "Print practice later\n",
        "\n",
        "\n",
        "\\\n",
        "Code of printing the following three expressions and numbers\n",
        "\n",
        "\n",
        "\\\n",
        "`print(682 * 18)`\n",
        "\n",
        "`print(716 * 84)`\n",
        "\n",
        "`print(1192)`"
      ],
      "metadata": {
        "id": "rv-p7ZxHbd8V"
      }
    },
    {
      "cell_type": "code",
      "source": [
        ""
      ],
      "metadata": {
        "id": "v-tbJo8DtD2X"
      },
      "execution_count": null,
      "outputs": []
    },
    {
      "cell_type": "markdown",
      "source": [
        "---\n",
        "Q?\n",
        "\n",
        "1 + 4 + 6 + 7 = ?\n",
        "\n",
        "2 + 3 + 5 + 8 = ?\n",
        "\n",
        "1 $\\times$ 1 ＋ 4 $\\times$ 4 ＋ 6 $\\times$ 6 ＋ 7 $\\times$ 7 ＝ ？\n",
        "\n",
        "2 $\\times$ 2 ＋ 3 $\\times$ 3 ＋ 5 $\\times$ 5 ＋ 8 $\\times$ 8 ＝ ？\n",
        "\n",
        "\\\n",
        "Since there are 4 expressions, use print ().\n",
        "\n",
        "`print(1 + 4 + 6 + 7)`\n",
        "\n",
        "`print(1 * 1 + 4 * 4 + 6 * 6 + 7 * 7)`\n",
        "\n"
      ],
      "metadata": {
        "id": "xRgX7xym9Orc"
      }
    },
    {
      "cell_type": "code",
      "source": [
        ""
      ],
      "metadata": {
        "id": "dsZAH8nL9Qz1"
      },
      "execution_count": null,
      "outputs": []
    },
    {
      "cell_type": "markdown",
      "source": [
        "### Mixed of addition, subtraction, multiplication, division"
      ],
      "metadata": {
        "id": "a80bSPcwJZbh"
      }
    },
    {
      "cell_type": "markdown",
      "source": [
        "---\n",
        "Q?\n",
        "\n",
        "(6 $\\times$ 9) ＋ (6 ＋ 9)"
      ],
      "metadata": {
        "id": "yYdmTDRTXwu1"
      }
    },
    {
      "cell_type": "code",
      "source": [
        ""
      ],
      "metadata": {
        "id": "U8JYjYbqX7Xa"
      },
      "execution_count": null,
      "outputs": []
    },
    {
      "cell_type": "markdown",
      "metadata": {
        "id": "LtlCjfNuAMGn"
      },
      "source": [
        "---\n",
        "Q?\\\n",
        "438 + 9 $\\times$ 2"
      ]
    },
    {
      "cell_type": "code",
      "source": [
        ""
      ],
      "metadata": {
        "id": "r_m4D9Y9ANWw"
      },
      "execution_count": null,
      "outputs": []
    },
    {
      "cell_type": "markdown",
      "metadata": {
        "id": "GvmaHgcJAXrE"
      },
      "source": [
        "---\n",
        "Q?\\\n",
        "(37 + 28) $\\times$ 6"
      ]
    },
    {
      "cell_type": "code",
      "source": [
        ""
      ],
      "metadata": {
        "id": "Kd_y3rwzAY4L"
      },
      "execution_count": null,
      "outputs": []
    },
    {
      "cell_type": "markdown",
      "source": [
        "---\n",
        "Q?\n",
        "\n",
        "96 $\\div$ 8 $\\times$ 6 $\\div$ 3 \n",
        "\n",
        "30 - 27 $\\div$ 3 + 6 $\\times$ 7"
      ],
      "metadata": {
        "id": "3hji8PbW0ICv"
      }
    },
    {
      "cell_type": "markdown",
      "source": [
        "`print(96 / 8 * 6 / 3)`\\\n",
        "`print(30 - 27 / 3 + 6 * 7)`"
      ],
      "metadata": {
        "id": "t7gMnUNnaCYr"
      }
    },
    {
      "cell_type": "code",
      "source": [
        ""
      ],
      "metadata": {
        "id": "ESIenmdH0fpG"
      },
      "execution_count": null,
      "outputs": []
    },
    {
      "cell_type": "markdown",
      "source": [
        "---\n",
        "Q?\n",
        "\n",
        "33 － (9 $\\times$ 8 － 2）$\\div$ (11 － 2 $\\times$ 3)"
      ],
      "metadata": {
        "id": "JatWxVP01X6U"
      }
    },
    {
      "cell_type": "markdown",
      "source": [
        "`print(33 - (9 * 8 - 2) / (11 - 2 * 3))`\n",
        "\n",
        "\\\n",
        "`[ Note ]` \n",
        "\n",
        "Not using `{  }` like `print{33 - (9 * 8 - 2) / (11 - 2 * 3)}`"
      ],
      "metadata": {
        "id": "-sz0ltfVaULO"
      }
    },
    {
      "cell_type": "code",
      "source": [
        ""
      ],
      "metadata": {
        "id": "fH-POSq1e2l3"
      },
      "execution_count": null,
      "outputs": []
    },
    {
      "cell_type": "markdown",
      "source": [
        "---\n",
        "Q?\n",
        "\n",
        "6.5 $\\times$ 8.4\n",
        "\n",
        "14.28 $\\div$ 2.38"
      ],
      "metadata": {
        "id": "C6leImLr1xiQ"
      }
    },
    {
      "cell_type": "code",
      "source": [
        ""
      ],
      "metadata": {
        "id": "YDEDc6sPaff-"
      },
      "execution_count": null,
      "outputs": []
    },
    {
      "cell_type": "markdown",
      "source": [
        "---\n",
        "If you try to divide by 0, you will get an error message.\n",
        "\n",
        "\\\n",
        "`35 / 0`"
      ],
      "metadata": {
        "id": "rwY-oa-valDa"
      }
    },
    {
      "cell_type": "code",
      "source": [
        ""
      ],
      "metadata": {
        "id": "X1SuRdcrgEv-"
      },
      "execution_count": null,
      "outputs": []
    },
    {
      "cell_type": "markdown",
      "source": [
        "<a name=\"print-id\"></a>\n",
        "### print\n",
        "\n"
      ],
      "metadata": {
        "id": "6ThgrOjDCPmK"
      }
    },
    {
      "cell_type": "markdown",
      "source": [
        "There are many explanations on how to use `print ()` in this section, but you don't have to remember them here.\n",
        "\n",
        "We would use `print()' many time from now on, so don't worry, you can remember it naturally.\n",
        "\n",
        "\\\n",
        "\n",
        "It is enough to read through the knowledge that is being explained.\n",
        "\n",
        "If you don't know when to use it, just come back.\n",
        "\n",
        "\\\n",
        "It is same for other explanations.\n",
        "\n"
      ],
      "metadata": {
        "id": "caCiIA5xTPKx"
      }
    },
    {
      "cell_type": "markdown",
      "source": [
        "---\n",
        "Q?\n",
        "\n",
        "calculate the following formula\n",
        "\n",
        "15873 $\\times$ 7\n",
        "\n",
        "15873 $\\times$ 14\n",
        "\n",
        "15873 $\\times$ 21\n",
        "\n",
        "15873 $\\times$ 28\n",
        "\n",
        "15873 $\\times$ 35\n",
        "\n",
        "15873 $\\times$ 42\n",
        "\n",
        "15873 $\\times$ 49\n",
        "\n",
        "15873 $\\times$ 56\n",
        "\n",
        "15873 $\\times$ 63\n",
        "\n",
        "Output the result (product) of the above in a row with print ().\n",
        "\n",
        "\\\n",
        "`print(15873 * 7, 15873 * 14, 15873 * 21, 15873 * 28, 15873 * 35, 15873 * 42, 15873 * 49, 15873 * 56, 15873 * 63)`"
      ],
      "metadata": {
        "id": "R_76I6mjYFGL"
      }
    },
    {
      "cell_type": "code",
      "source": [
        ""
      ],
      "metadata": {
        "id": "LhU24lhcmI9y"
      },
      "execution_count": null,
      "outputs": []
    },
    {
      "cell_type": "markdown",
      "metadata": {
        "id": "KyARsfUSS32m"
      },
      "source": [
        "---\n",
        "If you want to print the product on a new line,\n",
        "\n",
        "\\\n",
        "write as \n",
        "\n",
        "print(15873 *7)\n",
        "\n",
        "print(15873 *14)\n",
        "\n",
        "…\n",
        "\n",
        "print(15873 *63)\n",
        "\n",
        "or"
      ]
    },
    {
      "cell_type": "code",
      "source": [
        "print(15873 * 7)\n",
        "print(15873 * 14)\n",
        "\n",
        "\n"
      ],
      "metadata": {
        "id": "NizL2sRqZjRs"
      },
      "execution_count": null,
      "outputs": []
    },
    {
      "cell_type": "markdown",
      "source": [
        "Write in one line, and write `sep =\" \\ n \"` at the end.\n",
        "\n",
        "\\\n",
        "`print(15873 * 7, 15873 * 14, 15873 * 21, 15873 * 28, 15873 * 35, 15873 * 42, 15873 * 49, 15873 * 56, 15873 * 63, sep = \"\\n\")`"
      ],
      "metadata": {
        "id": "PrakmYYfZg7B"
      }
    },
    {
      "cell_type": "code",
      "source": [
        ""
      ],
      "metadata": {
        "id": "qw5WQHzELzmu"
      },
      "execution_count": null,
      "outputs": []
    },
    {
      "cell_type": "markdown",
      "metadata": {
        "id": "IV_8KOHgS32n"
      },
      "source": [
        "When you want to separate with commas `,` without line breaks,\n",
        "\n",
        "add `sep =\", \"` at the end\n",
        "\n",
        "\n"
      ]
    },
    {
      "cell_type": "code",
      "source": [
        ""
      ],
      "metadata": {
        "id": "FPJyqH3Nmepc"
      },
      "execution_count": null,
      "outputs": []
    },
    {
      "cell_type": "markdown",
      "metadata": {
        "id": "G_FcMzshmdIh"
      },
      "source": [
        "If you set `sep =\", \"`, a gap (space) will be created.\n",
        "\n"
      ]
    },
    {
      "cell_type": "code",
      "source": [
        ""
      ],
      "metadata": {
        "id": "jTO8UIypmmVe"
      },
      "execution_count": null,
      "outputs": []
    },
    {
      "cell_type": "markdown",
      "metadata": {
        "id": "vTjIFvZlS32o"
      },
      "source": [
        "---\n",
        "Q?\n",
        "\n",
        "1 $\\div$ 891\n",
        "\n",
        "1 $\\div$ 8991\n",
        "\n",
        "\n"
      ]
    },
    {
      "cell_type": "markdown",
      "metadata": {
        "id": "mal92cSrjVcT"
      },
      "source": [
        "Use print() to output two quotients\n",
        "\n",
        "\\\n",
        "`print(1 / 891)`\n",
        "\n",
        "`print(1 / 8991)`\n",
        "\n",
        "\\\n",
        "or\n",
        "\n",
        "\\\n",
        "`print(1 / 891, 1 / 8991)` One line, no commas, with spaces\n",
        "\n",
        "\\\n",
        "or\n",
        "\n",
        "\\\n",
        "`print(1 / 891, 1 / 8991, sep = \"\\n\")`  new line\n",
        "\n",
        "\\\n",
        "or\n",
        "\n",
        "\\\n",
        "`print(1/891, 1/8991, sep = \",\")` One line, with commas, no space\n",
        "\n",
        "\\\n",
        "or\n",
        "\n",
        "\\\n",
        "`print(1/891, 1/8991, sep = \", \")` One line, with commas, with spaces\n",
        "\n"
      ]
    },
    {
      "cell_type": "code",
      "source": [
        ""
      ],
      "metadata": {
        "id": "9QFPxogE_NKe"
      },
      "execution_count": null,
      "outputs": []
    },
    {
      "cell_type": "markdown",
      "metadata": {
        "id": "llJsuPGGS32p"
      },
      "source": [
        "---\n",
        "Q?\n",
        "\n",
        "39 $\\times$ 75\n",
        "\n",
        "3 $\\times$ 975\n",
        "\n",
        "\\\n",
        "Display the answers side by side separated by commas.\n",
        "\n",
        "`print(39 * 75, 3 * 375, sep = \", \")`\n"
      ]
    },
    {
      "cell_type": "code",
      "metadata": {
        "id": "FW9CeA0vS32p"
      },
      "source": [
        ""
      ],
      "execution_count": null,
      "outputs": []
    },
    {
      "cell_type": "markdown",
      "metadata": {
        "id": "VwLkdN4lS32q"
      },
      "source": [
        "---\n",
        "Q?\\\n",
        "10 $\\times$ 10 + 11 $\\times$ 11 + 12 $\\times$ 12\\\n",
        "13 $\\times$ 13 + 14 $\\times$ 14\n"
      ]
    },
    {
      "cell_type": "code",
      "metadata": {
        "id": "f5b-Op-KS32q"
      },
      "source": [
        ""
      ],
      "execution_count": null,
      "outputs": []
    },
    {
      "cell_type": "markdown",
      "metadata": {
        "id": "Ajqy1JtZS32r"
      },
      "source": [
        "---\n",
        "Use `print ()` to avoid line breaks\n",
        "\n",
        "Add `end =\"\"` `at the end\n",
        "\n",
        "If you set `end =\" \"`, there will be a gap (margin, space).\n"
      ]
    },
    {
      "cell_type": "markdown",
      "metadata": {
        "id": "DMgEjjchS32r"
      },
      "source": [
        "---\n",
        "Q?\n",
        "\n",
        "37 $\\times$ 3\n",
        "\n",
        "37 $\\times$ 3 $\\times$ 1001\n",
        "\n",
        "\\\n",
        "`print(37 * 3, end = \"  \")`\n",
        "\n",
        "`print(37 * 3 * 1001)`\n"
      ]
    },
    {
      "cell_type": "code",
      "source": [
        ""
      ],
      "metadata": {
        "id": "RkF2jfBFo1qI"
      },
      "execution_count": null,
      "outputs": []
    },
    {
      "cell_type": "markdown",
      "source": [
        "### string\n",
        "\n",
        "The \"character sequence\" is called a `(character) string`.\n",
        "\n",
        "\\\n",
        "A (character) string is an array of characters.\n",
        "\n",
        "Data that represents a sequence of characters to distinguish it from other data such as numbers is called a (character) string.\n",
        "\n",
        "\\\n",
        "In `()`of `print()`, numbers and calculation symbols enclosed in `\"   \"` or `'   '` also become `character strings`.\n",
        "\n",
        "Even if there are numbers or expressions in `\"   \"` or `'   '`, they are output as they are without being calculated.\n",
        "\n",
        "\\\n",
        "`\"  \"` is `Double quotation` (above in 2 key)\n",
        "\n",
        "`'  '` is `Single quotation` (above in 7 key)\n"
      ],
      "metadata": {
        "id": "fWvcLdHBTWhE"
      }
    },
    {
      "cell_type": "markdown",
      "source": [
        "Execute the code cell below ▶ to check the output"
      ],
      "metadata": {
        "id": "PBZt3u8TjDQX"
      }
    },
    {
      "cell_type": "code",
      "metadata": {
        "id": "HZsVNejwLO_h"
      },
      "source": [
        "print(\"12 + 30\")\n",
        "print(12 + 30)\n",
        "\n",
        "print()\n",
        "\n",
        "print('28 - 15')\n",
        "print(28 - 15)\n",
        "\n",
        "print()\n",
        "\n",
        "print(\"38 x 45\")\n",
        "print(38 * 45)\n",
        "\n",
        "print()\n",
        "\n",
        "print(\"10 $\\div$ 3\")\n",
        "print(10 / 3)\n",
        "\n",
        "print()\n",
        "\n",
        "print('22 $\\div$ 3  商は整数')\n",
        "print(22 // 3)\n",
        "\n",
        "print()\n",
        "\n",
        "print(\"22 $\\div$ 3の余り\")\n",
        "print(22 % 3)"
      ],
      "execution_count": null,
      "outputs": []
    },
    {
      "cell_type": "markdown",
      "source": [
        "In the cell above, there is a `print ()` in between.\n",
        "\n",
        "If you put this in, nothing will be output and a line break will occur.\n",
        "\n",
        "\n"
      ],
      "metadata": {
        "id": "0Uc67d21LB06"
      }
    },
    {
      "cell_type": "markdown",
      "metadata": {
        "id": "pS-HCAQ1SnwC"
      },
      "source": [
        "---\n",
        "★Display characters output with print ()."
      ]
    },
    {
      "cell_type": "markdown",
      "metadata": {
        "id": "XFKA0RT2SnwD"
      },
      "source": [
        "It is the same as numbers, if you write a character and execute it with ▶, it will be output as it is.\n",
        "\n",
        "\\\n",
        "However, in input, unlike numbers, letters are used with\n",
        "\n",
        " `\"  \"` (double quotation)\n",
        "\n",
        "or\n",
        "\n",
        "  `'   '` (single quotation)\n",
        "\n",
        " "
      ]
    },
    {
      "cell_type": "markdown",
      "metadata": {
        "id": "f1J9SuD4SnwD"
      },
      "source": [
        "---\n",
        "Q?\n",
        "\n",
        "In order to display Hello,\n",
        "\n",
        "\\\n",
        "if you execute▶ the character of `\" Hello \"` , `'Hello'`(with single quotation) is displayed and\n",
        "\n",
        "\n",
        "if execute `print (\"Hello\")`, it will be displayed as `Hello` (with no quotation).\n",
        "\n",
        "\n"
      ]
    },
    {
      "cell_type": "code",
      "source": [
        ""
      ],
      "metadata": {
        "id": "_VZpDIrURSGs"
      },
      "execution_count": null,
      "outputs": []
    },
    {
      "cell_type": "markdown",
      "metadata": {
        "id": "YaCV5IykSnwF"
      },
      "source": [
        "---\n",
        "Q?\n",
        "\n",
        "Display Hello Python\n",
        "\n",
        "\\\n",
        "`'Hello   '  \"Python\"`"
      ]
    },
    {
      "cell_type": "code",
      "source": [
        ""
      ],
      "metadata": {
        "id": "5hPV15fFpj4u"
      },
      "execution_count": null,
      "outputs": []
    },
    {
      "cell_type": "markdown",
      "metadata": {
        "id": "5kwyximHSnwF"
      },
      "source": [
        "---\n",
        "★Join strings\n",
        "\n",
        "\\\n",
        "Q?\n",
        "\n",
        "Display  'HelloPython'\n",
        "\n",
        "\n",
        "\n",
        "\\\n",
        "`\"Hello\" + \"Python\"`"
      ]
    },
    {
      "cell_type": "code",
      "source": [
        ""
      ],
      "metadata": {
        "id": "0TuS2WmQqHKu"
      },
      "execution_count": null,
      "outputs": []
    },
    {
      "cell_type": "markdown",
      "metadata": {
        "id": "-woi1z3mSnwG"
      },
      "source": [
        "---\n",
        "Q?\n",
        "\n",
        "Display Hello Hello Hello Hello Hello in a row \n",
        "\n",
        "\\\n",
        "\n",
        "`\" Hello Hello Hello Hello Hello\"` \n",
        "\n",
        "is okay\n",
        "\n",
        "\\\n",
        "Try\n",
        "\n",
        "`\" Hello \"* 5`\n"
      ]
    },
    {
      "cell_type": "code",
      "source": [
        ""
      ],
      "metadata": {
        "id": "LQYQCKTARgaS"
      },
      "execution_count": null,
      "outputs": []
    },
    {
      "cell_type": "markdown",
      "source": [
        "---\n",
        "Q?\n",
        "\n",
        "Display with print()\n",
        "\n",
        "Hello world Hello everyone in the world \n",
        "\n",
        "\n",
        "\\\n",
        "`print (\"Hello world Hello everyone in the world \")` \n",
        "\n",
        "\\\n",
        "`print (\"Hello world\", \"Hello everyone in the world\") `\n",
        "\n"
      ],
      "metadata": {
        "id": "Ug39hwcWmAMc"
      }
    },
    {
      "cell_type": "code",
      "source": [
        ""
      ],
      "metadata": {
        "id": "ljm85BMlHr-x"
      },
      "execution_count": null,
      "outputs": []
    },
    {
      "cell_type": "markdown",
      "metadata": {
        "id": "0w9FkxEXSnwH"
      },
      "source": [
        "---\n",
        "★ Output letters and numbers together \n",
        "\n",
        "\\\n",
        "\n",
        "Q?\n",
        "\n",
        "Display\n",
        "\n",
        "1 + 1 becomes 2 \n",
        "\n",
        "\n",
        "\\\n",
        " \n",
        "Print them as all characters\n",
        "\n",
        "`print (\"1 + 1 becomes 2 \")`\n",
        "\n"
      ]
    },
    {
      "cell_type": "code",
      "metadata": {
        "id": "W4TTxdYkSnwI"
      },
      "source": [
        ""
      ],
      "execution_count": null,
      "outputs": []
    },
    {
      "cell_type": "markdown",
      "source": [
        "---\n",
        "Distinguish between letters and numbers\n",
        "\n",
        "\\\n",
        "I might use this method often\n",
        "\n",
        "\n",
        "\\\n",
        "\n",
        "Enclose letters and symbols in `\"  \"` and `'  '`, leave numbers as they are, and separate them with`, `(comma).\n",
        "\n",
        "\\\n",
        "`print (1,\" + \", 1,\" becomes \", 2,\" \")`\n",
        "\n"
      ],
      "metadata": {
        "id": "EzDJDgzMj4iJ"
      }
    },
    {
      "cell_type": "code",
      "source": [
        ""
      ],
      "metadata": {
        "id": "UzvhSDQikM5U"
      },
      "execution_count": null,
      "outputs": []
    },
    {
      "cell_type": "markdown",
      "source": [
        "ーーーーーーーーーーーーーーーーーーーーーーーーーーーーーーーーーーーーーーーー\n",
        "\n",
        "If you write a formula, the result of calculating the formula will be output unless it is a string.\n",
        "\n",
        "\\\n",
        "\n",
        "'print (1 + 1, \"becomes\", 2) `\n",
        "\n"
      ],
      "metadata": {
        "id": "ml_st2LZR9Yy"
      }
    },
    {
      "cell_type": "code",
      "source": [
        ""
      ],
      "metadata": {
        "id": "BFtUV1zuShWT"
      },
      "execution_count": null,
      "outputs": []
    },
    {
      "cell_type": "markdown",
      "metadata": {
        "id": "du-04Di0SnwI"
      },
      "source": [
        "---\n",
        "Or, there is the following method which might be used often.\n",
        "\n",
        "\\\n",
        "`print (str (1) + \" + \" + str (1) + \" becomes \" + str (2) )`\n",
        "\n",
        "\\\n",
        "If all the characters are not aligned, print output cannot be performed.\n",
        "\n",
        "\n",
        "For the purpose of collectly performed, change the number as `strings`.\n",
        "\n",
        "\n",
        "The character and addition symbol `+` are enclosed in `\" \"` or `'  '` as just like characters.\n",
        "\n",
        "Put numbers inside `str ()`\n",
        "\n",
        "\n",
        "\\\n",
        "\n",
        "`str` = Abbreviation for string, which turns numbers into letters.\n",
        "\n",
        "Use the `+` signl to join letters\n",
        "\n",
        "\n",
        "\\"
      ]
    },
    {
      "cell_type": "code",
      "source": [
        ""
      ],
      "metadata": {
        "id": "gydMCSZ2xSyf"
      },
      "execution_count": null,
      "outputs": []
    },
    {
      "cell_type": "markdown",
      "metadata": {
        "id": "Kj2wfvviSnwJ"
      },
      "source": [
        "If you write\n",
        "\n",
        "`print(str(1+1) + \" becomes \" + str(2))`\n"
      ]
    },
    {
      "cell_type": "code",
      "source": [
        ""
      ],
      "metadata": {
        "id": "Mocalg72yH9G"
      },
      "execution_count": null,
      "outputs": []
    },
    {
      "cell_type": "markdown",
      "metadata": {
        "id": "hbiZgLRGSnwK"
      },
      "source": [
        "On the contrary, you write\n",
        "\n",
        "`print(str(1) + \"+\" + str(1) + \" becomes \" + str(1+1))`\n"
      ]
    },
    {
      "cell_type": "code",
      "source": [
        ""
      ],
      "metadata": {
        "id": "5cKDTo7XyKem"
      },
      "execution_count": null,
      "outputs": []
    },
    {
      "cell_type": "markdown",
      "metadata": {
        "id": "-NSJeM1_SnwL"
      },
      "source": [
        "\n",
        "To dislay `'1 + 1 = 2'`, \n",
        "\n",
        "if all of them to be characters, \n",
        "\n",
        "\\\n",
        "`print (\"1 + 1 = 2 \")`\n"
      ]
    },
    {
      "cell_type": "code",
      "source": [
        ""
      ],
      "metadata": {
        "id": "aosqYQizJFfA"
      },
      "execution_count": null,
      "outputs": []
    },
    {
      "cell_type": "markdown",
      "metadata": {
        "id": "fGJN3qZuSnwM"
      },
      "source": [
        "If str() is used,\n",
        "\n",
        "`print(str(1) + \" + \" + str(1) + \" = \" + str(2) )`"
      ]
    },
    {
      "cell_type": "code",
      "source": [
        ""
      ],
      "metadata": {
        "id": "aV8r_SnJzAlw"
      },
      "execution_count": null,
      "outputs": []
    },
    {
      "cell_type": "markdown",
      "metadata": {
        "id": "4CL-_llKngtY"
      },
      "source": [
        "###print / description of built-in function \n",
        "---\n",
        "\n",
        "A little more built-in function `print ()`\n",
        "\n",
        "`print ()` is often called the `print function`\n",
        "\n",
        "`input ()`, `int ()`, `float ()`, etc. that will come out later are all `functions`.\n",
        "\n",
        "It is called a `built-in function`.\n",
        "\n",
        "They are literally built into Python.\n",
        "\n",
        "\\\n",
        "I heared that there are 69 built-in functions in total.\n",
        "\n",
        "\n",
        "Remember that function = `a group of programs that do something`\n",
        "\n",
        "\\\n",
        "\n",
        "For example, `print()` is actually a program consisting of dozens of lines, so every time you use it, you will die if you write the whole code.\n",
        "\n",
        "If you make it a function, it will be OK with just the code of `print ()`\n",
        "\n",
        "\n",
        "Of course, put something into `()`\n",
        "\n",
        "\\\n",
        "`[ Note ]`\n",
        "\n",
        "The code of print() is from the 1580 (builtin_print (PyObject * self, PyObject * args,) \"[Mercurial> cpython] (https://hg.python.org/cpython/file/2.7/Python/bltinmodule.c#l1580)\" It seems from PyObject * kwds))\n",
        "\n",
        "\\\n",
        "We will come back to the function later.\n",
        "\n",
        "\n"
      ]
    },
    {
      "cell_type": "markdown",
      "metadata": {
        "id": "fhdinEYJkuAJ"
      },
      "source": [
        "---\n",
        "Q?\n",
        "\n",
        "What are the consequences of running this code?\n",
        "\n",
        "\n",
        "    a = 1 + 2\n",
        "    print(a) \n",
        "\n",
        "    b = a + 3\n",
        "    print(b)\n",
        "\n",
        "    a = a + 5       \n",
        "    #a += 5\n",
        "    print(a)"
      ]
    },
    {
      "cell_type": "code",
      "source": [
        "#Write the code and confirm the output\n",
        "\n"
      ],
      "metadata": {
        "id": "oeBkZQHeWXSQ"
      },
      "execution_count": null,
      "outputs": []
    },
    {
      "cell_type": "markdown",
      "source": [
        "### = (assignment symbol)"
      ],
      "metadata": {
        "id": "KihunWKCaZS9"
      }
    },
    {
      "cell_type": "markdown",
      "source": [
        "---\n",
        "★ About variables.\n",
        "\n",
        "We often use variables\n",
        "\n",
        "\n",
        "Variables are `a` and` b` in the above problem.\n",
        "\n",
        "\n",
        "It is a character (word such as `a`, `b`, `number`) for entering a number (data) etc.\n",
        "\n",
        "\n",
        "You can come to understand why you put the number in the letters while using it.\n",
        "\n",
        "\\\n",
        "\n",
        "\n",
        "\"Setting 3 in the variable a\" is called \"'assigning 3 to (variable) a\", \n",
        "\n",
        "and the code is\n",
        "\n",
        "`a = 3`\n",
        "\n",
        "\\\n",
        "`=` Represents \"equal\" in arithmetic.\n",
        "\n",
        "However, in Python, it's called the `assignment operator`.\n",
        "\n",
        "It means `\" put 3 on the right side of '=' into a on the left side of '='\"`\n",
        "\n",
        "Remember that `=` means `←`, not `equal`\n",
        "\n",
        "\n",
        "\\\n",
        "The `assignment operator` will come up again.\n",
        "\n",
        "\\\n",
        "\n",
        "Write and execute the following code\n",
        "\n",
        "`a = 3`\n",
        "\n",
        "`a`  &emsp; (or `print(a)`)\n",
        "\n",
        "\n"
      ],
      "metadata": {
        "id": "ckoZvdO0qNgX"
      }
    },
    {
      "cell_type": "code",
      "source": [
        ""
      ],
      "metadata": {
        "id": "yHoj5IzIQSFa"
      },
      "execution_count": null,
      "outputs": []
    },
    {
      "cell_type": "markdown",
      "source": [
        "---\n",
        "\n",
        "Let's write code with the following procedure :\n",
        "\n",
        "\\\n",
        "\"Assign 10 to` x (variable) `\n",
        "\n",
        "and\n",
        "\n",
        "assign x plus 5 into `y (variable)` \n",
        "\n",
        "and \n",
        "\n",
        "output y with `print ()` \"\n",
        "\n",
        "\\\n",
        "Code are\n",
        "\n",
        "`x = 10`\n",
        "\n",
        "`y = x + 5`\n",
        "\n",
        "`print(y)`\n",
        "\n",
        "\n",
        "In the code cell below, only the white part is the code\n"
      ],
      "metadata": {
        "id": "O0E2pOcbQt-6"
      }
    },
    {
      "cell_type": "code",
      "source": [
        ""
      ],
      "metadata": {
        "id": "2zbRtuTYl385"
      },
      "execution_count": null,
      "outputs": []
    },
    {
      "cell_type": "code",
      "metadata": {
        "id": "8x_PzTsCSMO5"
      },
      "source": [
        "'''Let's write code with the following procedure :\n",
        "\"Assign 10 tox (variable)\n",
        "and\n",
        "assign x plus 5 into y (variable)\n",
        "and\n",
        "output y with print () \"\n",
        "'''\n",
        "\n",
        "#As above, sentences enclosed in ''' (3 single quartation marks) \n",
        "#and sentences with # (sharp sharp or hash) at the beginning like this sentence\n",
        "#are called \"comment statement\" written in the program is not a program.\n",
        "#If you add # to the code, the code will not be executed.\n",
        "#Adding # to the code is called comment out.\n",
        "\n",
        "\n",
        "x = 10 \n",
        "y = x + 5\n",
        "#y = x - 8    #This code is ignored and not executed\n",
        "print(y)       \n"
      ],
      "execution_count": null,
      "outputs": []
    },
    {
      "cell_type": "markdown",
      "source": [
        "---\n",
        "Write the following code and run\n",
        "\n",
        "`m = 5`\n",
        "\n",
        "`n = 7`\n",
        "\n",
        "`a = m + n`\n",
        "\n",
        "`print(a)`\n",
        "\n"
      ],
      "metadata": {
        "id": "KW2G0QLxhGLS"
      }
    },
    {
      "cell_type": "code",
      "source": [
        ""
      ],
      "metadata": {
        "id": "1ACsL1ZahzzI"
      },
      "execution_count": null,
      "outputs": []
    },
    {
      "cell_type": "markdown",
      "source": [
        "Since `m` contains 5 and `n` contains 7, \n",
        "\n",
        "the formula `a = m + n` means `a = 5 + 7 = 12` (here `=` is an equal sign)\n",
        "\n"
      ],
      "metadata": {
        "id": "5T1unVF_h1sJ"
      }
    },
    {
      "cell_type": "code",
      "source": [
        ""
      ],
      "metadata": {
        "id": "nmzfZOWa9FBN"
      },
      "execution_count": null,
      "outputs": []
    },
    {
      "cell_type": "markdown",
      "source": [
        "---\n",
        "The print() practice again\n",
        "\n",
        "\\\n",
        "Put the number 57 in the variable p and the number 30 in the variable q\n",
        "\n",
        "What is the code to display 'The sum of 57 and 30 is 87.' is\n",
        "\n",
        "\\\n",
        "`p = 57`\n",
        "\n",
        "`q = 30`\n",
        "\n",
        "`print(\"The sum of  \" + str(p) + \" and \" + str(q) + \" is \" + str(p + q) +\".\")`"
      ],
      "metadata": {
        "id": "BZ80LGbPSnwN"
      }
    },
    {
      "cell_type": "code",
      "metadata": {
        "id": "jbM_VS0C-CH7"
      },
      "source": [
        ""
      ],
      "execution_count": null,
      "outputs": []
    },
    {
      "cell_type": "markdown",
      "source": [
        "###Calculation //  %"
      ],
      "metadata": {
        "id": "aS0_DEQSd7CD"
      }
    },
    {
      "cell_type": "markdown",
      "source": [
        "---\n",
        "Return to calculation practice\n",
        "\n",
        "★ Find only the quotient of the integer of division (rounded down)\n",
        "\n",
        "\\\n",
        "`21 // 5 `\n",
        "\n",
        "\\\n",
        "Use the `//` operator to find only the quotient of an integer\n",
        "\n",
        "\\\n",
        "Also check what the answer will be if it is `21/5`\n",
        "\n"
      ],
      "metadata": {
        "id": "FlSyZs-Flida"
      }
    },
    {
      "cell_type": "code",
      "source": [
        ""
      ],
      "metadata": {
        "id": "b7Pl0sSrxN8i"
      },
      "execution_count": null,
      "outputs": []
    },
    {
      "cell_type": "markdown",
      "metadata": {
        "id": "IvGFOcBZGwRY"
      },
      "source": [
        "---\n",
        "Q?\n",
        "\n",
        "\n",
        "Find the quotient of the following division\n",
        "\n",
        "10 $\\div$ 3\n",
        "\n",
        "276 $\\div$ 13"
      ]
    },
    {
      "cell_type": "code",
      "metadata": {
        "id": "73u8jUkUGwRb"
      },
      "source": [
        "#There are two formulas, so use print()\n",
        "\n",
        "\n"
      ],
      "execution_count": null,
      "outputs": []
    },
    {
      "cell_type": "markdown",
      "source": [
        "---\n",
        "\n",
        "★ Find only the remainder of the division\n",
        "\n",
        "\n",
        "\\\n",
        "Use the `%` operator to find the remainder\n",
        "\n",
        "\\\n",
        "`12 % 5`\n",
        "\n",
        "\\\n",
        "We will often use both `//` and `%`\n",
        "\n",
        "\n",
        "\\\n",
        "Arithmetic symbols (`+`, `-`,` * `,` ** `,` // `,`% `, etc.) are called` \"operators\" `.\n",
        "\n"
      ],
      "metadata": {
        "id": "JbG9swMCID0u"
      }
    },
    {
      "cell_type": "code",
      "source": [
        ""
      ],
      "metadata": {
        "id": "aLE2WMt5xxDf"
      },
      "execution_count": null,
      "outputs": []
    },
    {
      "cell_type": "markdown",
      "metadata": {
        "id": "uPfyo4KMHVvN"
      },
      "source": [
        "---\n",
        "Q?\n",
        "\n",
        "Find the remainder for the following division.\n",
        "\n",
        "\\\n",
        "276 $\\div$ 13\n",
        "\n",
        "587 $\\div$ 28\n",
        "\n",
        "263487 $\\div$ 237"
      ]
    },
    {
      "cell_type": "code",
      "metadata": {
        "id": "pgupDO4MHVvR"
      },
      "source": [
        "#There are 3 formulas, so let's use print()\n",
        "print(276 % 13)\n"
      ],
      "execution_count": null,
      "outputs": []
    },
    {
      "cell_type": "markdown",
      "source": [
        "---\n",
        "Q?\n",
        "\n",
        "Display\n",
        "\n",
        "'The remainder of 12 / 5 is 2.'\n",
        "\n",
        "\n",
        "\\\n",
        "`print('The remainder of 12 / 5 is ', 12 % 5, '.')`\n",
        "\n",
        "\n",
        "\n",
        "\\\n",
        "\n",
        "When printing characters, enclose them with `'   '` or `\"  \"`\n",
        "\n",
        "\n",
        "For prints containing characters, separate numbers and calculations with `,` (comma).\n",
        "\n",
        "\\\n",
        "or\n",
        "\n",
        "`print('The remainder of 12 / 5 is ' + str (12 % 5) + '.')`\n",
        "\n",
        "\\\n",
        "When printing characters, enclose it with `''` or `\" \"` → This is the same as above\n",
        "\n",
        "\n",
        "\n",
        "Print is that including characters, use the `str ()` program that reads numbers and calculations as characters.\n",
        "\n",
        "Connect the character and `str ()` with `+`\n",
        "\n",
        "\n",
        "\\\n",
        "or\n",
        "\n",
        "\n",
        "Make all the letters\n",
        "\n",
        "`print(\"The remainder of 12 / 5 is 2.\")`\n",
        "\n"
      ],
      "metadata": {
        "id": "A-_UR6MGx2HQ"
      }
    },
    {
      "cell_type": "code",
      "source": [
        ""
      ],
      "metadata": {
        "id": "I7Pm32FqIF9o"
      },
      "execution_count": null,
      "outputs": []
    },
    {
      "cell_type": "code",
      "source": [
        ""
      ],
      "metadata": {
        "id": "URazfaVpHw0d"
      },
      "execution_count": null,
      "outputs": []
    },
    {
      "cell_type": "code",
      "source": [
        ""
      ],
      "metadata": {
        "id": "tU9abCGEHxZw"
      },
      "execution_count": null,
      "outputs": []
    },
    {
      "cell_type": "markdown",
      "metadata": {
        "id": "c1krplnXx6qh"
      },
      "source": [
        "---\n",
        "##Arithmetic Operator Summary\n",
        "\n",
        "\\\n",
        "\n",
        "| operation | Symbol |\n",
        "|:------:|:------:|\n",
        "| Addition | `+` |\n",
        "| Subtraction | `-` |\n",
        "| Multiplication | `*` |\n",
        "| Division | `/` |\n",
        "| Exponentiation | `**` |  \n",
        "| Division(quotient only） | `//` |\n",
        "| Division(remainder only） | `%` |\n",
        "\n",
        "\\\n"
      ]
    },
    {
      "cell_type": "markdown",
      "source": [
        "### = (assignment)"
      ],
      "metadata": {
        "id": "_Ar4adVCKfhB"
      }
    },
    {
      "cell_type": "markdown",
      "source": [
        "---\n",
        "Variable again\n",
        "\n",
        "\\\n",
        "\n",
        "The program that putting 5 into a variable `n` is called 5 is assinged to n and print.\n",
        "\n",
        "\n",
        "`n = 5`\n",
        "\n",
        "\n",
        "`print(n)`\n",
        "\n",
        "or\n",
        "\n",
        "`n = 5`\n",
        "\n",
        "`n`\n",
        "\n",
        "\\\n",
        "\n",
        "`=` is not the equality of arithmetic, but the symbol \"insert (assign)\"\n",
        "\n",
        "\\\n",
        "\n",
        "Never write `5 = n` \n",
        "\n",
        "remember that `= is ←`) \n",
        "\n",
        "\\\n",
        "Later, the symbol (operator) `==` is coming, which is the same as the arithmetic `=` .\n",
        "\n",
        "\n",
        "\\\n",
        "Remember that `==` is `=` and `=` Is `←`.\n",
        "\n"
      ],
      "metadata": {
        "id": "71RAlCO3h-b4"
      }
    },
    {
      "cell_type": "code",
      "source": [
        ""
      ],
      "metadata": {
        "id": "173hf6JDjJ8h"
      },
      "execution_count": null,
      "outputs": []
    },
    {
      "cell_type": "markdown",
      "source": [
        "---\n",
        "Q?\n",
        "\n",
        "Let's write the following code :\n",
        "\n",
        "\\\n",
        "\"Assign 7 to a variable `number` and print\n",
        "\n",
        "\\\n",
        "Then assign 34 to `number` and print\n",
        "\n",
        "\\\n",
        "Subsequently assigns the character \"number\" to variable `number` and prints it. \"\n",
        "\n",
        "\n",
        "\\\n",
        "What will happen\n",
        "\n",
        "\\\n",
        "\n",
        "Does this make sense to call `number` a variable?\n",
        "\n",
        "\n",
        "\\\n",
        "You can assign letters as well as numbers to variables\n",
        "\n",
        "\n",
        "\\\n",
        "Collecting things to put in variables such as numbers and letters are called ` data` or `value`.\n",
        "\n",
        "\n",
        "\n",
        "\\\n",
        "`number = 7`\n",
        "\n",
        "`print(number)`\n",
        "\n",
        "`number = 34`\n",
        "\n",
        "`print(number)`\n",
        "\n",
        "`number = \"number\"`  &emsp;#characters are enclosed in `\"  \"` or `'  '`.\n",
        "\n",
        "`print(number)`"
      ],
      "metadata": {
        "id": "xWvma3Z8jxzK"
      }
    },
    {
      "cell_type": "code",
      "source": [
        "# Let's write code by yourself\n",
        "\n"
      ],
      "metadata": {
        "id": "seTAOPFmlF4K"
      },
      "execution_count": null,
      "outputs": []
    },
    {
      "cell_type": "markdown",
      "metadata": {
        "id": "iKLLnkmx-EX-"
      },
      "source": [
        "---\n",
        "This is a sample code that assigns a string to a variable and print it.  .\n",
        "\n",
        "Please look at how it can be used in this way.\n"
      ]
    },
    {
      "cell_type": "code",
      "metadata": {
        "id": "t1epMJd35_uw"
      },
      "source": [
        "#You can connect the string 'Hello' and the string `World` with the '+' sign.\n",
        "\n",
        "print('Hello' + 'World')\n",
        "\n",
        "#Assign'Alice' to the variable name and use the variable to connect the strings.\n",
        "\n",
        "name = 'Alice'\n",
        "print('My name is ' + name + '.') \n",
        "\n",
        "#As inside of the parentheses of print() are regarded as a character string and the content of age is a number, \n",
        "#so use str() to change it to a string before connecting.\n",
        "\n",
        "age = 24\n",
        "print('My name is ' + name + '.  ' + 'My age is ' + str(age) + '.')\n",
        "\n",
        "#On the contrary, use int() to convert a string to a number\n",
        "#Expressing the two prices as a character string and a number and calculate the sum, \n",
        "#put the character string into int() to convert it to an integer.\n",
        "\n",
        "price1 = '1000'\n",
        "price2 = 500\n",
        "\n",
        "sum = int(price1) + price2\n",
        "print(sum, 'dollars')\n"
      ],
      "execution_count": null,
      "outputs": []
    },
    {
      "cell_type": "markdown",
      "source": [
        "### Description of function"
      ],
      "metadata": {
        "id": "TKYotPXCG_0i"
      }
    },
    {
      "cell_type": "markdown",
      "source": [
        "---\n",
        "\n",
        "In the explanation of [print](#print-id)\n",
        "\n",
        "\n",
        "I explained that a function = \"a group of programs that do something\"\n",
        "\n",
        "You can think of the image of a function as \"mechanism\" or \"robot\".\n",
        "\n",
        "\\\n",
        "`print ()` was also a function\n",
        "\n",
        "\\\n",
        "Put `'Congratulations'` in `()` and execute ▶ and congratulations will be displayed (output) \"Mechanism\"\n"
      ],
      "metadata": {
        "id": "Ux8CeNTmHCLp"
      }
    },
    {
      "cell_type": "code",
      "source": [
        "# Let's write code by yourself\n",
        "\n"
      ],
      "metadata": {
        "id": "Tkp6xs8vftMn"
      },
      "execution_count": null,
      "outputs": []
    },
    {
      "cell_type": "code",
      "source": [
        "print('Congratulations')"
      ],
      "metadata": {
        "id": "hGbZjyPQxh1U"
      },
      "execution_count": null,
      "outputs": []
    },
    {
      "cell_type": "markdown",
      "source": [
        "ーーーーーーーーーーーーーーーーーーーーーーーーーーーーーーーーーーーーーーーー\n",
        "\n",
        "A \"robot\" that answers when you put data such as characters, numbers, \n",
        "\n",
        "and variables in the `()` of the `function name ()`\n",
        "\n",
        "\\\n",
        "For example, if you put a number in `()`, let's create a function \n",
        "\n",
        "that answers the number obtained by adding 1 to it (called `return`).\n",
        "\n",
        "\\\n",
        "You decide the function name yourself, but it is said that a name \n",
        "\n",
        "that is easy for people to understand is good.\n",
        "\n",
        "\\\n",
        "Function name = `add_1` (add add = English to add, noun is addition addition)\n",
        "\n",
        "\\\n",
        "When creating a function, first write `def`\n",
        "\n",
        "\\\n",
        "When creating a function, it says `\" define a function \"`, so `def` is \n",
        "\n",
        "the first three letters of the English definition definition.\n",
        "\n",
        "\\\n",
        "First, write this code in the cell below and execute it ▶\n",
        "\n",
        "\n",
        "――――――――――――――――――――――――――――――――――――――――――――――\n",
        "\n",
        "\n",
        "`!! !! Code notes! !! ``\n",
        "\n",
        "Add `:` (colon) after the function name () and lower it from `def add_1 (x):` ​\n",
        "\n",
        "​from the next line (indent).\n",
        "\n",
        "\n",
        "\\\n",
        "★★ If you add `:` and `Enter`, it will be indented automatically ★★\n",
        "\n",
        "\n",
        "`The amount of function code is determined by indentation`\n",
        "\n",
        "\\\n",
        "It doesn't matter for such a short function, but be careful \n",
        "\n",
        "when it comes to a long function.\n",
        "\n",
        "\n",
        "    def add_1(x) :\n",
        "      return x + 1\n",
        "\n",
        "    add_1(10)\n",
        "\n",
        "\n",
        "The character (here `x`) in` () `of` def add_1 (x): `is called the` argument `.\n",
        "\n",
        "\n",
        "\n",
        "\n"
      ],
      "metadata": {
        "id": "oOSssiifIE5o"
      }
    },
    {
      "cell_type": "code",
      "source": [
        "# Let's write code by yourself\n",
        "\n"
      ],
      "metadata": {
        "id": "A8Kg35rtJXgz"
      },
      "execution_count": null,
      "outputs": []
    },
    {
      "cell_type": "code",
      "source": [
        "def add_1(x) :\n",
        "  return x + 1\n",
        "\n",
        "\n",
        "add_1(10)"
      ],
      "metadata": {
        "id": "hxbB2aiyJY1j"
      },
      "execution_count": null,
      "outputs": []
    },
    {
      "cell_type": "markdown",
      "source": [
        "\n",
        "\n",
        "　11 was output (displayed).\n",
        "\n",
        "\n",
        "\\\n",
        "Define the function with `def add_1 (x):` ​​and write the \"mechanism\" code on the second and subsequent lines.\n",
        "\n",
        "\n",
        "\\\n",
        "\"Mechanism\" is \"add 1 to the number in x\", so `x + 1`\n",
        "\n",
        "\n",
        "\\\n",
        "The `x + 1` is\" returned \"to the person who put the number in x, so` return` .\n",
        "\n",
        "\\\n",
        "If you put `10` in the variable` x` of `add_1 (x):`, it is a \"mechanism\" that calculates `10 ∔ 1` and returns` 11`.\n",
        "\n",
        "\n",
        "\\\n",
        "To move (= execute) this function, write a `write function name, put a number (data) in the argument x, and execute ▶`\n",
        "\n",
        "\\\n",
        "Executing a function is called `\" call function \"`.\n",
        "\n",
        "\n",
        "\n",
        "\n",
        "――――――――――――――――――――――――――――――――――――――――――――――\n",
        "\n",
        "\n",
        "\n",
        "An example of a function that doubles a number and returns it is\n",
        "\n",
        "\n",
        "\n",
        "    def multi_2(n) :\n",
        "\n",
        "      return n * 2\n",
        "\n",
        "\n",
        "\n",
        "This uses the argument (variable) `n`\n",
        "\n",
        "\n",
        "\n",
        "You can also decide the name of the variable yourself\n",
        "\n",
        "\n",
        "\n",
        "Variable name is an abbreviation for multiply (multiplication)\n",
        "\n",
        "\n",
        "If you write this code and run the function,\n",
        "\n",
        "\n"
      ],
      "metadata": {
        "id": "m51o7geVJ1SW"
      }
    },
    {
      "cell_type": "code",
      "source": [
        "# Let's write code by yourself\n",
        "\n"
      ],
      "metadata": {
        "id": "Zl2cx_86J6Ve"
      },
      "execution_count": null,
      "outputs": []
    },
    {
      "cell_type": "code",
      "source": [
        "#sample\n",
        "\n",
        "def multi(n) :\n",
        "  return n * 2\n",
        "\n",
        "multi(7)"
      ],
      "metadata": {
        "id": "WAOACwYpJ7IL"
      },
      "execution_count": null,
      "outputs": []
    },
    {
      "cell_type": "markdown",
      "source": [
        "Creating a function was surprisingly easy\n",
        "\n"
      ],
      "metadata": {
        "id": "Q_VHKm4X7c4Q"
      }
    },
    {
      "cell_type": "markdown",
      "source": [
        "---\n",
        "Arithmetic operators\n",
        "\n",
        "There are signs / symbols for operations.\n",
        "\n",
        "\\\n",
        "\n",
        "| operation | symbol |\n",
        "|:------:|:------:|\n",
        "| add / plus | `+` |\n",
        "| subtract / minus | `-` |\n",
        "| multiply / times | `*` |\n",
        "| divide | `/` |\n",
        "| power / exponent | `**` |  \n",
        "\n",
        "\\\n",
        "\"Power / Exponent\" → It will come out later, so you should remember.\n",
        "\n",
        "The operation of \"multiplying the same number\".\n"
      ],
      "metadata": {
        "id": "tM3kapKpN3mq"
      }
    },
    {
      "cell_type": "markdown",
      "source": [
        "---\n",
        "Q?\n",
        "\n",
        "\n",
        "\n",
        "\"Find the remainder when 12 is divided by x\" \n",
        "\n",
        "\\\n",
        "What is the function for this problem?\n",
        "\n"
      ],
      "metadata": {
        "id": "lixyPCFBOfSZ"
      }
    },
    {
      "cell_type": "markdown",
      "source": [
        "ーーーーーーーーーーーーーーーーーーーーーーーーーーーーーーーーーーーーーーーー\n",
        "\n",
        "\n",
        "\n",
        "[ Answer example ]\n",
        "\n",
        "\n",
        "Since remainder is to be found, the function name is `Remain` and the argument is` x`.\n",
        "\n",
        "\n",
        "\n",
        "The calculation is 12 $\\div$ `x` = (quotient)… `(remainder)`.\n",
        "\n",
        "\\\n",
        "To find `(remainder)` the code should be written by using the arithmetic operator of `%`.\n",
        "\n",
        "\n",
        "    def Remain(x) :\n",
        "      return 12 % x\n",
        "\n"
      ],
      "metadata": {
        "id": "Y29L6T0mPU_A"
      }
    },
    {
      "cell_type": "code",
      "source": [
        "# Let's write code by yourself\n",
        "\n"
      ],
      "metadata": {
        "id": "XrwEy7KwfkLq"
      },
      "execution_count": null,
      "outputs": []
    },
    {
      "cell_type": "code",
      "source": [
        "#sample\n",
        "\n",
        "def Remain(x) :\n",
        "  return 12 % x\n",
        "\n",
        "Remain(9)"
      ],
      "metadata": {
        "id": "RMDJp_gGSEGI"
      },
      "execution_count": null,
      "outputs": []
    },
    {
      "cell_type": "markdown",
      "metadata": {
        "id": "Ryt5ulWwSmq_"
      },
      "source": [
        "---\n",
        "Q?\n",
        "\n",
        "\n",
        "\n",
        "What kind of function is the following code?\n",
        "\n",
        "\n",
        "    def function(a, b) :\n",
        "      x = a + b\n",
        "      return x * x \n",
        "\n",
        "\n",
        "Create a function, enter a number and check\n",
        "\n"
      ]
    },
    {
      "cell_type": "code",
      "source": [
        "# Let's write code by yourself\n",
        "\n"
      ],
      "metadata": {
        "id": "JYHPHcJESpzc"
      },
      "execution_count": null,
      "outputs": []
    },
    {
      "cell_type": "code",
      "source": [
        "def function(a, b) :\n",
        "  x = a + b\n",
        "  return x * x \n",
        "\n",
        "function( 2, 5)\n",
        "\n",
        "\n",
        "#This function's mechanism is\n",
        "# \"If you enter two numbers, the sum is calculated, and the sum is multiplied twice and returned.\"\n",
        "\n",
        "# if a = 2, b = 5,\n",
        "# x = a + b = 2 + 5 = 7\n",
        "# 7 * 7 = 49\n"
      ],
      "metadata": {
        "id": "JhIYSJzxSqDN"
      },
      "execution_count": null,
      "outputs": []
    },
    {
      "cell_type": "markdown",
      "source": [
        "---\n",
        "\n",
        "Variable again\n",
        "\n",
        "\n",
        "\n",
        "---\n",
        "\n",
        "You can assign a variable to another variable\n",
        "\n",
        "\n",
        "Q?\n",
        "\n",
        "\n",
        "Put 365 in variabble 'year',\n",
        "\n",
        "\n",
        "Put the `year` in variable `today`,\n",
        "\n",
        "\n",
        "and print `today`\n",
        "\n",
        "\n",
        "\\\n",
        "`year = 365`\n",
        "\n",
        "`today = year`\n",
        "\n",
        "`print(today)`"
      ],
      "metadata": {
        "id": "DDnDYheEl4QF"
      }
    },
    {
      "cell_type": "code",
      "source": [
        "# Let's write code by yourself\n",
        "\n"
      ],
      "metadata": {
        "id": "B7UBmKZomqc1"
      },
      "execution_count": null,
      "outputs": []
    },
    {
      "cell_type": "markdown",
      "metadata": {
        "id": "4P-RLi3Fco5B"
      },
      "source": [
        "---\n",
        "Q?\n",
        "\n",
        "\n",
        "How many minutes and seconds is 200 seconds? \n",
        "\n",
        "\\\n",
        "You  get minutes if `200 // 60` and remainder is to be seconds \n",
        "\n",
        "when 200 seconds are converted to minutes \n",
        "\n",
        "\\\n",
        "`print (200 // 60,'minutes', 200% 60,\" seconds \")`\n",
        "\n"
      ]
    },
    {
      "cell_type": "code",
      "source": [
        "# Let's write code by yourself\n",
        "\n"
      ],
      "metadata": {
        "id": "UmEOSQbscqx7"
      },
      "execution_count": null,
      "outputs": []
    },
    {
      "cell_type": "markdown",
      "source": [
        "---\n",
        "Another way of the code is \n",
        "\n",
        "\n",
        "Put the calculation result of 200 // 60 or 200% 60 in variables of `minute` and `second`.\n",
        "\n",
        "\n",
        "\\\n",
        "`minute = 200 // 60`\n",
        "\n",
        "`second = 200 % 60`\n",
        "\n",
        "`print(minute, 'minutes', second, 'seconds')`\n"
      ],
      "metadata": {
        "id": "pcjgR7ZMpkeS"
      }
    },
    {
      "cell_type": "code",
      "source": [
        ""
      ],
      "metadata": {
        "id": "9vdSmQsddlNh"
      },
      "execution_count": null,
      "outputs": []
    },
    {
      "cell_type": "markdown",
      "source": [
        "---\n",
        "Q?\n",
        "\n",
        "\n",
        "Put 23 in variable `x` and 35 in variable `y`\n",
        "\n",
        "\n",
        "Put the result of `x + y` (addition) in varuable `z`\n",
        "\n",
        "\n",
        "Put the result of `x - y` (subtraction) in variable `w`\n",
        "\n",
        "\n",
        "Put the result of `x * y` (multiplication) in variable `u`\n",
        "\n",
        "\n",
        "Put the result of `x / y` (division) in variable `v`\n",
        "\n",
        "Put the result of `x ** y` (exponentiation) in variable `t`\n",
        "\n",
        "\n",
        "print `z`, `w`, `u`，`v`，`t` respectively\n",
        "\n",
        "\n",
        "\\\n",
        "`x = 23; y = 35` & emsp; ☜ How to write when line is not separated (no line break)\n",
        "\n",
        "\n",
        "\\\n",
        "`z = x + y`\n",
        "\n",
        "\n",
        "\\\n",
        "`print (\"The result of the addition is \", z)`\n",
        "\n",
        "\n",
        "\\\n",
        "as such\n",
        "\n"
      ],
      "metadata": {
        "id": "4Mv1XPpsgLGh"
      }
    },
    {
      "cell_type": "code",
      "source": [
        "# Let's write code by yourself\n",
        "\n"
      ],
      "metadata": {
        "id": "FNejj_oCDu4P"
      },
      "execution_count": null,
      "outputs": []
    },
    {
      "cell_type": "markdown",
      "metadata": {
        "id": "1Z5yL8xVffl2"
      },
      "source": [
        "---\n",
        "Q?\n",
        "\n",
        "\n",
        "Function practice\n",
        "\n",
        "\\\n",
        "Enter two integers (in order of large and small), \n",
        "\n",
        "and perform four calculations: addition, subtraction, multiplication, quotient of division, and remainder.\n",
        "\n",
        "\\\n",
        "Create a function that displays the formula and answer, enter a number, and call the function.\n",
        "\n",
        "\\\n",
        "This is not easy task, so only check and confirm the sample.\n",
        "\n"
      ]
    },
    {
      "cell_type": "markdown",
      "source": [
        "ーーーーーーーーーーーーーーーーーーーーーーーーーーーーーーーーーーーーーーーー\n",
        "\n",
        "\n",
        "Determine the function name and two arguments\n",
        "\n",
        "\\\n",
        "Calculate the four arithmetic operations and put the answer in a variable \n",
        "\n",
        "Variables could be `sum`, `difference`, `product`, `quotient` and `remainder`\n",
        "\n",
        "\n",
        "Quotient and remainder are two formulas\n",
        "\n",
        "\\\n",
        "Put then in the `print()` function and `return` them.\n",
        "\n",
        "\\\n",
        "If you set `sep =''   ''` at the end of the print statement, a line break will occur for each output.\n",
        "\n",
        "\n",
        "\\\n",
        "`sep` means seperate \n",
        "\n",
        "If you write `sep =','`, a comma will be inserted and a line break will occur.\n",
        "\n"
      ],
      "metadata": {
        "id": "Mq1TtZmIhVGh"
      }
    },
    {
      "cell_type": "code",
      "source": [
        ""
      ],
      "metadata": {
        "id": "NoOfxNjfhbMg"
      },
      "execution_count": null,
      "outputs": []
    },
    {
      "cell_type": "code",
      "metadata": {
        "id": "iiK8upHfhbs5"
      },
      "source": [
        "#sample\n",
        "\n",
        "def calculation(a, b) :            \n",
        "  sum = a + b\n",
        "  difference = a - b\n",
        "  product = a * b\n",
        "  quotient = a // b\n",
        "  remainder = a % b                  \n",
        "  return print(a, '+', b, '=', sum, sep = ' '), \\\n",
        "           print(a, '-', b, '=', difference, sep = ' '), \\\n",
        "           print(a, 'x', b, '=', product, sep = ' '), \\\n",
        "           print(a, '+', b, '=', quotient, 'remainder', remainder)\n",
        "\n",
        "calculation(5, 2)\n"
      ],
      "execution_count": null,
      "outputs": []
    },
    {
      "cell_type": "markdown",
      "metadata": {
        "id": "vIXoP9qSQmIe"
      },
      "source": [
        "---\n",
        "Arithmetic operator summary\n",
        "\n",
        "\n",
        "\n",
        "| Arithmetic | Symbol |\n",
        "|:------:|:------:|\n",
        "| Addition | `+` |\n",
        "| Subtraction | `-` |\n",
        "| Multiplication | `*` |\n",
        "| Division | `/` |\n",
        "|Exponentiation | `**` |  \n",
        "| Division (quotient only) | `//` |\n",
        "| Division (remainder only) | `%` |\n",
        "\n",
        "\\\n",
        "\n"
      ]
    },
    {
      "cell_type": "markdown",
      "source": [
        "<a name=\"input-id\"></a>\n",
        "###input function"
      ],
      "metadata": {
        "id": "h4Y6DYtH4t6y"
      }
    },
    {
      "cell_type": "markdown",
      "source": [
        "---\n",
        "\n",
        "How to use the `input ()` program (`input function`)\n",
        "\n",
        "\n",
        "\n",
        "The `input ()` function is the same built-in function as the `print ()` function.\n",
        "\n",
        "\n",
        "\n",
        "\\\n",
        "When you run the following program\n",
        "\n",
        "\n",
        "\n",
        "\"Enter a number\" is displayed, so enter a number (integer) \n",
        "\n",
        "in half-width characters and press the Enter key.\n",
        "\n",
        "\n",
        "\\\n",
        "`number = input (\"Enter a number: number =\") `\n",
        "\n",
        "\n",
        "\n",
        "`print (\"The number you put in is \", number,\" isn't it? \")`\n",
        "\n"
      ],
      "metadata": {
        "id": "bCH0ArhENNPQ"
      }
    },
    {
      "cell_type": "code",
      "source": [
        "# Let's write code by yourself\n",
        "\n"
      ],
      "metadata": {
        "id": "CgfIuHazOsng"
      },
      "execution_count": null,
      "outputs": []
    },
    {
      "cell_type": "code",
      "source": [
        "#sample\n",
        "\n",
        "number = input (\"Enter a number: number = \")\n",
        "\n",
        "print (\"The number you put in is \", number,\" isn't it? \")\n"
      ],
      "metadata": {
        "colab": {
          "base_uri": "https://localhost:8080/"
        },
        "id": "y-6w99c29CDG",
        "outputId": "8e33de06-88eb-4d03-8177-4e86fa20f501",
        "collapsed": true
      },
      "execution_count": null,
      "outputs": [
        {
          "output_type": "stream",
          "name": "stdout",
          "text": [
            "Enter a number: number =24\n",
            "The number you put in is  24  isn't it? \n"
          ]
        }
      ]
    },
    {
      "cell_type": "markdown",
      "source": [
        "ーーーーーーーーーーーーーーーーーーーーーーーーーーーーーーーーーーーーーーーー\n",
        "\n",
        "\n",
        "Use when you want to enter your favorite number (integer)\n",
        "\n",
        "\\\n",
        "\n",
        "`a = input (\"Enter a number: a =\") `\n",
        "\n",
        "\n",
        "\n",
        "`b = input (\"Enter another b number: b = \")`\n",
        "\n",
        "\n",
        "\n",
        "`print ('The number you put in is', a, 'and', b, \" isn't it? \")`\n",
        "\n",
        "\n",
        "\n",
        "`print (\"a + b is \", int (a) + int (b),\". \")`\n",
        "\n",
        "\n",
        "\\\n",
        "In the `input()` program, even if you input a number, the output will be characters.\n",
        "\n",
        "\\\n",
        "In the above example, the number is printed as it is because it is not calculated.\n",
        "\n",
        "\n",
        "\\\n",
        "When calculating such as addition, convert a and b to integers \n",
        "\n",
        "with the `int()` program in print in order to return the contents of a to numbers.\n",
        "\n",
        "\n",
        "\\\n",
        "`int` is an abbreviation for integer, and `int()` function \n",
        "\n",
        "converts the strings number into an integer.\n",
        "\n"
      ],
      "metadata": {
        "id": "A_mPV2dn3wcM"
      }
    },
    {
      "cell_type": "code",
      "source": [
        "# Let's write code by yourself\n",
        "\n"
      ],
      "metadata": {
        "id": "7Xu2JZOI8-Vv"
      },
      "execution_count": null,
      "outputs": []
    },
    {
      "cell_type": "code",
      "source": [
        "#sample\n",
        "\n",
        "a = input (\"Enter a number: a =\")\n",
        "\n",
        "b = input (\"Enter b number: b = \")\n",
        "\n",
        "print ('The number you put in is', a, 'and', b, \" isn't it? \")\n",
        "\n",
        "print (\"a + b is \", int (a) + int (b),\". \")"
      ],
      "metadata": {
        "colab": {
          "base_uri": "https://localhost:8080/"
        },
        "id": "JxiRRQ_49M9H",
        "outputId": "2cb67e11-a082-4015-c6fb-c07a9f130283",
        "collapsed": true
      },
      "execution_count": null,
      "outputs": [
        {
          "output_type": "stream",
          "name": "stdout",
          "text": [
            "Enter a number: a =24\n",
            "How many b should I have: b = 35\n",
            "The number you put in is 24 and 35  isn't it? \n",
            "a + b is  59 . \n"
          ]
        }
      ]
    },
    {
      "cell_type": "markdown",
      "source": [
        "ーーーーーーーーーーーーーーーーーーーーーーーーーーーーーーーーーーーーーーーー\n",
        "\n",
        "\n",
        "Another way to write\n",
        "\n",
        "\n",
        "\\\n",
        "There is also a way to put the `input()` program into the `int()` program first\n",
        "\n",
        "\\\n",
        "By doing this, when you enter a number with input, \n",
        "\n",
        "you can change the character handling to an integer with `int()`.\n",
        "\n",
        "\n",
        "\\\n",
        "`a = int(input(\"Enter a number: a = \"))`\n",
        "\n",
        "\n",
        "\\\n",
        "`b = int(input(\"Enter b: b = \"))`\n",
        "\n",
        "\n",
        "\\\n",
        "`print ('The number you put in is', a, 'and', b, \" isn't it? \")`\n",
        "\n",
        "\n",
        "\\\n",
        "`print (\"a + b is \", a + b, \". \")`\n",
        "\n",
        "\\\n"
      ],
      "metadata": {
        "id": "zBDK8EKy4ABg"
      }
    },
    {
      "cell_type": "code",
      "source": [
        "# Let's write code by yourself\n",
        "\n"
      ],
      "metadata": {
        "id": "Iut8nvqX-Rss"
      },
      "execution_count": null,
      "outputs": []
    },
    {
      "cell_type": "code",
      "source": [
        "#sample\n",
        "\n",
        "a = int(input(\"Enter a number: a = \"))\n",
        "\n",
        "\n",
        "b = int(input(\"Enter b: b = \"))\n",
        "\n",
        "\n",
        "print ('The number you put in is', a, 'and', b, \" isn't it? \")\n",
        "\n",
        "\n",
        "print (\"a + b is \", a + b, \". \")"
      ],
      "metadata": {
        "id": "q8alyg41-SoA",
        "collapsed": true
      },
      "execution_count": null,
      "outputs": []
    },
    {
      "cell_type": "markdown",
      "source": [
        "---\n",
        "Q?\n",
        "\n",
        "What is the program to convert the speed / per hour (km/h) \n",
        "\n",
        "to the speed per second (m/sec) when inputting the speed (km/hour)?\n",
        "\n"
      ],
      "metadata": {
        "id": "zXlV45PAkAws"
      }
    },
    {
      "cell_type": "markdown",
      "source": [
        "ーーーーーーーーーーーーーーーーーーーーーーーーーーーーーーーーーーーーーーーー\n",
        "\n",
        "\n",
        "Determine the variable of speed per hour as km_h and the variable of speed per second as m_h.\n",
        "\n",
        "\\\n",
        "The only symbol that can be used in variable names is `_` (underscore)\n",
        "\n",
        "\\\n",
        "Variable names can be used are\n",
        "\n",
        "`Uppercase` and `lowercase` `alphabets` , `numbers` and  `underscore`\"\n",
        "\n",
        "\"Numbers cannot be used at the beginning\"\n",
        "\n",
        "\\\n",
        "This is enough for us to remember.\n",
        "\n",
        "\\\n",
        "The code to input the speed per hour, convert it to a variable \n",
        "\n",
        "with a decimal point, and put it in km_h\n",
        "\n",
        "\\\n",
        "Code is \n",
        "\n",
        "`km_h = float (input ('Please enter the speed:',' km'))`\n",
        "\n",
        "\n",
        "\\\n",
        "`float ()` is a program that changes the number inside to a number with a `decimal point`.\n",
        "\n",
        "\n",
        "\n",
        "The `int ()` that came out earlier was a program that converts it to an `integer`\n",
        "\n",
        "\n",
        "\\\n",
        "Here, use `float ()` because the speed per second may be a decimal number.\n",
        "\n",
        "\n",
        "\\\n",
        "To convert the input speed (km\\hour) to the speed per second (m/sec),\n",
        "\n",
        "\n",
        "Multiply 1000 to change the unit from km to m.\n",
        "\n",
        "\\\n",
        "One hour is 60 x 60 (= 3600) seconds, so divide by 60 x 60.\n",
        "\n",
        "\n",
        "\\\n",
        "The code to put it in the variable m_s per second\n",
        "\n",
        "\\\n",
        "Code is \n",
        "\n",
        "`m_s = km_h * 1000/60 ** 2`\n",
        "\n",
        "\n",
        "\\\n",
        "The code to print m_s is\n",
        "\n",
        "`print ('speed', km_h,'km is speed per second', m_s,'m')`\n",
        "\n"
      ],
      "metadata": {
        "id": "YqBXonTp-qTr"
      }
    },
    {
      "cell_type": "markdown",
      "source": [
        "ーーーーーーーーーーーーーーーーーーーーーーーーーーーーーーーーーーーーーーー\n",
        "\n",
        "If you want to display up to the second decimal place,\n",
        "\n",
        "\\\n",
        "Code is \n",
        "\n",
        "`m_s = round(m_s, 2)`\n",
        "\n",
        "\n",
        "If you print out, the third decimal place will be rounded off.\n",
        "\n",
        "\n",
        "`round ()` is a program that rounds the numbers inside\n",
        "\n",
        "\n",
        "\\\n",
        "`m_s = round (m_s, 2)` means\n",
        "\n",
        "\"Make the number in the variable m_s up to the second decimal place and put it back in m_s\"\n",
        "\n",
        "\n",
        "Summary,\n",
        "\n",
        "\n",
        "\n",
        "`km_h = float (input ('Please enter the speed (km):'))`\n",
        "\n",
        "\n",
        "\\\n",
        "`m_s = km_h * 1000 / 60**2`\n",
        "\n",
        "\n",
        "\\\n",
        "`m_s =round(m_s,2)`\n",
        "\n",
        "\n",
        "\\\n",
        "`print ('speed per hour ', km_h, 'km is speed per second', m_s, 'm')`\n",
        "\n",
        "\n"
      ],
      "metadata": {
        "id": "GXGbLwOxZe93"
      }
    },
    {
      "cell_type": "code",
      "source": [
        "# Let's write code by yourself\n",
        "\n"
      ],
      "metadata": {
        "id": "1TrMfJdMUc-Z"
      },
      "execution_count": null,
      "outputs": []
    },
    {
      "cell_type": "code",
      "source": [
        "#sample\n",
        "\n",
        "km_h = float(input ('Please enter the speed (km):'))\n",
        "\n",
        "m_s = km_h * 1000 / 60**2\n",
        "\n",
        "m_s =round(m_s,2)\n",
        "\n",
        "print ('speed per hour ', km_h, 'km is speed per second', m_s, 'm')"
      ],
      "metadata": {
        "id": "jWJa_LyUYiha",
        "colab": {
          "base_uri": "https://localhost:8080/"
        },
        "outputId": "9246420b-ec7e-435f-9876-13a278ef2c40",
        "collapsed": true
      },
      "execution_count": null,
      "outputs": [
        {
          "output_type": "stream",
          "name": "stdout",
          "text": [
            "Please enter the speed (km):50\n",
            "speed per hour  50.0 km is speed per second 13.89 m\n"
          ]
        }
      ]
    },
    {
      "cell_type": "markdown",
      "source": [
        "---\n",
        "Q?\n",
        "\n",
        "\n",
        "How to code to display followings?\n",
        "\n",
        "\\\n",
        "Display \" Please tell me your name. \"\n",
        "\n",
        "\n",
        "When inputting name \" XXXX \",\n",
        "then display \" Hello, XXXX \"\n",
        "\n",
        "\\\n",
        "This is easy because it doesn't contain numbers\n",
        "\n",
        "\\\n",
        "Code is \n",
        "\n",
        "`your_name = input (\"Please tell me your name:\") ` \n",
        "\n",
        "\n",
        "`print ('Hello, ', your_name)`\n",
        "\n",
        "\\\n",
        "`your_name` is variable, so you may decide it by yourself as you like.\n",
        "\n",
        "Character strings can be quoted by either `\"  \"` (double quotation) or `'  '` (single quotation)\n"
      ],
      "metadata": {
        "id": "kgSVixnY5XpR"
      }
    },
    {
      "cell_type": "code",
      "source": [
        "# Let's write code by yourself\n",
        "\n"
      ],
      "metadata": {
        "id": "d21CqigZe6qs"
      },
      "execution_count": null,
      "outputs": []
    },
    {
      "cell_type": "code",
      "source": [
        "#sample\n",
        "\n",
        "your_name = input (\"Please tell me your name:\")\n",
        "\n",
        "print ('Hello, ', your_name)"
      ],
      "metadata": {
        "id": "ZTQFpmeS56nV",
        "colab": {
          "base_uri": "https://localhost:8080/"
        },
        "outputId": "78aa9f49-64d2-4479-fa12-e8bb43689e45",
        "collapsed": true
      },
      "execution_count": null,
      "outputs": [
        {
          "output_type": "stream",
          "name": "stdout",
          "text": [
            "Please tell me your name:kumi\n",
            "Hello,  kumi\n"
          ]
        }
      ]
    },
    {
      "cell_type": "markdown",
      "source": [
        "---\n",
        "Q?\n",
        "\n",
        "Ask your friends to input their English and Math test scores.\n",
        "\n",
        "\\\n",
        "What is the program coding that calculates and displays those scores and the total & average of the scores?\n",
        "\n"
      ],
      "metadata": {
        "id": "ZQzYzf72ZcN0"
      }
    },
    {
      "cell_type": "markdown",
      "source": [
        "ーーーーーーーーーーーーーーーーーーーーーーーーーーーーーーーーーーーーーーー\n",
        "\n",
        "\n",
        "Variables are such as `english` for English score, `math' for Math score, `sum` for sum and `average` for average. \n",
        "\n",
        "\\\n",
        "The code to be input and assigned to the variable is \n",
        "\n",
        "`english = int (input ('Please enter your English score:'))` \n",
        "\n",
        "`math = int (input ('Please enter your Math score:'))` \n",
        "\n",
        "\\\n",
        "The code to calculate the sum and average is \n",
        "\n",
        "\n",
        "`sum = english + math`\n",
        "\n",
        "`average = sum / 2`\n",
        "\n",
        "\n",
        "The code to display is \n",
        "\n",
        "`print ('English score: ', english, 'point')` \n",
        "\n",
        "`print ('Math score: ', math, 'Point')` \n",
        "\n",
        "`print('Total: ', sum, 'point')`\n",
        "\n",
        "`print('Average: ', average, 'point')`\n",
        "\n"
      ],
      "metadata": {
        "id": "63ANdM5_Zft2"
      }
    },
    {
      "cell_type": "code",
      "source": [
        "# Let's write code by yourself\n",
        "\n"
      ],
      "metadata": {
        "id": "_EPSwYSLeuSQ"
      },
      "execution_count": null,
      "outputs": []
    },
    {
      "cell_type": "code",
      "source": [
        "#sample\n",
        "\n",
        "\n",
        "print('your scores and total and average are to be displayed.')\n",
        "\n",
        "english = int (input ('Please enter your English score:'))\n",
        "\n",
        "math = int (input ('Please enter your Math score:'))\n",
        "\n",
        "sum = english + math\n",
        "\n",
        "average = sum / 2\n",
        "\n",
        "print ('English score: ', english, 'points')\n",
        "\n",
        "print ('Math score: ', math, 'Points')\n",
        "\n",
        "print('Total: ', sum, 'points')\n",
        "\n",
        "print('Average: ', average, 'points')\n"
      ],
      "metadata": {
        "id": "M86cpa-qemVJ",
        "colab": {
          "base_uri": "https://localhost:8080/"
        },
        "outputId": "5813d734-8798-432e-fb31-4ebcc2922429",
        "collapsed": true
      },
      "execution_count": null,
      "outputs": [
        {
          "output_type": "stream",
          "name": "stdout",
          "text": [
            "your scores and total and average are displyed\n",
            "Please enter your English score:54\n",
            "Please enter your Math score:81\n",
            "English score:  54 point\n",
            "Math score:  81 Point\n",
            "Total:  135 point\n",
            "Average:  67.5 point\n"
          ]
        }
      ]
    },
    {
      "cell_type": "markdown",
      "source": [
        "---\n",
        "Q?\n",
        "\n",
        "You have 200 Japanese yen.\n",
        "\n",
        "\n",
        "Calculate the change when you buy a drink at the vending machine.\n",
        "\n",
        "\n",
        "\n",
        "The price is 80 yen for water, 120 yen for cola, and 180 yen for lemon juice.\n",
        "\n",
        "\n",
        "\n",
        "What do you write code of  the program to buy drinks and calculate change?\n",
        "\n",
        "\n",
        "\n"
      ],
      "metadata": {
        "id": "JWcS4I6ELuna"
      }
    },
    {
      "cell_type": "markdown",
      "source": [
        "ーーーーーーーーーーーーーーーーーーーーーーーーーーーーーーーーーーーーーーーー\n",
        "\n",
        "\n",
        "Below is the code for the answer\n",
        "\n",
        "\n",
        "\n",
        "\n",
        "First, write this code and execute it ▶\n",
        "\n",
        "\\\n",
        "[ Water is 80 yen, Coke is 120 yen, Lemon juice is 180 yen ]\n",
        "\n",
        "\n",
        "is to be displayed and asked,\n",
        "\n",
        "\n",
        "[ Which one do you want? ]\n",
        "\n",
        "\\\n",
        "As you will be asked,\n",
        "\n",
        "enter `Water`, `Coke`, or `Lemon juice` and press Enter key.\n",
        "\n",
        "\\\n",
        "When [ Please put in the money. ] is displyed,\n",
        "\n",
        "enter(input) 100 for Water and 200 for Coke or Lemon juice and press Enter.\n",
        "\n",
        "\\\n",
        "[ Thank you ! Change is xxx yen ] is displyed.\n",
        "\n",
        "\n",
        "That's it.\n",
        "\n",
        "\\\n",
        "Code is here\n",
        "\n",
        "Please pay special attention to writing code `(     )`, `{   }`,` : `,`'   '` symbols, etc.\n",
        "\n",
        "\\\n",
        "`drink = {'Water': 80, 'Coke': 120, 'Lemon juice': 180}` \n",
        "\n",
        "\\\n",
        "`print ('Water is 80 yen, Coke is 120 yen, Lemon juice is 180 yen')`\n",
        "\n",
        "\\\n",
        "`select = input ('Which one do you want? :')` \n",
        "\n",
        "\n",
        "\\\n",
        "`x = int (input ('Please put money :'))`\n",
        "\n",
        "\\\n",
        "`y = x - drink[select]`\n",
        "\n",
        "\n",
        "\\\n",
        "`print ('Thank you ! Change is', y, 'yen.')`\n",
        "\n",
        "\\\n",
        "Some of code is explained later.\n",
        "\n",
        "\n"
      ],
      "metadata": {
        "id": "0dCN-ek4e6zT"
      }
    },
    {
      "cell_type": "code",
      "source": [
        "# Write code here\n",
        "\n",
        "\n",
        "\n"
      ],
      "metadata": {
        "id": "zNB_lvrpm7Ge"
      },
      "execution_count": null,
      "outputs": []
    },
    {
      "cell_type": "code",
      "source": [
        "#sample\n",
        "\n",
        "drink = {'Water': 80,'Coke': 120,'Lemon juice': 180}\n",
        "\n",
        "print ('Water is 80 yen, Coke is 120 yen, Lemon juice is 180 yen')\n",
        "\n",
        "select = input ('Which one do you want? :')\n",
        "\n",
        "x = int (input ('please put money.:'))\n",
        "\n",
        "y = x - drink[select]\n",
        "\n",
        "print ('Thank you !, Change is', y, 'yen.')\n",
        "\n"
      ],
      "metadata": {
        "colab": {
          "base_uri": "https://localhost:8080/"
        },
        "id": "HfAL3hJElW_w",
        "outputId": "fda96795-7635-461d-e804-d64fc2dfdd8b",
        "collapsed": true
      },
      "execution_count": null,
      "outputs": [
        {
          "output_type": "stream",
          "name": "stdout",
          "text": [
            "Water is 80 yen, Coke is 120 yen, Lemon juice is 180 yen\n",
            "Which one do you want:Coke\n",
            "please put money:200\n",
            "Thank you !, change is 80 yen.\n"
          ]
        }
      ]
    },
    {
      "cell_type": "markdown",
      "source": [
        "### Dictionary"
      ],
      "metadata": {
        "id": "vHt6ZM3ER8-n"
      }
    },
    {
      "cell_type": "markdown",
      "source": [
        "ーーーーーーーーーーーーーーーーーーーーーーーーーーーーーーーーーーーーーーーー\n",
        "\n",
        "\n",
        "In the above program, we found new code as below :\n",
        "\n",
        "\\\n",
        "`drink = {'Water': 80,'Coke': 120,'Lemon juice': 180}`\n",
        "\n",
        "\n",
        "This code should be explained a little.\n",
        "\n",
        "\\\n",
        "This data type is called a `dictionary` and it contains combination with  a key and a value.\n",
        "\n",
        "\\\n",
        "In the above example,  `'Water'` is `key` and `80` is `value`.\n",
        "\n",
        "\\\n",
        "By using data type, when you are asked \" Which one do you want? \" and answer `'water'`,\n",
        "\n",
        "calculation is made with `80` of the value setting with the `Water` of the key.\n",
        "\n",
        "\n",
        "\\\n",
        "`Water` and `80` are in the variable `select`, and the value 80 is used in the formula for y = x - drink[select].\n",
        "\n",
        "\n",
        "\n",
        "\\\n",
        "If x = 100, then y = x - 80 = 100 - 80 = 20, so\n",
        "\n",
        "output is \"Change is 20 yen.\"\n",
        "\n"
      ],
      "metadata": {
        "id": "JBl-9I2wRYAf"
      }
    },
    {
      "cell_type": "markdown",
      "source": [
        "ーーーーーーーーーーーーーーーーーーーーーーーーーーーーーーーーーーーーーーーー\n",
        "\n",
        "More details on dictionary, please refer to [here](https://colab.research.google.com/github/jigsawlabs-student/code-intro/blob/master/3-visual-dicts.ipynb)\n",
        "\n"
      ],
      "metadata": {
        "id": "Q8yAFbfLZiKz"
      }
    },
    {
      "cell_type": "markdown",
      "source": [
        "---\n",
        "\n",
        "The \"dictionary\" came out in the above explanation, so I will explain it for a moment.\n",
        "\n",
        "\\\n",
        "Numbers and characters are usually called \"` data` \".\n",
        "\n",
        "(Although it seems to be called `information`, it is mostly sated as `data` in this note) \n",
        "\n",
        "\\\n",
        "The `data` is usually in a container (box), and depending on the container, it is called a` data type`.\n",
        "\n",
        "\n",
        "\\\n",
        "The `type` that often appears in this note is the` list`, but the `dictionary` type is also commonly used.\n",
        "\n",
        "\\\n",
        "At `list type` data is put in the` [   ] `(square brackets) box.\n",
        "\n",
        "\\\n",
        "On the other hand, at `dictionary type` data is put in the` {} `(curly braces) box.\n",
        "\n",
        "\n",
        "\\\n",
        "`[2, 6, 273, 38,\" banana \",\" apple \"]` is `list type` data\n",
        "\n",
        "\n",
        "\\\n",
        "The `{'Water': 80, 'Coke': 120, 'Lemon juice': 180}` mentioned above are `dictionary type` data.\n",
        "\n",
        "\n",
        "\\\n",
        "A description of the `list` will come later, here is a brief description of the` dictionary`.\n",
        "\n"
      ],
      "metadata": {
        "id": "Kr1bEs2wSxw6"
      }
    },
    {
      "cell_type": "markdown",
      "source": [
        "ーーーーーーーーーーーーーーーーーーーーーーーーーーーーーーーーーーーーーーーー\n",
        "\n",
        "In dictionary type data, `key` and` value ` are included in one set.\n",
        "\n",
        "\n",
        "\\\n",
        "`Dictionary name` = `{\" Key key\": \"Value value\", ...} `\n",
        "\n",
        "\n",
        "`{'Water': 80, 'Coke': 120, 'Lemon juice': 180}`\n",
        "\n",
        "\n",
        "\\\n",
        "'Water', 'Coke', 'Lemon juice', are `Key`\n",
        "\n",
        "\n",
        "80, 120, 180 are `Value`\n",
        "\n",
        "\n",
        "\\\n",
        "Add a `:` (colon) between the `key` and the` value` to make one set.\n",
        "\n",
        "　`;` (semicolon) is no good\n",
        "\n",
        "\n",
        "\n",
        "――――――――――――――――――――――――――――――――――――――――――――――\n",
        "\n",
        "\n",
        "Let's see how to use it.\n",
        "\n",
        "Execute the next cell ▶\n",
        "\n",
        "\n"
      ],
      "metadata": {
        "id": "T8HNncTbLpC_"
      }
    },
    {
      "cell_type": "code",
      "metadata": {
        "colab": {
          "base_uri": "https://localhost:8080/"
        },
        "outputId": "503787d4-1640-4db1-e90d-4b06da9dbcfe",
        "id": "1auEEZguLvKr",
        "collapsed": true
      },
      "source": [
        "\n",
        "dict1 = {\"pencil\":60, \"eraser\":130, \"ruler\":210}\n",
        "\n",
        "print(dict1[\"eraser\"])\n",
        "\n"
      ],
      "execution_count": null,
      "outputs": [
        {
          "output_type": "stream",
          "name": "stdout",
          "text": [
            "130\n"
          ]
        }
      ]
    },
    {
      "cell_type": "markdown",
      "source": [
        "\n",
        "\n",
        "If you specify the `\" eraser \"` of one of the keys of the dictionary type data\n",
        "\n",
        " box named `dict1` in` [   ] `parentheses as `print(dict1[\"eraser\"])`.\n",
        "\n",
        "\n",
        "\\\n",
        "It is a mechanism to output (display) `130` paired with` \"eraser\" `\n",
        "\n",
        "\\\n",
        "Dictionary data type will come out later again, so here only the mechanism showed.\n",
        "\n",
        "\\\n",
        "Execute the next cell ▶\n",
        "\n",
        "\n",
        "\n"
      ],
      "metadata": {
        "id": "pmbkAMyiNh1q"
      }
    },
    {
      "cell_type": "code",
      "metadata": {
        "colab": {
          "base_uri": "https://localhost:8080/"
        },
        "outputId": "133ef83c-a03d-4a5c-ccb1-c7807a43fd23",
        "id": "XABlI2wgNk8C",
        "collapsed": true
      },
      "source": [
        "\n",
        "dict1 = {\"pencil\":60, \"eraser\":130, \"ruler\":210}\n",
        "\n",
        "print(\"The price of pencil is \", dict1[\"pencil\"], \"yen\")\n",
        "\n"
      ],
      "execution_count": null,
      "outputs": [
        {
          "output_type": "stream",
          "name": "stdout",
          "text": [
            "The price of pencil is  60 yen\n"
          ]
        }
      ]
    },
    {
      "cell_type": "markdown",
      "source": [
        "\n",
        "As in the dictionary type data, `value` is` integer (int) `, \n",
        "\n",
        "we output as a combination of character strings and numbers by using ` print () `.\n",
        "\n"
      ],
      "metadata": {
        "id": "cft-bdhqPEmG"
      }
    },
    {
      "cell_type": "markdown",
      "metadata": {
        "id": "-uSbI6v7P5t4"
      },
      "source": [
        "---\n",
        "\n",
        "Assign the strings \"Hello\" and \"Goodbye\" to the variables respectively, and \n",
        "\n",
        "display by connecting in the print program \n",
        "\n",
        "\\\n",
        "\"Hello\" is displayed 3 times \n",
        "\n",
        "\\\n",
        "Display by connecting \"Goodbye\" to \"Hello\" \n",
        "\n",
        "\\\n",
        "Code is \n",
        "\n",
        "`x = \" Hello \"` \n",
        "\n",
        "`y = \" Goodbye \"` \n",
        "\n",
        "`print(x + y)`\n",
        "\n",
        "`print(x * 3)`\n",
        "\n",
        "`x += y`\n",
        "\n",
        "`print(x)`\n",
        "\n",
        "\n",
        "\\\n",
        "[ Note ]\n",
        "\n",
        "\"Hello\" + \"Goodbye\" is to be a combination of characters, unlike the case of numbers which is to be a calculation. \n",
        "\n",
        "\\\n",
        "Another code of `\"Hello\" + = \"Goodbye\"` comes out the same output.\n",
        "\n"
      ]
    },
    {
      "cell_type": "code",
      "source": [
        "#Let's write code !\n",
        "\n"
      ],
      "metadata": {
        "id": "hkwg-DRkRhy8"
      },
      "execution_count": null,
      "outputs": []
    },
    {
      "cell_type": "markdown",
      "source": [
        "---\n",
        "Q?\n",
        "\n",
        "Combining string \n",
        "\n",
        "\n",
        "\\\n",
        "`'Hello' + 'Good evening'`\n",
        "\n",
        "\n"
      ],
      "metadata": {
        "id": "V7KQpecwR1Qn"
      }
    },
    {
      "cell_type": "code",
      "source": [
        ""
      ],
      "metadata": {
        "id": "dAaxW1Y_w3Gy"
      },
      "execution_count": null,
      "outputs": []
    },
    {
      "cell_type": "markdown",
      "source": [
        "---\n",
        "Q?\n",
        "\n",
        "\n",
        "Combining string using variables \n",
        "\n",
        "\n",
        "\\\n",
        "`word1 = 'Hello'` \n",
        "\n",
        "`word2 = 'Good evening'` \n",
        "\n",
        "`text1 = word1 + word2`\n",
        "\n",
        "`print(text1)`\n",
        "\n",
        "\n",
        "\n"
      ],
      "metadata": {
        "id": "x6v6BL7lxwiR"
      }
    },
    {
      "cell_type": "code",
      "source": [
        ""
      ],
      "metadata": {
        "id": "BI_mKXUSyN9_"
      },
      "execution_count": null,
      "outputs": []
    },
    {
      "cell_type": "markdown",
      "source": [
        "`\" Hello \"* 3`\n",
        "\n"
      ],
      "metadata": {
        "id": "CcAE73qKyL-n"
      }
    },
    {
      "cell_type": "code",
      "source": [
        ""
      ],
      "metadata": {
        "id": "QviU6y5Bybik"
      },
      "execution_count": null,
      "outputs": []
    },
    {
      "cell_type": "markdown",
      "source": [
        "\n",
        "Using variables \n",
        "\n",
        "\\\n",
        "`word = 'Hello'` \n",
        "\n",
        "`print(word * 3)`\n",
        "\n"
      ],
      "metadata": {
        "id": "Xr4Gk36SygRR"
      }
    },
    {
      "cell_type": "code",
      "source": [
        ""
      ],
      "metadata": {
        "id": "ZngqQ4AGylmD"
      },
      "execution_count": null,
      "outputs": []
    },
    {
      "cell_type": "markdown",
      "metadata": {
        "id": "5k7Xyi2Hy-yw"
      },
      "source": [
        "---\n",
        "\n",
        "###Operator to assign\n",
        "\n",
        "\\\n",
        "There is a symbol called the `operator` that means various operations\n",
        "\n",
        "\n",
        "\n",
        "Here, it is called `assignment operator`\n",
        "\n",
        "which add, subtract, multiply, divide the number in the variable, and put the result back in the variable.\n",
        "\n",
        "\n",
        "\\\n",
        "`=` Is also an assignment operator, and the operation is \"assign\".\n",
        "\n",
        "\\\n",
        "\n",
        "| Operation | Symbol |\n",
        "|:------:|:------:|\n",
        "| Assign | `=` |\n",
        "| Add and assgin | `+ =` |\n",
        "| Subtract and assign | `-=` |\n",
        "| Multiply and assign | `* =` |\n",
        "| Divide and assign | `/ =` |\n",
        "\n",
        "\\\n"
      ]
    },
    {
      "cell_type": "markdown",
      "source": [
        "ーーーーーーーーーーーーーーーーーーーーーーーーーーーーーーーーーーーーーーーー\n",
        "\n",
        "When the variable x is assigned 3 and you want to add 5 to x and assign it,\n",
        "\n",
        "\\\n",
        "`x = 3`\n",
        "\n",
        "\n",
        "\n",
        "`x += 5`\n",
        "\n",
        "\n",
        "\\\n",
        "And\n",
        "\n",
        "\n",
        "\n",
        "`print (x)`\n",
        "\n",
        "\n",
        "\\\n",
        "output 8\n",
        "\n",
        "\n",
        "\\\n",
        "Let's write code in the cell below\n",
        "\n"
      ],
      "metadata": {
        "id": "Doc71Iup04gA"
      }
    },
    {
      "cell_type": "code",
      "source": [
        ""
      ],
      "metadata": {
        "id": "dX7Q1wrm1qtM"
      },
      "execution_count": null,
      "outputs": []
    },
    {
      "cell_type": "markdown",
      "source": [
        "---\n",
        "\n",
        "★ String (data) and numbers (data) \n",
        "\n",
        "\\\n",
        "As adults, many people become obesity due to overeating, \n",
        "\n",
        "there are various measures that can check the degree of obesity.\n",
        "\n",
        "\\\n",
        "One of them is BMI (Body Mass Index)\n",
        "\n",
        "\\\n",
        "BMI is calculated by weight (kg) $\\div$ (height (m) squared).\n",
        "\n",
        "\\\n",
        "Measures indicate\n",
        "\n",
        "Less than 18.5 is \"thin\"\n",
        "\n",
        "18.5 or more and less than 25 is \"normal\"\n",
        "\n",
        "25 or more are \"obesity\"\n",
        "\n",
        "\\\n",
        "Q?\n",
        "\n",
        "\n",
        "\\\n",
        "What is the program to calculate the BMI of a person who is 165 cm tall (= 1.65 m) and weighs 70 kg?\n",
        "\n",
        "\\\n",
        "Code is \n",
        "\n",
        "`height = 1.65`\n",
        "\n",
        "`weight = 70`\n",
        "\n",
        "`BMI = weight / (height**2)`\n",
        "\n",
        "\n",
        "\n",
        "`print (\"BMI with Height\" + str (height * 100) + \" cm and weight\" + str (weight) + \" kg  is \" + str (int (BMI)) + \".\" ) `\n",
        "\n",
        "\n",
        "Calculate weight $\\div$ (height) <sup> 2 </sup> and assign it to a variable BMI.\n",
        "\n",
        "\n",
        "\n",
        "\n"
      ],
      "metadata": {
        "id": "jR2B3Ps-1vna"
      }
    },
    {
      "cell_type": "code",
      "source": [
        ""
      ],
      "metadata": {
        "id": "zcPDbpc35C1j"
      },
      "execution_count": null,
      "outputs": []
    },
    {
      "cell_type": "markdown",
      "source": [
        "### float,  round"
      ],
      "metadata": {
        "id": "9fWm_46Ly3a3"
      }
    },
    {
      "cell_type": "markdown",
      "metadata": {
        "id": "epLqvxZe5N62"
      },
      "source": [
        "---\n",
        "Q?\n",
        "\n",
        "\n",
        "Ask them to enter their height (unit is m) and weight (unit is kg), output BMI\n",
        "\n",
        "displaying  \"Your height is xx m and your weight is xx kg, so your BMI is xx.\"\n",
        "\n",
        "\\\n",
        "What is code of this program ?\n",
        "\n",
        "ーーーーーーーーーーーーーーーーーーーーーーーーーーーーーーーーーーーーーーー\n",
        "\n",
        "Use the `input ()` function to get input from adults\n",
        "\n",
        "\n",
        "\n",
        "    x = input (\"Please enter your height (unit m):\")\n",
        "\n",
        "    y = input (\"Please enter your weight (unit kg):\")\n",
        "\n",
        "\n",
        "\n",
        "Since the number (data) input by `input ()` is `string type`, change it to a decimal with `float ()`.\n",
        "\n",
        "\n",
        "\\\n",
        "`int ()` is for an integer, but `float ()` is for a decimal.\n",
        "\n",
        "\n",
        "\n",
        "    bmi = float(y) / float(x)**2\n",
        "\n",
        "\n",
        "\n",
        "Since `bmi` comes to a decimal number, there are many decimal places, so round off with the` round () `function.\n",
        "\n",
        "\n",
        "\n",
        "    bmi = round(bmi,1)\n",
        "\n",
        "\n",
        "\n",
        "`bmi = round (bmi, 1)` means\n",
        "\n",
        "that  \"bmi calculated by division is converted to a decimal number up to the first decimal place and assigned again into` bmi` \".\n",
        "\n",
        "\n",
        "\\\n",
        "Output the result with `print()`\n",
        "\n",
        "\n",
        "\n",
        "    print (\"Your height is\", x, \"m and weight is\", y, \"kg, so your BMI is\", bmi, \".\")\n",
        "\n"
      ]
    },
    {
      "cell_type": "code",
      "source": [
        "#Write code here\n",
        "\n"
      ],
      "metadata": {
        "id": "Mm5ZKXvM8F7a"
      },
      "execution_count": null,
      "outputs": []
    },
    {
      "cell_type": "code",
      "metadata": {
        "id": "GIjzLXYS8ZY1"
      },
      "source": [
        "#sample\n",
        "\n",
        "x = input (\"Please enter your height (unit m):\")\n",
        "y = input (\"Please put your weight (unit kg):\")\n",
        "\n",
        "bmi = float(y) / float(x)**2\n",
        "\n",
        "bmi = round(bmi,1)\n",
        "\n",
        "print (\"Your height is\", x, \"m and weight is\", y, \"kg, so your BMI is\", bmi, \".\")\n"
      ],
      "execution_count": null,
      "outputs": []
    },
    {
      "cell_type": "markdown",
      "source": [
        "---\n",
        "Calculations continue further\n",
        "\n",
        "\n",
        "Q?\n",
        "\n",
        "\n",
        "\n",
        "10 x 10 + 11 x 11 + 12 x 12 =?\n",
        "\n",
        "\n",
        "\n",
        "13 x 13 + 14 x 14 =?\n",
        "\n",
        "\n",
        "\\\n",
        "Use `print()` to compare the results of two formulas\n",
        "\n",
        "\n"
      ],
      "metadata": {
        "id": "j4oJNeCfzhus"
      }
    },
    {
      "cell_type": "code",
      "source": [
        "print()\n",
        "\n",
        "print()"
      ],
      "metadata": {
        "id": "PugFPnVB9K31"
      },
      "execution_count": null,
      "outputs": []
    },
    {
      "cell_type": "markdown",
      "source": [
        "Q?\n",
        "\n",
        "13 $\\times$ 13 ＝？\n",
        "\n",
        "31 $\\times$ 31 ＝？"
      ],
      "metadata": {
        "id": "1uP-piHu91P5"
      }
    },
    {
      "cell_type": "code",
      "source": [
        ""
      ],
      "metadata": {
        "id": "BUs1NLZU915G"
      },
      "execution_count": null,
      "outputs": []
    },
    {
      "cell_type": "markdown",
      "source": [
        "Q?\n",
        "\n",
        "13 $\\times$ 13 ＝？\n",
        "\n",
        "31 $\\times$ 31 ＝？"
      ],
      "metadata": {
        "id": "eOZ1W54mzhus"
      }
    },
    {
      "cell_type": "code",
      "source": [
        ""
      ],
      "metadata": {
        "id": "1DLJRoktzhut"
      },
      "execution_count": null,
      "outputs": []
    },
    {
      "cell_type": "markdown",
      "source": [
        "Q?\n",
        "\n",
        "221 $\\times$ 312 ＝？\n",
        "\n",
        "122 $\\times$ 213 ＝？"
      ],
      "metadata": {
        "id": "ynJwwfA697hC"
      }
    },
    {
      "cell_type": "code",
      "source": [
        ""
      ],
      "metadata": {
        "id": "_rYqjS6Q98OE"
      },
      "execution_count": null,
      "outputs": []
    },
    {
      "cell_type": "markdown",
      "source": [
        "Q?\n",
        "\n",
        "221 $\\times$ 312 ＝？\n",
        "\n",
        "122 $\\times$ 213 ＝？"
      ],
      "metadata": {
        "id": "e19ZWI2jzhut"
      }
    },
    {
      "cell_type": "code",
      "source": [
        ""
      ],
      "metadata": {
        "id": "tm0kTroyzhut"
      },
      "execution_count": null,
      "outputs": []
    },
    {
      "cell_type": "markdown",
      "source": [
        "Q?\\\n",
        "7<sup>1</sup> ＋ 7<sup>3</sup> ＋ 7<sup>1</sup> ＋ 7<sup>7</sup> ＋ 7<sup>7</sup> ＋ 7<sup>3</sup> ＋ 7<sup>8</sup> ＋ 7<sup>8</sup> ＝ ？"
      ],
      "metadata": {
        "id": "79PzbwW_-BSu"
      }
    },
    {
      "cell_type": "code",
      "source": [
        ""
      ],
      "metadata": {
        "id": "KsnJFYVr-BuI"
      },
      "execution_count": null,
      "outputs": []
    },
    {
      "cell_type": "markdown",
      "source": [
        "Q?\\\n",
        "7<sup>1</sup> ＋ 7<sup>3</sup> ＋ 7<sup>1</sup> ＋ 7<sup>7</sup> ＋ 7<sup>7</sup> ＋ 7<sup>3</sup> ＋ 7<sup>8</sup> ＋ 7<sup>8</sup> ＝ ？"
      ],
      "metadata": {
        "id": "Yav4nscXzhut"
      }
    },
    {
      "cell_type": "code",
      "source": [
        ""
      ],
      "metadata": {
        "id": "lwUu6PCqzhuu"
      },
      "execution_count": null,
      "outputs": []
    },
    {
      "cell_type": "markdown",
      "source": [
        "Q?\n",
        "\n",
        "2<sup>1</sup> ＋ 6<sup>2</sup> ＋ 4<sup>3</sup> ＋ 6<sup>4</sup> ＋ 7<sup>5</sup> ＋ 9<sup>6</sup> ＋ 8<sup>7</sup> ＝ ？"
      ],
      "metadata": {
        "id": "c498DU8c-Hb7"
      }
    },
    {
      "cell_type": "code",
      "source": [
        ""
      ],
      "metadata": {
        "id": "_fb-dYpX-H2Q"
      },
      "execution_count": null,
      "outputs": []
    },
    {
      "cell_type": "markdown",
      "source": [
        "Q?\n",
        "\n",
        "2<sup>1</sup> ＋ 6<sup>2</sup> ＋ 4<sup>3</sup> ＋ 6<sup>4</sup> ＋ 7<sup>5</sup> ＋ 9<sup>6</sup> ＋ 8<sup>7</sup> ＝ ？"
      ],
      "metadata": {
        "id": "q-zi92YLzhuu"
      }
    },
    {
      "cell_type": "code",
      "source": [
        ""
      ],
      "metadata": {
        "id": "kw1WHmblzhuu"
      },
      "execution_count": null,
      "outputs": []
    },
    {
      "cell_type": "markdown",
      "source": [
        "Q?\n",
        "\n",
        "(2<sup>8</sup> ＋ 4<sup>8</sup> ＋ 1<sup>8</sup>)  $\\div$  (2<sup>4</sup> ＋ 4<sup>4</sup> ＋ 1<sup>4</sup>) ＝ ？"
      ],
      "metadata": {
        "id": "VqQxoOA5-LJo"
      }
    },
    {
      "cell_type": "code",
      "source": [
        ""
      ],
      "metadata": {
        "id": "-plvLNGs-LlN"
      },
      "execution_count": null,
      "outputs": []
    },
    {
      "cell_type": "markdown",
      "source": [
        "Q?\n",
        "\n",
        "(2<sup>8</sup> ＋ 4<sup>8</sup> ＋ 1<sup>8</sup>)  $\\div$  (2<sup>4</sup> ＋ 4<sup>4</sup> ＋ 1<sup>4</sup>) ＝ ？"
      ],
      "metadata": {
        "id": "D3wXX6-rzhuu"
      }
    },
    {
      "cell_type": "code",
      "source": [
        ""
      ],
      "metadata": {
        "id": "VI6O9dhezhuu"
      },
      "execution_count": null,
      "outputs": []
    },
    {
      "cell_type": "markdown",
      "source": [
        "---\n",
        "Q?\n",
        "\n",
        "\n",
        "Is the difference between 123456789 and the number that can be replaced \n",
        "\n",
        "appropriately (for example, 597324186) comes to a multiple of 9?\n",
        "\n",
        "\n",
        "\n",
        "`(597324186 - 123456789) / 9`"
      ],
      "metadata": {
        "id": "vs7nZIaH-SFG"
      }
    },
    {
      "cell_type": "code",
      "source": [
        ""
      ],
      "metadata": {
        "id": "xMp2TSqA-SjG"
      },
      "execution_count": null,
      "outputs": []
    },
    {
      "cell_type": "markdown",
      "source": [
        "Q?\n",
        "\n",
        "\n",
        "As for the above problem, replace the numbers appropriately again to be another number.\n",
        "\n"
      ],
      "metadata": {
        "id": "AVf3Oqiz-4Nm"
      }
    },
    {
      "cell_type": "code",
      "source": [
        ""
      ],
      "metadata": {
        "id": "g1J9nuF0-5HW"
      },
      "execution_count": null,
      "outputs": []
    },
    {
      "cell_type": "markdown",
      "source": [
        "---\n",
        "Let's calculate various formulas.\n"
      ],
      "metadata": {
        "id": "WqQx9cVmzhuv"
      }
    },
    {
      "cell_type": "markdown",
      "source": [
        "Q?\n",
        "\n",
        "239 $\\times$ 4649 ＝？\n",
        "\n",
        "7373 $\\times$ 1507 ＝？"
      ],
      "metadata": {
        "id": "p3f5TRsJ_nEE"
      }
    },
    {
      "cell_type": "code",
      "source": [
        "# Use print() as there are two formulas\n",
        "\n"
      ],
      "metadata": {
        "id": "uToSB8h9_qah"
      },
      "execution_count": null,
      "outputs": []
    },
    {
      "cell_type": "markdown",
      "source": [
        "Q?\n",
        "\n",
        "1089 $\\times$ 1\n",
        "\n",
        "1089 $\\times$ 9"
      ],
      "metadata": {
        "id": "M0XBpSxs_4F8"
      }
    },
    {
      "cell_type": "code",
      "source": [
        ""
      ],
      "metadata": {
        "id": "wspKM_Wn_5AU"
      },
      "execution_count": null,
      "outputs": []
    },
    {
      "cell_type": "markdown",
      "source": [
        "Q?\n",
        "\n",
        "1089 $\\times$ 1\n",
        "\n",
        "1089 $\\times$ 9"
      ],
      "metadata": {
        "id": "g_2TOcegzhuw"
      }
    },
    {
      "cell_type": "code",
      "source": [
        ""
      ],
      "metadata": {
        "id": "GRulF0Aczhuw"
      },
      "execution_count": null,
      "outputs": []
    },
    {
      "cell_type": "markdown",
      "source": [
        "Q?\\\n",
        "1089 $\\times$ 2\\\n",
        "1089 $\\times$ 8"
      ],
      "metadata": {
        "id": "OIjJfgk1zhux"
      }
    },
    {
      "cell_type": "code",
      "source": [
        ""
      ],
      "metadata": {
        "id": "0A3yoJLbzhux"
      },
      "execution_count": null,
      "outputs": []
    },
    {
      "cell_type": "markdown",
      "source": [
        "Q?\\\n",
        "1089 $\\times$ 3\\\n",
        "1089 $\\times$ 7"
      ],
      "metadata": {
        "id": "xqE3dWm4zhux"
      }
    },
    {
      "cell_type": "code",
      "source": [
        ""
      ],
      "metadata": {
        "id": "SJ75AKASzhux"
      },
      "execution_count": null,
      "outputs": []
    },
    {
      "cell_type": "markdown",
      "source": [
        "Q?\\\n",
        "1089 $\\times$ 4\\\n",
        "1089 $\\times$ 6"
      ],
      "metadata": {
        "id": "TgBrHEjhzhux"
      }
    },
    {
      "cell_type": "code",
      "source": [
        ""
      ],
      "metadata": {
        "id": "x1jsiDayzhuy"
      },
      "execution_count": null,
      "outputs": []
    },
    {
      "cell_type": "markdown",
      "source": [
        "Q?\\\n",
        "59<sup>4</sup> + 158<sup>4</sup>\\\n",
        "133<sup>4</sup> + 134<sup>4</sup>"
      ],
      "metadata": {
        "id": "R6E_o2r5zhuy"
      }
    },
    {
      "cell_type": "code",
      "source": [
        ""
      ],
      "metadata": {
        "id": "NMwsztWXzhuy"
      },
      "execution_count": null,
      "outputs": []
    },
    {
      "cell_type": "markdown",
      "source": [
        "Q?\n",
        "\n",
        "15873 $\\times$ 7\n",
        "\n",
        "15873 $\\times$ 14\n",
        "\n",
        "15873 $\\times$ 21\n",
        "\n",
        "15873 $\\times$ 28\n",
        "\n",
        "15873 $\\times$ 35\n",
        "\n",
        "15873 $\\times$ 42\n",
        "\n",
        "15873 $\\times$ 49\n",
        "\n",
        "15873 $\\times$ 56\n",
        "\n",
        "15873 $\\times$ 63"
      ],
      "metadata": {
        "id": "6R-9QVuhzhuy"
      }
    },
    {
      "cell_type": "code",
      "source": [
        ""
      ],
      "metadata": {
        "id": "88i8Tvddzhuz"
      },
      "execution_count": null,
      "outputs": []
    },
    {
      "cell_type": "markdown",
      "source": [
        "Q?\\\n",
        "987654321 $\\times$ 2\\\n",
        "987654321 $\\times$ 4\\\n",
        "987654321 $\\times$ 5\\\n",
        "987654321 $\\times$ 7\\\n",
        "987654321 $\\times$ 8"
      ],
      "metadata": {
        "id": "AplD7t2Kzhuz"
      }
    },
    {
      "cell_type": "code",
      "source": [
        ""
      ],
      "metadata": {
        "id": "gksOJLGCzhuz"
      },
      "execution_count": null,
      "outputs": []
    },
    {
      "cell_type": "markdown",
      "source": [
        "Q?\n",
        "\n",
        "12345679 $\\times$ 1\n",
        "\n",
        "12345679 $\\times$ 2\n",
        "\n",
        "12345679 $\\times$ 4\n",
        "\n",
        "12345679 $\\times$ 5\n",
        "\n",
        "12345679 $\\times$ 7\n",
        "\n",
        "12345679 $\\times$ 8\n",
        "\n",
        "12345679 $\\times$ 9\n",
        "\n",
        "12345679 $\\times$ 81"
      ],
      "metadata": {
        "id": "SjmgfGDpzhuz"
      }
    },
    {
      "cell_type": "code",
      "source": [
        ""
      ],
      "metadata": {
        "id": "4ryI2LoWzhuz"
      },
      "execution_count": null,
      "outputs": []
    },
    {
      "cell_type": "markdown",
      "source": [
        "Q?\n",
        "\n",
        "51249876 $\\times$ 3\n",
        "\n",
        "16583742 $\\times$ 9\n",
        "\n",
        "8745231 $\\times$ 96"
      ],
      "metadata": {
        "id": "SVggZPcnzhu0"
      }
    },
    {
      "cell_type": "code",
      "source": [
        ""
      ],
      "metadata": {
        "id": "-YmALQ4Azhu0"
      },
      "execution_count": null,
      "outputs": []
    },
    {
      "cell_type": "markdown",
      "metadata": {
        "id": "QsLRRSG6zhu0"
      },
      "source": [
        "Q?\n",
        "\n",
        "297 $\\times$ 297\n",
        "\n",
        "and \n",
        "\n",
        "88 + 209"
      ]
    },
    {
      "cell_type": "code",
      "source": [
        "\n"
      ],
      "metadata": {
        "id": "LBNIw-vEzhu0"
      },
      "execution_count": null,
      "outputs": []
    },
    {
      "cell_type": "markdown",
      "source": [
        "Q?\n",
        "\n",
        "2728 $\\times$ 2728\n",
        "\n",
        "and \n",
        "\n",
        "744 + 1984"
      ],
      "metadata": {
        "id": "n8S9dUmvzhu0"
      }
    },
    {
      "cell_type": "code",
      "source": [
        ""
      ],
      "metadata": {
        "id": "uX3v5e-Szhu1"
      },
      "execution_count": null,
      "outputs": []
    },
    {
      "cell_type": "markdown",
      "source": [
        "Q?\\\n",
        "148149 $\\times$ 148149"
      ],
      "metadata": {
        "id": "BB_ECddNzhu1"
      }
    },
    {
      "cell_type": "code",
      "source": [
        ""
      ],
      "metadata": {
        "id": "9wnzhoX-zhu1"
      },
      "execution_count": null,
      "outputs": []
    },
    {
      "cell_type": "markdown",
      "source": [
        "Q?\n",
        "\n",
        "1111111111 $\\times$ 1111111111\n",
        "\n",
        "and \n",
        "\n",
        "1234567890 + 0987654321"
      ],
      "metadata": {
        "id": "41bSIUUUzhu1"
      }
    },
    {
      "cell_type": "code",
      "source": [
        ""
      ],
      "metadata": {
        "id": "mztrzGEZzhu2"
      },
      "execution_count": null,
      "outputs": []
    },
    {
      "cell_type": "markdown",
      "metadata": {
        "id": "1NsIDQuxzhu2"
      },
      "source": [
        "Q?\n",
        "\n",
        "297 $\\times$ 297 $\\times$ 297\n",
        "\n",
        "and \n",
        "\n",
        "26 + 198 + 073"
      ]
    },
    {
      "cell_type": "code",
      "metadata": {
        "id": "uis4YnJ9zhu2"
      },
      "source": [
        ""
      ],
      "execution_count": null,
      "outputs": []
    },
    {
      "cell_type": "markdown",
      "source": [
        "Q?\\\n",
        "39 $\\times$ 75\\\n",
        "3 $\\times$ 975 "
      ],
      "metadata": {
        "id": "iLOgy5Fxzhu2"
      }
    },
    {
      "cell_type": "code",
      "source": [
        ""
      ],
      "metadata": {
        "id": "RAvehNTqzhu3"
      },
      "execution_count": null,
      "outputs": []
    },
    {
      "cell_type": "markdown",
      "source": [
        "Q?\\\n",
        "981 $\\times$ 75 \\\n",
        "9 $\\times$ 8175"
      ],
      "metadata": {
        "id": "jo6KuNkvzhu3"
      }
    },
    {
      "cell_type": "code",
      "source": [
        ""
      ],
      "metadata": {
        "id": "9S0saXYKzhu3"
      },
      "execution_count": null,
      "outputs": []
    },
    {
      "cell_type": "markdown",
      "source": [
        "Q?\\\n",
        "5 $\\times$ 1751\\\n",
        "515 $\\times$ 17"
      ],
      "metadata": {
        "id": "8yJ1dRVEzhu3"
      }
    },
    {
      "cell_type": "code",
      "source": [
        ""
      ],
      "metadata": {
        "id": "FcvvcKVbzhu4"
      },
      "execution_count": null,
      "outputs": []
    },
    {
      "cell_type": "markdown",
      "source": [
        "Q?\\\n",
        "(68320 + 14336) $\\times$ (68320 + 14336)"
      ],
      "metadata": {
        "id": "jLJpPJzizhu4"
      }
    },
    {
      "cell_type": "code",
      "source": [
        ""
      ],
      "metadata": {
        "id": "54YETC8Yzhu4"
      },
      "execution_count": null,
      "outputs": []
    },
    {
      "cell_type": "markdown",
      "source": [
        "Q?\n",
        "\n",
        "9<sup>4</sup>  +  4<sup>4</sup> + 7<sup>4</sup> + 4<sup>4</sup>"
      ],
      "metadata": {
        "id": "YGjIN9OGzhu7"
      }
    },
    {
      "cell_type": "code",
      "source": [
        ""
      ],
      "metadata": {
        "id": "tHCFjJAKzhu8"
      },
      "execution_count": null,
      "outputs": []
    },
    {
      "cell_type": "markdown",
      "source": [
        "Q?\n",
        "\n",
        "1<sup>3</sup> + 5<sup>3</sup> + 3<sup>3</sup>"
      ],
      "metadata": {
        "id": "jISiyixizhu8"
      }
    },
    {
      "cell_type": "code",
      "source": [
        ""
      ],
      "metadata": {
        "id": "jqwR9q4Nzhu9"
      },
      "execution_count": null,
      "outputs": []
    },
    {
      "cell_type": "markdown",
      "source": [
        "Q?\n",
        "\n",
        "3<sup>3</sup> + 7<sup>3</sup> + 1<sup>3</sup>"
      ],
      "metadata": {
        "id": "l7LB6wP-zhu9"
      }
    },
    {
      "cell_type": "code",
      "source": [
        ""
      ],
      "metadata": {
        "id": "3oXjegZ9zhu9"
      },
      "execution_count": null,
      "outputs": []
    },
    {
      "cell_type": "markdown",
      "source": [
        "Q?\n",
        "\n",
        "111211 $\\times$ 111211  &emsp; (111211<sup>2</sup>）\n",
        "\n",
        "112111 $\\times$ 112111  &emsp; (112111<sup>2</sup>）"
      ],
      "metadata": {
        "id": "l3R8v32wzhu9"
      }
    },
    {
      "cell_type": "code",
      "source": [
        ""
      ],
      "metadata": {
        "id": "I_O3iBqUzhu9"
      },
      "execution_count": null,
      "outputs": []
    },
    {
      "cell_type": "markdown",
      "source": [
        "Q?\n",
        "\n",
        "30<sup>4</sup> + 120<sup>4</sup> + 272<sup>4</sup> + 315<sup>4</sup>\n",
        "\n",
        "and\n",
        "\n",
        "353<sup>4</sup>"
      ],
      "metadata": {
        "id": "-PbW8OY2zhu-"
      }
    },
    {
      "cell_type": "code",
      "source": [
        ""
      ],
      "metadata": {
        "id": "_E0QQWfKzhu-"
      },
      "execution_count": null,
      "outputs": []
    },
    {
      "cell_type": "markdown",
      "source": [
        "Q?\n",
        "\n",
        "27<sup>5</sup> + 84<sup>5</sup> + 110<sup>5</sup> + 133<sup>5</sup>\n",
        "\n",
        "and \n",
        "\n",
        "144<sup>5</sup>"
      ],
      "metadata": {
        "id": "Hr7JN0zNzhu-"
      }
    },
    {
      "cell_type": "code",
      "source": [
        ""
      ],
      "metadata": {
        "id": "2Y1Hsa16zhu-"
      },
      "execution_count": null,
      "outputs": []
    },
    {
      "cell_type": "markdown",
      "source": [
        "---\n",
        "Q?\n",
        "\n",
        "(If you do not know the game of \"Tower of Hanoi\", please check it first.)\n",
        "\n",
        "\\\n",
        "The number of times you can transfer when there are 4 disks in \"Tower of Hanoi\" is\n",
        "\n",
        "2 x 2 x 2 x 2 - 1 = 15 times.\n",
        "\n",
        "\\\n",
        "This is 2 <sup> 4 </sup> -1 &ensp; (= 15)\n",
        "\n",
        "\n",
        "\n",
        "Coding this in Python, `2 ** 4 - 1`\n",
        "\n",
        "\n",
        "\\\n",
        "Then, how many times can you transfer when there are 64 disks?\n",
        "\n",
        "\n",
        "\n",
        "    print ('Answer :'           , 'times')\n",
        "\n",
        "\n",
        "\n",
        "If you enter the calculation formula in the blank above, \"Answer: xxxx times\" will be displayed.\n",
        "\n"
      ],
      "metadata": {
        "id": "-ekao4cZCmou"
      }
    },
    {
      "cell_type": "code",
      "source": [
        ""
      ],
      "metadata": {
        "id": "RBavvYqMCnt2"
      },
      "execution_count": null,
      "outputs": []
    },
    {
      "cell_type": "markdown",
      "source": [
        "\n",
        "The answer is\n",
        "\n",
        "\n",
        "`print ('Answer :', 2 ** 64 - 1, 'times')`\n",
        "\n"
      ],
      "metadata": {
        "id": "bebzlvDZCp8X"
      }
    },
    {
      "cell_type": "code",
      "source": [
        ""
      ],
      "metadata": {
        "id": "-W8TVkSvFydQ"
      },
      "execution_count": null,
      "outputs": []
    },
    {
      "cell_type": "markdown",
      "source": [
        "---\n",
        "Let's try other calculations"
      ],
      "metadata": {
        "id": "sQH9P3Yxzhu-"
      }
    },
    {
      "cell_type": "markdown",
      "metadata": {
        "id": "ith7Ubtozhu-"
      },
      "source": [
        "Q?\\\n",
        "239 $\\times$ 4649"
      ]
    },
    {
      "cell_type": "code",
      "metadata": {
        "id": "D3g8grL3zhu_"
      },
      "source": [
        ""
      ],
      "execution_count": null,
      "outputs": []
    },
    {
      "cell_type": "markdown",
      "metadata": {
        "id": "g0Esc08xzhu_"
      },
      "source": [
        "Q?\\\n",
        "7373 $\\times$ 1507"
      ]
    },
    {
      "cell_type": "code",
      "metadata": {
        "id": "PPvuw6sqzhu_"
      },
      "source": [
        ""
      ],
      "execution_count": null,
      "outputs": []
    },
    {
      "cell_type": "markdown",
      "metadata": {
        "id": "XX_3SDEYzhu_"
      },
      "source": [
        "Q?\\\n",
        "73 $\\times$ 137"
      ]
    },
    {
      "cell_type": "code",
      "metadata": {
        "id": "ycwm_S9zzhu_"
      },
      "source": [
        ""
      ],
      "execution_count": null,
      "outputs": []
    },
    {
      "cell_type": "markdown",
      "metadata": {
        "id": "WPZsUC5Gzhu_"
      },
      "source": [
        "Q?\\\n",
        "11 $\\times$ 9091"
      ]
    },
    {
      "cell_type": "code",
      "metadata": {
        "id": "poGTtcBxzhu_"
      },
      "source": [
        ""
      ],
      "execution_count": null,
      "outputs": []
    },
    {
      "cell_type": "markdown",
      "metadata": {
        "id": "Q3OcCUyczhu_"
      },
      "source": [
        "Q?\\\n",
        "101 $\\times$ 9901"
      ]
    },
    {
      "cell_type": "code",
      "metadata": {
        "id": "L0uhQV04zhu_"
      },
      "source": [
        ""
      ],
      "execution_count": null,
      "outputs": []
    },
    {
      "cell_type": "markdown",
      "metadata": {
        "id": "aLux2xARzhu_"
      },
      "source": [
        "Q?\\\n",
        "11 $\\times$ 909091"
      ]
    },
    {
      "cell_type": "code",
      "metadata": {
        "id": "lwLdYSvBzhvA"
      },
      "source": [
        ""
      ],
      "execution_count": null,
      "outputs": []
    },
    {
      "cell_type": "markdown",
      "metadata": {
        "id": "J-ryyMlnzhvA"
      },
      "source": [
        "Q?\\\n",
        "1000001 $\\times$ 111111"
      ]
    },
    {
      "cell_type": "code",
      "metadata": {
        "id": "iL_zo-yIzhvA"
      },
      "source": [
        ""
      ],
      "execution_count": null,
      "outputs": []
    },
    {
      "cell_type": "markdown",
      "metadata": {
        "id": "woslEXsSzhvA"
      },
      "source": [
        "Q?\\\n",
        "1729 $\\div$ 19"
      ]
    },
    {
      "cell_type": "code",
      "metadata": {
        "id": "jsz0gmxXzhvA"
      },
      "source": [
        ""
      ],
      "execution_count": null,
      "outputs": []
    },
    {
      "cell_type": "markdown",
      "source": [
        "That the answer is the inverse of 19.\n"
      ],
      "metadata": {
        "id": "AXJFXTQZGbSh"
      }
    },
    {
      "cell_type": "markdown",
      "metadata": {
        "id": "dZS0zw8uGeye"
      },
      "source": [
        "Q?\\\n",
        "1729 $\\div$ 19"
      ]
    },
    {
      "cell_type": "code",
      "source": [
        ""
      ],
      "metadata": {
        "id": "tRAcx9MRGfPm"
      },
      "execution_count": null,
      "outputs": []
    },
    {
      "cell_type": "markdown",
      "metadata": {
        "id": "F5bId9MmzhvA"
      },
      "source": [
        "Q?\\\n",
        "9999 $\\times$ 9999 $\\times$ 9999"
      ]
    },
    {
      "cell_type": "code",
      "source": [
        ""
      ],
      "metadata": {
        "id": "UV5987_VzhvA"
      },
      "execution_count": null,
      "outputs": []
    },
    {
      "cell_type": "markdown",
      "metadata": {
        "id": "JbA9pPpOzhvA"
      },
      "source": [
        "Q?\\\n",
        "99999 $\\times$ 99999 $\\times$ 99999"
      ]
    },
    {
      "cell_type": "code",
      "source": [
        ""
      ],
      "metadata": {
        "id": "j596t7mXzhvB"
      },
      "execution_count": null,
      "outputs": []
    },
    {
      "cell_type": "markdown",
      "metadata": {
        "id": "2YoZ-k7yzhvB"
      },
      "source": [
        "Q?\\\n",
        "999999 $\\times$ 999999 $\\times$ 999999"
      ]
    },
    {
      "cell_type": "code",
      "metadata": {
        "id": "f5MQRCthzhvB"
      },
      "source": [
        ""
      ],
      "execution_count": null,
      "outputs": []
    },
    {
      "cell_type": "markdown",
      "source": [
        "Q?\\\n",
        "9<sup>99</sup>"
      ],
      "metadata": {
        "id": "RJtN4-dtzhvB"
      }
    },
    {
      "cell_type": "code",
      "source": [
        ""
      ],
      "metadata": {
        "id": "oVSEN2sJW1wj"
      },
      "execution_count": null,
      "outputs": []
    },
    {
      "cell_type": "code",
      "source": [
        "9**99"
      ],
      "metadata": {
        "colab": {
          "base_uri": "https://localhost:8080/"
        },
        "outputId": "37b8bfda-0261-4200-c56f-99465db5f332",
        "id": "MuUgxEJgzhvB",
        "collapsed": true
      },
      "execution_count": null,
      "outputs": [
        {
          "output_type": "execute_result",
          "data": {
            "text/plain": [
              "29512665430652752148753480226197736314359272517043832886063884637676943433478020332709411004889"
            ]
          },
          "metadata": {},
          "execution_count": 18
        }
      ]
    },
    {
      "cell_type": "markdown",
      "source": [
        "\n",
        "Do not execute the calculation in the below cell. \n",
        "\n",
        " (9 to the 9th power) to the 9th power ------- it is said Tetration \n"
      ],
      "metadata": {
        "id": "eBlpPQZIGrLm"
      }
    },
    {
      "cell_type": "code",
      "source": [
        "9**(9**9)"
      ],
      "metadata": {
        "id": "jlmt-cHaGtZm"
      },
      "execution_count": null,
      "outputs": []
    },
    {
      "cell_type": "markdown",
      "source": [
        "---\n",
        "Let's move to additional calculations"
      ],
      "metadata": {
        "id": "E7OSePzYHxTb"
      }
    },
    {
      "cell_type": "markdown",
      "source": [
        "Q?\\\n",
        "1234 + 3087\\\n",
        "2345 + 3087\\\n",
        "3456 + 3087\\\n",
        "4567 + 3087\\\n",
        "5678 + 3087\\\n",
        "6789 + 3087"
      ],
      "metadata": {
        "id": "X-IuwIFmzhvB"
      }
    },
    {
      "cell_type": "code",
      "source": [
        ""
      ],
      "metadata": {
        "id": "V2808rfazhvC"
      },
      "execution_count": null,
      "outputs": []
    },
    {
      "cell_type": "markdown",
      "source": [
        "Q?\n",
        "\n",
        "76 $\\times$ 76\n",
        "\n",
        "and\n",
        "\n",
        "42781376 $\\times$ 42781376"
      ],
      "metadata": {
        "id": "MSl0DAWDzhvC"
      }
    },
    {
      "cell_type": "code",
      "source": [
        ""
      ],
      "metadata": {
        "id": "cd2DTsW1ISZn"
      },
      "execution_count": null,
      "outputs": []
    },
    {
      "cell_type": "markdown",
      "source": [
        "The last two digits is to be 76.\n"
      ],
      "metadata": {
        "id": "4xTRmp2FIAwx"
      }
    },
    {
      "cell_type": "markdown",
      "source": [
        "Q?\n",
        "\n",
        "76 $\\times$ 76\n",
        "\n",
        "and \n",
        "\n",
        "42781376 $\\times$ 42781376"
      ],
      "metadata": {
        "id": "rZc_T4wCH-5H"
      }
    },
    {
      "cell_type": "code",
      "source": [
        ""
      ],
      "metadata": {
        "id": "-VQ07JCkI5ox"
      },
      "execution_count": null,
      "outputs": []
    },
    {
      "cell_type": "markdown",
      "source": [
        "Q?\n",
        "\n",
        "18<sup>3</sup> (18 $\\times$ 18 $\\times$ 18)\n",
        "\n",
        "\\\n",
        "When you get the answer, calculate the sum of each place\n",
        "\n"
      ],
      "metadata": {
        "id": "PjIU75hwIc0j"
      }
    },
    {
      "cell_type": "code",
      "source": [
        ""
      ],
      "metadata": {
        "id": "nsOh91nyIdeg"
      },
      "execution_count": null,
      "outputs": []
    },
    {
      "cell_type": "markdown",
      "source": [
        "Q?\n",
        "\n",
        "18<sup>5</sup>\n",
        "\n",
        "\\\n",
        "Also calculate the product of each place of the answer.\n",
        "\n",
        "Repeatedly, calculate again the product of each place of the answer (excluding 0 if any)\n",
        "\n",
        "Finally confirm the answer is two digits number.\n"
      ],
      "metadata": {
        "id": "_jdtsIUNJoeq"
      }
    },
    {
      "cell_type": "code",
      "source": [
        ""
      ],
      "metadata": {
        "id": "rmwlW7DFMYFH"
      },
      "execution_count": null,
      "outputs": []
    },
    {
      "cell_type": "markdown",
      "source": [
        "Q?\n",
        "\n",
        "18<sup>6</sup>\n",
        "\n",
        "\\\n",
        "When you get the answer, calculate the sum of each plave of the answer.\n",
        "\n"
      ],
      "metadata": {
        "id": "yDxLnqwxMqnD"
      }
    },
    {
      "cell_type": "code",
      "source": [
        ""
      ],
      "metadata": {
        "id": "2mrDBFYFMrIn"
      },
      "execution_count": null,
      "outputs": []
    },
    {
      "cell_type": "markdown",
      "source": [
        "Q?\n",
        "\n",
        "18<sup>10</sup>\n",
        "\n",
        "\\\n",
        "When you get the answer, calculate the product of each place of the answer.\n",
        "\n",
        "In addition, calculate the sum of each place of the answer.\n",
        "\n"
      ],
      "metadata": {
        "id": "qUS9bdBmNF_d"
      }
    },
    {
      "cell_type": "code",
      "source": [
        ""
      ],
      "metadata": {
        "id": "tlnNs2bLNGeR"
      },
      "execution_count": null,
      "outputs": []
    },
    {
      "cell_type": "markdown",
      "source": [
        "Q?\\\n",
        "1<sup>3</sup> + 2<sup>3</sup> + 3<sup>3</sup> + 4<sup>3</sup> + 5<sup>3</sup> + 6<sup>3</sup> + 5<sup>3</sup> + 4<sup>3</sup> + 3<sup>3</sup> + 2<sup>3</sup> + 1<sup>3</sup> \\\n",
        "2<sup>2</sup> + 3<sup>2</sup> + 5<sup>2</sup> + 7<sup>2</sup> + 11<sup>2</sup> + 13<sup>2</sup> + 17<sup>2</sup>"
      ],
      "metadata": {
        "id": "h1nIQlxZzhvD"
      }
    },
    {
      "cell_type": "code",
      "source": [
        ""
      ],
      "metadata": {
        "id": "ETDL3nZDzhvD"
      },
      "execution_count": null,
      "outputs": []
    },
    {
      "cell_type": "markdown",
      "source": [
        "Q?\n",
        "\n",
        "66<sup>2</sup>\n",
        "\n",
        "666<sup>2</sup>\n",
        "\n",
        "6666<sup>2</sup>\n",
        "\n",
        "66666<sup>2</sup>\n",
        "\n",
        "666666<sup>2</sup>\n",
        "\n",
        "6666666<sup>2</sup>\n",
        "\n",
        "66666666<sup>2</sup>\n",
        "\n",
        "\\\n",
        "Use `print()` to get answer"
      ],
      "metadata": {
        "id": "fAl9yi9KN0ND"
      }
    },
    {
      "cell_type": "code",
      "source": [
        ""
      ],
      "metadata": {
        "id": "l6O5faCiN0vl"
      },
      "execution_count": null,
      "outputs": []
    },
    {
      "cell_type": "markdown",
      "source": [
        "666 <sup> 666 </sup>\n",
        "\n",
        "\\\n",
        "This is called the number of first-class legions (what a mess) \n",
        "\n",
        "If you want to know more, please check it out. \n",
        "\n",
        "This level of calculation is easy by Colab.\n",
        "\n"
      ],
      "metadata": {
        "id": "Wqr-BNHyOCc7"
      }
    },
    {
      "cell_type": "code",
      "source": [
        ""
      ],
      "metadata": {
        "id": "dpzcwpNRODeY"
      },
      "execution_count": null,
      "outputs": []
    },
    {
      "cell_type": "markdown",
      "source": [
        "Q?\\\n",
        "19<sup>5</sup> + 19<sup>2</sup> + 19<sup>1</sup> + 19<sup>3</sup> + 19<sup>5</sup> + 19<sup>6</sup> + 19<sup>4</sup> + 19<sup>0</sup>"
      ],
      "metadata": {
        "id": "mAMlJyOpzhvD"
      }
    },
    {
      "cell_type": "code",
      "source": [
        ""
      ],
      "metadata": {
        "id": "bZz82bV3zhvD"
      },
      "execution_count": null,
      "outputs": []
    },
    {
      "cell_type": "markdown",
      "source": [
        "Q?\\\n",
        "588<sup>2</sup> + 2353<sup>2</sup>"
      ],
      "metadata": {
        "id": "ODs3ztwfzhvD"
      }
    },
    {
      "cell_type": "code",
      "metadata": {
        "id": "thzcfOyozhvD"
      },
      "source": [
        ""
      ],
      "execution_count": null,
      "outputs": []
    },
    {
      "cell_type": "markdown",
      "metadata": {
        "id": "14xy_f59zhvE"
      },
      "source": [
        "Q?\\\n",
        "5882353 $\\times$ 17"
      ]
    },
    {
      "cell_type": "code",
      "source": [
        ""
      ],
      "metadata": {
        "id": "17GckexQzhvE"
      },
      "execution_count": null,
      "outputs": []
    },
    {
      "cell_type": "markdown",
      "metadata": {
        "id": "NPYy0SGmPTyU"
      },
      "source": [
        "Q?\n",
        "\n",
        "Pay attention to the result of this calculation!\n",
        "\n",
        "(Queue of the numbers)\n",
        "\n",
        "\\\n",
        "\n",
        "38910505836575875486381322957198443579766536964980544747081712<sup>2</sup> + 622568093385214007782101167315175097276264591439688715953307393<sup>2</sup>\n",
        "\n",
        "\\\n",
        "Enter carefully as it is a fairly large number\n"
      ]
    },
    {
      "cell_type": "code",
      "source": [
        ""
      ],
      "metadata": {
        "id": "q5k4833iPU-C"
      },
      "execution_count": null,
      "outputs": []
    },
    {
      "cell_type": "markdown",
      "source": [
        "### Examples of built-in functions\n",
        "\n",
        "\n",
        "Introducing built-in functions that sometimes appear in this note\n",
        "\n",
        "\\\n",
        "`min ()` function = `min` is an abbreviation for `minimum`, and is output by finding the minimum number in ().\n",
        "\n",
        "\n",
        "\\\n",
        "`max ()` function = `max` is an abbreviation for `maximum`, and outputs the maximum value of the number in ().\n",
        "\n",
        "\n",
        "\\\n",
        "The `abs ()` function = `abs` is an abbreviation for `absolute`, and the absolute value of the number in () is calculated and output.\n",
        "\n",
        "\\\n",
        "To find the minimum of 3, 15, 8\n",
        "\n",
        "    min(3, 15, 8)\n",
        "\n"
      ],
      "metadata": {
        "id": "Qu_I5pR3Q-Ex"
      }
    },
    {
      "cell_type": "code",
      "source": [
        ""
      ],
      "metadata": {
        "id": "aV_jam-KRBwQ"
      },
      "execution_count": null,
      "outputs": []
    },
    {
      "cell_type": "markdown",
      "source": [
        "To find the maximum of 3, 15, 8\n"
      ],
      "metadata": {
        "id": "FrtyEWBLREA6"
      }
    },
    {
      "cell_type": "code",
      "source": [
        ""
      ],
      "metadata": {
        "id": "2UsOm45jREy3"
      },
      "execution_count": null,
      "outputs": []
    },
    {
      "cell_type": "code",
      "metadata": {
        "colab": {
          "base_uri": "https://localhost:8080/",
          "height": 50
        },
        "outputId": "20c469e6-d7a8-4ec8-d6cb-5dc17be7c3f0",
        "id": "uDV72T0wRIC6",
        "collapsed": true
      },
      "source": [
        "#Decimal numbers are OK\n",
        "print(min(3, 15, 0.3))\n",
        "\n",
        "\n",
        "#Fractions and formulas are OK\n",
        "print(min(3, 15, 0.3, 2/17))\n",
        "\n"
      ],
      "execution_count": null,
      "outputs": [
        {
          "output_type": "stream",
          "text": [
            "0.3\n",
            "0.11764705882352941\n"
          ],
          "name": "stdout"
        }
      ]
    },
    {
      "cell_type": "markdown",
      "source": [
        "---\n",
        "Addition, Subtraction, Multiplication, Division\n",
        "\n",
        "\\\n",
        "Q?\n",
        "\n",
        "1428 $\\div$ 7 － 4392 $\\div$ 24\n",
        "\n",
        "(Answer 21)"
      ],
      "metadata": {
        "id": "s2mxjnxBWahh"
      }
    },
    {
      "cell_type": "code",
      "source": [
        ""
      ],
      "metadata": {
        "id": "T3mz7E1NWt_b"
      },
      "execution_count": null,
      "outputs": []
    },
    {
      "cell_type": "markdown",
      "source": [
        "Q?\n",
        "\n",
        "32－{12＋(25－16）$\\div$3｝\n",
        "\n",
        "(17)"
      ],
      "metadata": {
        "id": "5q556iwfxNVR"
      }
    },
    {
      "cell_type": "code",
      "source": [
        ""
      ],
      "metadata": {
        "id": "027iqnq8xNVR"
      },
      "execution_count": null,
      "outputs": []
    },
    {
      "cell_type": "markdown",
      "source": [
        "Q?\n",
        "\n",
        "231 $\\times$ 7 $\\div$ 11 － 169 $\\times$ 5 $\\div$ 13\n",
        "\n",
        "(82)"
      ],
      "metadata": {
        "id": "kLy0UsEQxNVR"
      }
    },
    {
      "cell_type": "code",
      "source": [
        ""
      ],
      "metadata": {
        "id": "lpLLFSOYxNVR"
      },
      "execution_count": null,
      "outputs": []
    },
    {
      "cell_type": "markdown",
      "source": [
        "Q?\n",
        "\n",
        "(16 ＋ 2008 $\\div$ 8) $\\times$ 2 $\\div$ (140 － 17 $\\times$ 3）\n",
        "\n",
        "(6) "
      ],
      "metadata": {
        "id": "hgNNGplcxNVS"
      }
    },
    {
      "cell_type": "code",
      "source": [
        ""
      ],
      "metadata": {
        "id": "JcD8kp1YxNVS"
      },
      "execution_count": null,
      "outputs": []
    },
    {
      "cell_type": "markdown",
      "source": [
        "Q?\n",
        "\n",
        "75 － (25 － 5) $\\times$ 3 ＋ 76 $\\div$ 19\n",
        "\n",
        "(19)"
      ],
      "metadata": {
        "id": "0v70cbROxNVS"
      }
    },
    {
      "cell_type": "code",
      "source": [
        ""
      ],
      "metadata": {
        "id": "HsKr5yM3xNVS"
      },
      "execution_count": null,
      "outputs": []
    },
    {
      "cell_type": "markdown",
      "source": [
        "Q?\n",
        "\n",
        "108 $\\div$ {21 － (39 $\\div$ 3 － 5 $\\times$ 2)｝\n",
        "\n",
        "(6)"
      ],
      "metadata": {
        "id": "8NxUyBvBxNVS"
      }
    },
    {
      "cell_type": "code",
      "source": [
        ""
      ],
      "metadata": {
        "id": "AoP7ZnNLxNVS"
      },
      "execution_count": null,
      "outputs": []
    },
    {
      "cell_type": "markdown",
      "source": [
        "Q?\n",
        "\n",
        "4 ＋ 55 $\\div$ \\{33 － 2 $\\times$ (15 － 4)\\}\n",
        "\n",
        "(9)"
      ],
      "metadata": {
        "id": "HhPUkVsbxNVT"
      }
    },
    {
      "cell_type": "code",
      "source": [
        ""
      ],
      "metadata": {
        "id": "hTr1C6ozxNVT"
      },
      "execution_count": null,
      "outputs": []
    },
    {
      "cell_type": "markdown",
      "source": [
        "Q?\n",
        "\n",
        "(2007 － 997) $\\times$ 121 $\\div$ 242 － 212\n",
        "\n",
        "(293)"
      ],
      "metadata": {
        "id": "IVtcH-UoxNVT"
      }
    },
    {
      "cell_type": "code",
      "source": [
        ""
      ],
      "metadata": {
        "id": "d1VEF2OxxNVT"
      },
      "execution_count": null,
      "outputs": []
    },
    {
      "cell_type": "markdown",
      "source": [
        "Q?\n",
        "\n",
        "137 $\\times$ 89 － 79 $\\times$ 96 ＋ 78 $\\times$ 8 ＋ 58 $\\times$ 7 － 59 $\\times$ 95\n",
        "\n",
        "(34)"
      ],
      "metadata": {
        "id": "gVQoldDxxNVT"
      }
    },
    {
      "cell_type": "code",
      "source": [
        ""
      ],
      "metadata": {
        "id": "yJTrr4SAxNVU"
      },
      "execution_count": null,
      "outputs": []
    },
    {
      "cell_type": "markdown",
      "metadata": {
        "id": "bVuurpTWxNVU"
      },
      "source": [
        "Q?\n",
        "\n",
        "\\{202 － 2 $\\times$ (55 － 8)\\} $\\div$ (4 ＋ 66 $\\div$ (22 ＋ 11)\\}\n",
        "\n",
        "\\\n",
        "`(202 - 2 * (55 - 8)) / (4 + 66 / (22 + 11))`"
      ]
    },
    {
      "cell_type": "code",
      "source": [
        ""
      ],
      "metadata": {
        "id": "ny-jH-RWxNVU"
      },
      "execution_count": null,
      "outputs": []
    },
    {
      "cell_type": "markdown",
      "metadata": {
        "id": "g9fPMohsXGM0"
      },
      "source": [
        "---\n",
        "Computer is not godd at calculating decimal points?\n"
      ]
    },
    {
      "cell_type": "markdown",
      "metadata": {
        "id": "9WwRF4bfXI7p"
      },
      "source": [
        "\n",
        "\n",
        "For example,\n",
        "\n",
        "\n",
        "\n",
        "Q?\n",
        "\n",
        "\\\n",
        "When you calculate\n",
        "\n",
        "5.9 + 0.4\n",
        "\n"
      ]
    },
    {
      "cell_type": "code",
      "metadata": {
        "colab": {
          "base_uri": "https://localhost:8080/"
        },
        "outputId": "ff0deae4-534d-442c-e0ea-52be5425227f",
        "id": "fP1RPW7zXOqX",
        "collapsed": true
      },
      "source": [
        "#Calculate above forluma and confirm\n",
        "\n"
      ],
      "execution_count": null,
      "outputs": [
        {
          "output_type": "execute_result",
          "data": {
            "text/plain": [
              "6.300000000000001"
            ]
          },
          "metadata": {},
          "execution_count": 1
        }
      ]
    },
    {
      "cell_type": "markdown",
      "source": [
        "Q?\n",
        "\n",
        "How about\n",
        "\n",
        "10 / 3 "
      ],
      "metadata": {
        "id": "95xKUQTDXUu2"
      }
    },
    {
      "cell_type": "code",
      "source": [
        ""
      ],
      "metadata": {
        "id": "AKZQ33T5ZQVp"
      },
      "execution_count": null,
      "outputs": []
    },
    {
      "cell_type": "markdown",
      "source": [
        "The last decimal digit is 5\n"
      ],
      "metadata": {
        "id": "BGa1ZniTXbiC"
      }
    },
    {
      "cell_type": "markdown",
      "source": [
        "### decimal Decimal"
      ],
      "metadata": {
        "id": "zO7NEOpUIjH7"
      }
    },
    {
      "cell_type": "markdown",
      "metadata": {
        "id": "dvWxozxAZm3j"
      },
      "source": [
        "ーーーーーーーーーーーーーーーーーーーーーーーーーーーーーーーーーーーーーーー\n",
        "\n",
        "\n",
        "Aside from the reasons of being not good at,   \n",
        "\n",
        "if you use the decimal module program, it will be the same outcome of \n",
        "\n",
        "the calculation done in the school class.\n",
        "\n",
        "\n",
        "\\\n",
        "`Module` is another (set of ) computer program that you can use in your own program.\n",
        "\n",
        "\\\n",
        "We use a `Decima`l program in the `decimal module`.\n",
        "\n",
        "\\\n",
        "Creating a Decimal program itself would be a better practice for the program,\n",
        "\n",
        "it's very hard, so I'll use the `Decimal` program already made.\n",
        "\n",
        "\\\n",
        "Creating Decimal program will be a challenge in the future.\n",
        "\n",
        "\\\n",
        "[ Code for decimal calculation using Decimal ]\n",
        "\n",
        "\\\n",
        "In short, if you put the numbers in Decimal, you will be able to calculate normally.\n",
        "\n",
        "\\\n",
        "In the case of `5.9 $\\times$ 0.4`,\n",
        "\n",
        "code is \n",
        "\n",
        "    from decimal import Decimal\n",
        "\n",
        "    print(Decimal('5.9') * Decimal(\"0.4\")) \n",
        "\n",
        "Operators such as `*` and `+` can be remain unchanged\n",
        "\n",
        "\n",
        "\\\n",
        "[ Note ]\n",
        "\n",
        "\n",
        "\n",
        "➀ `from decimal import Decimal`\n",
        "\n",
        " If you write this in the code cell where you started at first cell,\n",
        "\n",
        "Decimal can be used without writing in other code cells.\n",
        "\n",
        "\\\n",
        "However, it cannot be used the next day.\n",
        "\n",
        "\\\n",
        "By the way, `decimal` and `Decimal` are different\n",
        "\n",
        "\\\n",
        "`decimal` is a \"collection of programs (called a module)\".\n",
        "\n",
        "\\\n",
        "`Decimal` is one of the programs in `decimal module` \n",
        "\n",
        "\\\n",
        "② Write `Decimal (\"5.9 \")` or `Decimal ('5.9')` instead of Decimal (5.9)\n",
        "\n",
        "\n",
        "\\\n",
        "③ If you do not use the print function, it will be output as `Decimal ('6.3')` as shown below.\n",
        "\n",
        "\\\n",
        "`Decimal (\"5.9\") * Decimal (\"0.4\") `is fine, but the output of this is\n",
        "\n",
        "`Decimal ('2.36')` is displayed\n",
        "\n",
        "   \n",
        "\n"
      ]
    },
    {
      "cell_type": "code",
      "source": [
        ""
      ],
      "metadata": {
        "id": "pxky255mZqt9"
      },
      "execution_count": null,
      "outputs": []
    },
    {
      "cell_type": "markdown",
      "metadata": {
        "id": "itGv1lHfhepT"
      },
      "source": [
        "Q?\n",
        "\n",
        "5.9 $\\times$ 0.4 + 12.6 $\\times$ (4.8 - 3.4 )\n",
        "\n",
        "\\\n",
        "\n",
        "    from decimal import Decimal \n",
        "\n",
        "    print(Decimal('5.9')*Decimal('0.4') + Decimal(\"12.6\") * (Decimal('4.8') - Decimal(\"3.4\")))\n",
        "\n",
        "You can use either `(\" \")` or `(''')`, but it may be better to have the same appearance.\n",
        "\n"
      ]
    },
    {
      "cell_type": "code",
      "source": [
        ""
      ],
      "metadata": {
        "id": "UdZiArnahfYN"
      },
      "execution_count": null,
      "outputs": []
    },
    {
      "cell_type": "markdown",
      "metadata": {
        "id": "YkMVtck9xNVX"
      },
      "source": [
        "Q?\n",
        "\n",
        "68.1 - 45.6 $\\div$ 7.6 $\\times$ 3.7"
      ]
    },
    {
      "cell_type": "code",
      "source": [
        ""
      ],
      "metadata": {
        "id": "LQFFzlqrxNVX"
      },
      "execution_count": null,
      "outputs": []
    },
    {
      "cell_type": "markdown",
      "source": [
        "The outcome is like above, so use Decimal\n"
      ],
      "metadata": {
        "id": "Db1t6xjAxNVX"
      }
    },
    {
      "cell_type": "code",
      "metadata": {
        "id": "zKb_WT0xxNVX"
      },
      "source": [
        ""
      ],
      "execution_count": null,
      "outputs": []
    },
    {
      "cell_type": "markdown",
      "metadata": {
        "id": "CdSMTX6lxNVX"
      },
      "source": [
        "Q?\n",
        "\n",
        "(35.7 - 28.7 $\\times$ 1.2 + 7.74) $\\div$ 0.18"
      ]
    },
    {
      "cell_type": "code",
      "source": [
        ""
      ],
      "metadata": {
        "id": "8iIn73itxNVX"
      },
      "execution_count": null,
      "outputs": []
    },
    {
      "cell_type": "markdown",
      "source": [
        "with Decimal"
      ],
      "metadata": {
        "id": "ZmM0ioAGxNVX"
      }
    },
    {
      "cell_type": "code",
      "source": [
        ""
      ],
      "metadata": {
        "id": "3hdF80WRxNVX"
      },
      "execution_count": null,
      "outputs": []
    },
    {
      "cell_type": "markdown",
      "metadata": {
        "id": "Qu4kfiR7xNVX"
      },
      "source": [
        "Q?\n",
        "\n",
        "1.1 + 11.11 + 111.111 + 1111.1111 + 11111.11111 + 111111.111111 + 1111111.1111111"
      ]
    },
    {
      "cell_type": "code",
      "source": [
        ""
      ],
      "metadata": {
        "id": "WBaIF7iwxNVX"
      },
      "execution_count": null,
      "outputs": []
    },
    {
      "cell_type": "markdown",
      "metadata": {
        "id": "aQPpB3M2xNVZ"
      },
      "source": [
        "Q?\n",
        "\n",
        "1 $\\div$ 49"
      ]
    },
    {
      "cell_type": "code",
      "metadata": {
        "colab": {
          "base_uri": "https://localhost:8080/"
        },
        "outputId": "f2639b8a-2904-41f7-8d9c-addeb6e04893",
        "id": "PoBNetzXxNVZ",
        "collapsed": true
      },
      "source": [
        "1/49"
      ],
      "execution_count": null,
      "outputs": [
        {
          "output_type": "execute_result",
          "data": {
            "text/plain": [
              "0.02040816326530612"
            ]
          },
          "metadata": {},
          "execution_count": 3
        }
      ]
    },
    {
      "cell_type": "markdown",
      "source": [
        "\n",
        "Same calculation made with Decimal, \n",
        "\n",
        "you can find the number of digits after the decimal point also increases.\n",
        "\n",
        "\n",
        "    from decimal import Decimal \n",
        "\n",
        "    print(Decimal('1') / Decimal('49')) \n",
        "\n"
      ],
      "metadata": {
        "id": "HPpJLQwixNVZ"
      }
    },
    {
      "cell_type": "code",
      "source": [
        ""
      ],
      "metadata": {
        "id": "Vek47U-opTib"
      },
      "execution_count": null,
      "outputs": []
    },
    {
      "cell_type": "markdown",
      "metadata": {
        "id": "Sstc7A-NnnRG"
      },
      "source": [
        "Q?\n",
        "\n",
        "1 $\\div$ 49"
      ]
    },
    {
      "cell_type": "code",
      "source": [
        ""
      ],
      "metadata": {
        "id": "itXX--2UxNVZ"
      },
      "execution_count": null,
      "outputs": []
    },
    {
      "cell_type": "markdown",
      "metadata": {
        "id": "O0cF3BmBxNVZ"
      },
      "source": [
        "  Q?\\\n",
        "1 $\\div$ 4999"
      ]
    },
    {
      "cell_type": "code",
      "metadata": {
        "id": "CAvsX5dYxNVa"
      },
      "source": [
        ""
      ],
      "execution_count": null,
      "outputs": []
    },
    {
      "cell_type": "markdown",
      "metadata": {
        "id": "wPZ5yOdExNVa"
      },
      "source": [
        "Q?\\\n",
        "1 $\\div$ 9997"
      ]
    },
    {
      "cell_type": "code",
      "metadata": {
        "id": "cYe3p2usxNVa"
      },
      "source": [
        ""
      ],
      "execution_count": null,
      "outputs": []
    },
    {
      "cell_type": "markdown",
      "metadata": {
        "id": "EK9Jy55rxNVa"
      },
      "source": [
        "Q?\n",
        "\n",
        "5 - 3 $\\div$ 18 $\\times$ 28\n",
        "\n",
        "\\\n",
        "This should be calculated in fractions → later\n",
        "\n"
      ]
    },
    {
      "cell_type": "code",
      "source": [
        ""
      ],
      "metadata": {
        "id": "41Ap2r-HxNVa"
      },
      "execution_count": null,
      "outputs": []
    },
    {
      "cell_type": "markdown",
      "source": [
        "---\n",
        "In case you want to display up to 100 digits after the decimal point! \n",
        "\n",
        "\\\n",
        "(This case maight be rare though.)\n"
      ],
      "metadata": {
        "id": "XX9rKB-VqU_G"
      }
    },
    {
      "cell_type": "markdown",
      "source": [
        "Regarding circulating decimal\n",
        "\n",
        "\\\n",
        "The number of digits displayed is not so many in ordinary calculations.\n",
        "\n",
        "\\\n",
        "Still, 16th place or more after the decimal point comes out\n",
        "\n"
      ],
      "metadata": {
        "id": "Y0Qe2qs3qW4u"
      }
    },
    {
      "cell_type": "code",
      "source": [
        "1/3"
      ],
      "metadata": {
        "id": "_OJAZCGvqaTj",
        "collapsed": true
      },
      "execution_count": null,
      "outputs": []
    },
    {
      "cell_type": "code",
      "source": [
        "1/243"
      ],
      "metadata": {
        "colab": {
          "base_uri": "https://localhost:8080/"
        },
        "outputId": "d6899b85-360b-45e6-a9b5-756689e7db25",
        "id": "MxUXDiIrqcOk",
        "collapsed": true
      },
      "execution_count": null,
      "outputs": [
        {
          "output_type": "execute_result",
          "data": {
            "text/plain": [
              "0.00411522633744856"
            ]
          },
          "metadata": {},
          "execution_count": 1
        }
      ]
    },
    {
      "cell_type": "code",
      "source": [
        "1/81\n",
        "#should have been 0.012345679012345679012345679……\n"
      ],
      "metadata": {
        "colab": {
          "base_uri": "https://localhost:8080/"
        },
        "outputId": "78f46452-4fdd-4555-bcf2-1a1588715c1a",
        "id": "ohBAuju7qen7",
        "collapsed": true
      },
      "execution_count": null,
      "outputs": [
        {
          "output_type": "execute_result",
          "data": {
            "text/plain": [
              "0.012345679012345678"
            ]
          },
          "metadata": {},
          "execution_count": 2
        }
      ]
    },
    {
      "cell_type": "markdown",
      "source": [
        "\n",
        "Calculate 1 $\\div$ 4999 to 50 decimal places\n"
      ],
      "metadata": {
        "id": "BbpyHzmSxNVa"
      }
    },
    {
      "cell_type": "code",
      "source": [
        "#If you calculate normally\n",
        "\n",
        "1/4999"
      ],
      "metadata": {
        "colab": {
          "base_uri": "https://localhost:8080/"
        },
        "outputId": "7235a3b7-3a70-422a-9e6f-84b845d88e89",
        "id": "7SFhxqEMxNVa",
        "collapsed": true
      },
      "execution_count": null,
      "outputs": [
        {
          "output_type": "execute_result",
          "data": {
            "text/plain": [
              "0.00020004000800160032"
            ]
          },
          "metadata": {},
          "execution_count": 6
        }
      ]
    },
    {
      "cell_type": "markdown",
      "source": [
        "\n",
        "It may be more interesting if more digits are displayed.\n",
        "\n",
        "\n",
        "\\\n",
        "Up to 50 digits?\n",
        "\n",
        "\n",
        "    from decimal import Decimal, getcontext \n",
        "\n",
        "    getcontext().prec = 50\n",
        "\n",
        "    print(Decimal('1') / Decimal('4999'))\n",
        "\n",
        "Do not care about code above.\n",
        "\n",
        "Please write code it as it is and check.\n",
        "\n"
      ],
      "metadata": {
        "id": "AUy0ouTIxNVb"
      }
    },
    {
      "cell_type": "code",
      "source": [
        "from decimal import Decimal, getcontext\n",
        "\n",
        "getcontext().prec = 50\n",
        "\n",
        "print(Decimal('1') / Decimal('4999'))"
      ],
      "metadata": {
        "id": "7aXSZicwxNVb",
        "colab": {
          "base_uri": "https://localhost:8080/"
        },
        "outputId": "9364f162-e70d-4899-9fac-e58f664efd45",
        "collapsed": true
      },
      "execution_count": null,
      "outputs": [
        {
          "output_type": "stream",
          "name": "stdout",
          "text": [
            "0.00020004000800160032006401280256051210242048409681936\n"
          ]
        }
      ]
    },
    {
      "cell_type": "markdown",
      "source": [
        "\n",
        "\n",
        "If you divide the above decimals by 4 digits,\n",
        "\n",
        "\n",
        "2 ---> 4  8 ---> 16 ---> 32 ---> 64 ---> 128 ---> 256 ---> 512 ---> 1024 ---> 2048 ---> 4096\n",
        "\n",
        "\n",
        "has become out\n",
        "\n",
        "\n",
        "---\n",
        "Q?\n",
        "\n",
        "\n",
        "\n",
        "What is the code to calculate 3 $\\div$ 9997 to the 50th decimal place?\n",
        "\n"
      ],
      "metadata": {
        "id": "2DovgFDf_lqw"
      }
    },
    {
      "cell_type": "code",
      "source": [
        ""
      ],
      "metadata": {
        "id": "2MBs7ke2AZqK"
      },
      "execution_count": null,
      "outputs": []
    },
    {
      "cell_type": "markdown",
      "source": [
        "---\n",
        "Q?\n",
        "\n",
        "$\\dfrac{1}{6}$,  $\\dfrac{1}{7}$, $\\dfrac{1}{17}$, $\\dfrac{1}{81}$, $\\dfrac{1}{113}$, $\\dfrac{1}{9801}$ \n",
        "\n",
        "is calculated to the 100th decimal place\n",
        "\n",
        "\n",
        "    from decimal import Decimal, getcontext  \n",
        "\n",
        "    getcontext().prec = 100\n",
        "\n",
        "    print(Decimal('1') / Decimal('6'))\n",
        "\n",
        "    print(Decimal('1') / Decimal('7'))\n",
        "\n",
        "    print(Decimal('1') / Decimal('17'))\n",
        "\n",
        "    print(Decimal('1') / Decimal('81'))\n",
        "\n",
        "    print(Decimal('1') / Decimal('113'))\n",
        "\n",
        "    print(Decimal('1') / Decimal('9801'))\n",
        "\n"
      ],
      "metadata": {
        "id": "Fr2B5GQ0BBZp"
      }
    },
    {
      "cell_type": "code",
      "source": [
        ""
      ],
      "metadata": {
        "id": "zQ72JHEZCJZA"
      },
      "execution_count": null,
      "outputs": []
    },
    {
      "cell_type": "markdown",
      "source": [
        "Q?\n",
        "\n",
        "$\\dfrac{1}{891}$\n",
        "\n",
        "\\\n",
        "$\\dfrac{1}{8991}$\n",
        "\n",
        "\\\n",
        "$\\dfrac{1}{89991}$\n",
        "\n",
        "\\\n",
        "is calculated to the 100th decimal place\n"
      ],
      "metadata": {
        "id": "6U0LmbMgxNVb"
      }
    },
    {
      "cell_type": "code",
      "source": [
        ""
      ],
      "metadata": {
        "id": "oufIjku8xNVb"
      },
      "execution_count": null,
      "outputs": []
    },
    {
      "cell_type": "markdown",
      "source": [
        "Q?\n",
        "\n",
        "\n",
        "Check the circulating repetend of $ \\dfrac {1} {49} $\n",
        "\n",
        "\\\n",
        "Calculate up to 100 decimal places\n"
      ],
      "metadata": {
        "id": "nlQLAzCKxNVb"
      }
    },
    {
      "cell_type": "code",
      "source": [
        ""
      ],
      "metadata": {
        "id": "Am14JKwzxNVb"
      },
      "execution_count": null,
      "outputs": []
    },
    {
      "cell_type": "markdown",
      "source": [
        "\n",
        "The circulating repetend is 42 digits.\n",
        "\n",
        "\n",
        "\\\n",
        "By the way, the circulating repetend of $ \\dfrac {1} {97} $ is 96 digits.\n",
        "\n",
        "\n",
        "\\\n",
        "The circulating repetend of $ \\dfrac {1} {17} $ is 16 digits.\n",
        "\n",
        "\n",
        "\\\n",
        "It is said that the length of the circulating repetend of a prime number's \n",
        "\n",
        "reciprocal is \"maximum\" `(prime number)  - 1`.\n",
        "\n",
        "\n",
        "\\\n",
        "Both 97 and 17 are prime numbers.\n",
        "\n"
      ],
      "metadata": {
        "id": "P6GNymk3xNVb"
      }
    },
    {
      "cell_type": "markdown",
      "metadata": {
        "id": "GYwsbSYAxNVb"
      },
      "source": [
        "Circulating decimal again\n"
      ]
    },
    {
      "cell_type": "code",
      "source": [
        ""
      ],
      "metadata": {
        "id": "M4sg_xOcYK35"
      },
      "execution_count": null,
      "outputs": []
    },
    {
      "cell_type": "markdown",
      "source": [
        "If you calculate\n",
        "\n",
        "1 $\\div$ 11 = $\\dfrac{1}{11}$\n",
        "\n",
        "0.0909090909・・・comes out.\n",
        "\n",
        "\\\n",
        "This is a circulating decimal, described as below\n"
      ],
      "metadata": {
        "id": "9BaaosV1IqEs"
      }
    },
    {
      "cell_type": "markdown",
      "metadata": {
        "id": "dm0eqhCsJcYN"
      },
      "source": [
        "$\\dfrac{ 1 }{ 11 } = 0.\\dot{ 0 } \\dot{ 9 }$"
      ]
    },
    {
      "cell_type": "code",
      "source": [
        ""
      ],
      "metadata": {
        "id": "uECmb2knYPNw"
      },
      "execution_count": null,
      "outputs": []
    },
    {
      "cell_type": "markdown",
      "metadata": {
        "id": "8wwZig4QxNVc"
      },
      "source": [
        "\n",
        "When reciprocal of 7 or more prime number is conveted to decimal,\n",
        "\n",
        "confirm that it is a circulating decimal.\n",
        "\n",
        "Further confirm that one cycle of the recurring decimal  is what multiple number. \n",
        "\n"
      ]
    },
    {
      "cell_type": "markdown",
      "metadata": {
        "id": "kdOh_O90pz99"
      },
      "source": [
        "Since $ \\dfrac{1}{7}$ is 1 $\\div$ 7,\n"
      ]
    },
    {
      "cell_type": "code",
      "metadata": {
        "id": "kCdJ2OXfxNVc"
      },
      "source": [
        ""
      ],
      "execution_count": null,
      "outputs": []
    },
    {
      "cell_type": "markdown",
      "metadata": {
        "id": "_ZGuaLMNqEUk"
      },
      "source": [
        "\n",
        "\n",
        "Circulating decimal with LaTeX\n",
        "\n",
        "\n",
        "\\\n",
        "$\\dfrac{1}{7} = 0.\\dot{1}4285 \\dot{7}$ \n",
        "\n",
        "\n",
        "\n",
        "\n",
        "\n",
        "$\\dfrac{1}{9} = 0.\\dot{1}$ \n",
        "\n",
        "\n",
        "\\\n",
        "Check the calculation result using Decimal\n",
        "\n"
      ]
    },
    {
      "cell_type": "code",
      "source": [
        "1/7"
      ],
      "metadata": {
        "id": "Am8tZP7yq8NA"
      },
      "execution_count": null,
      "outputs": []
    },
    {
      "cell_type": "markdown",
      "metadata": {
        "id": "E0CT6CBJqGXk"
      },
      "source": [
        "Confirm the calculation with Decimal\n",
        "\n",
        "    from decimal import Decimal \n",
        "\n",
        "    print(Decimal('1') / Decimal('7'))"
      ]
    },
    {
      "cell_type": "code",
      "source": [
        ""
      ],
      "metadata": {
        "id": "rRwZlU3-qH3w"
      },
      "execution_count": null,
      "outputs": []
    },
    {
      "cell_type": "markdown",
      "metadata": {
        "id": "ryWgMoaPqK2E"
      },
      "source": [
        "What if you add all decimal numbers in one cycle?\n"
      ]
    },
    {
      "cell_type": "code",
      "source": [
        ""
      ],
      "metadata": {
        "id": "lCZ8-gi7qLUx"
      },
      "execution_count": null,
      "outputs": []
    },
    {
      "cell_type": "markdown",
      "metadata": {
        "id": "LfK--D-SqcP9"
      },
      "source": [
        "As $\\dfrac{1}{11}$ is 1 $\\div$ 11,"
      ]
    },
    {
      "cell_type": "code",
      "metadata": {
        "id": "vzJzzfkmqcP-"
      },
      "source": [
        ""
      ],
      "execution_count": null,
      "outputs": []
    },
    {
      "cell_type": "markdown",
      "metadata": {
        "id": "AkTxuuiiqcP-"
      },
      "source": [
        "Q?\n",
        "\n",
        "$\\dfrac{1}{11}$ to be calculated with Decimal"
      ]
    },
    {
      "cell_type": "code",
      "source": [
        ""
      ],
      "metadata": {
        "id": "B3UxpFuJrmJp"
      },
      "execution_count": null,
      "outputs": []
    },
    {
      "cell_type": "markdown",
      "metadata": {
        "id": "QSRcoGWAqcP-"
      },
      "source": [
        "Q?\n",
        "\n",
        "What is the sum of one cycle of circulating decimal?\n",
        "\n"
      ]
    },
    {
      "cell_type": "code",
      "metadata": {
        "id": "vJsO9rPHqcP-"
      },
      "source": [
        ""
      ],
      "execution_count": null,
      "outputs": []
    },
    {
      "cell_type": "markdown",
      "metadata": {
        "id": "9pQVq6Xrr9E1"
      },
      "source": [
        "Q?\n",
        "\n",
        "$\\dfrac{1}{13}$ to be calculated with Decimal, too"
      ]
    },
    {
      "cell_type": "code",
      "source": [
        ""
      ],
      "metadata": {
        "id": "0gMoIwtSqcP-"
      },
      "execution_count": null,
      "outputs": []
    },
    {
      "cell_type": "markdown",
      "metadata": {
        "id": "t3roRkMwsHig"
      },
      "source": [
        "Q?\n",
        "\n",
        "What is the sum of one cycle of circulating decimal?\n",
        "\n"
      ]
    },
    {
      "cell_type": "code",
      "metadata": {
        "id": "3x9OlQHWqcP_"
      },
      "source": [
        ""
      ],
      "execution_count": null,
      "outputs": []
    },
    {
      "cell_type": "markdown",
      "metadata": {
        "id": "SiCZ4Pp5qcP_"
      },
      "source": [
        "Q?\n",
        "\n",
        "Let's also check $\\dfrac{1}{19}$ (one cycle is quite long)\n",
        "\n",
        "\n"
      ]
    },
    {
      "cell_type": "code",
      "metadata": {
        "id": "ILfo2gOAqcP_"
      },
      "source": [
        ""
      ],
      "execution_count": null,
      "outputs": []
    },
    {
      "cell_type": "markdown",
      "metadata": {
        "id": "f0tNy7p9sUTQ"
      },
      "source": [
        "Q?\n",
        "\n",
        "What is the sum of one cycle of circulating decimal?\n",
        "\n"
      ]
    },
    {
      "cell_type": "markdown",
      "metadata": {
        "id": "cY2pp_JIqcP_"
      },
      "source": [
        "Q?\n",
        "\n",
        "\n",
        "Finally confirm\n",
        "\n",
        "What was the multiple of all the sums?\n",
        "\n"
      ]
    },
    {
      "cell_type": "code",
      "source": [
        ""
      ],
      "metadata": {
        "id": "9PslBJjlqmkB"
      },
      "execution_count": null,
      "outputs": []
    },
    {
      "cell_type": "markdown",
      "metadata": {
        "id": "LdhgIsbgtK6I"
      },
      "source": [
        "Description of fractions  using $ \\ LaTeX$\n"
      ]
    },
    {
      "cell_type": "markdown",
      "metadata": {
        "id": "bKW7e2BHtNCJ"
      },
      "source": [
        "$3\\dfrac{1}{2} + 1\\dfrac{11}{12}$ \n",
        "\n",
        "\\\n",
        "\n",
        "This fraction is displayed using a mathematical formula software called LaTex.\n",
        "\n",
        "\n",
        "\\\n",
        "You can see how to write it by double-clicking this cell,\n",
        "\n",
        "\n",
        "\\\n",
        "`$` Mark at the beginning and the end of the formula.\n",
        "\n",
        "\n",
        "\\\n",
        "`\\` (backslash) before formulas used with LaTeX \n",
        "\n",
        "\n",
        "\\\n",
        "`dfrac`: Abbreviation for `displaystyle fraction`, used to display fractions\n",
        "\n",
        "\n",
        "\\\n",
        "If you use `frac`, the same fraction will be displayed, but the fraction will be smaller, so` dfrac` is recommended.\n",
        "\n",
        "\n",
        "\\\n",
        "The `{1}{2}` after the `dfrac` is the numerator before and the denominator after.\n",
        "\n",
        "\n",
        "\\\n",
        "The following is a display using `frac`\n",
        "\n",
        "\n",
        "\n",
        "$3\\frac{1}{2} + 1\\frac{11}{12}$ \n",
        "\n",
        "\\\n",
        "More details --> [Introduction to LaTeX](https://colab.research.google.com/github/bebi103a/bebi103a.github.io/blob/master/lessons/00/intro_to_latex.ipynb#scrollTo=XLz29XPyv61s)"
      ]
    },
    {
      "cell_type": "markdown",
      "metadata": {
        "id": "TN6W89lYxOul"
      },
      "source": [
        "---\n",
        "Circulating decimal with LaTeX\n",
        "\n",
        "\\\n",
        "$\\dfrac{1}{7} = 0.\\dot{1}4285 \\dot{7}$ \n",
        "\n",
        "$\\dfrac{1}{9} = 0.\\dot{1}$ \n",
        "\n",
        "$\\frac{1}{11} = 0.\\dot{0}\\dot{9}$"
      ]
    },
    {
      "cell_type": "markdown",
      "metadata": {
        "id": "ZFm_uFwZxemv"
      },
      "source": [
        "---\n",
        "Column addition using LaTeX\n"
      ]
    },
    {
      "cell_type": "markdown",
      "metadata": {
        "id": "_-TDck3mxnBH"
      },
      "source": [
        "$\\begin{array}{rr}\n",
        "& 123\\\\\n",
        "+\\big{)}&45\\\\\n",
        "\\hline\n",
        "&168\n",
        "\\end{array}$"
      ]
    },
    {
      "cell_type": "markdown",
      "metadata": {
        "id": "FNWMTmhqxpg2"
      },
      "source": [
        "---\n",
        "Column multiplication using LaTeX\n"
      ]
    },
    {
      "cell_type": "markdown",
      "metadata": {
        "id": "eFrevJsyyaw8"
      },
      "source": [
        "$\\begin{array}{r}\n",
        "67 \\\\[-3pt]\n",
        "\\underline{\\times\\phantom{0}63}\\\\[-3pt]\n",
        "201 \\\\[-3pt]\n",
        "\\underline{\\phantom{0}402\\phantom{0}} \\\\[-3pt]\n",
        "4221\n",
        "\\end{array}$"
      ]
    },
    {
      "cell_type": "markdown",
      "source": [
        "---\n",
        "Column division using LaTeX (doesn't work)\n"
      ],
      "metadata": {
        "id": "RkQI-Y3KyJuG"
      }
    },
    {
      "cell_type": "markdown",
      "source": [
        "\\begin{array}{r}\n",
        "  7.6 \\\\[-3pt]\n",
        "  25\\enclose{longdiv}{190\\phantom{0}} \\\\[-3pt]\n",
        "  \\underline{175\\phantom{.0}} \\\\[-3pt]\n",
        "  15\\phantom{.}0 \\\\[-3pt]\n",
        "  \\underline{15\\phantom{.}0} \\\\[-3pt]\n",
        "  \\phantom{000}0\n",
        "\\end{array}"
      ],
      "metadata": {
        "id": "y-vwiyR9yXBt"
      }
    },
    {
      "cell_type": "markdown",
      "metadata": {
        "id": "Fjm4h-7jyjmT"
      },
      "source": [
        "---\n",
        "Other than the above, we may only use LaTex for fractions and big parentheses now, but \n",
        "\n",
        "it could be useful to know that you will be in junior highschool and high school.\n"
      ]
    },
    {
      "cell_type": "markdown",
      "metadata": {
        "id": "yyCQSrI7HIxm"
      },
      "source": [
        "$\\begin{eqnarray}\n",
        "  \\left\\{\n",
        "    \\begin{array}{l}\n",
        "      x + y = 10 \\\\\n",
        "      2x + 4y = 32\n",
        "    \\end{array}\n",
        "  \\right.\n",
        "\\end{eqnarray}$"
      ]
    },
    {
      "cell_type": "markdown",
      "metadata": {
        "id": "K-scrBxhHUAT"
      },
      "source": [
        "$\\begin{eqnarray}\n",
        "|x|\n",
        " =\n",
        "  \\begin{cases}\n",
        "    x & ( x \\geqq 0 ) \\\\\n",
        "    -x & ( x \\lt 0 )\n",
        "  \\end{cases}\n",
        "\\end{eqnarray}$"
      ]
    },
    {
      "cell_type": "markdown",
      "metadata": {
        "id": "2ngh8wn3Hcb7"
      },
      "source": [
        "$y = x^2 + 3x +5$\n",
        "\n",
        "\\\n",
        "When sandwiched between `$$` and `$$`, the formula's position is centered.\n",
        "\n",
        "\\\n",
        "$$y = x^2 +\\dfrac{1}{x} + 5$$  \n",
        "\n",
        "\\\n",
        "$y = x^2 +\\dfrac{1}{x} + 5$"
      ]
    },
    {
      "cell_type": "markdown",
      "metadata": {
        "id": "yVh43WGUzuaJ"
      },
      "source": [
        "---\n",
        "Such a formula below in the future?\n",
        "\n",
        "\\\n",
        "$$\n",
        "\\frac{\\pi}{2} =\n",
        "\\left( \\int_{0}^{\\infty} \\frac{\\sin x}{\\sqrt{x}} dx \\right)^2 =\n",
        "\\sum_{k=0}^{\\infty} \\frac{(2k)!}{2^{2k}(k!)^2} \\frac{1}{2k+1} =\n",
        "\\prod_{k=1}^{\\infty} \\frac{4k^2}{4k^2 - 1}\n",
        "$$"
      ]
    },
    {
      "cell_type": "markdown",
      "source": [
        "---\n",
        "If you enter `%% latex` at the beginning,\n"
      ],
      "metadata": {
        "id": "sTVJFfp93ebt"
      }
    },
    {
      "cell_type": "code",
      "source": [
        "%%latex\n",
        "\n",
        "x^2"
      ],
      "metadata": {
        "colab": {
          "base_uri": "https://localhost:8080/",
          "height": 39
        },
        "outputId": "b36abe2f-9f5d-44d8-ab3e-65db2bd2eab0",
        "id": "Qm2Kqsb60ZzB",
        "collapsed": true
      },
      "execution_count": null,
      "outputs": [
        {
          "output_type": "display_data",
          "data": {
            "text/plain": [
              "<IPython.core.display.Latex object>"
            ],
            "text/latex": "x^2"
          },
          "metadata": {}
        }
      ]
    },
    {
      "cell_type": "code",
      "metadata": {
        "colab": {
          "base_uri": "https://localhost:8080/",
          "height": 67
        },
        "outputId": "853747b2-518e-4dd6-a6f0-6f764f317862",
        "id": "n3rlTdw20fUu",
        "collapsed": true
      },
      "source": [
        "#LaTeX display even in code\n",
        "\n",
        "%%latex\n",
        "\\displaystyle\n",
        "\\frac{\\pi}{2}\n",
        "=\n",
        "\\left( \\int_{0}^{\\infty} \\frac{\\sin x}{\\sqrt{x}} dx \\right)^2\n",
        "=\n",
        "\\sum_{k=0}^{\\infty} \\frac{(2k)!}{2^{2k}(k!)^2} \\frac{1}{2k+1}\n",
        "=\n",
        "\\prod_{k=1}^{\\infty} \\frac{4k^2}{4k^2 - 1}"
      ],
      "execution_count": null,
      "outputs": [
        {
          "output_type": "display_data",
          "data": {
            "text/plain": [
              "<IPython.core.display.Latex object>"
            ],
            "text/latex": "\\displaystyle\n\\frac{\\pi}{2}\n=\n\\left( \\int_{0}^{\\infty} \\frac{\\sin x}{\\sqrt{x}} dx \\right)^2\n=\n\\sum_{k=0}^{\\infty} \\frac{(2k)!}{2^{2k}(k!)^2} \\frac{1}{2k+1}\n=\n\\prod_{k=1}^{\\infty} \\frac{4k^2}{4k^2 - 1}"
          },
          "metadata": {}
        }
      ]
    },
    {
      "cell_type": "markdown",
      "source": [
        "---\n",
        "Put`%%latex` first, then"
      ],
      "metadata": {
        "id": "8VD57jZt0Kd5"
      }
    },
    {
      "cell_type": "code",
      "source": [
        "%%latex\n",
        "\n",
        "x^2"
      ],
      "metadata": {
        "colab": {
          "base_uri": "https://localhost:8080/",
          "height": 39
        },
        "id": "cz3-9sIsI9my",
        "outputId": "b36abe2f-9f5d-44d8-ab3e-65db2bd2eab0",
        "collapsed": true
      },
      "execution_count": null,
      "outputs": [
        {
          "output_type": "display_data",
          "data": {
            "text/plain": [
              "<IPython.core.display.Latex object>"
            ],
            "text/latex": "x^2"
          },
          "metadata": {}
        }
      ]
    },
    {
      "cell_type": "code",
      "metadata": {
        "id": "z_hJqC1ggHRw",
        "colab": {
          "base_uri": "https://localhost:8080/",
          "height": 67
        },
        "outputId": "853747b2-518e-4dd6-a6f0-6f764f317862",
        "collapsed": true
      },
      "source": [
        "#LaTeX display even in code\n",
        "\n",
        "%%latex\n",
        "\\displaystyle\n",
        "\\frac{\\pi}{2}\n",
        "=\n",
        "\\left( \\int_{0}^{\\infty} \\frac{\\sin x}{\\sqrt{x}} dx \\right)^2\n",
        "=\n",
        "\\sum_{k=0}^{\\infty} \\frac{(2k)!}{2^{2k}(k!)^2} \\frac{1}{2k+1}\n",
        "=\n",
        "\\prod_{k=1}^{\\infty} \\frac{4k^2}{4k^2 - 1}"
      ],
      "execution_count": null,
      "outputs": [
        {
          "output_type": "display_data",
          "data": {
            "text/plain": [
              "<IPython.core.display.Latex object>"
            ],
            "text/latex": "\\displaystyle\n\\frac{\\pi}{2}\n=\n\\left( \\int_{0}^{\\infty} \\frac{\\sin x}{\\sqrt{x}} dx \\right)^2\n=\n\\sum_{k=0}^{\\infty} \\frac{(2k)!}{2^{2k}(k!)^2} \\frac{1}{2k+1}\n=\n\\prod_{k=1}^{\\infty} \\frac{4k^2}{4k^2 - 1}"
          },
          "metadata": {}
        }
      ]
    },
    {
      "cell_type": "markdown",
      "source": [
        "LaTeX can be displayed with sympy\n"
      ],
      "metadata": {
        "id": "oRk9LIHT0tGg"
      }
    },
    {
      "cell_type": "code",
      "metadata": {
        "colab": {
          "base_uri": "https://localhost:8080/",
          "height": 78
        },
        "outputId": "50c926a5-458b-4e45-be14-b34efd369a45",
        "id": "2wf5C6V11WvS",
        "collapsed": true
      },
      "source": [
        "'''\n",
        "\n",
        "Formula display by LaTeX\n",
        "\n",
        "If you type sympy.init_printing(), the formula will be displayed in LaTex.\n",
        "\n",
        "Use the display() command to display\n",
        "\n",
        "In addition, use the sympy.latex() command to display the formula LaTex.\n",
        "\n",
        "'''\n",
        "\n",
        "import sympy\n",
        "\n",
        "#For display formulas with LaTeX\n",
        "sympy.init_printing()\n",
        "\n",
        "#Define symbols\n",
        "sympy.var(\"a b x y\")\n",
        "\n",
        "# f(x)=exp(x)*cos(x)\n",
        "f = sympy.exp(x) * sympy.cos(x)\n",
        "\n",
        "#Integrate f (x) from a to b with x\n",
        "i = sympy.integrate(f, (x, a, b))\n",
        "\n",
        "#Organize formulas\n",
        "i = sympy.simplify(i)\n",
        "\n",
        "#Display formulas with LaTeX\n",
        "display(i)\n",
        "\n",
        "#Display LaTeX commands for formulas\n",
        "print(sympy.latex(i))"
      ],
      "execution_count": null,
      "outputs": [
        {
          "output_type": "display_data",
          "data": {
            "image/png": "[encoded data removed]",
            "text/latex": "$$\\frac{\\sqrt{2}}{2} \\left(- e^{a} \\sin{\\left (a + \\frac{\\pi}{4} \\right )} + e^{b} \\sin{\\left (b + \\frac{\\pi}{4} \\right )}\\right)$$",
            "text/plain": [
              "   ⎛   a    ⎛    π⎞    b    ⎛    π⎞⎞\n",
              "√2⋅⎜- ℯ ⋅sin⎜a + ─⎟ + ℯ ⋅sin⎜b + ─⎟⎟\n",
              "   ⎝        ⎝    4⎠         ⎝    4⎠⎠\n",
              "────────────────────────────────────\n",
              "                 2                  "
            ]
          },
          "metadata": {
            "tags": []
          }
        },
        {
          "output_type": "stream",
          "text": [
            "\\frac{\\sqrt{2}}{2} \\left(- e^{a} \\sin{\\left (a + \\frac{\\pi}{4} \\right )} + e^{b} \\sin{\\left (b + \\frac{\\pi}{4} \\right )}\\right)\n"
          ],
          "name": "stdout"
        }
      ]
    },
    {
      "cell_type": "code",
      "metadata": {
        "colab": {
          "base_uri": "https://localhost:8080/",
          "height": 38
        },
        "outputId": "f212f3c3-4d41-4b60-a0b9-f5f0a9f9117b",
        "id": "i4-Fc-MC2kaN",
        "collapsed": true
      },
      "source": [
        "import sympy\n",
        "sympy.init_printing()\n",
        "\n",
        "x = sympy.Symbol(\"x\")\n",
        "x**2 "
      ],
      "execution_count": null,
      "outputs": [
        {
          "output_type": "execute_result",
          "data": {
            "image/png": "[encoded data removed]",
            "text/latex": "$$x^{2}$$",
            "text/plain": [
              " 2\n",
              "x "
            ]
          },
          "metadata": {
            "tags": []
          },
          "execution_count": 1
        }
      ]
    },
    {
      "cell_type": "markdown",
      "metadata": {
        "id": "wDnewpBK2u-r"
      },
      "source": [
        "### Function practice -  multiplication"
      ]
    },
    {
      "cell_type": "markdown",
      "metadata": {
        "id": "SAStIgw19L9Q"
      },
      "source": [
        "---\n",
        "Practice of function\n",
        "\n",
        "Q?\n",
        "\n",
        "What is the program of the function that calculates the product of two numbers?\n",
        "\n"
      ]
    },
    {
      "cell_type": "markdown",
      "source": [
        "ーーーーーーーーーーーーーーーーーーーーーーーーーーーーーーーーーーーーーーーー\n",
        "\n",
        "Create a function = Start with `def` for make definition\n",
        "\n",
        "\\\n",
        "Add a `:` (colon) at the end of the line\n",
        "\n",
        "\\\n",
        "Since it is a multiplication, the name of the function is `multiply`.\n",
        "\n",
        "\n",
        "\\\n",
        "Since it is a product of two numbers multiplication, let `multiply (argument )` be `multiply (a, b)`.\n",
        "\n",
        "\n",
        "\\\n",
        "`argument` is often abbreviated as` arg`, `Arg`\n",
        "\n",
        "\n",
        "\\\n",
        "If you enter the numbers of `a` and` b`, the product is calculated and `return`, \n",
        "\n",
        "code is \n",
        "\n",
        "    return a * b\n",
        "\n",
        "Don't forget the `indent`\n",
        "\n",
        "\n",
        "\\\n",
        "Move function is said as  ` call function `\n",
        "\n",
        "\n",
        "\\\n",
        "Just put arguments in `(  ,  )` and go.\n",
        "\n",
        "\n",
        "\n"
      ],
      "metadata": {
        "id": "TK__Y6Gl9n5K"
      }
    },
    {
      "cell_type": "code",
      "source": [
        "#Write code here\n",
        "\n"
      ],
      "metadata": {
        "id": "WDfkKcWJ9s7V"
      },
      "execution_count": null,
      "outputs": []
    },
    {
      "cell_type": "code",
      "metadata": {
        "colab": {
          "base_uri": "https://localhost:8080/"
        },
        "outputId": "0e563ef1-22fb-4f13-de64-cd558b64d63d",
        "id": "rRYL0H_R9tZ_",
        "collapsed": true
      },
      "source": [
        "#sample\n",
        "\n",
        "def multiply(a,b) :\n",
        "  return a * b\n",
        "\n",
        "multiply(2, 3)"
      ],
      "execution_count": null,
      "outputs": [
        {
          "output_type": "execute_result",
          "data": {
            "text/plain": [
              "6"
            ]
          },
          "metadata": {
            "tags": []
          },
          "execution_count": 3
        }
      ]
    },
    {
      "cell_type": "markdown",
      "metadata": {
        "id": "2oh4VnfSLqJn"
      },
      "source": [
        "---\n",
        "Q?\n",
        "\n",
        "What is the function that returns only the first word of the sentence \n",
        "\n",
        "entered by separating it with a space?\n"
      ]
    },
    {
      "cell_type": "markdown",
      "source": [
        "ーーーーーーーーーーーーーーーーーーーーーーーーーーーーーーーーーーーーーーーー\n",
        "\n",
        "The function name is `First_words` because it is a \"first word\".\n",
        "\n",
        "\n",
        "\\\n",
        "Since sentence is to be entered, the argument is stated `text`.\n",
        "\n",
        "\n",
        "\\\n",
        "The built-in function that separates the first word from the sentence \n",
        "\n",
        "separated by spaces is `split()`.\n",
        "\n",
        "\\\n",
        "Since it is the first part, we will use `[0]`\n",
        "\n",
        "\\\n",
        "This built-in function is quite new.\n",
        "\n",
        "Let's confirm with the sample."
      ],
      "metadata": {
        "id": "1c61eX5H-SKr"
      }
    },
    {
      "cell_type": "code",
      "source": [
        ""
      ],
      "metadata": {
        "id": "czIF2LDXAgeM"
      },
      "execution_count": null,
      "outputs": []
    },
    {
      "cell_type": "code",
      "metadata": {
        "colab": {
          "base_uri": "https://localhost:8080/",
          "height": 36
        },
        "outputId": "69a1af36-6a8c-4fb6-8f85-890622e7b8e1",
        "id": "Zeo_w5VsLqJo",
        "collapsed": true
      },
      "source": [
        "#sample\n",
        "\n",
        "def First_words(text) :\n",
        "  return text.split()[0]\n",
        "\n",
        "First_words(\"Happy New Year\")"
      ],
      "execution_count": null,
      "outputs": [
        {
          "output_type": "execute_result",
          "data": {
            "text/plain": [
              "'Happy'"
            ],
            "application/vnd.google.colaboratory.intrinsic+json": {
              "type": "string"
            }
          },
          "metadata": {},
          "execution_count": 3
        }
      ]
    },
    {
      "cell_type": "markdown",
      "source": [
        "---\n",
        "### Back to calculation practice"
      ],
      "metadata": {
        "id": "Iq5iGfRdxNVd"
      }
    },
    {
      "cell_type": "markdown",
      "source": [
        "Q?\n",
        "\n",
        "12.5 － 6 $\\times$ 0.5 $\\times$ 0.66 $\\div$ 0.3\n",
        "\n",
        "(Ans. = 5.9)"
      ],
      "metadata": {
        "id": "TKMxHV2pxNVd"
      }
    },
    {
      "cell_type": "code",
      "source": [
        ""
      ],
      "metadata": {
        "id": "oKNIWiYhxNVe"
      },
      "execution_count": null,
      "outputs": []
    },
    {
      "cell_type": "markdown",
      "source": [
        "    from decimal import Decimal\n",
        "\n",
        "    print(Decimal('12.5') - 6 *  Decimal('0.5') * Decimal('0.66') / Decimal('0.3'))"
      ],
      "metadata": {
        "id": "4dQvJhBLxNVe"
      }
    },
    {
      "cell_type": "code",
      "source": [
        ""
      ],
      "metadata": {
        "id": "IJfRRrT0xNVe"
      },
      "execution_count": null,
      "outputs": []
    },
    {
      "cell_type": "markdown",
      "source": [
        "Q?\n",
        "\n",
        "(35.7 － 28.7 $\\times$ 1.2 ＋ 7.74) $\\div$ 0.18\n",
        "\n",
        "(50)"
      ],
      "metadata": {
        "id": "IOh8bXDbxNVe"
      }
    },
    {
      "cell_type": "code",
      "source": [
        ""
      ],
      "metadata": {
        "id": "Jngh-tYoxNVe"
      },
      "execution_count": null,
      "outputs": []
    },
    {
      "cell_type": "markdown",
      "source": [
        "Q?\n",
        "\n",
        "5.2 $\\div$ 1.3 $\\div$ 0.25 － 0.4 $\\div$ 0.25\n",
        "\n",
        "(14.4)"
      ],
      "metadata": {
        "id": "m662aCiAxNVe"
      }
    },
    {
      "cell_type": "code",
      "source": [
        ""
      ],
      "metadata": {
        "id": "5rbh-XMPxNVe"
      },
      "execution_count": null,
      "outputs": []
    },
    {
      "cell_type": "markdown",
      "metadata": {
        "id": "eYT9b59gxNVe"
      },
      "source": [
        "---\n",
        "Fraction"
      ]
    },
    {
      "cell_type": "markdown",
      "metadata": {
        "id": "AhcJ7VZJxNVe"
      },
      "source": [
        "$Fraction = \\dfrac{numerator}{denominator}$ \n",
        "\n"
      ]
    },
    {
      "cell_type": "markdown",
      "metadata": {
        "id": "vE0FzN7ZxNVe"
      },
      "source": [
        "---\n",
        "\n",
        "Fraction calculation is a little more complicated than decimal calculation with Python.\n",
        "\n",
        "\n",
        "\n",
        "\\\n",
        "Because fractions are calculated in the same way as division with Python.\n",
        "\n",
        "\n",
        "\\\n",
        "For example, if you calculate $ \\dfrac{3}{5} + \\dfrac{1}{3}$\n",
        "\n",
        "\n",
        "\n",
        "$\\dfrac{3}{5} + \\dfrac{1}{3} = \\dfrac{9}{15} + \\dfrac{5}{15} = \\dfrac{14}{15}$\n",
        "\n",
        "\n",
        "\\\n",
        "However, if you write this code in Python as `3/5 + 1/3`,\n",
        "\n",
        "\n",
        "as you can see by calculating in the cell below, it is calculated as `0.6 + 0.33333 ……`\n",
        "\n",
        "\n",
        "\\\n",
        "Python doesn't calculate in fractions\n",
        "\n",
        "\n"
      ]
    },
    {
      "cell_type": "code",
      "source": [
        ""
      ],
      "metadata": {
        "id": "YrgQ9jaXB1xq"
      },
      "execution_count": null,
      "outputs": []
    },
    {
      "cell_type": "markdown",
      "source": [
        "###fractions Fraction"
      ],
      "metadata": {
        "id": "DtU4MSmX54Hy"
      }
    },
    {
      "cell_type": "markdown",
      "metadata": {
        "id": "fylZ0asbxNVe"
      },
      "source": [
        "\n",
        "So, here, let's use new module that calculates fractions in Python.\n",
        "\n",
        "\n",
        "\\\n",
        "`Module` is another program that you can use in your program.\n",
        "\n",
        "\n",
        "\\\n",
        "The module used for fractional calculation is called `fractions` module, \n",
        "\n",
        "which is a collection of various programs.\n",
        "\n",
        "\n",
        "\\\n",
        "We use a program `Fraction` in `fractions module`.\n",
        "\n",
        "\n",
        "\\\n",
        "Creating a `Fraction` program might be good practice for coding program, \n",
        "\n",
        "but it is not so easy,  so use the Fraction program.\n",
        "\n",
        "\n",
        "\\\n",
        "In the future, please try to create a Fraction program.\n",
        "\n",
        "\n"
      ]
    },
    {
      "cell_type": "markdown",
      "metadata": {
        "id": "GFHjuaTWxNVf"
      },
      "source": [
        "### fractions module"
      ]
    },
    {
      "cell_type": "markdown",
      "metadata": {
        "id": "0TtbNvPsxNVf"
      },
      "source": [
        "\n",
        "We used the decimal module for decimals, but I use the fractions module \n",
        "\n",
        "for fractional calculations.\n",
        "\n",
        "\n",
        "\\\n",
        "The code for $ \\dfrac{3}{5} + \\dfrac{1}{3}$ is\n",
        "\n",
        "\n",
        "    from fractions import Fraction\n",
        "\n",
        "    print(Fraction(3,5) + Fraction(1,3))` \n",
        "\n",
        "\n",
        "(Explanation & Attention)\n",
        "\n",
        "\n",
        "\\\n",
        "(1) `from fractions import Fraction` is same as ` from decimal import Decimal`,\n",
        "\n",
        " once written, it can be omitted in other code cells during the day.\n",
        "\n",
        "\\\n",
        "By the way, fractions are `a collection of programs (modules)`.\n",
        "\n",
        "and Fraction is one of the programs in fractions\n",
        "\n",
        "\n",
        "\\\n",
        "(2) Express a fraction with `Fraction (numerator, denominator)`\n",
        "\n",
        "\n",
        "\\\n",
        "(3) As for output,  if it is written as  `Fraction (3,5) + Fraction (1,3)`\n",
        "\n",
        " without using the `print()` function, it would be displayed as `Fraction (14, 15)`\n",
        "\n",
        "\\\n",
        "(4) Note that an error will occur if the `()` parentheses are not added correctly.\n",
        "\n",
        "\n",
        "\\\n",
        "(5) It is not necessary to enclose the number inside with `'  '` like \n",
        "\n",
        "`Decimal ('3.5')`, but it does not cause an error even if it is added.\n",
        "\n",
        "\n",
        "\n"
      ]
    },
    {
      "cell_type": "code",
      "source": [
        ""
      ],
      "metadata": {
        "id": "Jg5eMtbUxNVf"
      },
      "execution_count": null,
      "outputs": []
    },
    {
      "cell_type": "markdown",
      "metadata": {
        "id": "9C4koQ7FxNVf"
      },
      "source": [
        "\n",
        "About reduction of fraction\n",
        "\n",
        "\n",
        "\\\n",
        "$-\\dfrac{16}{10} = - \\dfrac{8}{5}$\n",
        "\n",
        "\n",
        "\n",
        "\\\n",
        "The fraction is a negative number (minus), but this is for explanation.\n",
        "\n",
        "\n",
        "\\\n",
        "Negative numbers will come out later\n",
        "\n",
        "\n",
        "    from fractions import Fraction     # Optional for the day\n",
        "\n",
        "    print(Fraction(16, -10))`\n",
        "\n",
        "    print(Fraction(-16, 10))`\n",
        "\n",
        "\n",
        "` －` (Minus sign) can be attached to either numerator or denominator. \n",
        "\n",
        "\n",
        "\n"
      ]
    },
    {
      "cell_type": "code",
      "source": [
        ""
      ],
      "metadata": {
        "id": "xh5WfF-NJxsI"
      },
      "execution_count": null,
      "outputs": []
    },
    {
      "cell_type": "markdown",
      "metadata": {
        "id": "WIEF6OewxNVf"
      },
      "source": [
        "---\n",
        "Make a decimal a fraction\n",
        "\n",
        "\n",
        "\n",
        "Q?\n",
        "\n",
        "\n",
        "\n",
        "－0.875 = $- \\dfrac{7}{8}$\n",
        "\n",
        "\n",
        "\n",
        "\\\n",
        "The code will be troublesome, but using Fraction and Decimal,\n",
        "\n",
        "\n",
        "\n",
        "\n",
        "    from fractions import Fraction \n",
        "\n",
        "    from decimal import Decimal \n",
        "\n",
        "    print(Fraction(Decimal('-0.875')))\n",
        "\n",
        "    Fraction(Decimal(\"-0.875\"))\n",
        "\n"
      ]
    },
    {
      "cell_type": "code",
      "source": [
        ""
      ],
      "metadata": {
        "id": "4qD0iBeoxNVf"
      },
      "execution_count": null,
      "outputs": []
    },
    {
      "cell_type": "markdown",
      "metadata": {
        "id": "1UJxC5KBxNVf"
      },
      "source": [
        "The following code is fine, but sometimes it doesn't work depending on decimals.\n",
        "\n",
        "\n",
        "    from fractions import Fraction\n",
        "\n",
        "    print(Fraction('-0.875'))\n",
        "\n",
        "    print(Fraction(-0.875))\n",
        "\n",
        "    Fraction(-0.875)\n",
        "\n"
      ]
    },
    {
      "cell_type": "code",
      "source": [
        ""
      ],
      "metadata": {
        "id": "pJZhmrJ9xNVf"
      },
      "execution_count": null,
      "outputs": []
    },
    {
      "cell_type": "markdown",
      "metadata": {
        "id": "KejjCIANxNVf"
      },
      "source": [
        "\n",
        "This was fine with `Fraction`\n",
        "\n",
        "\\\n",
        "Q?\n",
        "\n",
        "2.25 = $ \\dfrac{9}{4}$"
      ]
    },
    {
      "cell_type": "code",
      "source": [
        ""
      ],
      "metadata": {
        "id": "O2gDD0xpOCXb"
      },
      "execution_count": null,
      "outputs": []
    },
    {
      "cell_type": "code",
      "source": [
        "#sample\n",
        "\n",
        "from fractions import Fraction\n",
        "\n",
        "print(Fraction(2.25))\n"
      ],
      "metadata": {
        "colab": {
          "base_uri": "https://localhost:8080/"
        },
        "outputId": "49593761-77ac-45d9-8e97-af5b6a8feb3b",
        "id": "L8od_9J9OC2l",
        "collapsed": true
      },
      "execution_count": null,
      "outputs": [
        {
          "output_type": "stream",
          "name": "stdout",
          "text": [
            "9/4\n"
          ]
        }
      ]
    },
    {
      "cell_type": "markdown",
      "metadata": {
        "id": "CKxQMmXmxNVf"
      },
      "source": [
        "\n",
        "\n",
        "1.1 should be $\\dfrac {11} {10} $ \n",
        "\n",
        "\n",
        "\\\n",
        "With the following code, something wrong\n",
        "\n",
        "    from fractions import Fraction\n",
        "\n",
        "    print(Fraction(1.1))\n",
        "\n",
        "    Fraction(1.1)\n"
      ]
    },
    {
      "cell_type": "code",
      "source": [
        ""
      ],
      "metadata": {
        "id": "xafn1eNwN8ZL"
      },
      "execution_count": null,
      "outputs": []
    },
    {
      "cell_type": "markdown",
      "source": [
        "I don't know the cause,\n",
        "\n",
        "\n",
        "\\\n",
        "`from fractions import Fraction`\n",
        "\n",
        "`from decimal import Decimal`\n",
        "\n",
        "`print(Fraction(Decimal('1.1')))`\n",
        "\n",
        "`Fraction(Decimal('1.1'))`"
      ],
      "metadata": {
        "id": "u2EWyfQcxNVf"
      }
    },
    {
      "cell_type": "code",
      "source": [
        ""
      ],
      "metadata": {
        "id": "95JVMR0uOrQf"
      },
      "execution_count": null,
      "outputs": []
    },
    {
      "cell_type": "code",
      "source": [
        "#sample\n",
        "\n",
        "from fractions import Fraction\n",
        "\n",
        "from decimal import Decimal\n",
        "\n",
        "print(Fraction(Decimal('1.1')))\n",
        "\n",
        "Fraction(Decimal('1.1'))"
      ],
      "metadata": {
        "id": "oD9ea4I2xNVg",
        "colab": {
          "base_uri": "https://localhost:8080/"
        },
        "outputId": "2f927d2b-e16a-474d-9b11-760e65ea8d89",
        "collapsed": true
      },
      "execution_count": null,
      "outputs": [
        {
          "output_type": "stream",
          "name": "stdout",
          "text": [
            "11/10\n"
          ]
        },
        {
          "output_type": "execute_result",
          "data": {
            "text/plain": [
              "Fraction(11, 10)"
            ]
          },
          "metadata": {},
          "execution_count": 7
        }
      ]
    },
    {
      "cell_type": "markdown",
      "source": [
        "It seems like this should be done, but it's just depends on you.\n",
        "\n",
        "\n",
        "\\\n",
        "`from fractions import Fraction` \n",
        "\n",
        "`x = 1.1`\n",
        "\n",
        "`print(Fraction(x).limit_denominator(1000))`"
      ],
      "metadata": {
        "id": "IMBVfwA_xNVg"
      }
    },
    {
      "cell_type": "code",
      "source": [
        ""
      ],
      "metadata": {
        "id": "YE2Ss71ZPWxe"
      },
      "execution_count": null,
      "outputs": []
    },
    {
      "cell_type": "markdown",
      "metadata": {
        "id": "pstxvhzaxNVg"
      },
      "source": [
        "Fractions, integers and decimals\n",
        "\n",
        "\\\n",
        "Q?\n",
        "\n",
        "\\\n",
        "$\\dfrac{3}{4}$ + 1 + 1.5 \n",
        "\n",
        "\\\n",
        "`from fractions import Fraction`\n",
        "\n",
        "`print(Fraction(3,4) + 1 + 1.5)`\n",
        "\n",
        "`Fraction(3,4) + 1 + 1.5`\n",
        "\n",
        "\\\n",
        "The answer comes in decimal\n"
      ]
    },
    {
      "cell_type": "code",
      "metadata": {
        "id": "cLslgN_FxNVg"
      },
      "source": [
        ""
      ],
      "execution_count": null,
      "outputs": []
    },
    {
      "cell_type": "markdown",
      "metadata": {
        "id": "IYBwN96UxNVg"
      },
      "source": [
        "Q?\n",
        "\n",
        "$\\dfrac{1}{3}$ + 1 + 1.5 \n",
        "\n",
        "\\\n",
        "If you convert the whole part to `Fraction`, the answer will come out in fraction.\n",
        "\n",
        "\n",
        "\\\n",
        "`from fractions import Fraction`\n",
        "\n",
        "`print(Fraction(1,3) + Fraction(1,1) + Fraction(3,2))`\n"
      ]
    },
    {
      "cell_type": "code",
      "source": [
        ""
      ],
      "metadata": {
        "id": "sUOjhY78QcoD"
      },
      "execution_count": null,
      "outputs": []
    },
    {
      "cell_type": "markdown",
      "source": [
        "There seems to be such a method\n",
        "\n",
        "\\\n",
        "`from fractions import Fraction`\n",
        "\n",
        "`x = 1/3 + 1 +1.5`\n",
        "\n",
        "`print(Fraction(x).limit_denominator(1000))`\n",
        "\n",
        "\\\n",
        "As we already see this code,\n",
        "\n",
        "it may be good to check various things\n",
        "\n"
      ],
      "metadata": {
        "id": "FMZF6dQsxNVg"
      }
    },
    {
      "cell_type": "code",
      "source": [
        ""
      ],
      "metadata": {
        "id": "CJIe9OqjxNVg"
      },
      "execution_count": null,
      "outputs": []
    },
    {
      "cell_type": "markdown",
      "metadata": {
        "id": "ZYNKzuIExNVg"
      },
      "source": [
        "Q?\n",
        "\n",
        "$\\dfrac{3}{4}$ + 1 + 1 $\\div$ 4 \n",
        "\n",
        "\\\n",
        "If there is a division formula, convert it to a fraction\n",
        "\n",
        "\n",
        "\\\n",
        "`from fractions import Fraction`\n",
        "\n",
        "`print(Fraction(3,4) + 1 + Fraction(1,4))`\n",
        "\n",
        "`Fraction(3,4) + 1 + Fraction(1,4)`"
      ]
    },
    {
      "cell_type": "code",
      "source": [
        ""
      ],
      "metadata": {
        "id": "AHE1DmLBxNVg"
      },
      "execution_count": null,
      "outputs": []
    },
    {
      "cell_type": "markdown",
      "metadata": {
        "id": "Cu1CNmqvxNVg"
      },
      "source": [
        "This was done decimal numbers as they are.\n",
        "\n",
        "\\\n",
        "Q?\n",
        "\n",
        "\\\n",
        "$\\dfrac{3}{8}+0.125$ $\\div$ $\\left(1\\dfrac{7}{8}-1\\dfrac{1}{4}\\right)-0.3$ $\\times$ $1.5+\\dfrac{1}{2}$\n",
        "\n",
        "\\\n",
        "`from fractions import Fraction`\n",
        "\n",
        "`Fraction(3, 8) + 0.125/(Fraction(15, 8) - Fraction(5, 4)) - 0.3 * 1.5 + Fraction(1, 2)`\n"
      ]
    },
    {
      "cell_type": "code",
      "source": [
        ""
      ],
      "metadata": {
        "id": "XBs3Ye7wxNVh"
      },
      "execution_count": null,
      "outputs": []
    },
    {
      "cell_type": "markdown",
      "source": [
        "###Rational(sympy)"
      ],
      "metadata": {
        "id": "GRQD_3K5UWs8"
      }
    },
    {
      "cell_type": "markdown",
      "metadata": {
        "id": "syptjk4uxNVh"
      },
      "source": [
        "\n",
        "`sympy` is a module that contains various calculation programs.\n",
        "\n",
        "\n",
        "\\\n",
        "At this stage `fractions module` is enough for calculation, but it seems that `sympy` will be used a lot in the future.\n",
        "\n",
        "\n",
        "\\\n",
        "Here, we only focus on `Rational` which is a fractional function in `sympy`.\n",
        "\n",
        "\\\n",
        "Rational means `rational number` (= number that can be expressed as a fraction`)\n",
        "\n",
        "\n",
        "\n",
        "\n",
        "\\\n",
        "Let's play a little with `sympy` module before using `Rational`.\n",
        "\n",
        "\n",
        "\\\n",
        "When you execute the following code, the pi (`pi`) will appear with some decimal points.\n",
        "\n",
        "\n",
        "\\\n",
        "`from sympy import Float, pi`\n",
        "\n",
        "`Float(pi)`"
      ]
    },
    {
      "cell_type": "code",
      "source": [
        ""
      ],
      "metadata": {
        "id": "6yTzqrrDaPxg"
      },
      "execution_count": null,
      "outputs": []
    },
    {
      "cell_type": "code",
      "source": [
        "from sympy import Float, pi\n",
        "\n",
        "Float(pi)"
      ],
      "metadata": {
        "id": "BuKNhwatxNVh",
        "colab": {
          "base_uri": "https://localhost:8080/",
          "height": 37
        },
        "outputId": "857558d0-56ce-425e-811c-8d92aad1dde0",
        "collapsed": true
      },
      "execution_count": null,
      "outputs": [
        {
          "output_type": "execute_result",
          "data": {
            "text/plain": [
              "3.14159265358979"
            ],
            "text/latex": "$\\displaystyle 3.14159265358979$"
          },
          "metadata": {},
          "execution_count": 10
        }
      ]
    },
    {
      "cell_type": "markdown",
      "source": [
        "When we execute the following code,\n",
        "\n",
        "\\\n",
        "`from sympy import Float, pi `\n",
        "\n",
        "`print(Float(pi,30))`\n",
        "\n",
        "`print(Float(pi,100))`\n",
        "\n",
        "`print(Float(pi,10000))`"
      ],
      "metadata": {
        "id": "3ChbILerxNVh"
      }
    },
    {
      "cell_type": "code",
      "source": [
        ""
      ],
      "metadata": {
        "id": "jocmY1u7VT_b"
      },
      "execution_count": null,
      "outputs": []
    },
    {
      "cell_type": "markdown",
      "source": [
        "Another code\n",
        "\n",
        "\n",
        "\\\n",
        "As a practice of `for sentence `,  made a program to calculate `10 !`as below\n",
        "\n",
        "(`!` is an exclamation mark = factorial mark as you remember)\n",
        "\n",
        "\n",
        "\n",
        "\\\n",
        "`product = 1`\n",
        "\n",
        "`for n in range(1,11):`\n",
        "\n",
        "  &emsp;`product *= n`\n",
        "\n",
        "`print(product)`\n"
      ],
      "metadata": {
        "id": "yGZ6TZTgxNVh"
      }
    },
    {
      "cell_type": "code",
      "source": [
        ""
      ],
      "metadata": {
        "id": "L6JP6s7LxNVi"
      },
      "execution_count": null,
      "outputs": []
    },
    {
      "cell_type": "markdown",
      "source": [
        "\n",
        "There is a program called `factorial` in the sympy module\n",
        "\n",
        "\n",
        "\\\n",
        "`from sympy import factorial`\n",
        "\n",
        "`factorial(10)`\n",
        "\n",
        "\\\n",
        "Even the font is a little fashionable?\n",
        "\n"
      ],
      "metadata": {
        "id": "nJig6XtbxNVi"
      }
    },
    {
      "cell_type": "code",
      "source": [
        ""
      ],
      "metadata": {
        "id": "oR_4qK-kxNVi"
      },
      "execution_count": null,
      "outputs": []
    },
    {
      "cell_type": "markdown",
      "metadata": {
        "id": "iX6cOZlhxNVi"
      },
      "source": [
        "---\n",
        "Let's calculate the fraction with `Rational`\n",
        "\n",
        "\n",
        "\\\n",
        "Q?\n",
        "\n",
        "Calculate with Rational\n",
        "\n",
        "\\\n",
        "$\\dfrac{1}{3} + \\dfrac{2}{5}$\n",
        "\n",
        "\\\n",
        "The code to calculate this is\n",
        "\n",
        "`from sympy import Rational`\n",
        "\n",
        "`Rational(1, 3) + Rational(2, 5)`\n",
        "\n",
        "\\\n",
        "Same as Fraction, `Rational (numerator, denominator)`\n",
        "\n",
        "\n",
        "\\\n",
        "Calculate fractions and output in fractions like those made with Latex\n",
        "\n",
        "\n"
      ]
    },
    {
      "cell_type": "code",
      "source": [
        ""
      ],
      "metadata": {
        "id": "jIyp31U1Yv2r"
      },
      "execution_count": null,
      "outputs": []
    },
    {
      "cell_type": "markdown",
      "source": [
        "If you write with `print()`, it will be output as 11/15.\n",
        "\n",
        "\\\n",
        "`print(Rational(1,3) + Rational(2,5))`\n",
        "\n"
      ],
      "metadata": {
        "id": "2k5QsDuFxNVi"
      }
    },
    {
      "cell_type": "code",
      "source": [
        ""
      ],
      "metadata": {
        "id": "MXsoe1duxNVi"
      },
      "execution_count": null,
      "outputs": []
    },
    {
      "cell_type": "markdown",
      "metadata": {
        "id": "1zNMVtGuxNVi"
      },
      "source": [
        "You can also reduce fraction\n",
        "\n",
        "\\\n",
        "Q?\n",
        "\n",
        "$\\dfrac{1001}{10101}$\n",
        "\n",
        "\\\n",
        "`from sympy import Rational`\n",
        "\n",
        "`Rational(1001, 10101)`"
      ]
    },
    {
      "cell_type": "code",
      "metadata": {
        "id": "FLwe3s25xNVi"
      },
      "source": [
        ""
      ],
      "execution_count": null,
      "outputs": []
    },
    {
      "cell_type": "markdown",
      "metadata": {
        "id": "c5K1J29KZxIt"
      },
      "source": [
        "Reduction with `Fraction`\n",
        "\n",
        "\\\n",
        "`from fractions import Fraction` \n",
        "\n",
        "`print(Fraction(1001, 10101))`"
      ]
    },
    {
      "cell_type": "code",
      "source": [
        ""
      ],
      "metadata": {
        "id": "fCNxvDKnZuSj"
      },
      "execution_count": null,
      "outputs": []
    },
    {
      "cell_type": "markdown",
      "metadata": {
        "id": "oz4iq63PZ9XJ"
      },
      "source": [
        "Reduction\n",
        "\n",
        "\\\n",
        "Q?\n",
        "\n",
        "\\\n",
        "$\\dfrac{100001}{101010101}$"
      ]
    },
    {
      "cell_type": "code",
      "source": [
        ""
      ],
      "metadata": {
        "id": "8qXM-EcFxNVj"
      },
      "execution_count": null,
      "outputs": []
    },
    {
      "cell_type": "markdown",
      "source": [
        "Q?\n",
        "\n",
        "If you reduct the fractions with numerator and denominator are made by using the numbers 1 to 9 once,\n",
        "\n",
        "\n",
        "\n",
        "\\\n",
        "$\\dfrac{6729}{13458}$ ＝？  $\\dfrac{5823}{17469}$ ＝？ $\\dfrac{3942}{15768}$ ＝？\n",
        "\n",
        "\\\n",
        "$\\dfrac{2943}{17658}$ ＝？ $\\dfrac{2394}{16758}$ ＝？ $\\dfrac{3187}{25496}$ ＝？\n",
        "\n",
        "\\\n",
        "$\\dfrac{6381}{57429}$ ＝？ $\\dfrac{6729}{13458}$ ＝？ $\\dfrac{6729}{13458}$ ＝？"
      ],
      "metadata": {
        "id": "e8U3jB6KxNVj"
      }
    },
    {
      "cell_type": "code",
      "source": [
        ""
      ],
      "metadata": {
        "id": "aK7ms-DcaPnR"
      },
      "execution_count": null,
      "outputs": []
    },
    {
      "cell_type": "code",
      "metadata": {
        "colab": {
          "base_uri": "https://localhost:8080/",
          "height": 51
        },
        "outputId": "1d18447c-5a4d-4abc-f56f-30ce90f29219",
        "id": "R8XzR4AXaQEr",
        "collapsed": true
      },
      "source": [
        "#sample\n",
        "\n",
        "from sympy import Rational  \n",
        "Rational(6729, 13458)"
      ],
      "execution_count": null,
      "outputs": [
        {
          "output_type": "execute_result",
          "data": {
            "text/plain": [
              "1/2"
            ],
            "text/latex": "$\\displaystyle \\frac{1}{2}$"
          },
          "metadata": {},
          "execution_count": 15
        }
      ]
    },
    {
      "cell_type": "markdown",
      "source": [
        "---\n",
        "Multiplying fractions using numbers 1-9 once\n",
        "\n",
        "\n",
        "\\\n",
        "Q?\n",
        "\n",
        "\\\n",
        "$\\dfrac{18534}{9267}$ $\\times$ $\\dfrac{17469}{5823}$ \n",
        "\n",
        "\\\n",
        "`from sympy import Rational`  #Optional during the day\n",
        "\n",
        "`Rational(18534, 9267) * Rational(17469, 5823)`\n",
        "\n",
        "\\\n",
        "Calculated and the answer is 6,\n",
        "\n",
        "\n"
      ],
      "metadata": {
        "id": "bx2pnnLI9KIv"
      }
    },
    {
      "cell_type": "code",
      "source": [
        ""
      ],
      "metadata": {
        "id": "9Oz7lsL39KIv"
      },
      "execution_count": null,
      "outputs": []
    },
    {
      "cell_type": "markdown",
      "source": [
        "What wanted to say that the quotient of the above calculation can also express \n",
        "\n",
        "the number from 1 to 9 as a fraction used once.\n",
        "\n",
        "\n",
        "\n",
        "\\\n",
        "$\\dfrac{18534}{9267}$ $\\times$ $\\dfrac{17469}{5823}$ ＝$\\dfrac{34182}{5697}$"
      ],
      "metadata": {
        "id": "vQsK86li9KIv"
      }
    },
    {
      "cell_type": "markdown",
      "metadata": {
        "id": "gNqKbfSl-geP"
      },
      "source": [
        "---\n",
        "Calculation of fractions\n",
        "\n",
        "\\\n",
        "Q?\n",
        "\n",
        "$\\dfrac{355}{113} + \\dfrac{1}{3}$\n",
        "\n",
        "\\\n",
        "`from sympy import Rational`  # Optional during the day\n",
        "\n",
        "`Rational(355, 113) + Rational(1, 3)`"
      ]
    },
    {
      "cell_type": "code",
      "source": [
        ""
      ],
      "metadata": {
        "id": "U52uMCCl-yhR"
      },
      "execution_count": null,
      "outputs": []
    },
    {
      "cell_type": "markdown",
      "metadata": {
        "id": "EndHJ16y-7KC"
      },
      "source": [
        "Q?\n",
        "\n",
        "$\\dfrac{1}{2} + \\dfrac{1}{4} + \\dfrac{1}{6} $"
      ]
    },
    {
      "cell_type": "code",
      "source": [
        ""
      ],
      "metadata": {
        "id": "ApZZOo8h-8iJ"
      },
      "execution_count": null,
      "outputs": []
    },
    {
      "cell_type": "markdown",
      "metadata": {
        "id": "E4-2t3oV9KIv"
      },
      "source": [
        "Q?\n",
        "\n",
        "$\\dfrac{1}{2} + \\dfrac{1}{4} + \\dfrac{1}{6} $"
      ]
    },
    {
      "cell_type": "code",
      "source": [
        ""
      ],
      "metadata": {
        "id": "RaK4KFbR9KIv"
      },
      "execution_count": null,
      "outputs": []
    },
    {
      "cell_type": "markdown",
      "metadata": {
        "id": "g43Ed-Be9KIw"
      },
      "source": [
        "Reduction of a fraction which is assembled by numbers 1 - 9.\n",
        "\n",
        "\n",
        "\\\n",
        "Q?\n",
        "\n",
        "$\\dfrac{6729}{13458}$"
      ]
    },
    {
      "cell_type": "code",
      "source": [
        ""
      ],
      "metadata": {
        "id": "p-3-iT0Y9KIw"
      },
      "execution_count": null,
      "outputs": []
    },
    {
      "cell_type": "markdown",
      "metadata": {
        "id": "Y00FlPXM9KIw"
      },
      "source": [
        "Q?\n",
        "\n",
        "\\\n",
        "$\\dfrac{1}{2009}+\\dfrac{1}{392}＝\\dfrac{1}{□}$\n",
        "\n",
        "\\\n",
        "(328)\n",
        "\n",
        "\\\n",
        "With Fraction\n",
        "\n",
        "`from fractions import Fraction`   #Can be omitted during the day\n",
        "\n",
        "`print('□ ＝', 1/(Fraction(1, 2009) + Fraction(1, 392)))`\n"
      ]
    },
    {
      "cell_type": "code",
      "source": [
        ""
      ],
      "metadata": {
        "id": "KJsFZVt3_9l_"
      },
      "execution_count": null,
      "outputs": []
    },
    {
      "cell_type": "markdown",
      "metadata": {
        "id": "PvaqzPR39KIw"
      },
      "source": [
        "With Rational\n",
        "\n",
        "\\\n",
        "\n",
        "`from sympy import Rational`  \n",
        "\n",
        "`print('□=', 1/(Rational(1,2009)+Rational(1,392)))`\n"
      ]
    },
    {
      "cell_type": "code",
      "source": [
        ""
      ],
      "metadata": {
        "id": "_a0KgujU9KIw"
      },
      "execution_count": null,
      "outputs": []
    },
    {
      "cell_type": "markdown",
      "metadata": {
        "id": "Gy7NJH159KIw"
      },
      "source": [
        "Q?\n",
        "\n",
        "\\\n",
        "$\\left\\{ 3\\dfrac{1}{15}-1.56 ÷ \\left(1\\dfrac{1}{4}-0.6\\right)\\right\\} ÷ \\left(1\\dfrac{2}{3}-1.2\\right)$\n",
        "\n",
        "\n",
        "\\\n",
        "(10/7)\n",
        "\n",
        "\\\n",
        "All convert to fractions\n",
        "\n",
        "\n",
        "\\\n",
        "`from fractions import Fraction`\n",
        "\n",
        "`print((Fraction(46, 15) - Fraction(156, 100) / (Fraction(5, 4) - Fraction(6, 10))) / (Fraction(5, 3) - Fraction(12, 10)))`\n"
      ]
    },
    {
      "cell_type": "code",
      "source": [
        ""
      ],
      "metadata": {
        "id": "_2lPB9dU9KIw"
      },
      "execution_count": null,
      "outputs": []
    },
    {
      "cell_type": "markdown",
      "metadata": {
        "id": "O0XAq_Fp9KIw"
      },
      "source": [
        "This appeared before\n",
        "\n",
        "\\\n",
        "`from fractions import Fraction`  \n",
        "\n",
        "`x=(46/15 - 1.56/(5/4 - 0.6)) / (5/3 - 1.2)`\n",
        "\n",
        "`print(Fraction(x).limit_denominator(1000))`\n"
      ]
    },
    {
      "cell_type": "code",
      "source": [
        ""
      ],
      "metadata": {
        "id": "CJ-AIO-P9KIx"
      },
      "execution_count": null,
      "outputs": []
    },
    {
      "cell_type": "markdown",
      "metadata": {
        "id": "x39aWLz-2cFp"
      },
      "source": [
        "###Calculate backward"
      ]
    },
    {
      "cell_type": "markdown",
      "source": [
        "---\n",
        "Q?\n",
        "\n",
        "50 － (□ $\\times$ 3 ＋ 4) ＝ 31"
      ],
      "metadata": {
        "id": "laxYZZZH2cFp"
      }
    },
    {
      "cell_type": "markdown",
      "source": [
        "ーーーーーーーーーーーーーーーーーーーーーーーーーーーーーーーーーーーーーーー\n",
        "\n",
        "The workflow of solving with arithmetic calculating backward is\n",
        "\n",
        "\\\n",
        "□ $\\times$ 3 ＋ ４ ＝ 50 － 31\n",
        "\n",
        "□ $\\times$ 3 ＝ 50 － 31 － 4\n",
        "\n",
        "□ ＝ (50 － 31 － 4) $\\div$ 3 ＝ 5\n",
        "\n",
        "\\\n",
        "therefore\n",
        "\n",
        "Then □ as x，\n",
        "\n",
        "\\\n",
        "`x = (50 - 31 - 4) / 3`\n",
        "\n",
        "`print(x)`"
      ],
      "metadata": {
        "id": "4ppiPA_Z2cFq"
      }
    },
    {
      "cell_type": "code",
      "source": [
        "x = (50 - 31 - 4) / 3\n",
        "print(x)"
      ],
      "metadata": {
        "colab": {
          "base_uri": "https://localhost:8080/"
        },
        "outputId": "13876de7-cf74-48d7-c8bb-7329d474e88b",
        "id": "KuSGKi0R2cFq",
        "collapsed": true
      },
      "execution_count": null,
      "outputs": [
        {
          "output_type": "stream",
          "name": "stdout",
          "text": [
            "5.0\n"
          ]
        }
      ]
    },
    {
      "cell_type": "markdown",
      "source": [
        "---\n",
        "Q?\n",
        "\n",
        "60 $\\times$ □ $\\div$ 20 ＋ 49 $\\div$ 5 ＝ 11"
      ],
      "metadata": {
        "id": "XzIyGIOO2cFq"
      }
    },
    {
      "cell_type": "markdown",
      "source": [
        "Same way of calculation backward as above\n",
        "\n",
        "\n",
        "\\\n",
        "□ ＝ (11 － 49 $\\div$ 5) $\\times$ 20 $\\div$ 60 ＝ 0.4\n",
        "\n",
        "\\\n",
        "This formula is coverted into code\n",
        "\n",
        "\\\n",
        "`x = (11 - 49/5) * 20 / 60`\n",
        "\n",
        "`print(x)`\n"
      ],
      "metadata": {
        "id": "889YojuY2cFq"
      }
    },
    {
      "cell_type": "code",
      "source": [
        ""
      ],
      "metadata": {
        "id": "J7DEtyrnCPAk"
      },
      "execution_count": null,
      "outputs": []
    },
    {
      "cell_type": "markdown",
      "source": [
        "In the above case, as it will not be 0.4\n",
        "\n",
        "\n",
        "with sympy's Rational\n",
        "\n",
        "\\\n",
        "\n",
        "`from sympy import Rational`\n",
        "\n",
        "`x = (11 - Rational(49, 5)) * 20 / 60`\n",
        "\n",
        "`print(x)`"
      ],
      "metadata": {
        "id": "M7YefM8q2cFq"
      }
    },
    {
      "cell_type": "code",
      "source": [
        ""
      ],
      "metadata": {
        "id": "xK3dffcn2cFq"
      },
      "execution_count": null,
      "outputs": []
    },
    {
      "cell_type": "markdown",
      "source": [
        "There is another way to use Fraction.\n",
        "\n",
        "Try to make your own formula here.\n",
        "\n",
        "\\\n",
        "(The use of Fraction will come up in a later problem)\n",
        "\n"
      ],
      "metadata": {
        "id": "9k1e7yf02cFq"
      }
    },
    {
      "cell_type": "code",
      "source": [
        ""
      ],
      "metadata": {
        "id": "WID0oTcdDPgy"
      },
      "execution_count": null,
      "outputs": []
    },
    {
      "cell_type": "markdown",
      "source": [
        "###solve"
      ],
      "metadata": {
        "id": "O_GQ2pXkkr3G"
      }
    },
    {
      "cell_type": "markdown",
      "source": [
        "---\n",
        " A little complicated backward calculation\n",
        "\n",
        "\n",
        "Q?\n",
        "\n",
        "\\\n",
        "$20－□$ $\\times$ $\\left( 1\\dfrac{1}{3}－\\dfrac{2}{9}\\right)$ $\\div$ 0.25＝13 $\\dfrac{1}{3}$\n",
        "\n",
        "\n",
        "  "
      ],
      "metadata": {
        "id": "0h0hC8JchRtZ"
      }
    },
    {
      "cell_type": "markdown",
      "source": [
        "ーーーーーーーーーーーーーーーーーーーーーーーーーーーーーーーーーーーーーーーー\n",
        "\n",
        "Create a formula for backward calculation\n",
        "\n"
      ],
      "metadata": {
        "id": "BO3fMqgGIU2t"
      }
    },
    {
      "cell_type": "code",
      "source": [
        ""
      ],
      "metadata": {
        "id": "hy1LNWvXEytr"
      },
      "execution_count": null,
      "outputs": []
    },
    {
      "cell_type": "code",
      "source": [
        "#sample\n",
        "\n",
        "print((20 - 40/3) * 0.25 / (4/3 - 2/9))"
      ],
      "metadata": {
        "colab": {
          "base_uri": "https://localhost:8080/"
        },
        "id": "ESwj42LpGEKT",
        "outputId": "9a3f113d-5130-4717-ea4c-573fa8822990",
        "collapsed": true
      },
      "execution_count": null,
      "outputs": [
        {
          "output_type": "stream",
          "name": "stdout",
          "text": [
            "1.4999999999999998\n"
          ]
        }
      ]
    },
    {
      "cell_type": "markdown",
      "source": [
        " ーーーーーーーーーーーーーーーーーーーーーーーーーーーーーーーーーーーーーーーーー\n",
        "\n",
        "You can calculate with the formula in the cell above,\n",
        "\n",
        "\n",
        "\n",
        "another solution method by the equation using `sympy module`.\n",
        "\n",
        "\n",
        "\\\n",
        "This method is often used in solving math problems, so you should remember it.\n",
        "\n",
        "\n",
        "\\\n",
        "From the sympy module  (`from sympy`)\n",
        "\n",
        "\n",
        "a program that determines a variable called `var()` (meaning variable) and\n",
        "\n",
        "\n",
        "\n",
        "another  program that solves the equation `solve()`  is `import`\n",
        "\n",
        "\n",
        "    from sympy import var, solve\n",
        "\n",
        "\n",
        "Since □ is x, write a code declaring that uses a variable `x`.\n",
        "\n",
        "\n",
        "    var ('x')\n",
        "\n",
        "\n",
        "Don't forget to enclose x in `'    '`.\n",
        "\n",
        "\n",
        "\\\n",
        "Restructure the formula in the problem to the formula of  `(left side) = 0` \n",
        "\n",
        "(` (left side)` is the formula on the left side of = \" equal \" )\n",
        "\n",
        "\n",
        "\\\n",
        "By the restructure new formula becomes `20 - x * (4/3 - 2/9) / 0.25 - 40/3`\n",
        "\n",
        "\n",
        "Put this formula in `solve()`\n",
        "\n",
        "\n",
        "\\\n",
        "Calculated `x` in `solve()` and  put the answer in a variable `answer`.\n",
        "\n",
        "    answer = solve(20 - x * (4/3 - 2/9) / 0.25 - 40/3, x) \n",
        "\n",
        "By writing `solve ((left-hand side expression), x)` means to find `x` in the (left-hand side) formula.\n",
        "\n",
        "\n",
        "\\\n",
        "Finally output `answer` by `print()`\n",
        "\n",
        "\\\n",
        "If you want to display the formula in LaTeX format, use the `display()` function.\n",
        "\n",
        "    display(answer[0])\n",
        "\n",
        "You can also get an answer by `print(answer)` or `display(answer)`.\n",
        "\n",
        "\n",
        "\\\n",
        "If `answer[0]` is used, it will be displayed neatly.\n",
        "\n",
        "\\\n",
        "The reason will come out later, so please remember it at this stage.\n",
        "\n",
        "\n",
        "\n",
        "\\\n",
        "Also, if it is not displayed well\n",
        "\n",
        "please put the below code in the second line of code\n",
        "\n",
        "    sympy.init_printing()\n",
        "\n"
      ],
      "metadata": {
        "id": "IB_UQWY1F2Y5"
      }
    },
    {
      "cell_type": "code",
      "source": [
        ""
      ],
      "metadata": {
        "id": "Teo2Hk_6HUni"
      },
      "execution_count": null,
      "outputs": []
    },
    {
      "cell_type": "code",
      "source": [
        "#sample\n",
        "\n",
        "from sympy import var, solve\n",
        "\n",
        "var('x')\n",
        "\n",
        "answer = solve(20 - x*(4/3- 2/9)/0.25 - 40/3, x)\n",
        "\n",
        "display(answer[0])"
      ],
      "metadata": {
        "id": "SiE8A9XrERZ3",
        "collapsed": true
      },
      "execution_count": null,
      "outputs": []
    },
    {
      "cell_type": "markdown",
      "source": [
        "ーーーーーーーーーーーーーーーーーーーーーーーーーーーーーーーーーーーーーーーーー\n",
        "\n",
        "If you want to display fractions, import the `Rational` program as well.\n",
        "\n",
        "    from sympy import var, solve, Rational\n",
        "\n",
        "Declare variable\n",
        "\n",
        "    var ('x')\n",
        "\n",
        "Solve with `solve` and put the answer in `answer`\n",
        "\n",
        "    answer=solve(20 - x * (Rational(4,3) - Rational(2,9)) / Rational(25,100) - Rational(40,3), x)`\n",
        "\n",
        "\n",
        "Display with `display`\n",
        "\n",
        "    display(answer[0])\n",
        "\n",
        "\n",
        "\n"
      ],
      "metadata": {
        "id": "tMLpaIp92cFr"
      }
    },
    {
      "cell_type": "code",
      "source": [
        ""
      ],
      "metadata": {
        "id": "ug6ueTbQ2cFr"
      },
      "execution_count": null,
      "outputs": []
    },
    {
      "cell_type": "markdown",
      "metadata": {
        "id": "N3FOG1nN2cFr"
      },
      "source": [
        "---\n",
        "Q?\n",
        "\n",
        "\\\n",
        "$\\left(\\dfrac{1}{11} － \\dfrac{1}{183} \\right)$ $\\div$ $43 =\\left(\\dfrac{1}{□} － \\dfrac{1}{671} \\right)$ $\\div$ $167$\n",
        "\n",
        "\\\n",
        "(Answer : 3)"
      ]
    },
    {
      "cell_type": "markdown",
      "source": [
        "\n",
        "Backward calculation method\n",
        "\n",
        "\n",
        "\\\n",
        "1 / □ is to be  `x`\n",
        "\n",
        "    x = (1/11 - 1/183) * 167 / 43 + 1/671\n",
        "\n",
        "The answer would be `1 / x`, so\n",
        "\n",
        "    y = 1/x\n",
        "\n",
        "Another code : `x = 1 / x` is OK, but I set the variable to `y` not  so as to get confused.\n",
        "\n",
        "    print(y)\n",
        "\n",
        "\\\n",
        "You can use `print (1 / x)` without putting it in `y`.\n",
        "\n"
      ],
      "metadata": {
        "id": "zcKtdz3M2cFr"
      }
    },
    {
      "cell_type": "code",
      "source": [
        ""
      ],
      "metadata": {
        "id": "HV0AVZ5g2cFr"
      },
      "execution_count": null,
      "outputs": []
    },
    {
      "cell_type": "markdown",
      "source": [
        "ーーーーーーーーーーーーーーーーーーーーーーーーーーーーーーーーーーーーーーー\n",
        "\n",
        "The answer of the above code will not be 3.0.\n",
        "\n",
        "\\\n",
        "Using `sympy module`\n",
        "\n",
        "    from sympy import var, solve, Rational\n",
        "\n",
        "Declare  variable\n",
        "\n",
        "    var ('x')\n",
        "\n",
        "Solve with `solve` and put the answer in `answer`\n",
        "\n",
        "\n",
        "\\\n",
        "However, x cannot be put in `Rational`, so it remains `1 / x`.\n",
        "\n",
        "    answer=solve((Rational(1,11) - Rational(1,183)) / 43 - (1/x - Rational(1,671)) / 167)\n",
        "\n",
        "Display with `display`\n",
        "\n",
        "    display(answer[0])\n",
        "\n"
      ],
      "metadata": {
        "id": "Nwuf_MG52cFs"
      }
    },
    {
      "cell_type": "code",
      "source": [
        "from sympy import var, solve, Rational\n",
        "\n",
        "var ('x')\n",
        "\n",
        "answer=solve((Rational(1,11) - Rational(1,183)) / 43 - (1/x - Rational(1,671)) / 167)\n",
        "\n",
        "display(answer[0])"
      ],
      "metadata": {
        "id": "EVXJpdf82cFs",
        "colab": {
          "base_uri": "https://localhost:8080/",
          "height": 37
        },
        "outputId": "f3c0ea8c-f11d-4305-c639-12c7b0c0f08e",
        "collapsed": true
      },
      "execution_count": null,
      "outputs": [
        {
          "output_type": "display_data",
          "data": {
            "text/plain": [
              "3"
            ],
            "text/latex": "$\\displaystyle 3$"
          },
          "metadata": {}
        }
      ]
    },
    {
      "cell_type": "markdown",
      "metadata": {
        "id": "lhkywUux2cFs"
      },
      "source": [
        "---\n",
        "\n",
        "Q?\n",
        "\n",
        "$2005$ $\\times$ $\\dfrac{1}{17} = □$ $\\times$ $\\dfrac{1}{119} ＋48$ $\\times$ $2\\dfrac{3}{7}$\n",
        "\n",
        "\\\n",
        "(163)\n"
      ]
    },
    {
      "cell_type": "markdown",
      "source": [
        "\n",
        "Backward calculation method \n",
        "\n",
        "□ is to be `x`, \n",
        "\n",
        "\n",
        "    x = (2005/17 - 48 * 17/7) * 119\n",
        "\n",
        "    print(x)\n"
      ],
      "metadata": {
        "id": "PFa6p8k-2cFs"
      }
    },
    {
      "cell_type": "code",
      "source": [
        ""
      ],
      "metadata": {
        "id": "2geKDtqPk7Qg"
      },
      "execution_count": null,
      "outputs": []
    },
    {
      "cell_type": "markdown",
      "source": [
        "ーーーーーーーーーーーーーーーーーーーーーーーーーーーーーーーーーーーーーーー\n",
        "\n",
        "The answer will not be 163, so try it with `sympy`.\n",
        "\n",
        "\\\n",
        "import var and solve\n",
        "\n",
        "    from sympy import var, solve\n",
        "\n",
        "\n",
        "Use `x` as a variable instead of □\n",
        "\n",
        "    var ('x')\n",
        "\n",
        "\n",
        "If you change the formula in the problem to the form `(left side) = 0`,\n",
        "\n",
        "2005 $\\times$ 1/17 － □ $\\times$ 1/119 － 48 $\\times$ 17/7 = 0, \n",
        "\n",
        "so\n",
        "\n",
        "put the formula with □ changed to `x` in `solve` and the answer in `answer`\n",
        "\n",
        "    answer = solve(2005 * 1/17 - x * 1/119 - 48 * 17/7, x)\n",
        "\n",
        "\n",
        "Display answer with `display`\n",
        "\n",
        "    display(answer[0])\n",
        "\n",
        "\n"
      ],
      "metadata": {
        "id": "C6Q7djjY2cFs"
      }
    },
    {
      "cell_type": "code",
      "source": [
        ""
      ],
      "metadata": {
        "id": "z6gewd_B2cFs"
      },
      "execution_count": null,
      "outputs": []
    },
    {
      "cell_type": "markdown",
      "metadata": {
        "id": "dDPpgCi3PuqT"
      },
      "source": [
        "---\n",
        "\n",
        "Q?\n",
        "\n",
        "\\\n",
        "$\\dfrac{7}{200}$ $\\times$ $\\left(\\dfrac{1}{2}+\\dfrac{1}{3}+\\dfrac{1}{7}－\\dfrac{1}{□}\\right)＝\\left(\\dfrac{1}{4}+\\dfrac{1}{5}+\\dfrac{1}{6}\\right)$ $\\div$ $\\left(19－\\dfrac{1}{2}\\right)$\n",
        "\n",
        "\\\n",
        "(42)\n",
        "\n"
      ]
    },
    {
      "cell_type": "markdown",
      "source": [
        "ーーーーーーーーーーーーーーーーーーーーーーーーーーーーーーーーーーーーーーー\n",
        "\n",
        "Backward calculation method\n",
        "\n",
        "\n",
        "    print(1 / ((1/2 + 1/3 + 1/7) - (1/4 + 1/5 + 1/6) / (19 - 1/2) * (200/7)))\n"
      ],
      "metadata": {
        "id": "P_8qpMmD2cFs"
      }
    },
    {
      "cell_type": "code",
      "source": [
        ""
      ],
      "metadata": {
        "id": "ee9p0qA12cFs"
      },
      "execution_count": null,
      "outputs": []
    },
    {
      "cell_type": "markdown",
      "source": [
        "ーーーーーーーーーーーーーーーーーーーーーーーーーーーーーーーーーーーーーーー\n",
        "\n",
        "import var and solve\n",
        "\n",
        "    from sympy import var, solve\n",
        "\n",
        "Use `x` as a variable instead of □\n",
        "\n",
        "    var ('x')\n",
        "\n",
        "\n",
        "If you change the formula in the problem to the form `(left side) = 0`,\n",
        "\n",
        "\n",
        "7/200 $\\times$ (1/2 ＋ 1/3 ＋ 1/7 － 1 / □) － (1/4 ＋ 1/5 ＋ 1/6) $\\div$ (19 － 1 \\ 2) ＝ 0, \n",
        "\n",
        "so\n",
        "\n",
        "Put the formula with □ changed to `x` in solve and the answer in `answer`\n",
        "\n",
        "    answer = solve(7/200 * (1/2 + 1/3 + 1/7 - 1/x) - (1/4 + 1/5 + 1/6) / (19 - 1/2), x)\n",
        "\n",
        "\n",
        "Display answer with `display`\n",
        "\n",
        "    display(answer[0])\n",
        "\n",
        "\n",
        "\n"
      ],
      "metadata": {
        "id": "H0CMUPPM2cFs"
      }
    },
    {
      "cell_type": "code",
      "source": [
        ""
      ],
      "metadata": {
        "id": "HI_hp9PR2cFs"
      },
      "execution_count": null,
      "outputs": []
    },
    {
      "cell_type": "markdown",
      "metadata": {
        "id": "cWCJfE2p2cFt"
      },
      "source": [
        "---\n",
        "Q?\n",
        "\n",
        "\\\n",
        "$\\left(2008×\\dfrac{1}{119}＋□ \\right)×\\left(3－\\dfrac{5}{13} \\right)＝45\\dfrac{33}{91}$\n",
        "\n",
        "\\\n",
        "(8/17)\n"
      ]
    },
    {
      "cell_type": "markdown",
      "source": [
        "ーーーーーーーーーーーーーーーーーーーーーーーーーーーーーーーーーーーーーーー\n",
        "\n",
        "Backward calculation\n",
        "\n",
        "    print(4128/91 / (3 - 5/13) - 2008 * 1/119)\n"
      ],
      "metadata": {
        "id": "enc27Irs2cFt"
      }
    },
    {
      "cell_type": "code",
      "source": [
        ""
      ],
      "metadata": {
        "id": "lXStW29vRsb_"
      },
      "execution_count": null,
      "outputs": []
    },
    {
      "cell_type": "markdown",
      "source": [
        "ーーーーーーーーーーーーーーーーーーーーーーーーーーーーーーーーーーーーーーー\n",
        "\n",
        "The answer seems to be a fraction, so let's try `Fraction` here\n",
        "\n",
        "\n",
        "\\\n",
        "Import Fractions from the fractions module\n",
        "\n",
        "    from fractions import Fraction\n",
        "\n",
        "Since 45 $\\dfrac{33}{91}$ can be expressed as `45 + Fraction (33,91)` without converting it to an improper fraction.\n",
        "\n",
        "\n",
        "\\\n",
        "Use it to create a formula for back calculation\n",
        "\n",
        "\n",
        "    print((45 + Fraction(33,91)) / (3 - Fraction(5,13)) - Fraction(2008,119))\n",
        "\n",
        "\n"
      ],
      "metadata": {
        "id": "jxpaA_sF2cFt"
      }
    },
    {
      "cell_type": "code",
      "source": [
        ""
      ],
      "metadata": {
        "id": "ApzxvMSJSfqG"
      },
      "execution_count": null,
      "outputs": []
    },
    {
      "cell_type": "markdown",
      "source": [
        "Of course, there is also a way to use `Rational`, so if you are interested, let's try it.\n"
      ],
      "metadata": {
        "id": "EoUVHIho2cFt"
      }
    },
    {
      "cell_type": "code",
      "source": [
        ""
      ],
      "metadata": {
        "id": "GaObIL7v2cFt"
      },
      "execution_count": null,
      "outputs": []
    },
    {
      "cell_type": "markdown",
      "metadata": {
        "id": "nPiw1hhQ2cFt"
      },
      "source": [
        "---\n",
        "Q?\n",
        "\n",
        "\\\n",
        "$\\left(26－\\dfrac{72}{□}\\right)$ $\\times$ $\\dfrac{7}{15}＋\\dfrac{10}{33}＝12$\n",
        "\n",
        "\\\n",
        "(77)\n"
      ]
    },
    {
      "cell_type": "markdown",
      "source": [
        "ーーーーーーーーーーーーーーーーーーーーーーーーーーーーーーーーーーーーーーー\n",
        "\n",
        "Backward calculation\n",
        "\n",
        "    print(72 / (26 - (12 - 10/33) * 15/7))\n"
      ],
      "metadata": {
        "id": "WPpTK-n22cFt"
      }
    },
    {
      "cell_type": "code",
      "source": [
        ""
      ],
      "metadata": {
        "id": "KbDB5YuH2cFt"
      },
      "execution_count": null,
      "outputs": []
    },
    {
      "cell_type": "markdown",
      "source": [
        "ーーーーーーーーーーーーーーーーーーーーーーーーーーーーーーーーーーーーーーー\n",
        "\n",
        "Try this with Fraction \n",
        "\n",
        "\\\n",
        "Import Fractions from the fractions module\n",
        "\n",
        "\n",
        "    from fractions import Fraction\n",
        "\n",
        "\n",
        "Create a formula for back calculation by displaying fractions in `Fraction`\n",
        "\n",
        "\n",
        "    print(72 / (26 - (12 - Fraction(10, 33)) * Fraction(15, 7)))\n",
        "\n"
      ],
      "metadata": {
        "id": "3oxmnAxp2cFt"
      }
    },
    {
      "cell_type": "code",
      "source": [
        ""
      ],
      "metadata": {
        "id": "GH-IoxSC2cFt"
      },
      "execution_count": null,
      "outputs": []
    },
    {
      "cell_type": "markdown",
      "metadata": {
        "id": "jZ8LkFegT9-X"
      },
      "source": [
        "---\n",
        "Q?\n",
        "\n",
        "\\\n",
        "$\\left\\{\\dfrac{1}{31}－\\left(\\dfrac{1}{5}－\\dfrac{1}{13}\\right)＋□\\right\\}$ $\\times$ $\\dfrac{1}{3}＝\\dfrac{1}{2015}$\n",
        "\n",
        "\\\n",
        "(6/65)\n"
      ]
    },
    {
      "cell_type": "markdown",
      "source": [
        "ーーーーーーーーーーーーーーーーーーーーーーーーーーーーーーーーーーーーーーー\n",
        "\n",
        "Try this with Fraction \n",
        "\n",
        "\n",
        "\\\n",
        "Import Fractions from the fractions module\n",
        "\n",
        "\n",
        "\n",
        "    from fractions import Fraction\n",
        "\n",
        "\n",
        "\n",
        "The formula for back calculation is\n",
        "\n",
        "\n",
        "\\\n",
        "$\\dfrac{1}{2015}$ $\\div$ $\\dfrac{1}{3}－\\dfrac{1}{31}＋\\left(\\dfrac{1}{5}－\\dfrac{1}{13}\\right)$\n",
        "\n",
        "\n",
        "\\\n",
        "Therefore, display the fraction in `Fraction` and create a formula for back calculation.\n",
        "\n",
        "    print(Fraction(1,2015) / Fraction(1,3) - Fraction(1,31) + (Fraction(1,5) - Fraction(1,13)))\n",
        "\n",
        "\n"
      ],
      "metadata": {
        "id": "YNjTbG-u2cFu"
      }
    },
    {
      "cell_type": "code",
      "source": [
        ""
      ],
      "metadata": {
        "id": "3QM93ni2e9FY"
      },
      "execution_count": null,
      "outputs": []
    },
    {
      "cell_type": "markdown",
      "source": [
        "####Reference of sympy\n",
        "\n",
        "If you want to know `sympy`with Colab--->[Sympy](https://colab.research.google.com/github/pnavaro/python-notebooks/blob/master/notebooks/15-Sympy.ipynb)"
      ],
      "metadata": {
        "id": "V1v7tPcac2Ks"
      }
    },
    {
      "cell_type": "markdown",
      "metadata": {
        "id": "2FUzgYM_VBpN"
      },
      "source": [
        "---\n",
        "### Negative number\n",
        "\n",
        "\n",
        "\n"
      ]
    },
    {
      "cell_type": "markdown",
      "metadata": {
        "id": "7RyVks3M27Kx"
      },
      "source": [
        "\n",
        "From now on, ** negative numbers ** will come out often, so get used to it.\n",
        "\n",
        "\\\n",
        "The `x` that can be calculated as `5 + x = 0` is expressed as` - 5 (minus 5) `, \n",
        "\n",
        "which is a` negative number`.\n",
        "\n",
        "\n",
        "\n",
        "\\\n",
        "As for the number line, `negative number`is the number on the opposite side of \n",
        "\n",
        "the `positive number` centering `0`(zero).\n",
        "\n",
        "\n",
        "\\\n",
        "If you write 10 degrees below zero with a thermometer, it is `-10 ° C`, and \n",
        "\n",
        "this `-10` is a` negative number`.\n",
        "\n"
      ]
    },
    {
      "cell_type": "markdown",
      "metadata": {
        "id": "_t5V_szW27Ky"
      },
      "source": [
        "\n",
        "Enter and check negative numbers\n",
        "\n",
        "Write `4 - 8` and run▶\n"
      ]
    },
    {
      "cell_type": "code",
      "source": [
        ""
      ],
      "metadata": {
        "id": "c1NaJ3QXnpsK"
      },
      "execution_count": null,
      "outputs": []
    },
    {
      "cell_type": "markdown",
      "metadata": {
        "id": "hbYWIjGG27Kz"
      },
      "source": [
        "`(-4) + (-8)`\n",
        "\n",
        "(－4) ＋ (－8) = －4 － 8 "
      ]
    },
    {
      "cell_type": "code",
      "metadata": {
        "id": "bV7jMQqV27K0"
      },
      "source": [
        ""
      ],
      "execution_count": null,
      "outputs": []
    },
    {
      "cell_type": "markdown",
      "metadata": {
        "id": "F08H88cf27K0"
      },
      "source": [
        "`(-4) - (+8)`\n",
        "\n",
        "(－4) － (＋8) = －4 － 8 "
      ]
    },
    {
      "cell_type": "code",
      "metadata": {
        "id": "IZo2y7mL27K0"
      },
      "source": [
        ""
      ],
      "execution_count": null,
      "outputs": []
    },
    {
      "cell_type": "markdown",
      "metadata": {
        "id": "HWciYP3B27K1"
      },
      "source": [
        "`4 + (-8)`\n",
        "\n",
        "4＋(－8)＝４－ 8\n"
      ]
    },
    {
      "cell_type": "code",
      "metadata": {
        "id": "C9P0Bdiu27K1"
      },
      "source": [
        ""
      ],
      "execution_count": null,
      "outputs": []
    },
    {
      "cell_type": "markdown",
      "metadata": {
        "id": "wvnwnddg27K2"
      },
      "source": [
        "`(-4) + (+8)`\n",
        "\n",
        "(－4) ＋ (＋8) = －4 ＋ 8"
      ]
    },
    {
      "cell_type": "code",
      "metadata": {
        "id": "Qj6un8Iv27K2"
      },
      "source": [
        ""
      ],
      "execution_count": null,
      "outputs": []
    },
    {
      "cell_type": "markdown",
      "metadata": {
        "id": "x6ZMX_bC27K2"
      },
      "source": [
        "`(-4) - (-8)`\n",
        "\n",
        "(－4) － (－8) = －4 ＋ 8 "
      ]
    },
    {
      "cell_type": "code",
      "metadata": {
        "id": "JpWWNar727K3"
      },
      "source": [
        ""
      ],
      "execution_count": null,
      "outputs": []
    },
    {
      "cell_type": "markdown",
      "metadata": {
        "id": "l0igGu6gXSpN"
      },
      "source": [
        "`4 x (-8)`\n",
        "\n",
        "(＋) x (－) = (－)  ：`(Plus) x (Minus) = (Minus)`"
      ]
    },
    {
      "cell_type": "code",
      "metadata": {
        "id": "f8IPQY6a27K4"
      },
      "source": [
        ""
      ],
      "execution_count": null,
      "outputs": []
    },
    {
      "cell_type": "markdown",
      "metadata": {
        "id": "vhAsXcdYXfHs"
      },
      "source": [
        "`(-4) x 8`\n",
        "\n",
        "(－) x (＋) = (－)  ： `(Minus) x (Plus) = (Minus)`"
      ]
    },
    {
      "cell_type": "code",
      "metadata": {
        "id": "zI-S7Ono27K5"
      },
      "source": [
        ""
      ],
      "execution_count": null,
      "outputs": []
    },
    {
      "cell_type": "markdown",
      "metadata": {
        "id": "VuY6UknNX0jP"
      },
      "source": [
        "`(-4) x (-8)`\n",
        "\n",
        "(－) x (－) = (＋)  ：`(Minus) x (Minus) = (Plus)`"
      ]
    },
    {
      "cell_type": "code",
      "metadata": {
        "id": "e2cVDEGZ27K6"
      },
      "source": [
        ""
      ],
      "execution_count": null,
      "outputs": []
    },
    {
      "cell_type": "markdown",
      "metadata": {
        "id": "z9PbrqyNYCDk"
      },
      "source": [
        "`(-4) / 8`\n",
        "\n",
        "(－) / (＋) = (－)  ： `(Minus) / (Plus) = (Minus)`"
      ]
    },
    {
      "cell_type": "code",
      "source": [
        ""
      ],
      "metadata": {
        "id": "5qHEE0bXCP1h"
      },
      "execution_count": null,
      "outputs": []
    },
    {
      "cell_type": "markdown",
      "metadata": {
        "id": "rkcOtIvyYPx4"
      },
      "source": [
        "`4 / (-8)`\n",
        "\n",
        "(＋) / (－) = (－)  ：`(Plus) / (Minus) = (Minus)`"
      ]
    },
    {
      "cell_type": "code",
      "metadata": {
        "id": "FfjOmcbp27K7"
      },
      "source": [
        ""
      ],
      "execution_count": null,
      "outputs": []
    },
    {
      "cell_type": "markdown",
      "metadata": {
        "id": "Wn6gS5jlYcQE"
      },
      "source": [
        "`(-4) / (-8)`\n",
        "\n",
        "(－) / (－) = (＋)  ： `(Minus) / (Minus) = (Plus)`"
      ]
    },
    {
      "cell_type": "code",
      "source": [
        ""
      ],
      "metadata": {
        "id": "pDIagDMh27K8"
      },
      "execution_count": null,
      "outputs": []
    },
    {
      "cell_type": "markdown",
      "metadata": {
        "id": "-zNIZyeX27K8"
      },
      "source": [
        "`-17 + 5`"
      ]
    },
    {
      "cell_type": "code",
      "metadata": {
        "id": "MJ2O520u27K8"
      },
      "source": [
        ""
      ],
      "execution_count": null,
      "outputs": []
    },
    {
      "cell_type": "markdown",
      "metadata": {
        "id": "dcp_Fgx027K8"
      },
      "source": [
        "`-12 - 2`"
      ]
    },
    {
      "cell_type": "code",
      "metadata": {
        "id": "XLyv1tSV27K9"
      },
      "source": [
        ""
      ],
      "execution_count": null,
      "outputs": []
    },
    {
      "cell_type": "markdown",
      "metadata": {
        "id": "x_QUZ2BK27K9"
      },
      "source": [
        "`-6 + 18`"
      ]
    },
    {
      "cell_type": "code",
      "metadata": {
        "id": "xQKPcCEs27K9"
      },
      "source": [
        ""
      ],
      "execution_count": null,
      "outputs": []
    },
    {
      "cell_type": "markdown",
      "metadata": {
        "id": "HW440OCk27K-"
      },
      "source": [
        "`-3 - 11 + 23 -28`"
      ]
    },
    {
      "cell_type": "code",
      "metadata": {
        "id": "tWwbhaTs27K-"
      },
      "source": [
        ""
      ],
      "execution_count": null,
      "outputs": []
    },
    {
      "cell_type": "markdown",
      "metadata": {
        "id": "1brCc3gq27K-"
      },
      "source": [
        "`8 - 7 + 6 - 5 + 4 - 3`"
      ]
    },
    {
      "cell_type": "code",
      "metadata": {
        "id": "0UD0tprQ27K_"
      },
      "source": [
        ""
      ],
      "execution_count": null,
      "outputs": []
    },
    {
      "cell_type": "markdown",
      "metadata": {
        "id": "pEQGSpu727K_"
      },
      "source": [
        "`7 + (-3) - (-5) + (-2)`"
      ]
    },
    {
      "cell_type": "code",
      "metadata": {
        "id": "FtNiObeE27K_"
      },
      "source": [
        ""
      ],
      "execution_count": null,
      "outputs": []
    },
    {
      "cell_type": "markdown",
      "metadata": {
        "id": "ACk7OWoM27K_"
      },
      "source": [
        "`-7 + (-3) + (-6) - (-4) + (-5)`"
      ]
    },
    {
      "cell_type": "code",
      "metadata": {
        "id": "sq2jyeka27LA"
      },
      "source": [
        ""
      ],
      "execution_count": null,
      "outputs": []
    },
    {
      "cell_type": "markdown",
      "metadata": {
        "id": "VhZeRqxY27LA"
      },
      "source": [
        "`3 - 10 + 4`"
      ]
    },
    {
      "cell_type": "code",
      "metadata": {
        "id": "1nAFw5M427LA"
      },
      "source": [
        ""
      ],
      "execution_count": null,
      "outputs": []
    },
    {
      "cell_type": "markdown",
      "metadata": {
        "id": "p3IQ-Ics27LB"
      },
      "source": [
        "`7 + 2 x (-5)`"
      ]
    },
    {
      "cell_type": "code",
      "metadata": {
        "id": "zuvrr0JJ27LB"
      },
      "source": [
        ""
      ],
      "execution_count": null,
      "outputs": []
    },
    {
      "cell_type": "markdown",
      "metadata": {
        "id": "fzmfATuO27LB"
      },
      "source": [
        "`(-6) x (-2) - 3`"
      ]
    },
    {
      "cell_type": "code",
      "metadata": {
        "id": "uJG3i81P27LB"
      },
      "source": [
        ""
      ],
      "execution_count": null,
      "outputs": []
    },
    {
      "cell_type": "markdown",
      "metadata": {
        "id": "uvHz0XGi27LC"
      },
      "source": [
        "`(-2) x (-3) - 7`"
      ]
    },
    {
      "cell_type": "code",
      "metadata": {
        "id": "w5PpqK_n27LC"
      },
      "source": [
        ""
      ],
      "execution_count": null,
      "outputs": []
    },
    {
      "cell_type": "markdown",
      "metadata": {
        "id": "DNKOVHZI27LC"
      },
      "source": [
        "`2 + 3 x (-4)`"
      ]
    },
    {
      "cell_type": "code",
      "metadata": {
        "id": "wpE-T2do27LD"
      },
      "source": [
        ""
      ],
      "execution_count": null,
      "outputs": []
    },
    {
      "cell_type": "markdown",
      "metadata": {
        "id": "BGlaAT8r27LD"
      },
      "source": [
        "`(-2) x (-6) - 8 / 4`"
      ]
    },
    {
      "cell_type": "code",
      "metadata": {
        "id": "lTAgPAkW27LD"
      },
      "source": [
        ""
      ],
      "execution_count": null,
      "outputs": []
    },
    {
      "cell_type": "markdown",
      "metadata": {
        "id": "O4qeSxL427LD"
      },
      "source": [
        "`12 + 8 / (-4)`"
      ]
    },
    {
      "cell_type": "code",
      "metadata": {
        "id": "hticdOfd27LE"
      },
      "source": [
        ""
      ],
      "execution_count": null,
      "outputs": []
    },
    {
      "cell_type": "markdown",
      "source": [
        "---\n",
        "Q?\n",
        "\n",
        "What is the program that asks you to enter a number (integer) \n",
        "\n",
        "and determines whether it is a positive number, a negative number, or 0?\n",
        "\n"
      ],
      "metadata": {
        "id": "i6PQHD9IONuX"
      }
    },
    {
      "cell_type": "markdown",
      "source": [
        "ーーーーーーーーーーーーーーーーーーーーーーーーーーーーーーーーーーーーーーーー\n",
        "\n",
        "first\n",
        "\n",
        "\n",
        "\n",
        "Create a code to display \"Determine whether it is a positive number, a negative number, or 0\" with `print ()`\n",
        "\n",
        "\n",
        "\n",
        "    print ('determines whether it is a positive number, a negative number, or 0')\n",
        "\n",
        "\\\n",
        "next\n",
        "\n",
        "\\\n",
        "Use `int()` and `input()` to display `\" Please enter an integer (positive or negative number or 0): \"` and ask for input.\n",
        "\n",
        "\n",
        "\\\n",
        "Code creation that assigns the entered number as an integer to a variable that you decide\n",
        "\n",
        "\n",
        "    x = int (input ('Please enter an integer (positive or negative number or 0):'))\n",
        "\n",
        "\\\n",
        "`input ()` is in  `int ()`   (`int ()` contains `input ()`)\n",
        "\n",
        "\\\n",
        "This was explained a little earlier ([input () function] (# input-id)), \n",
        "\n",
        "the data input by the `input()` is output as a string.\n",
        "\n",
        "For the purpose of coming calculation, a string should be converted to an integer with the `int ()` function.\n",
        "\n",
        "\\\n",
        "Next is `\" Case classification \"` stated below\n",
        "\n",
        "\n",
        "\\\n",
        "`If it is greater than 0, print as \" positive number \",` \n",
        "\n",
        "`and if it is less than 0, print as \" negative number \"`\n",
        "\n",
        "`and if 0, print as  \"0\" `\n",
        "\n",
        "\\\n",
        "Code is \n",
        "\n",
        "    if x > 0:\n",
        "\n",
        "      print ('Positive number')\n",
        "\n",
        "    if x <0:       # elif x <0:   is OK\n",
        "\n",
        "      print ('Negative number')\n",
        "\n",
        "    if x == 0:     # else:    is OK\n",
        "\n",
        "      print ('0')\n",
        "\n",
        "\\\n",
        "Watch out for `'   '` or `\"    \"`, `the assignment operator`, `: ` at the end of the if statement\n",
        "\n",
        "and` indent`.\n",
        "\n",
        "\\\n",
        "Let's write code in code cell.\n",
        "\n",
        "\n",
        "\n"
      ],
      "metadata": {
        "id": "o6nKSZ5COqF5"
      }
    },
    {
      "cell_type": "code",
      "source": [
        "#Please write code by yourself\n",
        "\n"
      ],
      "metadata": {
        "id": "M-o0QKXtE2ub"
      },
      "execution_count": null,
      "outputs": []
    },
    {
      "cell_type": "code",
      "source": [
        "#sample\n",
        "\n",
        "print ('Determines whether it is a positive number, a negative number, or 0')\n",
        "\n",
        "x = int (input ('Please enter an integer (positive or negative number or 0):'))\n",
        "\n",
        "if x > 0:\n",
        "  print (x, ' is a positive number')\n",
        "if x < 0:\n",
        "  print (x, ' is a negative number')\n",
        "if x == 0:\n",
        "  print (x, ' is 0')"
      ],
      "metadata": {
        "colab": {
          "base_uri": "https://localhost:8080/"
        },
        "id": "KwRh8gKKgQhn",
        "outputId": "f4df0758-e48c-496f-9cb7-b3107136b520",
        "collapsed": true
      },
      "execution_count": null,
      "outputs": [
        {
          "output_type": "stream",
          "name": "stdout",
          "text": [
            "Determines whether it is a positive number, a negative number, or 0\n",
            "Please enter an integer (positive or negative number or 0):634247\n",
            "634247  is a positive number\n"
          ]
        }
      ]
    },
    {
      "cell_type": "markdown",
      "metadata": {
        "id": "5uaKDnsTGzU9"
      },
      "source": [
        "\n",
        "Comparison operator summary\n",
        "\n",
        "\\\n",
        "\n",
        "| Meaning | Operator |\n",
        "|:------:|:------:|\n",
        "| Equal | `==` |\n",
        "| Not equal | `! =` |\n",
        "| Less than | `<` |\n",
        "| Equal or less than | `<=` |\n",
        "|Greater than | `>` |\n",
        "| Equal or greater than | `> =` |\n",
        "| It is an element | `in` |\n",
        "| Not an element | `not in` |\n",
        "\n",
        "\\"
      ]
    },
    {
      "cell_type": "markdown",
      "source": [
        "---\n",
        "\n",
        "Q?\n",
        "\n",
        "\n",
        "\n",
        "Compare the sizes of two numbers in variables a and b and display the larger one\n",
        "\n",
        "and if both numbers are same, outputs \"a and b are equal\".\n",
        "\n",
        "What code for this proguram ?\n",
        "\n",
        "Ask to enter a and b\n",
        "\n"
      ],
      "metadata": {
        "id": "vuiSZjRIq2MX"
      }
    },
    {
      "cell_type": "markdown",
      "source": [
        "ーーーーーーーーーーーーーーーーーーーーーーーーーーーーーーーーーーーーーーーー\n",
        "\n",
        "First, display with`print()`\n",
        "\n",
        "\n",
        "    print ('Display larger one of two numbers')\n",
        "\n",
        "\\\n",
        "The code for \"getting numbers of a and b\" is\n",
        "\n",
        "\n",
        "\n",
        "    a = int (input('Enter an integer a: a ='))\n",
        "\n",
        "    b = int (input('Enter an integer b: b ='))\n",
        "\n",
        "\\\n",
        "\n",
        "`input ()` has an additional `int ()` (`int ()` contains `input ()`)\n",
        "\n",
        "\n",
        "\n",
        "This was explained a little earlier, but the data input by the `input()` is\n",
        "\n",
        "a `string`, it should be converted to an integer with the `int ()` for the purpose of coming calculation.\n",
        "\n",
        "\n",
        "\n",
        "\\\n",
        "\n",
        "Next, depending on the case, we use `if statement`.\n",
        "\n",
        "\n",
        "\\\n",
        "\n",
        "`\" Print a if a is large, print b if b is large, print \"a and b are equal\" if they are equal \"` The code is\n",
        "\n",
        "\n",
        "\n",
        "    if a > b:\n",
        "      print(a)\n",
        "    if a < b:\n",
        "      print(b)\n",
        "    if a == b:`     #Not a = b  \n",
        "      print (\"a and b are equal \")\n",
        "\n",
        "\n",
        "\n",
        "\\\n",
        "[ Explanation of comparison operator ]\n",
        "\n",
        "\\\n",
        "`>`, `<`, `==` symbols that appear here are\n",
        "\n",
        "called `comparison operator` that performs a` operation` that compares sizes.\n",
        "\n",
        "\n",
        "\\\n",
        "You are get used to them as those will come out a lot from now on.\n",
        "\n",
        "\n",
        "\n",
        "\\\n",
        "`=` is an `assignment operator` and means `←\" put the right value to the left \"`\n",
        "\n",
        "\n",
        "\\\n",
        "Please note that `==` has the same meaning as `= (equal)` in arithmetic.\n",
        "\n",
        "\n",
        "\n",
        "\\\n",
        "\n",
        "`[ If statement explanation ]`\n",
        "\n",
        "\n",
        "\\\n",
        "\n",
        "You will often create a program of `\" If ... then OO, if ... then XX \"`\n",
        "\n",
        "\\\n",
        "There are a lot of `\" case classification \"(conditional branching)` same as math problems.\n",
        "\n",
        "In that case, use an `if statement`\n",
        "\n",
        "\\\n",
        "This will come out a lot from now on, so get used to it.\n",
        "\n",
        "\n",
        "\\\n",
        "\n",
        "Check with [ Check it Out ] below\n",
        "\n",
        "\\\n",
        "Keep in mind adding `:`at the end of `if statement` and\n",
        "\n",
        "`indent (indentation)`in the sentence that represents `(operation content)` written below `if sentense`. \n",
        "\n",
        "\n",
        "\\\n",
        "\n",
        "`if statement` is\n",
        "\n",
        "`if (condition):`\n",
        "\n",
        "& emsp; `(operation content)`\n",
        "\n",
        "\\\n",
        "The `indents` represents `a unit of if statements`.\n",
        "\n",
        "\n",
        "    if a > b:\n",
        "      print(a)\n",
        "    elif a <b:      # 2nd case calssification (conditional branch)\n",
        "      print(b)\n",
        "    else:             #3rd case classification meaning \"other than the above two cases\"\n",
        "      print ('\"a and b are equal \"')\n",
        "\n",
        "\n",
        "\\\n",
        "\n",
        "If you have to use `elif`, `else`, please check with the next problem.\n",
        "\n",
        "\\\n"
      ],
      "metadata": {
        "id": "xKelRMX4rN_6"
      }
    },
    {
      "cell_type": "code",
      "source": [
        "# Let's write code here and go\n",
        "\n",
        "\n",
        "\n"
      ],
      "metadata": {
        "id": "uv3AJps3Gq_G"
      },
      "execution_count": null,
      "outputs": []
    },
    {
      "cell_type": "code",
      "source": [
        "#sample\n",
        "\n",
        "print ('Display large number of the two')\n",
        "\n",
        "a = int (input ('Enter an integer in a: a ='))\n",
        "\n",
        "b = int (input ('Enter an integer in b: b ='))\n",
        "\n",
        "\n",
        "if a > b:\n",
        "  print ('Comparing', a, 'and', b, ',', a,' is larger.')\n",
        "\n",
        "if a < b:\n",
        "  print ('Comparing', a, 'and', b, ',', b,' is larger.')\n",
        "\n",
        "if a == b:\n",
        "  print (a, 'and', b, 'are', ' equal')\n",
        "\n"
      ],
      "metadata": {
        "id": "inGlImNzZ8Yl",
        "colab": {
          "base_uri": "https://localhost:8080/"
        },
        "outputId": "a7b49bf4-260c-4dab-8ce3-a586224a1cf4",
        "collapsed": true
      },
      "execution_count": null,
      "outputs": [
        {
          "output_type": "stream",
          "name": "stdout",
          "text": [
            "Display large number of the two\n",
            "Enter an integer in a: a =4\n",
            "Enter an integer in b: b =15\n",
            "with 4 and 15 , 15  is larger.\n"
          ]
        }
      ]
    },
    {
      "cell_type": "markdown",
      "source": [
        "---\n",
        "##Check it out\n",
        "\n",
        "When a computer reads a program and moves (calculates), there are only three ways for move.\n",
        "\n",
        "Computer is such a simple machine.\n",
        "\n",
        "\\\n",
        "(1) Read programs in order (from top to bottom sequently) \n",
        "\n",
        "\\\n",
        "(2) Move repeatedly\n",
        "\n",
        "\\\n",
        "(3) Movements are classified according to conditions (conditional branching / → case classification)\n",
        "\n",
        "\\\n",
        "(2) is `for statement` coming soon and (3) is `if statement`.\n"
      ],
      "metadata": {
        "id": "op74zsIpyyB8"
      }
    },
    {
      "cell_type": "markdown",
      "source": [
        "### If elif, else is required\n",
        "\n"
      ],
      "metadata": {
        "id": "OPl_DJLRxlBF"
      }
    },
    {
      "cell_type": "markdown",
      "source": [
        "---\n",
        "\n",
        "If you need 3 or more `case classification`(`conditional branching) `, \n",
        "\n",
        "you need to use` elif`, `else`.\n",
        "\n",
        "\n",
        "\\\n",
        "The above last example was also divided into three cases, \n",
        "\n",
        "and you may think that \"all `if` is okay\", \n",
        "\n",
        "but it depends on the problem.\n",
        "\n",
        "\n",
        "\\\n",
        "Let's move to the next problem.\n",
        "\n",
        "\\\n",
        "\n",
        "The example here is to have you check `\" How to use if and elif \"` \n",
        "\n",
        "and `\" How to write code considering case classification (conditional branching) \"`.\n",
        "\n",
        "\n"
      ],
      "metadata": {
        "id": "AyDRuiEVyXE5"
      }
    },
    {
      "cell_type": "markdown",
      "source": [
        "---\n",
        "\n",
        "Introduction of the first problem\n",
        "\n",
        "\n",
        "\\\n",
        "Q?\n",
        "\n",
        "\n",
        "\\\n",
        "What is the program that asks you to enter the score of the English test and\n",
        "\n",
        " displays Pass if it is 85 points or more and Fail if it is less than 85 points?\n",
        "\n"
      ],
      "metadata": {
        "id": "2rkATXUj5dh5"
      }
    },
    {
      "cell_type": "markdown",
      "source": [
        "ーーーーーーーーーーーーーーーーーーーーーーーーーーーーーーーーーーーーーーーー\n",
        "\n",
        "At first displaying,\n",
        "\n",
        "    print ('Determines pass or Fail')\n",
        "\n",
        "\n",
        "\\\n",
        "\n",
        "The code that gets the test score is\n",
        "\n",
        "    a = int (input ('Please enter your English test score:'))\n",
        "\n",
        "\\\n",
        "As in the previous example, let's use `int (input ())`\n",
        "\n",
        "\n",
        "\\\n",
        "\n",
        "Next, the condition is classified, so use the `if statement`.\n",
        "\n",
        "\n",
        "\n",
        "\\\n",
        "\n",
        "If it is 85 points or more, \"Pass\" is printed, and if it is less than 85 points, \"Fail\" is printed.\n",
        "\n",
        "    if a >= 85:\n",
        "\n",
        "      print ('\"Passed \"')\n",
        "\n",
        "    if a < 85:   (else:)\n",
        "\n",
        "    print ('\"Failed \"'))\n",
        "\n"
      ],
      "metadata": {
        "id": "ND1Ak1_wnLoo"
      }
    },
    {
      "cell_type": "code",
      "source": [
        ""
      ],
      "metadata": {
        "id": "zbfD9HqS7h0T"
      },
      "execution_count": null,
      "outputs": []
    },
    {
      "cell_type": "code",
      "source": [
        "#sample\n",
        "\n",
        "\n",
        "print ('Determine pass or fail')\n",
        "\n",
        "a = int (input ('Enter your English test score:'))\n",
        "\n",
        "if a >= 85:\n",
        "  print ('\"Pass\"')\n",
        "else :                       #if a < 85:\n",
        "  print ('\"Fail\"')\n",
        "\n"
      ],
      "metadata": {
        "colab": {
          "base_uri": "https://localhost:8080/"
        },
        "id": "_7ovfvMTph4s",
        "outputId": "c0216c27-1395-4fa8-e87a-55c348e467a8",
        "collapsed": true
      },
      "execution_count": null,
      "outputs": [
        {
          "output_type": "stream",
          "name": "stdout",
          "text": [
            "Determine pass or fail\n",
            "Enter your English test score:70\n",
            "\"Fail\"\n"
          ]
        }
      ]
    },
    {
      "cell_type": "markdown",
      "source": [
        "---\n",
        "\n",
        "Then the next problem\n",
        "\n",
        "\n",
        "\n",
        "\\\n",
        "\n",
        "Q?\n",
        "\n",
        "\n",
        "\n",
        "What is the program to enter the score of the English test and display the pass / fail / perfect score?\n",
        "\n",
        "85 points or more is \"pass\"\n",
        "\n",
        "If it is 100 points, \"It's a perfect score!\"\n",
        "\n",
        "\"fail\" if less than 85 points\n",
        "\n"
      ],
      "metadata": {
        "id": "2iLgo7fEnMU5"
      }
    },
    {
      "cell_type": "markdown",
      "source": [
        "ーーーーーーーーーーーーーーーーーーーーーーーーーーーーーーーーーーーーーーーー\n",
        "\n",
        "Here are some things to be kept in mind.\n",
        "\n",
        "\n",
        "\\\n",
        "If you write the following in ` if statement`,\n",
        "\n",
        "\n",
        "\n",
        "    if a >= 85:\n",
        "\n",
        "      print ('\"Pass\"')\n",
        "\n",
        "    if a == 100:\n",
        "\n",
        "      print ('\"It's a perfect score\"')\n",
        "\n",
        "    if a < 85:\n",
        "\n",
        "      print ('\"Fail\"')\n",
        "\n",
        "\n",
        "If it is `100 points`, please check what happens in the cell below.\n",
        "\n",
        "\n",
        "\n"
      ],
      "metadata": {
        "id": "CZgh4OYRqePQ"
      }
    },
    {
      "cell_type": "code",
      "source": [
        "#sample\n",
        "#Please input 100\n",
        "\n",
        "print ('Determine pass or fail')\n",
        "\n",
        "a = int (input ('Enter your English test score:'))\n",
        "\n",
        "\n",
        "if a >= 85:\n",
        "  print (\"Pass\")\n",
        "if a == 100:\n",
        "  print (\"It's a perfect score !\")\n",
        "if a < 85:\n",
        "  print (\"Fail\")\n",
        "\n",
        "\n",
        "\n"
      ],
      "metadata": {
        "colab": {
          "base_uri": "https://localhost:8080/"
        },
        "outputId": "e4a51321-c090-498b-d270-537ba3eb3fd9",
        "id": "07vFYZbK6un-",
        "collapsed": true
      },
      "execution_count": null,
      "outputs": [
        {
          "output_type": "stream",
          "name": "stdout",
          "text": [
            "Determine pass or fail\n",
            "Enter your English test score:100\n",
            "Pass\n",
            "It is a perfect score !\n"
          ]
        }
      ]
    },
    {
      "cell_type": "markdown",
      "source": [
        "ーーーーーーーーーーーーーーーーーーーーーーーーーーーーーーーーーーーーーーーー\n",
        "\n",
        "It may good as 100 points is both \" pass \" and \" perfect score \",\n",
        "\n",
        "but in this case we would like to display \" perfect score\" only.\n",
        "\n",
        "\\\n",
        "Change `if` to` elif` and `else`, and check what happen if you input 100.\n",
        "\n"
      ],
      "metadata": {
        "id": "KjDxRbSd9sDE"
      }
    },
    {
      "cell_type": "code",
      "source": [
        ""
      ],
      "metadata": {
        "id": "xl-iQPlhAwXS"
      },
      "execution_count": null,
      "outputs": []
    },
    {
      "cell_type": "code",
      "source": [
        "#sample\n",
        "#Please input 100\n",
        "\n",
        "print ('Determine pass or fail')\n",
        "\n",
        "a = int (input ('Enter your English test score:'))\n",
        "\n",
        "\n",
        "if a >= 85:\n",
        "  print ('Pass')\n",
        "elif a == 100:\n",
        "  print ('It is a perfect score !')\n",
        "else:\n",
        "  print ('Fail')\n",
        "\n"
      ],
      "metadata": {
        "colab": {
          "base_uri": "https://localhost:8080/"
        },
        "outputId": "d5d29919-6f2e-4b3a-9c3a-c9ae5e8a89ac",
        "id": "wfAlnH_PAwre",
        "collapsed": true
      },
      "execution_count": null,
      "outputs": [
        {
          "output_type": "stream",
          "name": "stdout",
          "text": [
            "Determine pass or fail\n",
            "Enter your English test score:100\n",
            "Pass\n"
          ]
        }
      ]
    },
    {
      "cell_type": "markdown",
      "source": [
        "\n",
        "In order not to change the orderof the case, \n",
        "\n",
        "it is necessary to change the `if statement`.\n",
        "\n",
        "\n",
        "\\\n",
        "Check the case of 100 points with the code below\n",
        "\n"
      ],
      "metadata": {
        "id": "kqgbpIpX-Mlg"
      }
    },
    {
      "cell_type": "code",
      "source": [
        "#sample\n",
        "#Please input 100\n",
        "\n",
        "print ('determine pass or fail')\n",
        "\n",
        "a = int (input ('Enter your English test score:'))\n",
        "\n",
        "if a >= 85 and 100 > a:\n",
        "  print (\"Pass\")\n",
        "elif a == 100:\n",
        "  print (\"It's a perfect score\")\n",
        "else:\n",
        "  print (\"Fail\")\n",
        "\n"
      ],
      "metadata": {
        "id": "t_IXS2Lm7p3Z",
        "colab": {
          "base_uri": "https://localhost:8080/"
        },
        "outputId": "0a2b71e3-259f-47c2-d9e0-df99764c61da",
        "collapsed": true
      },
      "execution_count": null,
      "outputs": [
        {
          "output_type": "stream",
          "name": "stdout",
          "text": [
            "determine pass or fail\n",
            "Enter your English test score:100\n",
            "It's a perfect score\n"
          ]
        }
      ]
    },
    {
      "cell_type": "markdown",
      "source": [
        "A simpler code is switching `a> = 85` and `a == 100`in the `if statement`.\n"
      ],
      "metadata": {
        "id": "vTEl73QM-hWU"
      }
    },
    {
      "cell_type": "code",
      "source": [
        "#sample\n",
        "#Please input 100\n",
        "\n",
        "print ('determine pass or fail')\n",
        "\n",
        "a = int (input ('Enter your English test score:'))\n",
        "\n",
        "if a == 100:\n",
        "  print (\"It's a perfect score\")\n",
        "elif a >= 85:\n",
        "  print (\"Pass\")\n",
        "else:\n",
        "  print (\"Fail\")\n",
        "\n",
        "\n"
      ],
      "metadata": {
        "id": "oasEvk8i8mA2",
        "colab": {
          "base_uri": "https://localhost:8080/"
        },
        "outputId": "66c5a120-0fc8-42ab-dad1-867d0147d106",
        "collapsed": true
      },
      "execution_count": null,
      "outputs": [
        {
          "output_type": "stream",
          "name": "stdout",
          "text": [
            "determine pass or fail\n",
            "Enter your English test score:90\n",
            "Pass\n"
          ]
        }
      ]
    },
    {
      "cell_type": "markdown",
      "source": [
        "ーーーーーーーーーーーーーーーーーーーーーーーーーーーーーーーーーーーーーーー\n",
        "\n",
        "Other examples where you have to use `elif` or` else` \n",
        "\n",
        "will come back after doing the next `for statement`.\n",
        "\n",
        "\n",
        "ーーーーーーーーーーーーーーーーーーーーーーーーーーーーーーーーーーーーーーー"
      ],
      "metadata": {
        "id": "7-fWRuMgdKz-"
      }
    },
    {
      "cell_type": "markdown",
      "source": [
        "---\n",
        "Q?\n",
        "\n",
        "Calculate the sum from 1 through 10.\n",
        "\n",
        "\\\n",
        "`1 + 2 + 3 + 4 + 5 + 6 + 7 + 8 + 9 + 10`"
      ],
      "metadata": {
        "id": "gp6P-R5Q1dp0"
      }
    },
    {
      "cell_type": "code",
      "source": [
        ""
      ],
      "metadata": {
        "id": "9JRu4neLEmZ8"
      },
      "execution_count": null,
      "outputs": []
    },
    {
      "cell_type": "markdown",
      "source": [
        "---\n",
        "Q?\n",
        "\n",
        "What is the program that \"calculates the sum from 1 to 10\"?\n"
      ],
      "metadata": {
        "id": "lgvnFu6w1dp2"
      }
    },
    {
      "cell_type": "markdown",
      "source": [
        "###iteration"
      ],
      "metadata": {
        "id": "jJhAtSCf7GsI"
      }
    },
    {
      "cell_type": "markdown",
      "source": [
        "ーーーーーーーーーーーーーーーーーーーーーーーーーーーーーーーーーーーーーーーーー\n",
        "\n",
        "As an image of the program is as\n",
        "\n",
        "\n",
        "\n",
        "\"If you take out the cards from 1 to 10 in order and put them in the box, \n",
        "\n",
        "the sum's display of the box will increase in order.\".\n",
        "\n",
        "\n",
        "\\\n",
        "At first set the box `sum` variable to put 0 in `sum`.\n",
        "\n",
        "    sum = 0\n",
        "\n",
        "The Box is called `variable`\n",
        "\n",
        "\\\n",
        "It is as a `variable` because the sum of `sum` varies every time you enter a number.\n",
        "\n",
        "\n",
        "\\\n",
        "The name of the variable does not have to be `sum`, but even `s` or `a` is OK, \n",
        "\n",
        "and you decide it yourself.\n",
        "\n",
        "\\\n",
        "Naming `sum` is to be understood easier what this variable is.\n",
        "\n",
        "\n",
        "\\\n",
        "The image is that numbers from 1 to 10 are taken out in order and added to \n",
        "\n",
        "`sum` which is 0 at the beginning.\n",
        "\n",
        "\n",
        "\n",
        "\\\n",
        "\n",
        "Use `for statement`, which is a code that expresses repeating fetching numbers \n",
        "\n",
        "in order from 1 to 10.\n",
        "\n",
        "\n",
        "\\\n",
        "`for statements` is a program to repeat some process and will come out \n",
        "\n",
        "as many as` if` in the future.\n",
        "\n",
        "\n",
        "\n",
        "Check [ Check it Out ] below later\n",
        "\n",
        "\\\n",
        "\n",
        "The structure of `for statement` is\n",
        "\n",
        "\\\n",
        "`for variable in (a set of numbers or values):`\n",
        "\n",
        "& emsp; `(operation process)`\n",
        "\n",
        "\n",
        "\\\n",
        "`Variable` in the above statement is the same as `sum` \n",
        "\n",
        "and you can do it yourself.\n",
        "\n",
        "\n",
        "\\\n",
        "If the code is \"assign from 1 to 10 in order to variables\"\n",
        "\n",
        "    for n in range(1, 11):\n",
        "\n",
        "In the case of up to 10, write `range (1, 11)` because it is `up to before` 11.\n",
        "\n",
        "\n",
        "\\\n",
        "It is important not to write `range (1, 10)`\n",
        "\n",
        "\n",
        "\\\n",
        "――――――――――――――――――――――――――――――――――――――――――――――――\n",
        "\n",
        "\n",
        "\n",
        "It's a little complex explanation, but\n",
        "\n",
        "\n",
        "\\\n",
        "The `for statement` is the work of \"extracting data one by one\" \n",
        "\n",
        "from \"a set of data such as numbers and characters\".\n",
        "\n",
        "\n",
        "\\\n",
        "This is called `iterative processing`.\n",
        "\n",
        "\n",
        "\\\n",
        "One of repeating process is called `iteration`, and I think it's a word \n",
        "\n",
        "we'll often hear thereafter.\n",
        "\n",
        "\n",
        "\\\n",
        "The verb is `iterate` meaning repeat.\n",
        "\n",
        "\n",
        "\\\n",
        "Extract one by one from contents (called `elements`) of the `dictionary type data` \n",
        "\n",
        "that came out a little before and the `list type data` that will come out one by one.\n",
        "\n",
        "\n",
        "\\\n",
        "`for` that can work like above  is called ` iterator`.\n",
        "\n",
        "\\\n",
        "`Dictionary` and `list` are iterated by `for statement`, \n",
        "\n",
        "so hey are called `iterable object` that can be iterable proceeded.\n",
        "\n",
        "\n",
        "\\\n",
        "――――――――――――――――――――――――――――――――――――――――――――――――\n",
        "\n",
        "`n` is a `variable` that puts the number extracted from 1 to 10, \n",
        "\n",
        "and you may see` i` more often than `n` in the `for statement`. \n",
        "\n",
        "\n",
        "\n",
        "\\\n",
        "\n",
        "Don't forget to add `: (colon)` at the end of for statement.\n",
        "\n",
        "\n",
        "\n",
        "`:` is `colon` and `;` is `semi-colon`.\n",
        "\n",
        "\n",
        "\n",
        "\\\n",
        "\n",
        "`range (1, 11):` represents integers in the range from 1 to 10.\n",
        "\n",
        "\\\n",
        "Note that from 1 to 10, it will be `range(1,11):`\n",
        "\n",
        "\n",
        "\n",
        "If it is from 1 to 15, it will be `range(1,16):`\n",
        "\n",
        "\n",
        "\\\n",
        "There is also a way to write `for n in 1, 2, 3, 4, 5, 6, 7, 8, 9, 10:`,\n",
        "\n",
        "\n",
        "\n",
        "It's hard to write when the range is large.\n",
        "\n",
        "\n",
        "\\\n",
        "Write the code \"assign the number to n from 1 to 10 in order \n",
        "\n",
        "and add that n to sum\" as below\n",
        "\n",
        "    for n in range(1,11):\n",
        "      sum += n\n",
        "\n",
        "Since these two lines are grouped together, `sum + = n` should be \n",
        "\n",
        "a little lower than the for statement which is caleed `indent`.\n",
        "\n",
        "\\\n",
        "If you add `:` correctly and press enter key, Colab will indent automatically.\n",
        "\n",
        "The `indent` represents a `group of repetitive processing operations`\n",
        "\n",
        "same as indent of `if statement`.\n",
        "\n",
        "\\\n",
        "\n",
        "As for  `sum + = n`,\n",
        "\n",
        "you can write `sum = sum + n`, but` + = `is an operator for writing abbreviated.\n",
        "\n",
        "It is called the `assignment operator` (often used).\n",
        "\n",
        "Check the `assignment operator` below\n",
        "\n",
        "\n",
        "\\\n",
        "The image of this procedure is  \"add` n` to the `sum` that contains the sum \n",
        "\n",
        "so far, and replace `sum` that is contained additional `n`. \"\n",
        "\n",
        "\n",
        " \n",
        "\n",
        "\\\n",
        "\n",
        "When `n` is repeated from 1 to 10, `for statement` ends and\n",
        "\n",
        "finally, `print (sum)` displays `sum`, which is the sum of 1 to 10.\n",
        "\n",
        "\n",
        "\\\n",
        "Since the procedure of `print (sum)` is not included in a group of procedure of `for statement`,\n",
        "\n",
        "the position of writing `print(sum)` is the same position as `sum = 0` or` for n in range (1, 11): `\n",
        "\n",
        "\n",
        "\\\n",
        "\n",
        "Finally, to summarize the code,\n",
        "\n",
        "\n",
        "\n",
        "    sum = 0\n",
        "\n",
        "    for n in range(1,11):\n",
        "      sum += n\n",
        "\n",
        "    print(sum)\n",
        "\n",
        "\\\n"
      ],
      "metadata": {
        "id": "fykgwFPv1dp2"
      }
    },
    {
      "cell_type": "markdown",
      "source": [
        "---\n",
        "Check it out\n",
        "\n",
        "When a computer reads a program and moves (calculates), there are only three ways for move.\n",
        "\n",
        "Computer is such a simple machine.\n",
        "\n",
        "\\\n",
        "(1) Read programs in order (from top to bottom sequently) \n",
        "\n",
        "\\\n",
        "(2) Move repeatedly\n",
        "\n",
        "\\\n",
        "(3) Movements are classified according to conditions (conditional branching / → case classification)\n",
        "\n",
        "\\\n",
        "(2) is `for statement` and (3) is `if statement`.\n"
      ],
      "metadata": {
        "id": "-pu__tRSZiz4"
      }
    },
    {
      "cell_type": "markdown",
      "metadata": {
        "id": "mjD1_kjAaPOL"
      },
      "source": [
        "---\n",
        "\n",
        "Operator to assign\n",
        "\n",
        "\\\n",
        "There is a symbol called the `operator` that means various operations\n",
        "\n",
        "\n",
        "\n",
        "Here, it is called `assignment operator`\n",
        "\n",
        "which add, subtract, multiply, divide the number in the variable, and put the result back in the variable.\n",
        "\n",
        "\n",
        "\\\n",
        "`=` Is also an assignment operator, and the operation is \"assign\".\n",
        "\n",
        "\\\n",
        "\n",
        "| Operation | Symbol |\n",
        "|:------:|:------:|\n",
        "| Assign | `=` |\n",
        "| Add and assgin | `+ =` |\n",
        "| Subtract and assign | `-=` |\n",
        "| Multiply and assign | `* =` |\n",
        "| Divide and assign | `/ =` |\n",
        "\n",
        "\\\n"
      ]
    },
    {
      "cell_type": "markdown",
      "source": [
        "---\n",
        "\n",
        "Here is the same program explained above in the code cell.\n",
        "\n",
        "    sum = 0\n",
        "\n",
        "    for n in range(1, 11):\n",
        "      sum += n\n",
        "\n",
        "    print(sum)\n",
        "\n",
        " Is `sum += n` indented? \n",
        "\n",
        "Write correctly by yourself and run ▶\n",
        "\n",
        "\n"
      ],
      "metadata": {
        "id": "yshkXugV1dp3"
      }
    },
    {
      "cell_type": "code",
      "source": [
        ""
      ],
      "metadata": {
        "id": "tzviRom31dp4"
      },
      "execution_count": null,
      "outputs": []
    },
    {
      "cell_type": "markdown",
      "source": [
        "\n",
        "It's okay to write as below, but it's hard when it's 1 to 100.\n",
        "\n",
        "    sum = 0\n",
        "\n",
        "    for n in 1, 2, 3, 4, 5, 6, 7, 8, 9, 10:\n",
        "      sum += n\n",
        "\n",
        "    print(sum)\n",
        "\n"
      ],
      "metadata": {
        "id": "8-XUP9HpHArz"
      }
    },
    {
      "cell_type": "code",
      "source": [
        ""
      ],
      "metadata": {
        "id": "P1LenJJFHoWw"
      },
      "execution_count": null,
      "outputs": []
    },
    {
      "cell_type": "markdown",
      "source": [
        "###Function (sum 1 to 10)"
      ],
      "metadata": {
        "id": "grEzTLW1zX2m"
      }
    },
    {
      "cell_type": "markdown",
      "source": [
        "---\n",
        "Q?\n",
        "\n",
        "What is the function that \"calculates the sum from 1 to 10\"?\n"
      ],
      "metadata": {
        "id": "_B9o-jwYzX2m"
      }
    },
    {
      "cell_type": "markdown",
      "source": [
        "ーーーーーーーーーーーーーーーーーーーーーーーーーーーーーーーーーーーーーーーー\n",
        "\n",
        "All you have to do is changing the program of calculating the sum from 1 to 10\n",
        "\n",
        "to the function program.\n",
        "\n",
        "The program we made before is below\n",
        "\n",
        "```Python\n",
        "sum = 0\n",
        "for n in range(1,11):\n",
        "  sum += n\n",
        "print(sum)\n",
        "\n",
        "```\n",
        "When we create a finction, we define it by using `def`.\n",
        "\n",
        "    def sum(n):\n",
        "\n",
        "Following 3 rows are the same as above\n",
        "\n",
        "and after process function `return` the value, use `return`.\n",
        "\n",
        "```Python\n",
        "      sum = 0\n",
        "      for n in range(1,11):\n",
        "        sum += n\n",
        "      return(sum)\n",
        "\n",
        "```\n",
        "In order to run(=call) this function,\n",
        "\n",
        "    sum(10)\n",
        "    "
      ],
      "metadata": {
        "id": "Lv3yCmTIzX2m"
      }
    },
    {
      "cell_type": "code",
      "source": [
        "#sample\n",
        "\n",
        "def sum(n):\n",
        "  sum = 0\n",
        "  for n in range(1, 11):\n",
        "    sum += n\n",
        "  return sum\n",
        "\n",
        "sum(10)"
      ],
      "metadata": {
        "colab": {
          "base_uri": "https://localhost:8080/"
        },
        "outputId": "5d56dc90-5b6b-4960-9d9c-3edcb0afaf96",
        "id": "grLeFTmOzX2m",
        "collapsed": true
      },
      "execution_count": null,
      "outputs": [
        {
          "output_type": "execute_result",
          "data": {
            "text/plain": [
              "55"
            ]
          },
          "metadata": {},
          "execution_count": 12
        }
      ]
    },
    {
      "cell_type": "markdown",
      "source": [
        "---\n",
        "Q?\n",
        "\n",
        "Calculate the product from 1 to 10\n",
        "\n",
        "\\\n",
        "`1 * 2 * 3 * 4 * 5 * 6 * 7 * 8 * 9 * 10`"
      ],
      "metadata": {
        "id": "wXDfPetJ1dp4"
      }
    },
    {
      "cell_type": "code",
      "source": [
        ""
      ],
      "metadata": {
        "id": "ntFQ4siv1dp5"
      },
      "execution_count": null,
      "outputs": []
    },
    {
      "cell_type": "markdown",
      "source": [
        "ーーーーーーーーーーーーーーーーーーーーーーーーーーーーーーーーーーーーーーー\n",
        "\n",
        "The symbol representing the product from 1 to 10 is `10! `\n",
        "\n",
        "\\\n",
        "`!`is usually called the\" exclamation mark \", but the official name is` factorial`.\n",
        "\n",
        "\\\n",
        "`10! = 362880`\n",
        "\n",
        "\\\n",
        "It is nothing related here, just as a topic\n",
        "\n",
        "\\\n",
        "The calculation result of `4! + 0! + 5! + 8! + 5!` is\n",
        "\n",
        "\n",
        "`40585`\n",
        "\n",
        "\n",
        "\\"
      ],
      "metadata": {
        "id": "RJMOiA821dp5"
      }
    },
    {
      "cell_type": "code",
      "source": [
        ""
      ],
      "metadata": {
        "id": "O_wtH_wC1dp6"
      },
      "execution_count": null,
      "outputs": []
    },
    {
      "cell_type": "markdown",
      "source": [
        "---\n",
        "Q?\n",
        "\n",
        "What is the program that \"calculates the product from 1 to 10\"?\n",
        "\n"
      ],
      "metadata": {
        "id": "RFwi7NM51dp6"
      }
    },
    {
      "cell_type": "code",
      "source": [
        ""
      ],
      "metadata": {
        "id": "wW66jf_ij7TJ"
      },
      "execution_count": null,
      "outputs": []
    },
    {
      "cell_type": "markdown",
      "source": [
        "ーーーーーーーーーーーーーーーーーーーーーーーーーーーーーーーーーーーーーーーーーーーーーーー\n",
        "\n",
        "The method is the same as in the case of sum.\n",
        "\n",
        "\\\n",
        "Create a box (variable) of products called `product` and\n",
        "\n",
        "set to 1 at first.\n",
        "\n",
        "\n",
        "\\\n",
        "The name does not have to be `product`, it can be `p` or `x`, so decide for yourself\n",
        "\n",
        "\n",
        "\\\n",
        "Unlike the case of sum, think about the reason why it is not set to `0`.\n",
        "\n",
        "\n",
        "\n",
        "\\\n",
        "\n",
        "The product is a result of multiplication, so use `*=` as `assignment operator`.\n",
        "\n",
        "\n",
        "\\\n",
        "`\" Multiply the number in the product(variable) by n and `\n",
        "\n",
        "`put the product into the product(variable) again \"`\n",
        "\n",
        "\n",
        "\\\n",
        "So, the name `product` is the same and the number in `product` varies.\n",
        "\n",
        "Tha's the reason it is called `variable`.\n",
        "\n",
        "\n",
        "\n",
        "\\\n",
        "Here is code.\n",
        "\n",
        "    product = 1\n",
        "\n",
        "    for n in range(1, 11):\n",
        "      product *= n\n",
        "\n",
        "    print(product)\n",
        "\n",
        "\\\n"
      ],
      "metadata": {
        "id": "00H8kF9m1dp6"
      }
    },
    {
      "cell_type": "code",
      "source": [
        ""
      ],
      "metadata": {
        "id": "h4LdvDDt9axh"
      },
      "execution_count": null,
      "outputs": []
    },
    {
      "cell_type": "markdown",
      "source": [
        "---\n",
        "Q?\n",
        "\n",
        "What is the program of function that calculates `n ! `and returns the outcome when a positive integer n is input?\n"
      ],
      "metadata": {
        "id": "2b_JEbjRq2PZ"
      }
    },
    {
      "cell_type": "markdown",
      "source": [
        "ーーーーーーーーーーーーーーーーーーーーーーーーーーーーーーーーーーーーーーー\n",
        "\n",
        "Use `def` to define the function, the function name is` factorial () `meaning factorial, and the argument is` n`.\n",
        "\n",
        "    def factorial (n):\n",
        "\n",
        "The code to calculate `n !` is almost same as the above code.\n",
        "\n",
        "\\\n",
        "Since it is a product, the product comes to same even if the order is reversed, \n",
        "\n",
        "so `range (1, n + 1)` is fine, but\n",
        "\n",
        "change the code to  `range (n, 0, -1)` representing `from n to 1 `.\n",
        "\n",
        "\\\n",
        "Represented by `range (start, stop, step)`, `start` is the first number,\n",
        "\n",
        "` stop` is one before the last number,\n",
        "\n",
        "and `step` represents the difference.\n",
        "\n",
        "\\\n",
        "`range (n, 0, -1)` means \"decrease by 1 (increase by -1) from n to 1\".\n",
        "\n",
        "\\\n",
        "The code to process is\n",
        "\n",
        "    product = 1\n",
        "    for i in range (n, 0, -1):\n",
        "      product * = i\n",
        "    return (product)"
      ],
      "metadata": {
        "id": "2MyTzhHfxB7M"
      }
    },
    {
      "cell_type": "code",
      "source": [
        ""
      ],
      "metadata": {
        "id": "UNkXfDdwOxCN"
      },
      "execution_count": null,
      "outputs": []
    },
    {
      "cell_type": "markdown",
      "source": [
        "### end="
      ],
      "metadata": {
        "id": "QNaDL8d6n1Jo"
      }
    },
    {
      "cell_type": "markdown",
      "source": [
        "---\n",
        "Q?\n",
        "\n",
        "What is the program to extract each character of the English word Hello and\n",
        "\n",
        "display it by separating the characters with `,` (comma)?\n",
        "\n",
        "\n"
      ],
      "metadata": {
        "id": "p8859bYgxGYp"
      }
    },
    {
      "cell_type": "markdown",
      "source": [
        "ーーーーーーーーーーーーーーーーーーーーーーーーーーーーーーーーーーーーーーーー\n",
        "\n",
        "You can also use the `for statement` to \"extract a character one by one\".\n",
        "\n",
        "\n",
        "\\\n",
        "`for statement` can also be used for string, so take a character out repeatedly \n",
        "\n",
        "and put it in variable`x`, and output it with` print`.\n",
        "\n",
        "\\\n",
        "Since it is separated by `,`, use `end =','` at the end of `print()`.\n",
        "\n",
        "\n",
        "\\\n",
        "As `print ()` is also included in the repeated operation, \n",
        "\n",
        "it is within `for statement` indent.\n",
        " \n",
        "    for x in \"Hello\":\n",
        "      print(x, end=',')\n",
        "\n",
        "If you want to put a space after `,`, put a space such as `end =',  '`\n",
        "\n",
        "\n",
        "\\\n"
      ],
      "metadata": {
        "id": "JPSfH_tbxwOS"
      }
    },
    {
      "cell_type": "code",
      "source": [
        ""
      ],
      "metadata": {
        "id": "Rl9r1zlDzpo-"
      },
      "execution_count": null,
      "outputs": []
    },
    {
      "cell_type": "markdown",
      "source": [
        "---\n",
        "Q?\n",
        "\n",
        "What is the program that creates the sequence of 7, 10, 13, 16, 19, 22, 25, 28, 31, 34?\n",
        "\n"
      ],
      "metadata": {
        "id": "-GyELBvs1dp7"
      }
    },
    {
      "cell_type": "markdown",
      "source": [
        "ーーーーーーーーーーーーーーーーーーーーーーーーーーーーーーーーーーーーーーーー\n",
        "\n",
        "This sequence is an arithmetic progression with 7 at the beginning \n",
        "\n",
        "with 3 equal difference, and 10 number are lined up.\n",
        "\n",
        "\n",
        "\\\n",
        "As you know, the fifth number is calculated as `7 + 3 $\\times$ (5 - 1)`, so\n",
        "\n",
        "the n_th number can be expressed as `7 + 3 $\\times$ (n - 1)`.\n",
        "\n",
        "\n",
        "\n",
        "\\\n",
        "By setting `range (1,11):`, put 1 to 10 in `n`\n",
        "\n",
        "\n",
        "\\\n",
        "Calculate `n` in order by the formula 7 + 3 * (n - 1).\n",
        "\n",
        "\n",
        "\n",
        "Program code is \n",
        "\n",
        "\n",
        "\\\n",
        "\n",
        "    for n in range(1, 11):\n",
        "      print(7 + 3 * (n - 1), end=', ')\n",
        "\n",
        "\\\n",
        "\n",
        "If you add `end =','`, a line break will not occur every print and \n",
        "\n",
        "a comma will be added after the number.\n",
        "\n"
      ],
      "metadata": {
        "id": "BQZR6d5U9wDA"
      }
    },
    {
      "cell_type": "code",
      "source": [
        ""
      ],
      "metadata": {
        "id": "8Av6j39uVoGq"
      },
      "execution_count": null,
      "outputs": []
    },
    {
      "cell_type": "markdown",
      "source": [
        "ーーーーーーーーーーーーーーーーーーーーーーーーーーーーーーーーーーーーーーーー\n",
        "\n",
        "In Python, variable`n` is often moved from 0 and written as below.\n",
        "\n",
        "    for n in range(0, 10):\n",
        "      print(7 + 3 * n), end=', ')\n",
        "\n",
        "\\\n",
        "\n",
        "Furthermore, when moving from 0, 0 is omitted.\n",
        "\n",
        "    for n in range(10):\n",
        "\n"
      ],
      "metadata": {
        "id": "MiTtjXvj1dp8"
      }
    },
    {
      "cell_type": "code",
      "source": [
        ""
      ],
      "metadata": {
        "id": "DkXMdBeaIzXI"
      },
      "execution_count": null,
      "outputs": []
    },
    {
      "cell_type": "markdown",
      "source": [
        "---\n",
        "Q?\n",
        "\n",
        "What is the program to calculate\n",
        "\n",
        "4 ＋ 16 ＋ 64 ＋ 256 ＋ 1024 ＋ 4096 ＋ 16384\n",
        "\n"
      ],
      "metadata": {
        "id": "S2_cM5va1dp-"
      }
    },
    {
      "cell_type": "markdown",
      "source": [
        "ーーーーーーーーーーーーーーーーーーーーーーーーーーーーーーーーーーーーーーー\n",
        "\n",
        "Numbers in line are numbers of product of multiplication of 4 once, \n",
        "\n",
        "then 4 twice, then 4 three times, ..., and finally four seven times.\n",
        "\n",
        "\n",
        "\\\n",
        "Let `n` be the number of orders, `n` is from 1 to 7, and repeat `4 ** n`.\n",
        "\n",
        "\\\n",
        "Code is \n",
        "\n",
        "    sum = 0\n",
        "\n",
        "    for n in range(1, 8):\n",
        "      sum += 4**n\n",
        "\n",
        "    print(s)\n"
      ],
      "metadata": {
        "id": "MJTMd4vj1dp-"
      }
    },
    {
      "cell_type": "code",
      "source": [
        ""
      ],
      "metadata": {
        "id": "9UGtxa7w1dp_"
      },
      "execution_count": null,
      "outputs": []
    },
    {
      "cell_type": "markdown",
      "source": [
        "---\n",
        "Q?\n",
        "\n",
        "\n",
        "What is the program that counts down to 5, 4, 3, 2, 1 and displays \n",
        "\n",
        "\"Congratulations!\" at the end?\n",
        "\n"
      ],
      "metadata": {
        "id": "_Q5Oqt8X1dp_"
      }
    },
    {
      "cell_type": "markdown",
      "source": [
        "ーーーーーーーーーーーーーーーーーーーーーーーーーーーーーーーーーーーーー\n",
        "\n",
        "Decide a variable named `countdown`and \n",
        "\n",
        "put` 5, 4, 3, 2, 1, \"Congratulations!\"`after `in` the variable in order.\n",
        "\n",
        "\\\n",
        "Display with `print` each time\n",
        "\n",
        "\n",
        "\\\n",
        "You can put letters as well as numbers in variable.\n",
        "\n",
        "\n",
        "\n",
        "\\\n",
        "\n",
        "The `for statement` is from ` for (variable) in sequential list: `\n",
        "\n",
        "to the `indented part of processing`.\n",
        "\n",
        "\n",
        "\\\n",
        "In this case, `print` is also within the indented part \n",
        "\n",
        "because it is repeatedly processing up to `print` as one set.\n",
        "\n",
        "\n",
        "\n",
        "\\\n",
        "\n",
        "The code is\n",
        "\n",
        "\\\n",
        "\n",
        "    for countdown in 5, 4, 3, 2, 1,\" Congratulations! \":\n",
        "      print(countdown)\n",
        "\n",
        "\n",
        "\n",
        "\\\n"
      ],
      "metadata": {
        "id": "NQ1KyagupFfG"
      }
    },
    {
      "cell_type": "code",
      "source": [
        ""
      ],
      "metadata": {
        "id": "iq7sj4DTa0Wp"
      },
      "execution_count": null,
      "outputs": []
    },
    {
      "cell_type": "code",
      "source": [
        ""
      ],
      "metadata": {
        "id": "o1Bk1luCX5OW"
      },
      "execution_count": null,
      "outputs": []
    },
    {
      "cell_type": "markdown",
      "source": [
        "###swap"
      ],
      "metadata": {
        "id": "07KmuGH4qsqx"
      }
    },
    {
      "cell_type": "markdown",
      "source": [
        "---\n",
        "Q?\n",
        "\n",
        "What is the program that creates a sequence of 1, 1, 2, 3, 5, 8, 13, 21, 34, 55?\n",
        "\n",
        "\n",
        "\n"
      ],
      "metadata": {
        "id": "5mtUbTdE1dqA"
      }
    },
    {
      "cell_type": "markdown",
      "source": [
        "ーーーーーーーーーーーーーーーーーーーーーーーーーーーーーーーーーーーーー\n",
        "\n",
        "As you may know, this is Fibonacci sequence that comes up even in math problems.\n",
        "\n",
        "\\\n",
        "Structure of sequence is \n",
        "\n",
        "3rd = 1st + 2nd, 4th = 2nd + 3rd, ...\n",
        "\n",
        "\\\n",
        "Be careful about how to determine variables.\n",
        "\n",
        "\n",
        "\n",
        "\\\n",
        "Code is \n",
        "\n",
        "    a = 0\n",
        "    b = 1\n",
        "\n",
        "    for i in range(0,10):\n",
        "      print(b)\n",
        "      a, b = b, a + b\n",
        "\n",
        "\\\n",
        "Lines 1 and 2 can also be written as `a, b = 0, 1`\n",
        "\n",
        "\n",
        "\n",
        "\\\n",
        "The last line (`a, b = b, a + b`) is said as `swap` of variables.\n",
        "\n",
        "\n",
        "\\\n",
        "It is an operation of `putting the number of b in a and putting the number of a + b in b at the same time`.\n",
        "\n",
        "\n",
        "\\\n",
        "`a = b`\n",
        "\n",
        "`b = a + b`\n",
        "\n",
        "If you write above, it will be processed in the order of the formulas, but since `a, b = b, a + b` are processed at once.\n",
        "\n",
        "\\\n",
        "Note that the calculation results are different\n",
        "\n",
        "\\\n",
        "If `print (b)` is set to `print (b, end =', ')`, `,`(comma) and a half-width space will be added after the number without line breaks.\n",
        "\n",
        "\n"
      ],
      "metadata": {
        "id": "x2ZQt_y7qWDY"
      }
    },
    {
      "cell_type": "code",
      "source": [
        ""
      ],
      "metadata": {
        "id": "T-QHHQwy1dqB"
      },
      "execution_count": null,
      "outputs": []
    },
    {
      "cell_type": "markdown",
      "source": [
        "---\n",
        "Q?\n",
        "\n",
        "What is the function that outputs the n_th Fibonacci number?\n",
        "\n",
        "\\\n",
        "And, what is the program outputs all Fibonacci numbers up to the n_th \n",
        "\n",
        "using the above function?\n",
        "\n"
      ],
      "metadata": {
        "id": "CNCO8HIFkLfG"
      }
    },
    {
      "cell_type": "markdown",
      "source": [
        "ーーーーーーーーーーーーーーーーーーーーーーーーーーーーーーーーーーーーーーーーーーーー\n",
        "\n",
        "As for the function mechanism, the code created above can be used as it is.\n",
        "\n",
        "\\\n",
        "The difference is that the function \"returns\" the calculation result, so it uses `return`.\n",
        "\n",
        "\\\n",
        "Create a function definition with the function name as `Fibo` and the argument as` n`.\n",
        "\n",
        "    def Fibo (n):\n",
        "\n",
        "The processing content is the same as above.\n",
        "\n",
        "    a = 0\n",
        "    b = 1\n",
        "    for i in range (n):\n",
        "        a, b = b, a + b\n",
        "    return b\n",
        "\n",
        "When we call function with n = 100, write\n",
        "\n",
        "    Fibo(100)\n",
        "\n",
        "\\\n",
        "We've already done the code to output the sequence.\n",
        "\n",
        "\\\n",
        "The variable `n` and `i`used in the above`for statement`,\n",
        "\n",
        "here we use `j`.\n",
        "\n",
        "    for j in range (0, 100):\n",
        "      print (Fibo(j), end =',')\n",
        "\n",
        "\\\n",
        "The above part is as follows using the list comprehension.\n",
        "\n",
        "    print([Fibo(j) for j in range(100)])  "
      ],
      "metadata": {
        "id": "cv8jMrU-j4IA"
      }
    },
    {
      "cell_type": "code",
      "source": [
        ""
      ],
      "metadata": {
        "id": "exjjEhVBeS4e"
      },
      "execution_count": null,
      "outputs": []
    },
    {
      "cell_type": "code",
      "metadata": {
        "colab": {
          "base_uri": "https://localhost:8080/"
        },
        "outputId": "2529347f-9430-4ca8-e857-192177275a52",
        "id": "Kjvb1RjSeTbc",
        "collapsed": true
      },
      "source": [
        "#sample\n",
        "\n",
        "def Fibo(n):\n",
        "    a, b = 0, 1\n",
        "    for i in range(n):\n",
        "        a, b = b, a + b\n",
        "    return b                 #print(b) is OK\n",
        "\n",
        "print([Fibo(j) for j in range(100)])  \n",
        "\n",
        "Fibo(100)"
      ],
      "execution_count": null,
      "outputs": [
        {
          "output_type": "stream",
          "name": "stdout",
          "text": [
            "[1, 1, 2, 3, 5, 8, 13, 21, 34, 55, 89, 144, 233, 377, 610, 987, 1597, 2584, 4181, 6765, 10946, 17711, 28657, 46368, 75025, 121393, 196418, 317811, 514229, 832040, 1346269, 2178309, 3524578, 5702887, 9227465, 14930352, 24157817, 39088169, 63245986, 102334155, 165580141, 267914296, 433494437, 701408733, 1134903170, 1836311903, 2971215073, 4807526976, 7778742049, 12586269025, 20365011074, 32951280099, 53316291173, 86267571272, 139583862445, 225851433717, 365435296162, 591286729879, 956722026041, 1548008755920, 2504730781961, 4052739537881, 6557470319842, 10610209857723, 17167680177565, 27777890035288, 44945570212853, 72723460248141, 117669030460994, 190392490709135, 308061521170129, 498454011879264, 806515533049393, 1304969544928657, 2111485077978050, 3416454622906707, 5527939700884757, 8944394323791464, 14472334024676221, 23416728348467685, 37889062373143906, 61305790721611591, 99194853094755497, 160500643816367088, 259695496911122585, 420196140727489673, 679891637638612258, 1100087778366101931, 1779979416004714189, 2880067194370816120, 4660046610375530309, 7540113804746346429, 12200160415121876738, 19740274219868223167, 31940434634990099905, 51680708854858323072, 83621143489848422977, 135301852344706746049, 218922995834555169026, 354224848179261915075]\n"
          ]
        }
      ]
    },
    {
      "cell_type": "markdown",
      "source": [
        "### Description of List\n",
        "\n",
        "\n",
        "\\\n",
        "`List` is a box for storing data such as number and characters \n",
        "\n",
        "same as `Dictionary` that came out a little before while practicing input.\n",
        "\n",
        "\\\n",
        "Correctly called `Data structure`\n",
        "\n",
        "\n",
        "\\\n",
        "Each piece of data contained in List is called `Element`.\n",
        "\n",
        "\n",
        "\\\n",
        "It often appears in `for statement`, so let's remember.\n",
        "\n",
        "\n",
        "\n",
        "\\\n",
        "\n",
        "`List` cotains several values​​(numbers, string, etc.) which are arranged by\n",
        "\n",
        " separating them with `,` (comma) and they are enclosed in `[]` brackets.\n",
        "\n",
        "\n",
        "\\\n",
        "Again, each value in List is `Element` separated by`, `(comma) and the parentheses.\n",
        "\n",
        "` [] `parentheses\" is important.\n",
        "\n",
        "\n",
        "\n",
        "\\\n",
        "\n",
        "List can also be put in variable and it is often put in variable\n",
        "\n",
        "which is same treatment as number, string or variable\n",
        "\n",
        "\n",
        "\n",
        "\\\n",
        "\n",
        "For more information about lists → [List](https://colab.research.google.com/github/tproffen/ORCSGirlsPython/blob/master/Algorithms/Lists.ipynb)\n",
        "\n",
        "\n",
        "\n",
        "\\"
      ],
      "metadata": {
        "id": "VRJtjJBNLRED"
      }
    },
    {
      "cell_type": "markdown",
      "source": [
        "ーーーーーーーーーーーーーーーーーーーーーーーーーーーーーーーーーーーーー\n",
        "\n",
        "When outputting a list containing 10, 3, 8, 2, 6 in this order\n",
        "\n",
        "Input below and run\n",
        "\n",
        "\\\n",
        "`[10, 3, 8, 2, 6]`\n",
        "\n",
        "\n",
        "\n",
        "or\n",
        "\n",
        "\n",
        "\n",
        "`print([10, 3, 8, 2, 6])`\n",
        "\n",
        "\n",
        "\n",
        "or\n",
        "\n",
        "\n",
        "\n",
        "`mylist = [10, 3, 8, 2, 6]`\n",
        "\n",
        "\n",
        "\n",
        "`print(mylist)`\n",
        "\n",
        "\n",
        "\\\n",
        "\n",
        "By the way, `list` is not used in list names and variable names.\n",
        "\n",
        "\n",
        "\\\n",
        "Write it as `mylist`,` list1`, or `li`.\n",
        "\n",
        "\n",
        "\\\n",
        "Let's output in the cell below\n",
        "\n"
      ],
      "metadata": {
        "id": "hE-bg3d30pTq"
      }
    },
    {
      "cell_type": "code",
      "source": [
        ""
      ],
      "metadata": {
        "id": "y4OCZtdKxUeq"
      },
      "execution_count": null,
      "outputs": []
    },
    {
      "cell_type": "code",
      "source": [
        "#sample\n",
        "\n",
        "[10, 3, 8, 2, 6]"
      ],
      "metadata": {
        "id": "-qFZGcI4g2kM",
        "colab": {
          "base_uri": "https://localhost:8080/"
        },
        "outputId": "24a259aa-3532-44a0-8d69-c34acb526565",
        "collapsed": true
      },
      "execution_count": null,
      "outputs": [
        {
          "output_type": "execute_result",
          "data": {
            "text/plain": [
              "[10, 3, 8, 2, 6]"
            ]
          },
          "metadata": {},
          "execution_count": 13
        }
      ]
    },
    {
      "cell_type": "markdown",
      "source": [
        "---\n",
        "Q?\n",
        "\n",
        "\n",
        "What is the program that lists 145, 3, 25, \"Persimmon\", and 4 * 7 \n",
        "\n",
        "and prints each element in order?\n",
        "\n"
      ],
      "metadata": {
        "id": "dZ6kOg3ag5Zz"
      }
    },
    {
      "cell_type": "markdown",
      "source": [
        "ーーーーーーーーーーーーーーーーーーーーーーーーーーーーーーーーーーーーーーーー\n",
        "\n",
        "Name of the list is `many_types`, the code to put 5 elements (values) in `many_types` is\n",
        "\n",
        "\n",
        "\n",
        "`many_types = [145, 3, 25, \"Persimmon \", 4 * 7]`\n",
        "\n",
        "\n",
        "\n",
        "\\\n",
        "\n",
        "Use `for statement` to retrieve element in order,\n",
        "\n",
        "\\\n",
        "`for i in many_type:`\n",
        "\n",
        "&emsp;`print(i)`\n",
        "\n",
        "\\\n",
        "\n",
        "For `4 * 7`, the product is output.\n",
        "\n"
      ],
      "metadata": {
        "id": "36KlNhuchxbp"
      }
    },
    {
      "cell_type": "code",
      "source": [
        ""
      ],
      "metadata": {
        "id": "pkr90j4FjaYM"
      },
      "execution_count": null,
      "outputs": []
    },
    {
      "cell_type": "markdown",
      "source": [
        "---\n",
        "Q?\n",
        "\n",
        "\n",
        "What is the program code to make a list of numbers from 1 to 100 and print the list?\n"
      ],
      "metadata": {
        "id": "Ev1yAFwkkOCu"
      }
    },
    {
      "cell_type": "markdown",
      "source": [
        "ーーーーーーーーーーーーーーーーーーーーーーーーーーーーーーーーーーーーー\n",
        "\n",
        "The image of the program is\n",
        "\n",
        "\"First, make an empty list and then put numbers from 1 to 100 in the list and print the list.\n",
        "\n",
        "\n",
        "\n",
        "\\\n",
        "First, the code to create an empty is\n",
        "\n",
        "    list1 = []\n",
        "\n",
        "You can name the list yourself and put nothing inside the list with the brackets as `[]`.\n",
        "\n",
        "\n",
        "\\\n",
        "Extract \"numbers from 1 to 100 in order\" with `for statement`.\n",
        "\n",
        "\n",
        "\n",
        "\\\n",
        "\n",
        "The code to put the number taken out in the list is\n",
        "\n",
        "    for i in range(1, 101):\n",
        "      list1.append(i)\n",
        "\n",
        "\n",
        "\n",
        "\\\n",
        "Use the `append()` program / function to put (add) an element into the list.\n",
        "\n",
        "\n",
        "\\\n",
        "Write `.append (element)` attached to the list name\n",
        "\n",
        "\\\n",
        "Don't forget the `.` (dot) in front of `append()`\n",
        "\n",
        "\n",
        "\\\n",
        "The added element will be added to the `end (last)` of the list.\n",
        "\n",
        "\n",
        "\\\n",
        "The elements inside are numbered starting from 0 which is `index`.\n",
        "\n",
        "\n",
        "\\\n",
        "Note that the `index` of the first element is `0` instead of 1, the second is` 1`, the third is `2`, ...\n",
        "\n",
        "\n",
        "\\\n",
        "We can't see `index`.\n",
        "\n",
        "\n",
        "\n",
        "\\\n",
        "\n",
        "When the for statement ends, output with `print()`\n",
        "\n",
        "    print(list1)\n",
        "\n",
        "\n",
        "\n"
      ],
      "metadata": {
        "id": "A08NbyjH88bx"
      }
    },
    {
      "cell_type": "code",
      "source": [
        ""
      ],
      "metadata": {
        "id": "OzuK3uw5v2or"
      },
      "execution_count": null,
      "outputs": []
    },
    {
      "cell_type": "markdown",
      "source": [
        "### Pracitice of List"
      ],
      "metadata": {
        "id": "uxaI_NqiPOnT"
      }
    },
    {
      "cell_type": "markdown",
      "metadata": {
        "id": "Ld1iXtXEYwp9"
      },
      "source": [
        "---\n",
        "\n",
        "Practice of making and manipulating lists\n",
        "\n",
        "\n",
        "\\\n",
        "Q?\n",
        "\n",
        "\n",
        "\n",
        "What is the program code to display / operate next problem?\n",
        "\n",
        "\n",
        "\n",
        "\\\n",
        "\n",
        "Create new `list` with 1, 3, 5, 7, and xyz as elements and display the list.\n",
        "\n",
        "\n",
        "\\\n",
        "Next, display only element 1 in the list\n",
        "\n",
        "\n",
        "\\\n",
        "Display elements 5 and xyz in the list\n",
        "\n",
        "\\\n",
        "Replace 3 with 10\n",
        "\n",
        "\n",
        "\\\n",
        "Display the list after replacement\n",
        "\n",
        "\n"
      ]
    },
    {
      "cell_type": "markdown",
      "source": [
        "ーーーーーーーーーーーーーーーーーーーーーーーーーーーーーーーーーーーーーーーー\n",
        "\n",
        "The first element in the list is specified by `list name[0]`\n",
        "\n",
        "\n",
        "\\\n",
        "If it's the third element, it's `list name[2]` as `index` starts from 0.\n",
        "\n",
        "\n",
        "\\\n",
        "At the operation of replacement of element, the existing number \n",
        "\n",
        "is `overwritten` when you `assign` a new number to the element \n",
        "\n",
        "you want to replace.\n",
        "\n",
        "\n",
        "\n",
        "\n"
      ],
      "metadata": {
        "id": "q5eq1ugt0Uni"
      }
    },
    {
      "cell_type": "code",
      "source": [
        ""
      ],
      "metadata": {
        "id": "eg6wc2Tc1WY2"
      },
      "execution_count": null,
      "outputs": []
    },
    {
      "cell_type": "code",
      "metadata": {
        "id": "yvP0_KVWbyoS",
        "collapsed": true
      },
      "source": [
        "#sample\n",
        "\n",
        "list1 = [1, 3, 5 ,7, \"xyz\"]    #Enclose string with \"   \" or '   '\n",
        "\n",
        "print(list1)\n",
        "\n",
        "print(list1[0])\n",
        "\n",
        "print(list1[2], list1[4])\n",
        "\n",
        "list1[1] = 10\n",
        "\n",
        "print(list1)"
      ],
      "execution_count": null,
      "outputs": []
    },
    {
      "cell_type": "markdown",
      "source": [
        "### append, remove"
      ],
      "metadata": {
        "id": "PUzUQNc72umV"
      }
    },
    {
      "cell_type": "markdown",
      "source": [
        "### in"
      ],
      "metadata": {
        "id": "rX4ouNM821cj"
      }
    },
    {
      "cell_type": "markdown",
      "source": [
        "### True, False"
      ],
      "metadata": {
        "id": "g7x4HwZX25va"
      }
    },
    {
      "cell_type": "markdown",
      "source": [
        "---\n",
        "\n",
        "Next is checking \"whether the element is included\", adding an element, and deleting an element.\n",
        "\n",
        "\n",
        "\n",
        "Q?\n",
        "\n",
        "\n",
        "\n",
        "What is the code to display / operate the followings?\n",
        "\n",
        "\n",
        "\n",
        "\\\n",
        "\n",
        "Create a new list with a, b, and c as elements, and output and display the list.\n",
        "\n",
        "\n",
        "\n",
        "Display whether the list contains b or not\n",
        "\n",
        "\n",
        "\n",
        "Display whether the list contains d or not\n",
        "\n",
        "\n",
        "Add d to the list \n",
        "\n",
        "\n",
        "\n",
        "Remove(Delete) a from the list\n",
        "\n",
        "\n",
        "Display the last list\n",
        "\n",
        "\n",
        "\n"
      ],
      "metadata": {
        "id": "8rke3P-Z2Asc"
      }
    },
    {
      "cell_type": "markdown",
      "source": [
        "ーーーーーーーーーーーーーーーーーーーーーーーーーーーーーーーーーーーーーーーー\n",
        "\n",
        "Use `in` to check if b is included in the list\n",
        "\n",
        "\n",
        "\\\n",
        "`in` is a preposition and at Python it is classified \n",
        "\n",
        "as a `comparison operator` (refere to the next cell)\n",
        "\n",
        "\n",
        "\\\n",
        "The code is `\" b \" in ` the list (or` print (\"b\" in list) `)\n",
        "\n",
        "\n",
        "\\\n",
        "If included, return/display `True`\n",
        "\n",
        "\n",
        "\\\n",
        "If not, retur/display`False`\n",
        "\n",
        "\\\n",
        "`True` means \"true, truth, correct \", but here it means something like` yes`\n",
        "\n",
        "\n",
        "\\\n",
        "`False` means\" lie, mistake, wrong \", but here it means something like` no`\n",
        "\n",
        "\n",
        "\\\n",
        "`True` and` False` are the simplest data types in Python, and there are only two.\n",
        "\n",
        "\n",
        "\\\n",
        "When converted to an integer, `True` becomes` 1` and `False` becomes` 0`.\n",
        "\n",
        "\n",
        "\n",
        "\\\n",
        "\n",
        "To add (not swap) element to a list, use `(list name) .append (element)`\n",
        "\n",
        "\\\n",
        "`append` means add\n",
        "\n",
        "\n",
        "\\\n",
        "The added element will be put at the last in the list.\n",
        "\n",
        "\n",
        "\n",
        "\\\n",
        "\n",
        "To remove an element from a list, use `(list name) .remove (element)`\n",
        "\n",
        "\n"
      ],
      "metadata": {
        "id": "Y0WQwwI53fo9"
      }
    },
    {
      "cell_type": "markdown",
      "metadata": {
        "id": "ntfiixWjXkMn"
      },
      "source": [
        "\n",
        "## Comparison operator summary\n",
        "\n",
        "\\\n",
        "\n",
        "| Meaning | Operator |\n",
        "|:------:|:------:|\n",
        "| Equal | `==` |\n",
        "| Not equal | `! =` |\n",
        "| Less than | `<` |\n",
        "| Equal or less than | `<=` |\n",
        "|Greater than | `>` |\n",
        "| Equal or greater than | `> =` |\n",
        "| It is an element | `in` |\n",
        "| Not an element | `not in` |\n",
        "\n",
        "\\"
      ]
    },
    {
      "cell_type": "code",
      "source": [
        ""
      ],
      "metadata": {
        "id": "ALinfIIX3ycx"
      },
      "execution_count": null,
      "outputs": []
    },
    {
      "cell_type": "code",
      "metadata": {
        "colab": {
          "base_uri": "https://localhost:8080/"
        },
        "outputId": "066fca5d-fa7d-4536-a4b6-bc0e3871ff86",
        "id": "vhBNU0a13y1x",
        "collapsed": true
      },
      "source": [
        "#List (Add / Remove Elements)\n",
        "\n",
        "Mylist = [\"a\", \"b\", \"c\"]\n",
        "\n",
        "print(Mylist)\n",
        "\n",
        "print(\"b\" in Mylist)\n",
        "\n",
        "print(\"d\" in Mylist)\n",
        "\n",
        "Mylist.append(\"d\")\n",
        "\n",
        "print(Mylist)\n",
        "\n",
        "Mylist.remove(\"a\")\n",
        "\n",
        "print(Mylist)\n",
        "\n"
      ],
      "execution_count": null,
      "outputs": [
        {
          "output_type": "stream",
          "name": "stdout",
          "text": [
            "['a', 'b', 'c']\n",
            "True\n",
            "False\n",
            "['a', 'b', 'c', 'd']\n",
            "['b', 'c', 'd']\n"
          ]
        }
      ]
    },
    {
      "cell_type": "code",
      "source": [
        "#True and False in the above description\n",
        "\n",
        "print(int(True))\n",
        "\n",
        "print(int(False))\n"
      ],
      "metadata": {
        "colab": {
          "base_uri": "https://localhost:8080/"
        },
        "id": "vljDdTns8OvI",
        "outputId": "4a333cca-7842-4dba-efd0-71e1da5910ed",
        "collapsed": true
      },
      "execution_count": null,
      "outputs": [
        {
          "output_type": "stream",
          "name": "stdout",
          "text": [
            "1\n",
            "0\n"
          ]
        }
      ]
    },
    {
      "cell_type": "code",
      "metadata": {
        "id": "OOOtSNaY6jpn",
        "colab": {
          "base_uri": "https://localhost:8080/"
        },
        "outputId": "16085fab-7882-4b84-e3e5-3dce540cf3ea",
        "collapsed": true
      },
      "source": [
        "#List addition sample\n",
        "\n",
        "mylist = [] #Create an empty list,\n",
        "\n",
        "\n",
        "mylist.append (\"addition\") \n",
        "print(mylist)\n",
        "\n",
        "mylist.append (\"subtraction\") \n",
        "print(mylist)\n",
        "\n",
        "mylist.append (\"multiplication\") \n",
        "print(mylist)\n",
        "\n",
        "mylist.append (\"division\") \n",
        "print(mylist)\n",
        "\n"
      ],
      "execution_count": null,
      "outputs": [
        {
          "output_type": "stream",
          "name": "stdout",
          "text": [
            "['addition']\n",
            "['addition', 'subtraction']\n",
            "['addition', 'subtraction', 'multiplication']\n",
            "['addition', 'subtraction', 'multiplication', 'division']\n"
          ]
        }
      ]
    },
    {
      "cell_type": "markdown",
      "metadata": {
        "id": "AZs5z06ALPzK"
      },
      "source": [
        "---\n",
        "Q?\n",
        "\n",
        "\n",
        "What is the program that displays all the arrangement of string of \"ABC\", \"Iroha\" and \"# &%\"?\n",
        "\n",
        "\n",
        "\n",
        "3 characters each is one set.\n",
        "\n",
        "\n",
        "\\\n",
        "Make a combination using the `for` loop\n",
        "\n"
      ]
    },
    {
      "cell_type": "markdown",
      "source": [
        "ーーーーーーーーーーーーーーーーーーーーーーーーーーーーーーーーーーーーーーーーー\n",
        "\n",
        "Put the strings \"ABC\", \"Iroha\" and \"#&%\" in the list `string`.\n",
        "\n",
        "    string = [\"ABC\", \"イロハ\", \"#&%\"]\n",
        "\n",
        "Create all possible combinations using 3 strings using for loop\n",
        "\n",
        "\\\n",
        "Take a string from the list `string` and put it in the variables `x`, `y`, `z` to make a combination\n",
        "\n",
        "\n",
        "\n",
        "Let's decide the name of variables if you like other names.\n",
        "\n",
        "    for x in string:\n",
        "\n",
        "      for y in string:\n",
        "\n",
        "        for z in string:\n",
        "\n",
        "\n",
        "If all the strings in x, y, z are different, it is the right way to arrange the desired strings.\n",
        "\n",
        "\n",
        "\\\n",
        "Output using `+` to combine (connect) strings\n",
        "\n",
        "          if x != y and x != z and y != z:\n",
        "            print(x + y + z)\n",
        "\n",
        "\n",
        "Be careful of indentation when writing code\n",
        "\n",
        "\n",
        "\n",
        "\\\n"
      ],
      "metadata": {
        "id": "PpTwdJhXLPzL"
      }
    },
    {
      "cell_type": "code",
      "source": [
        ""
      ],
      "metadata": {
        "id": "xjqXYhYa_wj0"
      },
      "execution_count": null,
      "outputs": []
    },
    {
      "cell_type": "code",
      "metadata": {
        "colab": {
          "base_uri": "https://localhost:8080/"
        },
        "outputId": "5f8266cb-6f52-4a5e-e823-15985827f06a",
        "id": "8Ec6oHd1LPzM",
        "collapsed": true
      },
      "source": [
        "#sample\n",
        "\n",
        "string = [\"ABC\", \"iroha\", \"#&%\"]\n",
        "\n",
        "for x in string:\n",
        "  for y in string:\n",
        "    for z in string:\n",
        "      if x != y and x != z and y != z:\n",
        "        print(x + y + z)"
      ],
      "execution_count": null,
      "outputs": [
        {
          "output_type": "stream",
          "name": "stdout",
          "text": [
            "ABCiroha#&%\n",
            "ABC#&%iroha\n",
            "irohaABC#&%\n",
            "iroha#&%ABC\n",
            "#&%ABCiroha\n",
            "#&%irohaABC\n"
          ]
        }
      ]
    },
    {
      "cell_type": "markdown",
      "source": [
        "### sorted"
      ],
      "metadata": {
        "id": "Gds47BDLB6FD"
      }
    },
    {
      "cell_type": "markdown",
      "metadata": {
        "id": "7msDe1ZMIe_r"
      },
      "source": [
        "---\n",
        "Q?\n",
        "\n",
        "What is the program that creates a list `list1` with 6, 2, 6, 7, 1, 9 as elements \n",
        "\n",
        "and displays sort(ascending order) and reverse sort(descending order) of the list1?\n"
      ]
    },
    {
      "cell_type": "markdown",
      "source": [
        "ーーーーーーーーーーーーーーーーーーーーーーーーーーーーーーーーーーーーーーーー\n",
        "\n",
        "\n",
        "Use `sorted (list name)` to sort the elements of a list\n",
        "\n",
        "\n",
        "\n",
        "\\\n",
        "\n",
        "The numbers are sorted in `ascending order `\n",
        "\n",
        "\n",
        "\\\n",
        "If you set it to `sorted (list name, reverse = True)`, it will be in `descending order `.\n",
        "\n",
        "\n",
        "\\\n",
        "\n",
        "Alphabets are arranged in `alphabetical order`\n",
        "\n",
        "\n",
        "\\\n",
        "If there are both numbers and strings in one list, you will get a `error`\n",
        "\n"
      ],
      "metadata": {
        "id": "GnFS7HBrAru2"
      }
    },
    {
      "cell_type": "code",
      "metadata": {
        "colab": {
          "base_uri": "https://localhost:8080/"
        },
        "id": "qVUvJYkOBf7w",
        "outputId": "41f5dea5-4b7e-4b0e-e0d5-6822b186f348",
        "collapsed": true
      },
      "source": [
        "#sample\n",
        "\n",
        "list1 = [6, 2, 6, 7, 1, 9]\n",
        "\n",
        "print(sorted(list1))\n",
        "print(sorted(list1, reverse = True))\n",
        "\n",
        "\n",
        "list2 =[\"a\",\"x\",\"d\"]\n",
        "\n",
        "print(sorted(list2))\n",
        "print(sorted(list2, reverse=True))\n",
        "\n"
      ],
      "execution_count": null,
      "outputs": [
        {
          "output_type": "stream",
          "name": "stdout",
          "text": [
            "[1, 2, 6, 6, 7, 9]\n",
            "[9, 7, 6, 6, 2, 1]\n",
            "['a', 'd', 'x']\n",
            "['x', 'd', 'a']\n"
          ]
        }
      ]
    },
    {
      "cell_type": "markdown",
      "source": [
        "###input"
      ],
      "metadata": {
        "id": "hmJwgese4rH0"
      }
    },
    {
      "cell_type": "markdown",
      "source": [
        "---\n",
        "Q?\n",
        "\n",
        "\n",
        "What is the program that displays three different numbers in ascending order \n",
        "\n",
        "when they are input?\n",
        "\n"
      ],
      "metadata": {
        "id": "M0NPn6x9mbC8"
      }
    },
    {
      "cell_type": "markdown",
      "source": [
        "ーーーーーーーーーーーーーーーーーーーーーーーーーーーーーーーーーーーーー\n",
        "\n",
        "\n",
        "First, we will ask you to input each of the three numbers, so\n",
        "\n",
        "\n",
        "\n",
        "`print ('Please enter 3 different numbers')`\n",
        "\n",
        "\n",
        "\n",
        "is to be displayedand ask entering three numbers as follows:\n",
        "\n",
        "    a = int (input ('Please put an integer in a: a ='))\n",
        "\n",
        "    b = int (input (Enter an integer in'b: b ='))\n",
        "\n",
        "    c = int (input (Please put an integer in'c: c ='))\n",
        "\n",
        "\n",
        "Another input method is introduced after\n",
        "\n",
        "\n",
        "\n",
        "\\\n",
        "\n",
        "Put a, b, c in list`numbers` which should be created with empty at first.\n",
        "\n",
        "\\\n",
        "Use the` sorted () `built-in function to sort the numbers in ascending order\n",
        "\n",
        " rearrange and put back in `numbers` and output with `print()`.\n",
        "\n",
        "\n",
        "(Although it's okay to put it in another new list such as `numbers_sorted`)\n",
        "\n",
        "    numbers = [] #First, leave an empty list\n",
        "\n",
        "    numbers += [a, b, c]\n",
        "\n",
        "    numbers = sorted(numbers)\n",
        "\n",
        "    print(numbers)\n",
        "\n",
        "Since `sorted ()` function sorts the `list`, \n",
        "\n",
        "a, b, and c should be assigned to the `list`.\n",
        "\n",
        "\n",
        "\n",
        "\\\n",
        "ーーーーーーーーーーーーーーーーーーーーーーーーーーーーーーーーーーーーーーーー\n",
        "\n",
        "This is just for your reference of another input method using `input`\n",
        "\n",
        "    a, b, c = (int (x) for x in input ('Enter three numbers with spaces:'). split ())\n",
        "\n",
        "When three numbers are input by `input ()`, it is divided by `.split ()` written at the end,\n",
        "\n",
        "In the `for statement`, each number goes into` int (x) `and becomes an integer.\n",
        "\n"
      ],
      "metadata": {
        "id": "30tPyKZTrvuc"
      }
    },
    {
      "cell_type": "code",
      "source": [
        "#sample\n",
        "\n",
        "\n",
        "print ('Please enter 3 different numbers')\n",
        "\n",
        "a = int(input ('Please put the first integer in a: a ='))\n",
        "b = int(input ('Enter the second integer in b: b ='))\n",
        "c = int(input ('Enter the third integer inc: c ='))\n",
        "\n",
        "numbers = []\n",
        "\n",
        "numbers += [a, b, c]\n",
        "\n",
        "numbers = sorted(numbers)\n",
        "\n",
        "print(numbers)\n",
        "\n"
      ],
      "metadata": {
        "id": "-3smX2_fv0zk",
        "colab": {
          "base_uri": "https://localhost:8080/"
        },
        "outputId": "2229a2a2-ba60-43e4-e87a-5066f2d81b05",
        "collapsed": true
      },
      "execution_count": null,
      "outputs": [
        {
          "output_type": "stream",
          "name": "stdout",
          "text": [
            "Please enter 3 different numbers\n",
            "Please put the first integer in a: a =46149\n",
            "Enter the second integer in b: b =323\n",
            "Enter the third integer inc: c =4325783169\n",
            "[323, 46149, 4325783169]\n"
          ]
        }
      ]
    },
    {
      "cell_type": "code",
      "source": [
        ""
      ],
      "metadata": {
        "id": "BzfG4_l0FjG-"
      },
      "execution_count": null,
      "outputs": []
    },
    {
      "cell_type": "code",
      "source": [
        "#sample2\n",
        "\n",
        "\n",
        "a, b, c = (int (x) for x in input ('Enter three different numbers with spaces:').split ())\n",
        "\n",
        "numbers = []\n",
        "\n",
        "numbers += [a, b, c]\n",
        "\n",
        "numbers = sorted(numbers)\n",
        "\n",
        "print(numbers)\n",
        "\n"
      ],
      "metadata": {
        "colab": {
          "base_uri": "https://localhost:8080/"
        },
        "outputId": "a6698f00-7b9d-4771-b0bb-9be1998c0f67",
        "id": "MJZovUXjFjjy",
        "collapsed": true
      },
      "execution_count": null,
      "outputs": [
        {
          "output_type": "stream",
          "name": "stdout",
          "text": [
            "Enter three different numbers with spaces:3252235 34   56\n",
            "[34, 56, 3252235]\n"
          ]
        }
      ]
    },
    {
      "cell_type": "markdown",
      "source": [
        "ーーーーーーーーーーーーーーーーーーーーーーーーーーーーーーーーーーーーー\n",
        "\n",
        "Making another program stating if there are same number in entered a, b, and c, \n",
        "\n",
        "use `if statement` for case classification and asks you to re-enter it, etc. \n",
        "\n",
        "would be interesting as a next stage of coding.\n",
        "\n",
        "\\\n",
        "It is also recommended that you create your own conditions and create a program.\n",
        "\n",
        "\n",
        "\n",
        "ーーーーーーーーーーーーーーーーーーーーーーーーーーーーーーーーーーーーー\n"
      ],
      "metadata": {
        "id": "ei05V63GIiwj"
      }
    },
    {
      "cell_type": "markdown",
      "source": [
        "\n",
        "### Description of 2D list\n",
        "\n",
        "---\n",
        "\n",
        "The list we've seen above is a one-dimensional list as \n",
        "\n",
        "`list1 = [1, 2, 3]`\n",
        "\n",
        "\n",
        "\\\n",
        "Let's understand that a two-dimensional list is a table like the one below.\n",
        "\n",
        "`list2 = [[1, 2, 3], [4, 5, 6], [7, 8, 9]]`\n",
        "\n",
        "\n"
      ],
      "metadata": {
        "id": "At81BucU1fo3"
      }
    },
    {
      "cell_type": "markdown",
      "source": [
        "\n",
        "\n",
        "![表.JPG](data:image/jpeg;base64,/9j/4AAQSkZJRgABAQEAYABgAAD/4RDiRXhpZgAATU0AKgAAAAgABAE7AAIAAAANAAAISodpAAQAAAABAAAIWJydAAEAAAAKAAAQ0OocAAcAAAgMAAAAPgAAAAAc6gAAAAgAAAAAAAAAAAAAAAAAAAAAAAAAAAAAAAAAAAAAAAAAAAAAAAAAAAAAAAAAAAAAAAAAAAAAAAAAAAAAAAAAAAAAAAAAAAAAAAAAAAAAAAAAAAAAAAAAAAAAAAAAAAAAAAAAAAAAAAAAAAAAAAAAAAAAAAAAAAAAAAAAAAAAAAAAAAAAAAAAAAAAAAAAAAAAAAAAAAAAAAAAAAAAAAAAAAAAAAAAAAAAAAAAAAAAAAAAAAAAAAAAAAAAAAAAAAAAAAAAAAAAAAAAAAAAAAAAAAAAAAAAAAAAAAAAAAAAAAAAAAAAAAAAAAAAAAAAAAAAAAAAAAAAAAAAAAAAAAAAAAAAAAAAAAAAAAAAAAAAAAAAAAAAAAAAAAAAAAAAAAAAAAAAAAAAAAAAAAAAAAAAAAAAAAAAAAAAAAAAAAAAAAAAAAAAAAAAAAAAAAAAAAAAAAAAAAAAAAAAAAAAAAAAAAAAAAAAAAAAAAAAAAAAAAAAAAAAAAAAAAAAAAAAAAAAAAAAAAAAAAAAAAAAAAAAAAAAAAAAAAAAAAAAAAAAAAAAAAAAAAAAAAAAAAAAAAAAAAAAAAAAAAAAAAAAAAAAAAAAAAAAAAAAAAAAAAAAAAAAAAAAAAAAAAAAAAAAAAAAAAAAAAAAAAAAAAAAAAAAAAAAAAAAAAAAAAAAAAAAAAAAAAAAAAAAAAAAAAAAAAAAAAAAAAAAAAAAAAAAAAAAAAAAAAAAAAAAAAAAAAAAAAAAAAAAAAAAAAAAAAAAAAAAAAAAAAAAAAAAAAAAAAAAAAAAAAAAAAAAAAAAAAAAAAAAAAAAAAAAAAAAAAAAAAAAAAAAAAAAAAAAAAAAAAAAAAAAAAAAAAAAAAAAAAAAAAAAAAAAAAAAAAAAAAAAAAAAAAAAAAAAAAAAAAAAAAAAAAAAAAAAAAAAAAAAAAAAAAAAAAAAAAAAAAAAAAAAAAAAAAAAAAAAAAAAAAAAAAAAAAAAAAAAAAAAAAAAAAAAAAAAAAAAAAAAAAAAAAAAAAAAAAAAAAAAAAAAAAAAAAAAAAAAAAAAAAAAAAAAAAAAAAAAAAAAAAAAAAAAAAAAAAAAAAAAAAAAAAAAAAAAAAAAAAAAAAAAAAAAAAAAAAAAAAAAAAAAAAAAAAAAAAAAAAAAAAAAAAAAAAAAAAAAAAAAAAAAAAAAAAAAAAAAAAAAAAAAAAAAAAAAAAAAAAAAAAAAAAAAAAAAAAAAAAAAAAAAAAAAAAAAAAAAAAAAAAAAAAAAAAAAAAAAAAAAAAAAAAAAAAAAAAAAAAAAAAAAAAAAAAAAAAAAAAAAAAAAAAAAAAAAAAAAAAAAAAAAAAAAAAAAAAAAAAAAAAAAAAAAAAAAAAAAAAAAAAAAAAAAAAAAAAAAAAAAAAAAAAAAAAAAAAAAAAAAAAAAAAAAAAAAAAAAAAAAAAAAAAAAAAAAAAAAAAAAAAAAAAAAAAAAAAAAAAAAAAAAAAAAAAAAAAAAAAAAAAAAAAAAAAAAAAAAAAAAAAAAAAAAAAAAAAAAAAAAAAAAAAAAAAAAAAAAAAAAAAAAAAAAAAAAAAAAAAAAAAAAAAAAAAAAAAAAAAAAAAAAAAAAAAAAAAAAAAAAAAAAAAAAAAAAAAAAAAAAAAAAAAAAAAAAAAAAAAAAAAAAAAAAAAAAAAAAAAAAAAAAAAAAAAAAAAAAAAAAAAAAAAAAAAAAAAAAAAAAAAAAAAAAAAAAAAAAAAAAAAAAAAAAAAAAAAAAAAAAAAAAAAAAAAAAAAAAAAAAAAAAAAAAAAAAAAAAAAAAAAAAAAAAAAAAAAAAAAAAAAAAAAAAAAAAAAAAAAAAAAAAAAAAAAAAAAAAAAAAAAAAAAAAAAAAAAAAAAAAAAAAAAAAAAAAAAAAAAAAAAAAAAAAAAAAAAAAAAAAAAAAAAAAAAAAAAAAAAAAAAAAAAAAAAAAAAAAAAAAAAAAAAAAAAAAAAAAAAAAAAAAAAAAAAAAAAAAAAAAAAAAAAAAAAAAAAAAAAAAAAAAAAAAAAAAAAAAAAAAAAAAAAAAAAAAAAAAAAAAAAAAAAAAAAAAAAAAAAAAAAAAAAAAAAAAAAAAAAAAAAAAAAAAAAAAAAAAAAAAAAAAAAAAAAAAAAAAAAAAAAAAAAAAAAAAAAAAAAAAAAAAAAAAAAAAAAAAAAAAAAAAAAAAAAAAAAAAAAAAAAAAAAAAAAAAAAAAAAAAAAAAAAAAAAAAAAAAAAAAAAAAAAAAAAAAAAAAAAAAAAAAAAAAAAAAAAAAAAAAAAAAAAAAAAAAAAAAAAAAAAAAAAAAAAAAAAAAAAAAAAAAAAAAAAAAAAAAAAAAAAAAAAAAAAAAAAAAAAAAAAAAAAAAAAAAAAAAAAAAAAAAAAAAAAAAAAAAAAAAAAAAAAAAAAAAAAAAAAAAAAAAAAAAAAAAAAAAAAAAAAAAAAAAAAAAAAAAAAAAAAAAAAAAAAAAAAAAAAAAAAAAAAAAAAAAAAAAAAAAAAAAAAAAAAAAAAAAAAAAAAAAAAAAAAAAAAAAAAAAAAAAAAAAAAAAAAAAAAAAAAAAAAAAAAAAAAAAAAAAAAAAAAAAAAAAAAAAAAAAAAAAAAAAAAAAAAAAAAAAAAAAAAAAAAAAAAAAAAAAAAAAAAAAAAAAAAAAAAAAAAAAAAAAAAAAAAAAAAAAAAAAAAAAAAAAAAAAAAAAAAAAAAAAAAAAAAAAAAAAAAAAAAAAAAAAAAAAAAAAAAAAAAAAAOmWouWPo+azsOW9pgAAAAWQAwACAAAAFAAAEKaQBAACAAAAFAAAELqSkQACAAAAAzY3AACSkgACAAAAAzY3AADqHAAHAAAIDAAACJoAAAAAHOoAAAAIAAAAAAAAAAAAAAAAAAAAAAAAAAAAAAAAAAAAAAAAAAAAAAAAAAAAAAAAAAAAAAAAAAAAAAAAAAAAAAAAAAAAAAAAAAAAAAAAAAAAAAAAAAAAAAAAAAAAAAAAAAAAAAAAAAAAAAAAAAAAAAAAAAAAAAAAAAAAAAAAAAAAAAAAAAAAAAAAAAAAAAAAAAAAAAAAAAAAAAAAAAAAAAAAAAAAAAAAAAAAAAAAAAAAAAAAAAAAAAAAAAAAAAAAAAAAAAAAAAAAAAAAAAAAAAAAAAAAAAAAAAAAAAAAAAAAAAAAAAAAAAAAAAAAAAAAAAAAAAAAAAAAAAAAAAAAAAAAAAAAAAAAAAAAAAAAAAAAAAAAAAAAAAAAAAAAAAAAAAAAAAAAAAAAAAAAAAAAAAAAAAAAAAAAAAAAAAAAAAAAAAAAAAAAAAAAAAAAAAAAAAAAAAAAAAAAAAAAAAAAAAAAAAAAAAAAAAAAAAAAAAAAAAAAAAAAAAAAAAAAAAAAAAAAAAAAAAAAAAAAAAAAAAAAAAAAAAAAAAAAAAAAAAAAAAAAAAAAAAAAAAAAAAAAAAAAAAAAAAAAAAAAAAAAAAAAAAAAAAAAAAAAAAAAAAAAAAAAAAAAAAAAAAAAAAAAAAAAAAAAAAAAAAAAAAAAAAAAAAAAAAAAAAAAAAAAAAAAAAAAAAAAAAAAAAAAAAAAAAAAAAAAAAAAAAAAAAAAAAAAAAAAAAAAAAAAAAAAAAAAAAAAAAAAAAAAAAAAAAAAAAAAAAAAAAAAAAAAAAAAAAAAAAAAAAAAAAAAAAAAAAAAAAAAAAAAAAAAAAAAAAAAAAAAAAAAAAAAAAAAAAAAAAAAAAAAAAAAAAAAAAAAAAAAAAAAAAAAAAAAAAAAAAAAAAAAAAAAAAAAAAAAAAAAAAAAAAAAAAAAAAAAAAAAAAAAAAAAAAAAAAAAAAAAAAAAAAAAAAAAAAAAAAAAAAAAAAAAAAAAAAAAAAAAAAAAAAAAAAAAAAAAAAAAAAAAAAAAAAAAAAAAAAAAAAAAAAAAAAAAAAAAAAAAAAAAAAAAAAAAAAAAAAAAAAAAAAAAAAAAAAAAAAAAAAAAAAAAAAAAAAAAAAAAAAAAAAAAAAAAAAAAAAAAAAAAAAAAAAAAAAAAAAAAAAAAAAAAAAAAAAAAAAAAAAAAAAAAAAAAAAAAAAAAAAAAAAAAAAAAAAAAAAAAAAAAAAAAAAAAAAAAAAAAAAAAAAAAAAAAAAAAAAAAAAAAAAAAAAAAAAAAAAAAAAAAAAAAAAAAAAAAAAAAAAAAAAAAAAAAAAAAAAAAAAAAAAAAAAAAAAAAAAAAAAAAAAAAAAAAAAAAAAAAAAAAAAAAAAAAAAAAAAAAAAAAAAAAAAAAAAAAAAAAAAAAAAAAAAAAAAAAAAAAAAAAAAAAAAAAAAAAAAAAAAAAAAAAAAAAAAAAAAAAAAAAAAAAAAAAAAAAAAAAAAAAAAAAAAAAAAAAAAAAAAAAAAAAAAAAAAAAAAAAAAAAAAAAAAAAAAAAAAAAAAAAAAAAAAAAAAAAAAAAAAAAAAAAAAAAAAAAAAAAAAAAAAAAAAAAAAAAAAAAAAAAAAAAAAAAAAAAAAAAAAAAAAAAAAAAAAAAAAAAAAAAAAAAAAAAAAAAAAAAAAAAAAAAAAAAAAAAAAAAAAAAAAAAAAAAAAAAAAAAAAAAAAAAAAAAAAAAAAAAAAAAAAAAAAAAAAAAAAAAAAAAAAAAAAAAAAAAAAAAAAAAAAAAAAAAAAAAAAAAAAAAAAAAAAAAAAAAAAAAAAAAAAAAAAAAAAAAAAAAAAAAAAAAAAAAAAAAAAAAAAAAAAAAAAAAAAAAAAAAAAAAAAAAAAAAAAAAAAAAAAAAAAAAAAAAAAAAAAAAAAAAAAAAAAAAAAAAAAAAAAAAAAAAAAAAAAAAAAAAAAAAAAAAAAAAAAAAAAAAAAAAAAAAAAAAAAAAAAAAAAAAAAAAAAAAAAAAAAAAAAAAAAAAAAAAAAAAAAAAAAAAAAAAAAAAAAAAAAAAAAAAAAAAAAAAAAAAAAAAAAAAAAAAAAAAAAAAAAAAAAAAAAAAAAAAAAAAAAAAAAAAAAAAAAAAAAAAAAAAAAAAAAAAAAAAAAAAAAAAAAAAAAAAAAAAAAAAAAAAAAAAAAAAAAAAAAAAAAAAAAAAAAAAAAAAAAAAAAAAAAAAAAAAAAAAAAAAAAAAAAAAAAAAAAAAAAAAAAAAAAAAAAAAAAAAAAAAAAAAAAAAAAAAAAAAAAAAAAAAAAAAAAAAAAAAAAAAAAAAAAAAAAAAAAAAAAAAAAAAAAAAAAAAAAAAAAAAAAAAAAAAAAAAAAAAAAAAAAAAAAAAAAAAAAAAAAAAAAAAAAAAAAAAAAAAAAAAAAAAAAAAAAAAAAAAAAAAAAAAAAAAAAAAAAAAAAAAAAAAAAAAAAAAAAAAAAAAAAAAAAAAAAAAAAAAAAAAAAAAAAAAAAAAAAAAAAAAAAAAAAAAAAAAAAAAAAAAAAAAAAAAAAAAAAAAAAAAAAAAAAAAAAAAAAAAAAAAAAAAAAAAAAAAAAAAAAAAAAAAAAAAAAAAAAAAAAAAAAAAAAAAAAAAAAAAAAAAAAAAAAAAAAAAAAAAAAAAAAAAAAAAAAAAAAAAAAAAAAAAAAAAAAAAAAAAAAAAAAAAAAAAAAAAAAAAAAAAAAAAAAAAAAAAAAAAAAAAAAAAAAAAAAAAAAAAAAAAAAAAAAAAAAAAAAAyMDIyOjA0OjIyIDE0OjUxOjE1ADIwMjI6MDQ6MjIgMTQ6NTE6MTUAAACileNT8GxmXwAA/+ELH2h0dHA6Ly9ucy5hZG9iZS5jb20veGFwLzEuMC8APD94cGFja2V0IGJlZ2luPSfvu78nIGlkPSdXNU0wTXBDZWhpSHpyZVN6TlRjemtjOWQnPz4NCjx4OnhtcG1ldGEgeG1sbnM6eD0iYWRvYmU6bnM6bWV0YS8iPjxyZGY6UkRGIHhtbG5zOnJkZj0iaHR0cDovL3d3dy53My5vcmcvMTk5OS8wMi8yMi1yZGYtc3ludGF4LW5zIyI+PHJkZjpEZXNjcmlwdGlvbiByZGY6YWJvdXQ9InV1aWQ6ZmFmNWJkZDUtYmEzZC0xMWRhLWFkMzEtZDMzZDc1MTgyZjFiIiB4bWxuczpkYz0iaHR0cDovL3B1cmwub3JnL2RjL2VsZW1lbnRzLzEuMS8iLz48cmRmOkRlc2NyaXB0aW9uIHJkZjphYm91dD0idXVpZDpmYWY1YmRkNS1iYTNkLTExZGEtYWQzMS1kMzNkNzUxODJmMWIiIHhtbG5zOnhtcD0iaHR0cDovL25zLmFkb2JlLmNvbS94YXAvMS4wLyI+PHhtcDpDcmVhdGVEYXRlPjIwMjItMDQtMjJUMTQ6NTE6MTUuNjcxPC94bXA6Q3JlYXRlRGF0ZT48L3JkZjpEZXNjcmlwdGlvbj48cmRmOkRlc2NyaXB0aW9uIHJkZjphYm91dD0idXVpZDpmYWY1YmRkNS1iYTNkLTExZGEtYWQzMS1kMzNkNzUxODJmMWIiIHhtbG5zOmRjPSJodHRwOi8vcHVybC5vcmcvZGMvZWxlbWVudHMvMS4xLyI+PGRjOmNyZWF0b3I+PHJkZjpTZXEgeG1sbnM6cmRmPSJodHRwOi8vd3d3LnczLm9yZy8xOTk5LzAyLzIyLXJkZi1zeW50YXgtbnMjIj48cmRmOmxpPumWouWPo+azsOW9pjwvcmRmOmxpPjwvcmRmOlNlcT4NCgkJCTwvZGM6Y3JlYXRvcj48L3JkZjpEZXNjcmlwdGlvbj48L3JkZjpSREY+PC94OnhtcG1ldGE+DQogICAgICAgICAgICAgICAgICAgICAgICAgICAgICAgICAgICAgICAgICAgICAgICAgICAgICAgICAgICAgICAgICAgICAgICAgICAgICAgICAgICAgICAgICAgICAgICAgICAgCiAgICAgICAgICAgICAgICAgICAgICAgICAgICAgICAgICAgICAgICAgICAgICAgICAgICAgICAgICAgICAgICAgICAgICAgICAgICAgICAgICAgICAgICAgICAgICAgICAgICAKICAgICAgICAgICAgICAgICAgICAgICAgICAgICAgICAgICAgICAgICAgICAgICAgICAgICAgICAgICAgICAgICAgICAgICAgICAgICAgICAgICAgICAgICAgICAgICAgICAgIAogICAgICAgICAgICAgICAgICAgICAgICAgICAgICAgICAgICAgICAgICAgICAgICAgICAgICAgICAgICAgICAgICAgICAgICAgICAgICAgICAgICAgICAgICAgICAgICAgICAgCiAgICAgICAgICAgICAgICAgICAgICAgICAgICAgICAgICAgICAgICAgICAgICAgICAgICAgICAgICAgICAgICAgICAgICAgICAgICAgICAgICAgICAgICAgICAgICAgICAgICAKICAgICAgICAgICAgICAgICAgICAgICAgICAgICAgICAgICAgICAgICAgICAgICAgICAgICAgICAgICAgICAgICAgICAgICAgICAgICAgICAgICAgICAgICAgICAgICAgICAgIAogICAgICAgICAgICAgICAgICAgICAgICAgICAgICAgICAgICAgICAgICAgICAgICAgICAgICAgICAgICAgICAgICAgICAgICAgICAgICAgICAgICAgICAgICAgICAgICAgICAgCiAgICAgICAgICAgICAgICAgICAgICAgICAgICAgICAgICAgICAgICAgICAgICAgICAgICAgICAgICAgICAgICAgICAgICAgICAgICAgICAgICAgICAgICAgICAgICAgICAgICAKICAgICAgICAgICAgICAgICAgICAgICAgICAgICAgICAgICAgICAgICAgICAgICAgICAgICAgICAgICAgICAgICAgICAgICAgICAgICAgICAgICAgICAgICAgICAgICAgICAgIAogICAgICAgICAgICAgICAgICAgICAgICAgICAgICAgICAgICAgICAgICAgICAgICAgICAgICAgICAgICAgICAgICAgICAgICAgICAgICAgICAgICAgICAgICAgICAgICAgICAgCiAgICAgICAgICAgICAgICAgICAgICAgICAgICAgICAgICAgICAgICAgICAgICAgICAgICAgICAgICAgICAgICAgICAgICAgICAgICAgICAgICAgICAgICAgICAgICAgICAgICAKICAgICAgICAgICAgICAgICAgICAgICAgICAgICAgICAgICAgICAgICAgICAgICAgICAgICAgICAgICAgICAgICAgICAgICAgICAgICAgICAgICAgICAgICAgICAgICAgICAgIAogICAgICAgICAgICAgICAgICAgICAgICAgICAgICAgICAgICAgICAgICAgICAgICAgICAgICAgICAgICAgICAgICAgICAgICAgICAgICAgICAgICAgICAgICAgICAgICAgICAgCiAgICAgICAgICAgICAgICAgICAgICAgICAgICAgICAgICAgICAgICAgICAgICAgICAgICAgICAgICAgICAgICAgICAgICAgICAgICAgICAgICAgICAgICAgICAgICAgICAgICAKICAgICAgICAgICAgICAgICAgICAgICAgICAgICAgICAgICAgICAgICAgICAgICAgICAgICAgICAgICAgICAgICAgICAgICAgICAgICAgICAgICAgICAgICAgICAgICAgICAgIAogICAgICAgICAgICAgICAgICAgICAgICAgICAgICAgICAgICAgICAgICAgICAgICAgICAgICAgICAgICAgICAgICAgICAgICAgICAgICAgICAgICAgICAgICAgICAgICAgICAgCiAgICAgICAgICAgICAgICAgICAgICAgICAgICAgICAgICAgICAgICAgICAgICAgICAgICAgICAgICAgICAgICAgICAgICAgICAgICAgICAgICAgICAgICAgICAgICAgICAgICAKICAgICAgICAgICAgICAgICAgICAgICAgICAgICAgICAgICAgICAgICAgICAgICAgICAgICAgICAgICAgICAgICAgICAgICAgICAgICAgICAgICAgICAgICAgICAgICAgICAgIAogICAgICAgICAgICAgICAgICAgICAgICAgICAgICAgICAgICAgICAgICAgICAgICAgICAgICAgICAgICAgICAgICAgICAgICAgICAgICAgICAgICAgICAgICAgICAgICAgICAgCiAgICAgICAgICAgICAgICAgICAgICAgICAgICAgICAgICAgICAgICAgICAgICAgICAgICAgICAgICAgICAgICAgICAgICAgICAgICAgICAgICAgICAgICAgICAgICAgICAgICAKICAgICAgICAgICAgICAgICAgICAgICAgICAgIDw/eHBhY2tldCBlbmQ9J3cnPz7/2wBDAAcFBQYFBAcGBQYIBwcIChELCgkJChUPEAwRGBUaGRgVGBcbHichGx0lHRcYIi4iJSgpKywrGiAvMy8qMicqKyr/2wBDAQcICAoJChQLCxQqHBgcKioqKioqKioqKioqKioqKioqKioqKioqKioqKioqKioqKioqKioqKioqKioqKioqKir/wAARCACQAKoDASIAAhEBAxEB/8QAHwAAAQUBAQEBAQEAAAAAAAAAAAECAwQFBgcICQoL/8QAtRAAAgEDAwIEAwUFBAQAAAF9AQIDAAQRBRIhMUEGE1FhByJxFDKBkaEII0KxwRVS0fAkM2JyggkKFhcYGRolJicoKSo0NTY3ODk6Q0RFRkdISUpTVFVWV1hZWmNkZWZnaGlqc3R1dnd4eXqDhIWGh4iJipKTlJWWl5iZmqKjpKWmp6ipqrKztLW2t7i5usLDxMXGx8jJytLT1NXW19jZ2uHi4+Tl5ufo6erx8vP09fb3+Pn6/8QAHwEAAwEBAQEBAQEBAQAAAAAAAAECAwQFBgcICQoL/8QAtREAAgECBAQDBAcFBAQAAQJ3AAECAxEEBSExBhJBUQdhcRMiMoEIFEKRobHBCSMzUvAVYnLRChYkNOEl8RcYGRomJygpKjU2Nzg5OkNERUZHSElKU1RVVldYWVpjZGVmZ2hpanN0dXZ3eHl6goOEhYaHiImKkpOUlZaXmJmaoqOkpaanqKmqsrO0tba3uLm6wsPExcbHyMnK0tPU1dbX2Nna4uPk5ebn6Onq8vP09fb3+Pn6/9oADAMBAAIRAxEAPwD3TxNr15o7aVBpVjbX13qd79kjS5uzbxpiGWUsWWNz0iIxt6mqP2vxv/0Lug/+Dyf/AORKZ4q/5GDwb/2Gn/8ASG7rrqAOU+1+N/8AoXdB/wDB5P8A/IlTf2h42/6F/wAPf+D+b/5DrparUAYf9oeNv+hf8Pf+D+b/AOQ6h+1+N/8AoXdB/wDB5P8A/IldFVmgDlPtfjf/AKF3Qf8AweT/APyJVbTPE/i/VXvlt/DmhqbG6a1k8zXZhl1CkkYtDx8w9K7SuQ8Hf8fHiT/sNTf+i46ALX9oeNv+hf8AD3/g/m/+Q6h+1+N/+hd0H/weT/8AyJXRVZoA5T7X43/6F3Qf/B5P/wDIlTf2h42/6F/w9/4P5v8A5DrparUAYf8AaHjb/oX/AA9/4P5v/kOsvWPEXjDRNNN7d+G9FeISxRYj1uYnMkixr1tBxlxn2zXYVg/EP/kTX/6/rH/0rioAj+1+N/8AoXdB/wDB5P8A/IlTf2h42/6F/wAPf+D+b/5DrparUAYf9oeNv+hf8Pf+D+b/AOQ6h+1+N/8AoXdB/wDB5P8A/IldFVmgDlPtfjf/AKF3Qf8AweT/APyJU39oeNv+hf8AD3/g/m/+Q66Wq1AGNoHiDU7/AF3U9J1vTbOxnsYbeYNaXzXKSLKZBjLRRkEeV6HrW1tb+6fyrmNL/wCSmeIv+wfp/wD6Fc119AHJeKlP/CQeDeD/AMhp+3/Tjd11m5fUfnXNeLP+Rg8Gf9ht/wD0gu63aALG5fUfnXD/ABH8f2ngPQZHZJJ9XuLa4k060S2eXzWiUMzNtwAiBgzEsPlDEZIrsKxPiP8A8ks8V/8AYFvP/RD0ATeFNTuNd8GaLq93GiT3+nwXUqxKQgZ41YhQSTjJ4yTW7uX1H51znw4/5JZ4U/7Atn/6IStugCxuX1H51yXg1T9o8ScH/kNzdv8ApnHXS1g+DP8Aj58S/wDYbm/9Fx0Ab+1v7p/Kp9y+o/OlqtQB5jfeNPiWLXV/EtnomhWfhjTXmlS21T7TDf3VtCCWcDGIy4ViodARkZBGC3oWi6nFrug6fq9nHKlvf20d1EsqgMFdQwBAJGcHsTXG+IdQufHl9feDvDUvl6ZHuttf1hVDLECMPaQZBDTMpwzciIHnLkAeh21tBZ2sVrZwxwW8KCOKKJAqRqBgKoHAAAwAKAI9rf3T+Vc/8Q2H/CGvyP8Aj+se/wD09xV1Fch8Qf8AkT3/AOv2y/8ASuKgDrty+o/OoNrf3T+VJVmgDi/HOu+JtL/szTvBegnUtT1OYoLm5Rvsdki4LvMy4IyD8oyCcHGSArM+H3jPVtevtd0DxbYW1lr+gTRpdNZPutp0lDNE8eSWGVHIPPQ8ElV6DVfFWi6HrOlaVq2oR2l5rDvHYxyBgJmXGV3Y2g/MoAJGSQBk8V5h4BtB4N+NOs+DbDUo9Us59JXVJri4iiN7HP52Ck0yANKT5rP84yA6gYGSwB7LuX1H51Btb+6fypKs0Acjpan/AIWb4i4P/IP0/t/tXNdbuX1H51zOl/8AJT/Ef/YO0/8A9Cua3qAMHxWw/wCEg8Gcj/kNv3/6cLut/a390/lXM+Kv+Rg8G/8AYaf/ANIbuuuoAr7W/un8qbqVjaavpV3puoIJrS8heCePeV3o6lWGQQRkE8g5q1VagBNNsbTSNKtNN09BDaWcKQQR7y2xEUKoySScADknNO2t/dP5UlWaAK+1v7p/Kuf8GMPtPiXkf8hubv8A9M466iuQ8Hf8fHiT/sNTf+i46AOu3L6j86g2t/dP5UlWaAPMf+Gfvhr/ANCwf/A65/8AjleiabY2mkaVaabp6CG0s4Uggj3ltiIoVRkkk4AHJOatVWoAsbl9R+dcl8QVP/CHvwf+P2y7f9PcVdLWD8Q/+RNf/r+sf/SuKgDf2t/dP5VPuX1H50tVqAKHibwxofjHRm0rxLYxX9mzrII3YqVZejKykMp6jII4JHQkVQ8KeBfD3gi1uLfwvpSWCXLh5iHeRpCBgZZyWwOcDOBk4HJzvVZoAr7W/un8qn3L6j86Wq1AGBpbD/hZ3iPkf8g7T+/+1c10G1v7p/KuY0v/AJKZ4i/7B+n/APoVzXX0AcP4+0q01m+8JWGp2wuLWbWm3xNkBsWV0R09wDVn/hV3gj/oA23/AH2//wAVVnxZ/wAjB4M/7Db/APpBd1u0Acz/AMKu8Ef9AG2/77f/AOKqL/hVng3/AKF+D/vp/wDGurqzQBxf/CrPBv8A0L8H/fT/AONS/wDCrvBH/QBtv++3/wDiq6uC5guozJazRzIrvGWjcMAyMVZcjuGUgjsQR2qKgDmf+FXeCP8AoA23/fb/APxVc14V+G/hS6n18T6HC4g1aWKPLP8AKoSMgdfc16XWD4M/4+fEv/Ybm/8ARcdAFL/hVng3/oX4P++n/wAal/4Vd4I/6ANt/wB9v/8AFV19VqAOZ/4Vd4I/6ANt/wB9v/8AFVF/wqzwb/0L8H/fT/41cufHnhCzupba78VaJBcQuY5YpdRhVo2BwVILZBBGCDXUUAcX/wAKs8G/9C/B/wB9P/jWJ44+HPhCy8KvNaaLbxyi8tF3B26NcxKw69wSK9PrkPiD/wAie/8A1+2X/pXFQAf8Ku8Ef9AG2/77f/4qov8AhVng3/oX4P8Avp/8a6urNAHF/wDCrPBv/Qvwf99P/jUv/CrvBH/QBtv++3/+Krq7m5gs7WW6vJo4LeFDJLLK4VI1AyWYngAAZJNZula1peu2rXOialZ6jbo5jaW0nWVVYAEqSpIzgg49xQBjf8Ku8Ef9AG2/77f/AOKqL/hVng3/AKF+D/vp/wDGurqzQBwPhLQNO8P/ABA8SWmjWa2sDWNg5RMnJLXPPP0rvdy+o/OuZ0v/AJKf4j/7B2n/APoVzW9QBg+K2H/CQeDOR/yG37/9OF3W/tb+6fyrmfFX/IweDf8AsNP/AOkN3XXUAV9rf3T+Vch488QXst9ZeCfDMoi1rXYZS96GJGl2qjD3DBCGDHO2P7ql+rDGD29ecaz8JbLVvFepeILbxP4n0e71LyvtKaVqC28b+WgReAhJwB3J5J9aAGfs+sB8CvD2SP8Al57/APTzLXoW1v7p/KvN/gn4H1PwV4Gih1241Bb+4z5unz3azQWm2WQjyQuQu5WDNgnJ9K9QoAr7W/un8q5/wYw+0+JeR/yG5u//AEzjrqK5Dwd/x8eJP+w1N/6LjoA67cvqPzqDa390/lSVZoA+atFS90Tw1deJvGHwcOqpfXk+p6xfXkdv5tpvmIcQ28itL5aoA2HI5LnIX5q+i9O1K01bS7TUdPmEtpeQpPBJgrvR1DKcHBGQRwRmvKr63+L17oGseCr/AEvS9VF6k9rH4qmukt4jBIp5e2QF9+CyDaMBtudwBZvSdF0qDQtB0/SbRpHt7C2jtomlILMqKFBJAAzgc4AoA1dy+o/OuS+IKn/hD34P/H7Zdv8Ap7irpawfiH/yJr/9f1j/AOlcVAG/tb+6fyqfcvqPzparUAeWfGzVbg674L8PR6ZPrFpqV7NczabasA169uqtDDIW+TyC7gybgQFTdxtqt8NI9Mt/ihrUEvhe88FeIG0+N5tEhnWSwuYAyhblNihd6k7Djgbmxli+On8e+HNXvdW8PeJ/DENvd6r4emndbK6n8qO5hliKyIGCnEhwoUkhQSS2RUPgzR/Emq/EPUvG/jPRo9BuP7Pj0mw0+K8S4Pkh/NkkkZRgkuQFwRgBgV6MQDvNrf3T+VT7l9R+dLVagDA0th/ws7xHyP8AkHaf3/2rmug2t/dP5VzGl/8AJTPEX/YP0/8A9Cua6+gDkvFSn/hIPBvB/wCQ0/b/AKcbuus3L6j865Hx3cT2upeEJrOykvpl1tttvG6oz/6DdDgsQBgc8ntT/wDhINe/6Ey//wDAy1/+OUAdXuX1H51Btb+6fyrm/wDhINe/6Ey//wDAy1/+OVY/4SLX/wDoS9Q/8DbX/wCO0Abm1v7p/Kp9y+o/Ouc/4SLX/wDoS9Q/8DbX/wCO1X/4SDXv+hMv/wDwMtf/AI5QB1e5fUfnXJeDVP2jxJwf+Q3N2/6Zx07/AISDXv8AoTL/AP8AAy1/+OVi+Etd1uO48Q+V4Svpt+sSswW7thsOyP5TmTk+445oA77a390/lU+5fUfnXOf8JFr/AP0Jeof+Btr/APHar/8ACQa9/wBCZf8A/gZa/wDxygDq9y+o/OoNrf3T+Vc3/wAJBr3/AEJl/wD+Blr/APHKsf8ACRa//wBCXqH/AIG2v/x2gDc2t/dP5Vz/AMQ2H/CGvyP+P6x7/wDT3FUn/CRa/wD9CXqH/gba/wDx2uW8c65rUvhV0m8J3sC/bLM72u7YjIuYiBgSE8nA/GgD0zcvqPzqDa390/lXN/8ACQa9/wBCZf8A/gZa/wDxyrH/AAkWv/8AQl6h/wCBtr/8doA3Nrf3T+VT7l9R+dc5/wAJFr//AEJeof8Agba//Har/wDCQa9/0Jl//wCBlr/8coA6vcvqPzqDa390/lXN/wDCQa9/0Jl//wCBlr/8cqx/wkWv/wDQl6h/4G2v/wAdoAq6Wp/4Wb4i4P8AyD9P7f7VzXW7l9R+dcZ4WvLu9+IviSS/0ybTZBYaeBDNLG5I3XPOUYj9a6ugDB8VsP8AhIPBnI/5Db9/+nC7rf2t/dP5VzPir/kYPBv/AGGn/wDSG7rrqAK+1v7p/Kp9y+o/OlrivFPiHxfpOqRweGfA/wDwkFo0Id7r+1obXY+5gU2OCTgBTnp82O1AHabl9R+dQbW/un8q43wD4z1bxdJrKav4dj0U6XcraMY9TjvA823dImUAAKBkz15YjgqRXdUAV9rf3T+Vc/4MYfafEvI/5Dc3f/pnHXUVyHg7/j48Sf8AYam/9Fx0AdduX1H51Btb+6fypKs0AV9rf3T+VT7l9R+deSyfGzVJ7C88Q6J4C1DUvB1pMVfWVuljkkiUgSTJbsu5lHzc5Awp3FMMF9J07ULbVtLtdR0+XzrS8hSeCTaV3o6hlOCARkEcEZoA0dy+o/OuS+IKn/hD34P/AB+2Xb/p7irpawfiH/yJr/8AX9Y/+lcVAG/tb+6fyqfcvqPzparUAWNy+o/OoNrf3T+Vct438ZP4TtbCLTtLk1rWNUuRbWOmQzLG0xxudyTnaiqMs2CBlc4ByJPCPjibX9VvND17Q7jw9r9lClxLY3E8cqyROzASQyKf3ijADEABWbbyaAOl2t/dP5VPuX1H50tVqAMDS2H/AAs7xHyP+Qdp/f8A2rmug2t/dP5VzGl/8lM8Rf8AYP0//wBCua6+gDkvFSn/AISDwbwf+Q0/b/pxu66zcvqPzrmvFn/IweDP+w2//pBd1u0AWNy+o/OuM+JviW78J+AL++0tDJqs2y006FcGSS4lYImxSDvZcl9mDkIR0ya6us3xN4UsfFX9kf2hLcR/2TqcOpweQyjdLFnaGyDlfmOQMH3FAEHg7wvb+DfB2m6BZZeOxhCNJgjzXJLO+CTjc5ZsZIGcDgV0O5fUfnS1WoAsbl9R+dcl4NU/aPEnB/5Dc3b/AKZx10tYPgz/AI+fEv8A2G5v/RcdAG/tb+6fyqfcvqPzparUAfMmk+GvF2p/s/a5rHh/xUNG8NXH2y7t/Dm0zeXapI2+L7SfnXhHG0Da38RHmNj6C8Fy29z4C0CfT7M2VpLpls8Fr5hk8lDEpVN55bAwMnk4zXG3fwJ8MXN1dLDf63ZaReXK3NxoVpfeVYSMCpIMQXIBKDoRjjbtAGPULa2gs7WK1s4Y4LeFBHFFEgVI1AwFUDgAAYAFAEe1v7p/Kuf+IbD/AIQ1+R/x/WPf/p7irqK5D4g/8ie//X7Zf+lcVAHXbl9R+dQbW/un8qSrNAHmHxN0/VF8V+D9d8NtYXmtaVNc/Z9EurhYJNRikRVm8pmYfMiDPQgA5OcBWyfCl/4g1H9pGS78V6TbaNcyeEz5NjDdC4aKIXaj95IPlZiwdvl4ClR1Br0Hxp4E0fx1YW0Oq/aLe5splnstQspPKubRwQcxvg4zgZGCOAeqqRX8JeB9M8H/AGuazuNQv7+/2fbNQ1K7aee52bgm4nj5VbaMAcAZzigDq9y+o/OoNrf3T+VJVmgDkdLU/wDCzfEXB/5B+n9v9q5rrdy+o/OuZ0v/AJKf4j/7B2n/APoVzW9QBg+K2H/CQeDOR/yG37/9OF3W/tb+6fyrM1rQLDxBDbR6ktx/os/2iF7a6lt3jfYyZDxsrD5XYde9Vv8AhA9I/wCfzxB/4Ueof/H6ANza390/lU+5fUfnXOf8IHpH/P54g/8ACj1D/wCP1X/4QXSf+fvX/wDwor//AOPUAdXuX1H51Btb+6fyrm/+EF0n/n71/wD8KK//APj1WP8AhA9I/wCfzxB/4Ueof/H6ANza390/lXP+DGH2nxLyP+Q3N3/6Zx1J/wAIHpH/AD+eIP8Awo9Q/wDj9Uofh5oVsZTby63EZnMkhTxBfrvc4BY4m5PA59qAOw3L6j86g2t/dP5Vzf8Awguk/wDP3r//AIUV/wD/AB6rH/CB6R/z+eIP/Cj1D/4/QBubW/un8qn3L6j865z/AIQPSP8An88Qf+FHqH/x+q//AAguk/8AP3r/AP4UV/8A/HqAOr3L6j865L4gqf8AhD34P/H7Zdv+nuKnf8ILpP8Az96//wCFFf8A/wAep9x8OtBvIfJu5dcni3K2yXxDfsuVIZTgzdQQCPQgUAdDtb+6fyqfcvqPzrnP+ED0j/n88Qf+FHqH/wAfqv8A8ILpP/P3r/8A4UV//wDHqAOr3L6j86g2t/dP5Vzf/CC6T/z96/8A+FFf/wDx6rH/AAgekf8AP54g/wDCj1D/AOP0Abm1v7p/Kp9y+o/Ouc/4QPSP+fzxB/4Ueof/AB+q/wDwguk/8/ev/wDhRX//AMeoAk0th/ws7xHyP+Qdp/f/AGrmug2t/dP5VkaN4Z03Qbq6ubAXbT3aok0t3fz3TMqbtozK7EAb24GOtb9AH//Z)\n",
        "\n"
      ],
      "metadata": {
        "id": "nqZwXckTwSSy"
      }
    },
    {
      "cell_type": "markdown",
      "source": [
        "\n",
        "When creating a one-dimensional list using `for statement`\n",
        "\n",
        "first, make an empty list with nothing in it, and then use `for` to put the numbers one by one.\n",
        "\n",
        "\n",
        "\\\n",
        "As you know, the code is `(list name) .append ()` to put the number in the list.\n",
        "\n",
        "    list1 = []\n",
        "\n",
        "    for A in range (1,4): \n",
        "      list1.append(A)\n",
        "\n",
        "    print(list1)\n",
        "\n"
      ],
      "metadata": {
        "id": "C0Vkfbtp1Ym6"
      }
    },
    {
      "cell_type": "code",
      "source": [
        ""
      ],
      "metadata": {
        "id": "iwNQwxEL2ZRo"
      },
      "execution_count": null,
      "outputs": []
    },
    {
      "cell_type": "code",
      "source": [
        "#1D list\n",
        "\n",
        "list1 = []\n",
        "\n",
        "for A in range(1,4):\n",
        "  list1.append(A)\n",
        "\n",
        "print(list1)\n",
        "\n"
      ],
      "metadata": {
        "colab": {
          "base_uri": "https://localhost:8080/"
        },
        "id": "DRmu1DJC63bZ",
        "outputId": "e3361803-a812-4d29-c76f-97ec0e7d8243",
        "collapsed": true
      },
      "execution_count": null,
      "outputs": [
        {
          "output_type": "stream",
          "name": "stdout",
          "text": [
            "[1, 2, 3]\n"
          ]
        }
      ]
    },
    {
      "cell_type": "markdown",
      "source": [
        "ーーーーーーーーーーーーーーーーーーーーーーーーーーーーーーーーーーーーーーーー\n",
        "\n",
        "Whe creating 2D list usinf `for`, use `double loop`.\n",
        "\n",
        "\\\n",
        "You may also use another program called `Numpy` later.\n",
        "\n",
        "\n",
        "Let's confirm the double loop of `for` again here.\n",
        "\n",
        "\n",
        "\\\n",
        "\n",
        "Here is a sample completed\n",
        "\n",
        "\n",
        "`list2 = [[1, 2, 3],[4, 5, 6],[7, 8, 9]]`\n",
        "\n",
        "\n",
        "\\\n",
        "\n",
        "First, create an empty list for the 2D list.\n",
        "\n",
        "    list2 = []\n",
        "\n",
        "\\\n",
        "There are three lists in list2, and the first element of each list is 1, 4, 7.\n",
        "\n",
        "\\\n",
        "The code to extract these three can be listed as [1], [4], [7] by putting them in the one-dimensional empty list list1 in order with the variable `A`.\n",
        "\n",
        "\n",
        "    for A in range(1, 8, 3):\n",
        "      list1 = []\n",
        "\n",
        "\\\n",
        "\n",
        "`range (1, 8, 3)` means every 3 from 1 to 7.\n",
        "\n",
        "I used this expression this time, but in this case, it is usually \n",
        "`for A in [1, 4, 7]`.\n",
        "\n",
        "\n",
        "\\\n",
        "Let `B` be the variable to be fetched, and add 0, 1, and 2 to each list to append.\n",
        "\n",
        "\n",
        "\n",
        "      for B in range (0, 3):    # Again, `for B in [0, 1, 2]:` is enogh.\n",
        "        list1.append(A + B)\n",
        "\n",
        "\n",
        "For example, if you run the sample code below, you can see that \n",
        "\n",
        "the list of `[4]` will be created as → `[4, 5]` → `[4, 5, 6]`.\n",
        "\n",
        "\n",
        "\\\n",
        "Once you have one one-dimensional list list1, you can append it to the two-dimensional list list2.\n",
        "\n",
        "        list2.append(list1)\n",
        "\n",
        "\n",
        "Be careful of indentation as this code is processed in a first loop of `for A`.\n",
        "\n",
        "\n",
        "    for A in range(1, 8, 3):\n",
        "      list1 = []\n",
        "      \n",
        "\n",
        "      list2.append(list1)\n",
        "\n",
        "is in the same loop.\n",
        "\n",
        "\n",
        "\\\n",
        "Finally print list2\n",
        "\n",
        "    print(list2)`\n",
        "\n",
        "\n",
        "\n"
      ],
      "metadata": {
        "id": "HOTF94HI8e9s"
      }
    },
    {
      "cell_type": "code",
      "source": [
        ""
      ],
      "metadata": {
        "id": "g67fn2I51IE0"
      },
      "execution_count": null,
      "outputs": []
    },
    {
      "cell_type": "code",
      "source": [
        "#2D list\n",
        "\n",
        "list2 = []\n",
        "\n",
        "for A in range(1, 8, 3):\n",
        "  list1 = []\n",
        "  for B in range(0, 3):\n",
        "    list1.append(A + B)\n",
        "    print(list1)                 # If you add this code, you can see how the list will be created.\n",
        "  list2.append(list1)\n",
        "\n",
        "print(list2)"
      ],
      "metadata": {
        "colab": {
          "base_uri": "https://localhost:8080/"
        },
        "id": "_BWRNjal8vpE",
        "outputId": "41f25551-6b27-491b-a0dc-bfe0b0055b6a",
        "collapsed": true
      },
      "execution_count": null,
      "outputs": [
        {
          "output_type": "stream",
          "name": "stdout",
          "text": [
            "[1]\n",
            "[1, 2]\n",
            "[1, 2, 3]\n",
            "[4]\n",
            "[4, 5]\n",
            "[4, 5, 6]\n",
            "[7]\n",
            "[7, 8]\n",
            "[7, 8, 9]\n",
            "[[1, 2, 3], [4, 5, 6], [7, 8, 9]]\n"
          ]
        }
      ]
    },
    {
      "cell_type": "markdown",
      "source": [
        "\n",
        "If you insert `print(list1)` in the middle as above, you can see the progress of the program.\n",
        "\n",
        "\n",
        "\\\n",
        "I highly recommend it when you want to see what's going on.\n",
        "\n"
      ],
      "metadata": {
        "id": "phtsvd_hPP5C"
      }
    },
    {
      "cell_type": "code",
      "source": [
        ""
      ],
      "metadata": {
        "id": "D1YtF8LIzWdN"
      },
      "execution_count": null,
      "outputs": []
    },
    {
      "cell_type": "markdown",
      "source": [
        "---\n",
        "\n",
        "\n",
        "The following is sample code to create a 2D list of \n",
        "\n",
        "`[[11, 12], [21, 22], [31, 32]]`.\n",
        "\n"
      ],
      "metadata": {
        "id": "zKDUfNXvzmEE"
      }
    },
    {
      "cell_type": "code",
      "source": [
        "#sample\n",
        "\n",
        "list2 = []\n",
        "\n",
        "for i in range(1, 4):\n",
        "    list1 = []\n",
        "    for j in range(1, 3):\n",
        "        list1.append(i * 10 + j)\n",
        "    list2.append(list1)\n",
        "\n",
        "print(list2)"
      ],
      "metadata": {
        "colab": {
          "base_uri": "https://localhost:8080/"
        },
        "outputId": "1c0ba6b5-1776-4d28-e3a4-e306e9ef58c0",
        "id": "CuW8vWnWzXJE",
        "collapsed": true
      },
      "execution_count": null,
      "outputs": [
        {
          "output_type": "stream",
          "name": "stdout",
          "text": [
            "[[11, 12], [21, 22], [31, 32]]\n"
          ]
        }
      ]
    },
    {
      "cell_type": "markdown",
      "source": [
        "###for & if"
      ],
      "metadata": {
        "id": "gHldpnz7yHTL"
      }
    },
    {
      "cell_type": "markdown",
      "source": [
        "---\n",
        "Q?\n",
        "\n",
        "What is a proguram writing out all multiples of 13 out of numbers \n",
        "\n",
        "from 1 though 10000 ?\n",
        "\n"
      ],
      "metadata": {
        "id": "OsVZCyePurpZ"
      }
    },
    {
      "cell_type": "markdown",
      "source": [
        "ーーーーーーーーーーーーーーーーーーーーーーーーーーーーーーーーーーーーーーーー\n",
        "\n",
        "Think as \n",
        "\n",
        "\"Multiple of 13 = number with a remainder of 0 when divided by 13\"\n",
        "\n",
        "\\\n",
        "Write a program of the procedure of \"Dividing a number from 1 to 10000 by 13 in order and printing the number with a remainder of 0\".\n",
        "\n",
        "\n",
        "\\\n",
        "The code \"Retrieve numbers from 1 to 10000 in order\" is\n",
        "\n",
        "    for i in range(1, 10001):\n",
        "\n",
        "\n",
        "`i` is often used as a variable to retrieve numbers etc. in `for statement`.\n",
        "\n",
        "`i` is an acronym for `iterable`.\n",
        "\n",
        "\n",
        "\\\n",
        "In the for statement, add `:` at the end and in the statement below which shows \n",
        "\n",
        "details of operation, remember arranging `indent`.\n",
        "\n",
        "\n",
        "\\\n",
        "\n",
        "Structure of `for statement` is\n",
        "\n",
        "    for (variable) in range():\n",
        "        operational content\n",
        "\n",
        "Indent is to represent a unit of `for statement`\n",
        "\n",
        "\\\n",
        "\n",
        "The code \"divide the number taken out by 13 and print that number if the remainder is 0\" is\n",
        "\n",
        "      if i % 13 == 0:\n",
        "        print(i, end = ', ')\n",
        "\n",
        "\\\n",
        "`%` Is `arithmetic operator` that finds the remainder.\n",
        "\n",
        "\\\n",
        "`==` is called `comparison operator`and its meaning is the same as the arithmetic` = (equal) `.\n",
        "\n",
        "In Python, `=` means `assign` and `==` means `equal`.\n",
        "\n",
        "\n",
        "\\\n",
        "There are other comparison operators in the cell below, but they will come up often so you don't have to remember them.\n",
        "\n",
        "\\\n",
        "\n",
        "`print (i)` is also OK, but if you do so, a line break will occur each time it is printed one by one.\n",
        "\n",
        "\\\n",
        "If you add `end =', '`, comma and a half-width space will be added after the number without line breaks.\n",
        "\n",
        "\n",
        "\\\n",
        "`end =','` does not have a half-width space, so you can use it as you like.\n",
        "\n",
        "\\\n",
        "\n",
        "Don't forget the last`:` and indent in the if statement\n",
        "\n",
        "\n",
        "\n",
        "The structure of `if statement` is\n",
        "\n",
        "    if (condition):\n",
        "      operational content\n",
        "\n",
        "Indent to represent a unit of `if statement`\n",
        "\n",
        "\\\n",
        "In this way,\n",
        "\n",
        "\n",
        "\n",
        "Total structure is \"A group of if statements is in a group of for sentences and the whole is a group.\"\n",
        "\n",
        "\n",
        "\\\n",
        "It's supposed to be annoying, but this mechanism will appear many times from now.\n",
        "\n",
        "\\\n",
        "Programming is a little confusing same as math but you can be getting used to it soon.\n",
        "\n",
        "\n",
        "\n",
        "\\\n",
        "\n",
        "To summarize the code\n",
        "\n",
        "    for i in range(1,10001):\n",
        "      if i % 13 == 0:\n",
        "        print(i, end = ', ')\n",
        "\n",
        "\n"
      ],
      "metadata": {
        "id": "3kaIaL4TurpZ"
      }
    },
    {
      "cell_type": "code",
      "source": [
        ""
      ],
      "metadata": {
        "id": "dKF3Ag1eDLh3"
      },
      "execution_count": null,
      "outputs": []
    },
    {
      "cell_type": "markdown",
      "metadata": {
        "id": "_jLsq7RlB9lN"
      },
      "source": [
        "\n",
        " Comparison operator summary\n",
        "\n",
        "\\\n",
        "\n",
        "| Meaning | Operator |\n",
        "|:------:|:------:|\n",
        "| Equal | `==` |\n",
        "| Not equal | `! =` |\n",
        "| Less than | `<` |\n",
        "| Equal or less than | `<=` |\n",
        "|Greater than | `>` |\n",
        "| Equal or greater than | `> =` |\n",
        "| It is an element | `in` |\n",
        "| Not an element | `not in` |\n",
        "\n",
        "\\"
      ]
    },
    {
      "cell_type": "markdown",
      "source": [
        "---\n",
        "\n",
        "Alternatively, \n",
        "\n",
        "As \"Multiple of 13 = 13 x integer\", \n",
        "\n",
        "\"Multiply 13 to a number in order from 1 and print the product \n",
        "\n",
        "while it is 10000 or less\" \n",
        "\n",
        "\n",
        "\\\n",
        "13 x 1000 = 13000, which exceeds 10000, so if you multiply by 1000, \n",
        "\n",
        "The code for \"retrieving numbers from 1 to 1000 in order\" is \n",
        "\n",
        "    for i in range(1, 1001):\n",
        "\n",
        "\\\n",
        "\n",
        "The code \"prints the number taken out multiplied by 13 is 10000 or less\" is \n",
        "\n",
        "      if 13 * i <= 10000:\n",
        "        print(13 * i, end = ', ')\n",
        "\n",
        "\\\n",
        "\n",
        "To summarize the above, \n",
        "\n",
        "    for i in range(1,1001):\n",
        "      if 13 * i <= 10000:\n",
        "        print(13 * i, end = ', ')\n",
        "\n",
        "\n",
        "\n"
      ],
      "metadata": {
        "id": "FFiAKISBurpa"
      }
    },
    {
      "cell_type": "code",
      "source": [
        ""
      ],
      "metadata": {
        "id": "UZdV1PR5DPVa"
      },
      "execution_count": null,
      "outputs": []
    },
    {
      "cell_type": "markdown",
      "source": [
        "\n",
        "This is OK, but since this program uses `range (1,1001):`,\n",
        "\n",
        "\\\n",
        "`i` would be enough up to 769 (10000 $\\div$ 13 = 769 ... 3), but it will end after proceeding to 10000.\n",
        "\n",
        "\\\n",
        "Therefore,\n",
        "\n",
        "\n",
        "\\\n",
        "Enter the code \"If 13 * i exceeds 10000, the program will be suspended (interrupted)\"\n",
        "\n",
        "\n",
        "    if 13 * i > 10000:\n",
        "      break\n",
        "\n",
        "Don't forget the `:` at the end of the if statement\n",
        "\n",
        "\\\n",
        "Check the comparison operator `>` in below cell\n",
        "\n",
        "\\\n",
        "Use `break`to break/suspend a program\n",
        "\n",
        "\\\n",
        "\n",
        "The if statement appears twice, which is the same as the \"case classification\" that is done at solving math problems.\n",
        "\n",
        "\n",
        "\n",
        "To summarize the above\n",
        "\n",
        "\n",
        "\n",
        "    for i in range(1,1001):\n",
        "      if 13 * i <= 10000:\n",
        "        print(13 * i, end = ', ')\n",
        "      if 13 * i > 10000:\n",
        "        break\n",
        "\n",
        "\n"
      ],
      "metadata": {
        "id": "NjBSBXCcurpb"
      }
    },
    {
      "cell_type": "code",
      "source": [
        ""
      ],
      "metadata": {
        "id": "_rRE5cBCeST5"
      },
      "execution_count": null,
      "outputs": []
    },
    {
      "cell_type": "markdown",
      "metadata": {
        "id": "AqrKjXtlurpb"
      },
      "source": [
        "\n",
        "Arithmetic operator summary\n",
        "\n",
        "\n",
        "\n",
        "| Arithmetic | Symbol |\n",
        "|:------:|:------:|\n",
        "| Addition | `+` |\n",
        "| Subtraction | `-` |\n",
        "| Multiplication | `*` |\n",
        "| Division | `/` |\n",
        "|Exponentiation | `**` |  \n",
        "| Division (quotient only) | `//` |\n",
        "| Division (remainder only) | `%` |\n",
        "\n",
        "\\\n",
        "\n"
      ]
    },
    {
      "cell_type": "code",
      "source": [
        ""
      ],
      "metadata": {
        "id": "E-YbRdHnfgqR"
      },
      "execution_count": null,
      "outputs": []
    },
    {
      "cell_type": "markdown",
      "source": [
        "---\n",
        "Q?\n",
        "\n",
        "We are able to output all the multiples of 13 out of the numbers from 1 to 10000, \n",
        "\n",
        "but how many numbers are there in total?\n",
        "\n"
      ],
      "metadata": {
        "id": "j4kXZ7Osurpc"
      }
    },
    {
      "cell_type": "markdown",
      "source": [
        "ーーーーーーーーーーーーーーーーーーーーーーーーーーーーーーーーーーーーーーーー\n",
        "\n",
        "This problem is read as an arithmetic problem, \n",
        "\n",
        "\"How many multiples of 13 are there in 1 to 10000?\"\n",
        "\n",
        "\n",
        "\\\n",
        "This answer was be calculated in the explanation cell above\n",
        "\n",
        "\n",
        "\\\n",
        "It's easy to see that the answer is 769 based on the calculation of \n",
        "\n",
        "10000 $\\div$ 13 ＝ 769… 3.\n",
        "\n",
        "\n",
        "\\\n",
        "We will get it programmatically.\n",
        "\n"
      ],
      "metadata": {
        "id": "G2ratn_Jurpc"
      }
    },
    {
      "cell_type": "markdown",
      "source": [
        "ーーーーーーーーーーーーーーーーーーーーーーーーーーーーーーーーーーーーーーーー\n",
        "\n",
        "Programu is \n",
        "\n",
        "\"A number from 1 to 10000, if the remainder divided by 13 becomes 0, count (count)\".\n",
        "\n",
        "\\\n",
        "First, the code that \"sets the variable that counts the number as `count` and sets it to 0 at first\" is\n",
        "\n",
        "    count = 0\n",
        "\n",
        "\n",
        "The code \"Retrieve numbers from 1 to 10000 in order\" is\n",
        "\n",
        "    for a in range(1, 10001):\n",
        "\n",
        "\n",
        "There is no particular reason to use ` a` instead of `i`.\n",
        "\n",
        "\\\n",
        "\n",
        "The code \"divide the retrieved number  by 13 and add 1 to `count` if the remainder is 0\"\n",
        "\n",
        "\n",
        "      if a % 13 == 0:\n",
        "        count += 1\n",
        "\n",
        "Since these two lines are a set of `if statement`, `count + = 1` on the second line is indented.\n",
        "\n",
        "`%` is an arithmetic operator \n",
        "\n",
        "`+=`is an assignment operator confirmed below.\n",
        "\n",
        "\\\n",
        "The code that \"calculates to the end and finally prints count\" to find the answer.\n",
        "\n",
        "    print(count)\n",
        "\n",
        "\n",
        "Here, the last print is after the iterative processing being completed, so there is no indentation.\n",
        "\n",
        "\n",
        "\n",
        "Process of `print()` after the `for statement` ends \n",
        "\n",
        "→ Confirm [ Check it Out ] below \n",
        "\n",
        "\n",
        "The reason why you have to set `count = 0` at the beginning is the same order of process.\n",
        "\n",
        "\n",
        "\\\n",
        "Again, the pattern that `if statement` is inside `for statement`, so it is indented in two steps.\n",
        "\n",
        "\n",
        "\n",
        "\\\n",
        "\n",
        "To summarize the above\n",
        "\n",
        "\n",
        "\n",
        "    count = 0\n",
        "\n",
        "    for a in range(1,10001):\n",
        "      if a % 13 == 0:\n",
        "        count += 1\n",
        "        print(count)\n",
        "\n",
        "\n"
      ],
      "metadata": {
        "id": "yvVVVNW1urpd"
      }
    },
    {
      "cell_type": "code",
      "source": [
        ""
      ],
      "metadata": {
        "id": "RWD6u7l9urpd"
      },
      "execution_count": null,
      "outputs": []
    },
    {
      "cell_type": "markdown",
      "metadata": {
        "id": "VXXE7wKgurpd"
      },
      "source": [
        "\n",
        "###Substitution operator summary\n",
        "\n",
        "\n",
        "\\\n",
        "Add and substitute: `sum = sum + x` → `sum + = x` \n",
        "\n",
        "Multiply and assign: `product = product * x` →` product * = x`\n",
        "\n",
        "\\\n",
        "\n",
        "| Arithmetic | Symbol |\n",
        "|:------:|:------:|\n",
        "| Addition and assign | `+=` |\n",
        "| Subtract and assign | `-=` |\n",
        "| Multiply and assign | `*=` |\n",
        "| Divide and assign | `/=` |\n",
        "\n",
        "\\\n",
        "\n",
        "\n"
      ]
    },
    {
      "cell_type": "markdown",
      "source": [
        "---\n",
        "[ Check it out ]\n",
        "\n",
        "When a computer reads a program and moves (calculates), there are only three ways for move.\n",
        "\n",
        "Computer is such a simple machine.\n",
        "\n",
        "\\\n",
        "(1) Read programs in order (from top to bottom sequently) \n",
        "\n",
        "\\\n",
        "(2) Move repeatedly\n",
        "\n",
        "\\\n",
        "(3) Movements are classified according to conditions (conditional branching / → case classification)\n",
        "\n",
        "\\\n",
        "(2) is `for statement` and (3) is `if statement`.\n"
      ],
      "metadata": {
        "id": "ZhmwaBfGkx7y"
      }
    },
    {
      "cell_type": "markdown",
      "source": [
        "### Leap year "
      ],
      "metadata": {
        "id": "nBe0Dcg_53VS"
      }
    },
    {
      "cell_type": "markdown",
      "source": [
        "---\n",
        "Q?\n",
        "\n",
        "\n",
        "What is the program that determines whether it is a \"leap year\" or not \n",
        "\n",
        "when the year is entered?\n",
        "\n",
        "\n",
        "\n",
        "\\\n",
        "\n",
        "The leap year is the year when February is up to the 29th.\n",
        "\n",
        "\n",
        "\n",
        "\\\n",
        "\n",
        "The calendar we are currently using is called the \"Gregorian calendar\".\n",
        "\n",
        "\n",
        "\n",
        "This seems to be used in countries all over the world.\n",
        "\n",
        "\n",
        "\n",
        "I don't know what other calendars there are, \n",
        "\n",
        "but in this Gregorio calendar the leap year is decided as follow :\n",
        "\n",
        "\n",
        "\\\n",
        "(1) A leap year is a year in which the year is divisible by 4.\n",
        "\n",
        "\n",
        "\n",
        "(2) As an exception of (1), the year in which the year is divisible by 100 \n",
        "\n",
        "and not divisible by 400 is regarded as a normal year.\n",
        "\n",
        "\n"
      ],
      "metadata": {
        "id": "Ae9_KwdKU-bg"
      }
    },
    {
      "cell_type": "markdown",
      "source": [
        "ーーーーーーーーーーーーーーーーーーーーーーーーーーーーーーーーーーーーーーーーーー\\\n",
        "\n",
        "From (1) and (2), a leap year is that\n",
        "\n",
        "it can be thought of as \"a year that is divisible by 4 \n",
        "\n",
        "and not divisible by 100, or a year that is divisible by 400\".\n",
        "\n",
        "\n",
        "\\\n",
        "Consider the code based on this\n",
        "\n",
        "\n",
        "\n",
        "\\\n",
        "\n",
        "First, display\n",
        "\n",
        "    print ('Determine leap year or normal year')\n",
        "\n",
        "\n",
        "\\\n",
        "The code for \"getting the year input and it is assigned to varibale `year`\" is\n",
        "\n",
        "    year = int (input ('Please enter the year:'))\n",
        "\n",
        "\n",
        "\\\n",
        "\n",
        "If `year` is a number that is divisible by 4 and not divisible by 100, or a number divisible by 400,\n",
        "\n",
        "prints \"leap year\", otherwise prints \"normal year\".\n",
        "\n",
        "    if (year % 4 == 0 and year % 100 != 0) or (year % 400 == 0):\n",
        "\n",
        "      print (year, 'year is a leap year')\n",
        "\n",
        "    else:\n",
        "\n",
        "      print (year, 'year is normal year')\n",
        "\n",
        "\n",
        "\\\n",
        "\n",
        "The `and` and` or` that appear here are called `logical operators` (Boolean operators),\n",
        "\n",
        "\n",
        "\\\n",
        "I'll explain it later, so keep in mind that you'll write code like this here.\n",
        "\n",
        "\n",
        "\n",
        "\\\n",
        "\n",
        "Even if you don't add `(   )` in the if statement,\n",
        "\n",
        "as `and` and` or` have a priority to process, \n",
        "\n",
        "the computer can understand\n",
        "\n",
        "[ y % 4 == 0 and y % 100 != 0 ]`or`[ y % 400 == 0 ]\n",
        "\n",
        "\\\n",
        "However, I have added `(   )` for my own understanding easier.\n",
        "\n",
        "\n",
        "\n",
        "\\\n",
        "\n",
        "In this program, as the answer is either a leap year or a normal year, \n",
        "\n",
        "using `else:` is better for making code simply.\n",
        "\n"
      ],
      "metadata": {
        "id": "sHzabZdLYrKU"
      }
    },
    {
      "cell_type": "code",
      "source": [
        ""
      ],
      "metadata": {
        "id": "W2BT2H_fp8UC"
      },
      "execution_count": null,
      "outputs": []
    },
    {
      "cell_type": "markdown",
      "metadata": {
        "id": "PPy3ijoE84qy"
      },
      "source": [
        "---\n",
        "Q?\n",
        "\n",
        "\n",
        "What is a program displays all leap years from 2000 to 2500 AD?\n",
        "\n",
        "\\\n",
        "Display how many times in total, too.\n"
      ]
    },
    {
      "cell_type": "markdown",
      "source": [
        "ーーーーーーーーーーーーーーーーーーーーーーーーーーーーーーーーーーーーーーー\n",
        "\n",
        "The code is written differently from the last problem but the idea is the same\n",
        "\n",
        "Code `continue` comes again soon later.\n",
        "\n",
        "\n",
        "    count = 0\n",
        "\n",
        "    for i in range(2000, 2501):\n",
        "      if i % 4 == 0:\n",
        "        if i % 100 == 0 and i % 400 != 0:\n",
        "          continue\n",
        "        print(str(i) + \"year\", end =', ') \n",
        "        count += 1\n",
        "\n",
        "    print (count, 'times')\n",
        "\n"
      ],
      "metadata": {
        "id": "teDS0uT07N25"
      }
    },
    {
      "cell_type": "code",
      "source": [
        ""
      ],
      "metadata": {
        "id": "6TF7sTKGr-4P"
      },
      "execution_count": null,
      "outputs": []
    },
    {
      "cell_type": "markdown",
      "source": [
        "\n",
        "This is also written differently\n",
        "\n",
        "    count = 0\n",
        "\n",
        "    for year in range(2000,2501):\n",
        "      if year % 4 == 0 and not (year % 100 == 0 and year % 400 != 0):\n",
        "        print (year, \"year\") \n",
        "        count += 1\n",
        "\n",
        "    print (count, 'times')\n",
        "\n"
      ],
      "metadata": {
        "id": "_be4KY1_9K5y"
      }
    },
    {
      "cell_type": "code",
      "source": [
        ""
      ],
      "metadata": {
        "id": "gZLg9NgVsn4Y"
      },
      "execution_count": null,
      "outputs": []
    },
    {
      "cell_type": "code",
      "source": [
        "#sample\n",
        "\n",
        "count = 0\n",
        "\n",
        "for year in range(2000,2501):\n",
        "  if year % 4 == 0 and not (year % 100 == 0 and year % 400 != 0):\n",
        "    print (year, \"year\") \n",
        "    count += 1\n",
        "\n",
        "print (count, 'times')"
      ],
      "metadata": {
        "id": "fjA2M-Q091Q8"
      },
      "execution_count": null,
      "outputs": []
    },
    {
      "cell_type": "markdown",
      "source": [
        "---\n",
        "Q?\n",
        "\n",
        "\n",
        "What is the program that displays numbers from 1 to 30 \n",
        "\n",
        "and displays \"xx is a multiple of 3\" when it is a multiple of 3, \n",
        "\n",
        "\"xx is a multiple of 5\" when it is a multiple of 5,\n",
        "\n",
        "\"xx is a common multiple of 3 and 5\" when it is a common multiple of 3 and 5?\n"
      ],
      "metadata": {
        "id": "6Babwp8Lj4Wn"
      }
    },
    {
      "cell_type": "markdown",
      "source": [
        "ーーーーーーーーーーーーーーーーーーーーーーーーーーーーーーーーーーーーーーーーー\n",
        "\n",
        "Extract numbers from 1 to 30 in order with `for statement`\n",
        "\n",
        "\n",
        "\\\n",
        "Considering that a multiple of 3 is the remainder is 0 when it is divided by 3, \n",
        "\n",
        "a multiple of 5 is the remainder is 0 when it is divided by 5,\n",
        "\n",
        "a common multiple of 3 and 5 is the remainder is 0 when it is divided by 15, \n",
        "\n",
        "case calssification is made in order of \n",
        "\n",
        "`common multiples of 3 and 5`\n",
        "\n",
        "`multiples of 3`\n",
        "\n",
        "`multiples of 5`\n",
        "\n",
        "`and others`\n",
        "\n",
        "\\\n",
        "This arrangement (order) of case classification is important.\n",
        "\n",
        "\\\n",
        "The code to solve this problem is like this:\n",
        "\n",
        "    for n in range(1,31):\n",
        "      if n % 3 == 0 and n % 5 == 0: \n",
        "        print (n,\": common multiple of 3 and 5 \")\n",
        "\n",
        "      elif n % 3 == 0:\n",
        "        print (n,\": is a multiple of 3 \")\n",
        "\n",
        "      elif n % 5 == 0:\n",
        "        print (n,\": a multiple of 5 \")\n",
        "\n",
        "      else:\n",
        "        print(n)\n",
        "\n",
        "\n",
        "The first thing to be aware is that the computer processes the calculations in the order in which the programs were written.\n",
        "\n",
        "\n",
        "\\\n",
        "This is the reason why the order of the conditional statements written above is important.\n",
        "\n",
        "\n",
        "\\\n",
        "[ Check it Out ] below\n",
        "\n",
        "\\\n",
        "Next, `elif` means `calculate only if the above conditions are not met`\n",
        "\n",
        "\\\n",
        "In other words, `elif` is not calculated when the conditions described above are met.\n",
        "\n",
        "\\\n",
        "We don't know what it is stated, so let's use a specific number,\n",
        "\n",
        "\n",
        "\\\n",
        "15 is a multiple of 3, a multiple of 5, and a multiple of 15, so if you change it to `if` instead of` elif` in the above code\n",
        "\n",
        "\\\n",
        "`15: A common multiple of 3 and 5`\n",
        "\n",
        "`15: A multiple of 3`\n",
        "\n",
        "`15: A multiple of 5`\n",
        "\n",
        "\\\n",
        "Display of 15 will come out three times\n",
        "\n",
        "\n",
        "\\\n",
        "If code is like below\n",
        "\n",
        "    for n in range(1,31):\n",
        "      if n % 3 == 0:\n",
        "        print (n,\": is a multiple of 3 \")\n",
        "\n",
        "      elif n % 3 == 0 and n % 5 == 0:\n",
        "        print (n,\": common multiple of 3 and 5 \")\n",
        "\n",
        "      elif n % 5 == 0:\n",
        "        print (n,\": is a multiple of 5 \")\n",
        "\n",
        "      else:\n",
        "        print(n)\n",
        "\n",
        "Then,\n",
        "\n",
        "`15: is a multiple of 3`\n",
        "\n",
        "Only this display comes out.\n",
        "\n",
        "\n",
        "\\\n",
        "Since 15 is calculated by the first `if statement`, it is not calculated even if the condition of elif is satisfied.\n",
        "\n",
        "\n",
        "\\\n",
        "Run the code cell below ▶ and be sure to see what it looks like\n",
        "\n",
        "\n",
        "\n",
        "\\\n",
        "\n",
        "In terms of image,\n",
        "\n",
        "in the case classification (conditional branching) when there is overlapped \n",
        "\n",
        "(double) between set A and set B as shown below in the Venn diagram of the set,\n",
        "\n",
        "it is importtant how to use of `elif` and `else` statement.\n",
        "\n",
        "\n",
        "\\\n",
        "The point is to calculate from the double condition first.\n",
        "\n",
        "\n",
        "\\\n",
        "It depends on the problem, but it seems that there are many such conditional branches.\n",
        "\n",
        "\n",
        "\n"
      ],
      "metadata": {
        "id": "w4D6o6H8sJGg"
      }
    },
    {
      "cell_type": "markdown",
      "source": [
        "![集合.JPG](data:image/jpeg;base64,/9j/4AAQSkZJRgABAQEAYABgAAD/4RDiRXhpZgAATU0AKgAAAAgABAE7AAIAAAANAAAISodpAAQAAAABAAAIWJydAAEAAAAKAAAQ0OocAAcAAAgMAAAAPgAAAAAc6gAAAAgAAAAAAAAAAAAAAAAAAAAAAAAAAAAAAAAAAAAAAAAAAAAAAAAAAAAAAAAAAAAAAAAAAAAAAAAAAAAAAAAAAAAAAAAAAAAAAAAAAAAAAAAAAAAAAAAAAAAAAAAAAAAAAAAAAAAAAAAAAAAAAAAAAAAAAAAAAAAAAAAAAAAAAAAAAAAAAAAAAAAAAAAAAAAAAAAAAAAAAAAAAAAAAAAAAAAAAAAAAAAAAAAAAAAAAAAAAAAAAAAAAAAAAAAAAAAAAAAAAAAAAAAAAAAAAAAAAAAAAAAAAAAAAAAAAAAAAAAAAAAAAAAAAAAAAAAAAAAAAAAAAAAAAAAAAAAAAAAAAAAAAAAAAAAAAAAAAAAAAAAAAAAAAAAAAAAAAAAAAAAAAAAAAAAAAAAAAAAAAAAAAAAAAAAAAAAAAAAAAAAAAAAAAAAAAAAAAAAAAAAAAAAAAAAAAAAAAAAAAAAAAAAAAAAAAAAAAAAAAAAAAAAAAAAAAAAAAAAAAAAAAAAAAAAAAAAAAAAAAAAAAAAAAAAAAAAAAAAAAAAAAAAAAAAAAAAAAAAAAAAAAAAAAAAAAAAAAAAAAAAAAAAAAAAAAAAAAAAAAAAAAAAAAAAAAAAAAAAAAAAAAAAAAAAAAAAAAAAAAAAAAAAAAAAAAAAAAAAAAAAAAAAAAAAAAAAAAAAAAAAAAAAAAAAAAAAAAAAAAAAAAAAAAAAAAAAAAAAAAAAAAAAAAAAAAAAAAAAAAAAAAAAAAAAAAAAAAAAAAAAAAAAAAAAAAAAAAAAAAAAAAAAAAAAAAAAAAAAAAAAAAAAAAAAAAAAAAAAAAAAAAAAAAAAAAAAAAAAAAAAAAAAAAAAAAAAAAAAAAAAAAAAAAAAAAAAAAAAAAAAAAAAAAAAAAAAAAAAAAAAAAAAAAAAAAAAAAAAAAAAAAAAAAAAAAAAAAAAAAAAAAAAAAAAAAAAAAAAAAAAAAAAAAAAAAAAAAAAAAAAAAAAAAAAAAAAAAAAAAAAAAAAAAAAAAAAAAAAAAAAAAAAAAAAAAAAAAAAAAAAAAAAAAAAAAAAAAAAAAAAAAAAAAAAAAAAAAAAAAAAAAAAAAAAAAAAAAAAAAAAAAAAAAAAAAAAAAAAAAAAAAAAAAAAAAAAAAAAAAAAAAAAAAAAAAAAAAAAAAAAAAAAAAAAAAAAAAAAAAAAAAAAAAAAAAAAAAAAAAAAAAAAAAAAAAAAAAAAAAAAAAAAAAAAAAAAAAAAAAAAAAAAAAAAAAAAAAAAAAAAAAAAAAAAAAAAAAAAAAAAAAAAAAAAAAAAAAAAAAAAAAAAAAAAAAAAAAAAAAAAAAAAAAAAAAAAAAAAAAAAAAAAAAAAAAAAAAAAAAAAAAAAAAAAAAAAAAAAAAAAAAAAAAAAAAAAAAAAAAAAAAAAAAAAAAAAAAAAAAAAAAAAAAAAAAAAAAAAAAAAAAAAAAAAAAAAAAAAAAAAAAAAAAAAAAAAAAAAAAAAAAAAAAAAAAAAAAAAAAAAAAAAAAAAAAAAAAAAAAAAAAAAAAAAAAAAAAAAAAAAAAAAAAAAAAAAAAAAAAAAAAAAAAAAAAAAAAAAAAAAAAAAAAAAAAAAAAAAAAAAAAAAAAAAAAAAAAAAAAAAAAAAAAAAAAAAAAAAAAAAAAAAAAAAAAAAAAAAAAAAAAAAAAAAAAAAAAAAAAAAAAAAAAAAAAAAAAAAAAAAAAAAAAAAAAAAAAAAAAAAAAAAAAAAAAAAAAAAAAAAAAAAAAAAAAAAAAAAAAAAAAAAAAAAAAAAAAAAAAAAAAAAAAAAAAAAAAAAAAAAAAAAAAAAAAAAAAAAAAAAAAAAAAAAAAAAAAAAAAAAAAAAAAAAAAAAAAAAAAAAAAAAAAAAAAAAAAAAAAAAAAAAAAAAAAAAAAAAAAAAAAAAAAAAAAAAAAAAAAAAAAAAAAAAAAAAAAAAAAAAAAAAAAAAAAAAAAAAAAAAAAAAAAAAAAAAAAAAAAAAAAAAAAAAAAAAAAAAAAAAAAAAAAAAAAAAAAAAAAAAAAAAAAAAAAAAAAAAAAAAAAAAAAAAAAAAAAAAAAAAAAAAAAAAAAAAAAAAAAAAAAAAAAAAAAAAAAAAAAAAAAAAAAAAAAAAAAAAAAAAAAAAAAAAAAAAAAAAAAAAAAAAAAAAAAAAAAAAAAAAAAAAAAAAAAAAAAAAAAAAAAAAAAAAAAAAAAAAAAAAAAAAAAAAAAAAAAAAAAAAAAAAAAAAAAAAAAAAAAAAAAAAAAAAAAAAAAAAAAAAAAAAAAAAAAAAAAAAAAAAAAAAAAAAAAAAAAAAAAAAAAAAAAAAAAAAAAAAAAAAAAAAAAAAAAAAAAAAAAAAAAAAAAAAAAAAAAAAAAAAAAAAAAAAAAAAAAAAAAAAAAAAAAAAAAAAAAAAAAAAAAAAAAAAAAAAAAAAAAAAAAAAAAAAAAAAAAAAAAAAAAAAAAAAAAAAAAAAAAAAAAAAAAAAAAAAAAAAAAAAAAAAAAAAAAAAAAAAAAAAAAAAAAAAAAAAAAAAAAAAAAAAAAAAAAAAAAAAAAAAAAAAAAAAAAAAAAAAAAAAAAAAAAAAAAAAAAAAAAAAAAAAAAAAAAAAAAAAAAAAAAAAAAAAAAAAAAAAAAAAAAAAAAAAAAAAAAAAAAAAAAAAAAAAAAAAAAAAAAAAAAAAAAAAAAAAAAAAAAAAAAAAAAAAAAAAAAAAAAAAAAAAAAAAAAAAAAAAAAAAAAAAAAAAAAAAAAAAAAOmWouWPo+azsOW9pgAAAAWQAwACAAAAFAAAEKaQBAACAAAAFAAAELqSkQACAAAAAzIwAACSkgACAAAAAzIwAADqHAAHAAAIDAAACJoAAAAAHOoAAAAIAAAAAAAAAAAAAAAAAAAAAAAAAAAAAAAAAAAAAAAAAAAAAAAAAAAAAAAAAAAAAAAAAAAAAAAAAAAAAAAAAAAAAAAAAAAAAAAAAAAAAAAAAAAAAAAAAAAAAAAAAAAAAAAAAAAAAAAAAAAAAAAAAAAAAAAAAAAAAAAAAAAAAAAAAAAAAAAAAAAAAAAAAAAAAAAAAAAAAAAAAAAAAAAAAAAAAAAAAAAAAAAAAAAAAAAAAAAAAAAAAAAAAAAAAAAAAAAAAAAAAAAAAAAAAAAAAAAAAAAAAAAAAAAAAAAAAAAAAAAAAAAAAAAAAAAAAAAAAAAAAAAAAAAAAAAAAAAAAAAAAAAAAAAAAAAAAAAAAAAAAAAAAAAAAAAAAAAAAAAAAAAAAAAAAAAAAAAAAAAAAAAAAAAAAAAAAAAAAAAAAAAAAAAAAAAAAAAAAAAAAAAAAAAAAAAAAAAAAAAAAAAAAAAAAAAAAAAAAAAAAAAAAAAAAAAAAAAAAAAAAAAAAAAAAAAAAAAAAAAAAAAAAAAAAAAAAAAAAAAAAAAAAAAAAAAAAAAAAAAAAAAAAAAAAAAAAAAAAAAAAAAAAAAAAAAAAAAAAAAAAAAAAAAAAAAAAAAAAAAAAAAAAAAAAAAAAAAAAAAAAAAAAAAAAAAAAAAAAAAAAAAAAAAAAAAAAAAAAAAAAAAAAAAAAAAAAAAAAAAAAAAAAAAAAAAAAAAAAAAAAAAAAAAAAAAAAAAAAAAAAAAAAAAAAAAAAAAAAAAAAAAAAAAAAAAAAAAAAAAAAAAAAAAAAAAAAAAAAAAAAAAAAAAAAAAAAAAAAAAAAAAAAAAAAAAAAAAAAAAAAAAAAAAAAAAAAAAAAAAAAAAAAAAAAAAAAAAAAAAAAAAAAAAAAAAAAAAAAAAAAAAAAAAAAAAAAAAAAAAAAAAAAAAAAAAAAAAAAAAAAAAAAAAAAAAAAAAAAAAAAAAAAAAAAAAAAAAAAAAAAAAAAAAAAAAAAAAAAAAAAAAAAAAAAAAAAAAAAAAAAAAAAAAAAAAAAAAAAAAAAAAAAAAAAAAAAAAAAAAAAAAAAAAAAAAAAAAAAAAAAAAAAAAAAAAAAAAAAAAAAAAAAAAAAAAAAAAAAAAAAAAAAAAAAAAAAAAAAAAAAAAAAAAAAAAAAAAAAAAAAAAAAAAAAAAAAAAAAAAAAAAAAAAAAAAAAAAAAAAAAAAAAAAAAAAAAAAAAAAAAAAAAAAAAAAAAAAAAAAAAAAAAAAAAAAAAAAAAAAAAAAAAAAAAAAAAAAAAAAAAAAAAAAAAAAAAAAAAAAAAAAAAAAAAAAAAAAAAAAAAAAAAAAAAAAAAAAAAAAAAAAAAAAAAAAAAAAAAAAAAAAAAAAAAAAAAAAAAAAAAAAAAAAAAAAAAAAAAAAAAAAAAAAAAAAAAAAAAAAAAAAAAAAAAAAAAAAAAAAAAAAAAAAAAAAAAAAAAAAAAAAAAAAAAAAAAAAAAAAAAAAAAAAAAAAAAAAAAAAAAAAAAAAAAAAAAAAAAAAAAAAAAAAAAAAAAAAAAAAAAAAAAAAAAAAAAAAAAAAAAAAAAAAAAAAAAAAAAAAAAAAAAAAAAAAAAAAAAAAAAAAAAAAAAAAAAAAAAAAAAAAAAAAAAAAAAAAAAAAAAAAAAAAAAAAAAAAAAAAAAAAAAAAAAAAAAAAAAAAAAAAAAAAAAAAAAAAAAAAAAAAAAAAAAAAAAAAAAAAAAAAAAAAAAAAAAAAAAAAAAAAAAAAAAAAAAAAAAAAAAAAAAAAAAAAAAAAAAAAAAAAAAAAAAAAAAAAAAAAAAAAAAAAAAAAAAAAAAAAAAAAAAAAAAAAAAAAAAAAAAAAAAAAAAAAAAAAAAAAAAAAAAAAAAAAAAAAAAAAAAAAAAAAAAAAAAAAAAAAAAAAAAAAAAAAAAAAAAAAAAAAAAAAAAAAAAAAAAAAAAAAAAAAAAAAAAAAAAAAAAAAAAAAAAAAAAAAAAAAAAAAAAAAAAAAAAAAAAAAAAAAAAAAAAAAAAAAAAAAAAAAAAAAAAAAAAAAAAAAAAAAAAAAAAAAAAAAAAAAAAAAAAAAAAAAAAAAAAAAAAAAAAAAAAAAAAAAAAAAAAAAAAAAAAAAAAAAAAAAAAAAAAAAAAAAAAAAAAAAAAAAAAAAAAAAAAAAAAAAAAAAAAAAAAAAAAAAAAAAAAAAAAAAAAAAAAAAAAAAAAAAAAAAAAAAAAAAAAAAAAAAAAAAAAAAAAAAAAAAAAAAAAAAAAAAAAAAAAAAAAAAAAAAAAAAAAAAAAAAAAAAAAAAAAAAAAAAAAAAAAAAAAAAAAAAAAAAAAAAAAAAAAAAAAAAAAAAAAAAAAAAAAAAAAAAAAAAAAAAAAAAAAAAAAAAAAAAAAAAAAAAAAAAAAAAAAAAAAAAAAAAAAAAAAAAAAAAAAAAAAAAAAAAAAAAAAAAAAAAAAAAAAAAAAAAAAAAAAAAAAAAAAAAAAAAAAAAAAAAAAAAAAAAAAAAAAAAAAAAAAAAAAAAAAAAAAAAAAAAAAAAAAAAAAAAAAAAAAAAAAAAAAAAAAAAAAAAAAAAAAAAAAAAAAAAAAAAAAAAAAAAAAAAAAAAAAAAAAAAAAAAAAAAAAAAAAAAAAAAAAAAAAAAAAAAAAAAAAAAAAAAAAAAAAAAAAAAAAAAAAAAAAAAAAAAAAAAAAAAAAAAAAAAAAAAAAAAAAAAAAAAAAAAAAAAAAAAAAAAAAAAAAAAAAAAAAAAAAAAyMDIyOjA0OjI0IDA5OjM3OjU1ADIwMjI6MDQ6MjQgMDk6Mzc6NTUAAACileNT8GxmXwAA/+ELH2h0dHA6Ly9ucy5hZG9iZS5jb20veGFwLzEuMC8APD94cGFja2V0IGJlZ2luPSfvu78nIGlkPSdXNU0wTXBDZWhpSHpyZVN6TlRjemtjOWQnPz4NCjx4OnhtcG1ldGEgeG1sbnM6eD0iYWRvYmU6bnM6bWV0YS8iPjxyZGY6UkRGIHhtbG5zOnJkZj0iaHR0cDovL3d3dy53My5vcmcvMTk5OS8wMi8yMi1yZGYtc3ludGF4LW5zIyI+PHJkZjpEZXNjcmlwdGlvbiByZGY6YWJvdXQ9InV1aWQ6ZmFmNWJkZDUtYmEzZC0xMWRhLWFkMzEtZDMzZDc1MTgyZjFiIiB4bWxuczpkYz0iaHR0cDovL3B1cmwub3JnL2RjL2VsZW1lbnRzLzEuMS8iLz48cmRmOkRlc2NyaXB0aW9uIHJkZjphYm91dD0idXVpZDpmYWY1YmRkNS1iYTNkLTExZGEtYWQzMS1kMzNkNzUxODJmMWIiIHhtbG5zOnhtcD0iaHR0cDovL25zLmFkb2JlLmNvbS94YXAvMS4wLyI+PHhtcDpDcmVhdGVEYXRlPjIwMjItMDQtMjRUMDk6Mzc6NTUuMTk4PC94bXA6Q3JlYXRlRGF0ZT48L3JkZjpEZXNjcmlwdGlvbj48cmRmOkRlc2NyaXB0aW9uIHJkZjphYm91dD0idXVpZDpmYWY1YmRkNS1iYTNkLTExZGEtYWQzMS1kMzNkNzUxODJmMWIiIHhtbG5zOmRjPSJodHRwOi8vcHVybC5vcmcvZGMvZWxlbWVudHMvMS4xLyI+PGRjOmNyZWF0b3I+PHJkZjpTZXEgeG1sbnM6cmRmPSJodHRwOi8vd3d3LnczLm9yZy8xOTk5LzAyLzIyLXJkZi1zeW50YXgtbnMjIj48cmRmOmxpPumWouWPo+azsOW9pjwvcmRmOmxpPjwvcmRmOlNlcT4NCgkJCTwvZGM6Y3JlYXRvcj48L3JkZjpEZXNjcmlwdGlvbj48L3JkZjpSREY+PC94OnhtcG1ldGE+DQogICAgICAgICAgICAgICAgICAgICAgICAgICAgICAgICAgICAgICAgICAgICAgICAgICAgICAgICAgICAgICAgICAgICAgICAgICAgICAgICAgICAgICAgICAgICAgICAgICAgCiAgICAgICAgICAgICAgICAgICAgICAgICAgICAgICAgICAgICAgICAgICAgICAgICAgICAgICAgICAgICAgICAgICAgICAgICAgICAgICAgICAgICAgICAgICAgICAgICAgICAKICAgICAgICAgICAgICAgICAgICAgICAgICAgICAgICAgICAgICAgICAgICAgICAgICAgICAgICAgICAgICAgICAgICAgICAgICAgICAgICAgICAgICAgICAgICAgICAgICAgIAogICAgICAgICAgICAgICAgICAgICAgICAgICAgICAgICAgICAgICAgICAgICAgICAgICAgICAgICAgICAgICAgICAgICAgICAgICAgICAgICAgICAgICAgICAgICAgICAgICAgCiAgICAgICAgICAgICAgICAgICAgICAgICAgICAgICAgICAgICAgICAgICAgICAgICAgICAgICAgICAgICAgICAgICAgICAgICAgICAgICAgICAgICAgICAgICAgICAgICAgICAKICAgICAgICAgICAgICAgICAgICAgICAgICAgICAgICAgICAgICAgICAgICAgICAgICAgICAgICAgICAgICAgICAgICAgICAgICAgICAgICAgICAgICAgICAgICAgICAgICAgIAogICAgICAgICAgICAgICAgICAgICAgICAgICAgICAgICAgICAgICAgICAgICAgICAgICAgICAgICAgICAgICAgICAgICAgICAgICAgICAgICAgICAgICAgICAgICAgICAgICAgCiAgICAgICAgICAgICAgICAgICAgICAgICAgICAgICAgICAgICAgICAgICAgICAgICAgICAgICAgICAgICAgICAgICAgICAgICAgICAgICAgICAgICAgICAgICAgICAgICAgICAKICAgICAgICAgICAgICAgICAgICAgICAgICAgICAgICAgICAgICAgICAgICAgICAgICAgICAgICAgICAgICAgICAgICAgICAgICAgICAgICAgICAgICAgICAgICAgICAgICAgIAogICAgICAgICAgICAgICAgICAgICAgICAgICAgICAgICAgICAgICAgICAgICAgICAgICAgICAgICAgICAgICAgICAgICAgICAgICAgICAgICAgICAgICAgICAgICAgICAgICAgCiAgICAgICAgICAgICAgICAgICAgICAgICAgICAgICAgICAgICAgICAgICAgICAgICAgICAgICAgICAgICAgICAgICAgICAgICAgICAgICAgICAgICAgICAgICAgICAgICAgICAKICAgICAgICAgICAgICAgICAgICAgICAgICAgICAgICAgICAgICAgICAgICAgICAgICAgICAgICAgICAgICAgICAgICAgICAgICAgICAgICAgICAgICAgICAgICAgICAgICAgIAogICAgICAgICAgICAgICAgICAgICAgICAgICAgICAgICAgICAgICAgICAgICAgICAgICAgICAgICAgICAgICAgICAgICAgICAgICAgICAgICAgICAgICAgICAgICAgICAgICAgCiAgICAgICAgICAgICAgICAgICAgICAgICAgICAgICAgICAgICAgICAgICAgICAgICAgICAgICAgICAgICAgICAgICAgICAgICAgICAgICAgICAgICAgICAgICAgICAgICAgICAKICAgICAgICAgICAgICAgICAgICAgICAgICAgICAgICAgICAgICAgICAgICAgICAgICAgICAgICAgICAgICAgICAgICAgICAgICAgICAgICAgICAgICAgICAgICAgICAgICAgIAogICAgICAgICAgICAgICAgICAgICAgICAgICAgICAgICAgICAgICAgICAgICAgICAgICAgICAgICAgICAgICAgICAgICAgICAgICAgICAgICAgICAgICAgICAgICAgICAgICAgCiAgICAgICAgICAgICAgICAgICAgICAgICAgICAgICAgICAgICAgICAgICAgICAgICAgICAgICAgICAgICAgICAgICAgICAgICAgICAgICAgICAgICAgICAgICAgICAgICAgICAKICAgICAgICAgICAgICAgICAgICAgICAgICAgICAgICAgICAgICAgICAgICAgICAgICAgICAgICAgICAgICAgICAgICAgICAgICAgICAgICAgICAgICAgICAgICAgICAgICAgIAogICAgICAgICAgICAgICAgICAgICAgICAgICAgICAgICAgICAgICAgICAgICAgICAgICAgICAgICAgICAgICAgICAgICAgICAgICAgICAgICAgICAgICAgICAgICAgICAgICAgCiAgICAgICAgICAgICAgICAgICAgICAgICAgICAgICAgICAgICAgICAgICAgICAgICAgICAgICAgICAgICAgICAgICAgICAgICAgICAgICAgICAgICAgICAgICAgICAgICAgICAKICAgICAgICAgICAgICAgICAgICAgICAgICAgIDw/eHBhY2tldCBlbmQ9J3cnPz7/2wBDAAcFBQYFBAcGBQYIBwcIChELCgkJChUPEAwRGBUaGRgVGBcbHichGx0lHRcYIi4iJSgpKywrGiAvMy8qMicqKyr/2wBDAQcICAoJChQLCxQqHBgcKioqKioqKioqKioqKioqKioqKioqKioqKioqKioqKioqKioqKioqKioqKioqKioqKir/wAARCACMALoDASIAAhEBAxEB/8QAHwAAAQUBAQEBAQEAAAAAAAAAAAECAwQFBgcICQoL/8QAtRAAAgEDAwIEAwUFBAQAAAF9AQIDAAQRBRIhMUEGE1FhByJxFDKBkaEII0KxwRVS0fAkM2JyggkKFhcYGRolJicoKSo0NTY3ODk6Q0RFRkdISUpTVFVWV1hZWmNkZWZnaGlqc3R1dnd4eXqDhIWGh4iJipKTlJWWl5iZmqKjpKWmp6ipqrKztLW2t7i5usLDxMXGx8jJytLT1NXW19jZ2uHi4+Tl5ufo6erx8vP09fb3+Pn6/8QAHwEAAwEBAQEBAQEBAQAAAAAAAAECAwQFBgcICQoL/8QAtREAAgECBAQDBAcFBAQAAQJ3AAECAxEEBSExBhJBUQdhcRMiMoEIFEKRobHBCSMzUvAVYnLRChYkNOEl8RcYGRomJygpKjU2Nzg5OkNERUZHSElKU1RVVldYWVpjZGVmZ2hpanN0dXZ3eHl6goOEhYaHiImKkpOUlZaXmJmaoqOkpaanqKmqsrO0tba3uLm6wsPExcbHyMnK0tPU1dbX2Nna4uPk5ebn6Onq8vP09fb3+Pn6/9oADAMBAAIRAxEAPwD3zVdastEsxdardi2hLiMM2Tlj0AA5JrKHxB8N7hnUzjPP7iX/AOJpnjH7/h7/ALDdt/7NXW0Acz/wn/hb/oJD/wAB5P8A4mg/EDwvtONSGe3+jy//ABNdNRQByn/CwfDn/QTb/vxL/wDE0o+IPhvcM6mcZ5/cS/8AxNdVRQBzP/Cf+Fv+gkP/AAHk/wDiaD8QPC+041IZ7f6PL/8AE101FAHKf8LB8Of9BNv+/Ev/AMTSj4g+G9wzqZxnn9xL/wDE11VFAHM/8J/4W/6CQ/8AAeT/AOJoPxA8L7TjUhnt/o8v/wATXTUUAcp/wsHw5/0E2/78S/8AxNKPiD4b3DOpnGef3Ev/AMTXVUUAcz/wn/hb/oJD/wAB5P8A4mg/EDwvtONSGe3+jy//ABNdNRQByn/CwfDn/QTb/vxL/wDE0o+IPhvcM6mcZ5/cS/8AxNdVRQBzP/Cf+Fv+gkP/AAHk/wDiaD8QPC+041IZ7f6PL/8AE101FAHKf8LB8Of9BNv+/Ev/AMTVrTfGOh6tqUdjY6iJbmQFkiZHUsB1xuAziuhrltf/AOR/8KfW7/8ARYoA6jav90flRtX+6PypaKAOX8agD/hHsAf8hu27f71dRXMeNv8AmXv+w3bf+zV09ABRRRQAUUUUAFFFFABRRRQAUUUUAFFFFABRRRQAUUUUAFFFFABXL6//AMj74W+l5/6KFdRXL6//AMj74W/3bz/0UKAOg3N6n86Nzep/OkooA5zxixL+Hsk/8hu2/wDZq6yuS8Y/f8Pf9hu2/wDZq62gArkvif4nuvCXw+v7/Sl8zVptlppsKkGSS4lYImxSDvZcl9mDkIR0ya62vIPiK3iPxf8AFLSPDnhCPS5h4aRNbum1GSQ24uSxWCNzEN6Oo3SKu4Bw2SCF5AOp+GXiHVNUsNY0fxNc/adb0DU5rKed41hkuYs7oZzCoHlq6NheoIQkE811GravbaLaLPdrPJ5jiOOK3geaSRyCQoVQT0B56DGSRXkmjN4x8HfGm21DxrHocdr4yT7FcS6TJMIVuYEzAzmYHDsuY1RWAbk4JXn2mgDmf7X8V33/ACDvDMNih6SatfqrAevlwiTP0LLSjS/F9x81z4msbYn+Cz0r7v8AwKSRs/XA+ldLRQBzf/CNa23MnjjWFb0itbJV/JoGP60f2D4kg+a18YzzN2F9p8EifiIxGf1rpK53UfEF3c6lLo/haGK6vosC6ups/Z7HIyA+OXfByI1wcYLFQQSAZ+r+IvEnhSxN5rkOh31qpwZYbs2UjHsFjl3KxPp5gP1rKT4ufa7mCytfDN/p97cKDCniGRNOjlJ/hRzvLn2VTXV6V4Us7C7Go30kmq6tjB1C8wzrnqIxjbEv+ygHvk81q31haanZyWmo2sN3bSjEkM8YdGHoQeDQBz6W3ji8GbjUdE0sf887a1lum/77Z0H/AI5T/wDhHvEEv+v8aX0f/XrY2qf+hxvUC6FqXhSPf4UaS+09TltHupydo/6d5WOUP+wxKdACnWtvRdbstesPtVg7YVjHLDIpSSCQfejdTyrD0P16EGgDK/4R/wARR/6jxndSf9fVhbv/AOgIlS2sHi+0vIlub7SNStC4EjfZpLWVFzyRh3VjjoMLnpkda6CigAry3xXeeMdX+NEfhTwx4s/4R60Xw+NSdv7Nhut7/aGjI+fBGQV74+XpzXqVeG/EDSfBus/tDwW/xDks49MXwsrxG8vTap532tgMOGXJ2l+M+pxxQB13wv8AFWt6lrPijwv4l1Cz1i88N3UcY1a0AQXKy7yFeNRtV02FWA6H5eSpZvRK8g+GNzouk/FLWvC3w6mju/CS6fHfzvC7TxWt8zKmxJ+ch4lDEFm+ZGwRhlr1+gArl9f/AOR/8Kf9vf8A6LFdRXLa/wD8j/4U+t3/AOixQB1G1f7o/Kjav90flS0UAcv41AH/AAj2AP8AkN23b/erqK5jxt/zL3/Ybtv/AGaunoAKrQabY21/dX1tZ28N3ebPtNxHEqyT7Bhd7AZbA4GegqzRQBWvdNsdR+z/ANoWdvd/ZpluIPPiV/KlX7si5HysMnBHIzVmiigAooqpqupW+jaPeanesVtrKB7iUjsiKWP6CgDD8Qajealqq+GNAna3unjEt/fIMmxgJIG3t5r4IUdgGY9ADuaXpdno2nRWOmwLBbxA4UZJJJyWJPLMTkknJJJJrK8GaXcafoZutTUDVdUlN9fd9sj4xHn0RQsY9kFdBQAUUUUAFc34h0W7ivB4g8Moo1aFQJrcttTUYh/yyc9Aw52Ofunj7pYV0lFAFLRtXtNd0i31LT2ZoJ1yA67WQg4ZGHZlIII7EEVdrlLRf+Ef+Ic9mvy2PiCNruJR0juowolH/A0KN9Y3PU11dABWRqvhPw5r10t1rmgaXqVwiCNZbyyjmdVBJCgsCcZJOPc1r0UAUdK0XStBtWtdD0yz023dzI0VnbrCjMQAWIUAZwAM+wq0biIXQtzIomKGQITyVBwSB6AkfmPWpK5bxzG1hZWvii2B8/QXa4lC9ZLQjFwnv8g3gf3o0oA6muX1/wD5H3wt9Lz/ANFCunVldAyEMrDIIOQRXMa//wAj74W/3bz/ANFCgDoNzep/Ojc3qfzpKKAOc8YsS/h7JP8AyG7b/wBmrrK5Lxj9/wAPf9hu2/8AZq62gDmlkkuPipJEXby7HRUcJu+UNPMwJx64twM/X1rpa5iH/R/izeBuPtuiQFPfyZ5t3/pQv5109ABRRRQAVzHxBHneGIrE8rf6lZWkg/vRvcxiQfim4V09cx49/daHY3h+7aavYyv7L9pRWP4BifwoA6eiiigAooooAKKKKAOY8bDyT4fv14ktdatgregmJgI/ETfyrp65jxz+9tNFsx9+61uy2j18qUTn/wAdhNdPQAUUUUAFR3NvFd2sttcIHhmQxyKejKRgj8qkpHdY0Z3IVVGST2FAHO/D24lufh1oTXDF5o7KOGRj1ZkGwk++VqLX/wDkf/Cn/b3/AOixT/h0jD4c6JI4Km5thc4PUeaTJz7/AD1Hr/8AyP8A4U+t3/6LFAHUbV/uj8qNq/3R+VLRQBy/jUAf8I9gD/kN23b/AHq6iuY8bf8AMvf9hu2/9mrp6AOV8ZsdJu9I8TqP3WmTtDen0tJsLI30VxFIfaM11XXpTJoY7iCSC4jWSKRSjo4yGUjBBHcYrk9Au5fC2oxeFdZlZrZiV0W+kP8ArowM/Z3b/nqgHGfvqAeSGwAdfRRRQAVn6/pMeveHdQ0qZiiXlu8O8dULAgMPcHBH0rQooAxfCWsS634bt7i9UR38W63voh/yzuIztkH03AkeoIPetquR1tJ/CuuS+JrKKSbTbpVXWbaJCzLtGFukUckqMK4HJQAjlMHqba5gvLWK5tJkngmQPHLGwZXUjIII6gigCWiiigAoorB8TeIJNMEOnaPEl3rt8CLO2YnaoHBmkx92Nc5J78KOSKAKcjHXPiVDGnzWfh2BpJG7G7mXaq/VIS5P/XZa6qsvw7oieH9GSzEzXM7M01zdOAGuJnO55D6ZJ6dhgDgCtSgAooooAK5nx5dTHw+NGsGIv9ck/s+Ar1jVwfNl/wCARh2z6gDvW3qmqWWi6XPqOqXCW1pbrukkfsPT1JJ4AHJJAFYXhuyvdT1SXxRrtu9tPNEYNPsZR81nbEgnd6SSEKzegVV/hJIB0lvBFa20VvboI4okCIg6KoGAPyrm9f8A+R98LfS8/wDRQrqK5fX/APkffC3+7ef+ihQB0G5vU/nRub1P50lFAHOeMWJfw9kn/kN23/s1dZXJeMfv+Hv+w3bf+zV1tABVPVtIsdc02Sw1S3We3kwSpJBUg5DKRyrAgEEYIIyKuUUAcmt/rHhFBFrYm1jSE4TU4U33EC9vPjUfOAP+WiDPdlHLV01ne22o2cV3YXEVzbTLujmhcOjj1BHBqauduvBdg15LfaNPc6HfSsXkn05wiyt6vEQY3Puyk+4oA6KiuaDeNNP4aPR9bjX+JXkspSP90iRWP4qPp0o/4Su/i4vfB+uwkdWjFvMv4bJScfgD7UAdLXKPol/4XuJbvwlEtxYSsZLjRWcIoYnJe3Y8Ix6lDhGPdCSTMfHVgi/vtL8Qo/8AcGhXb5/FIyP1qBvHqu22y8LeJ7puwGmGHP4zFB+tAGxoviPTdeWQWExFxBgXFpMhjntz6PG3K/XoexIrUJwMngV59q1l4g8XtG58H2ukTQg+TqGoajtuYP8Ac+zZb6jzFHrmqV58PvGEywNqvia38VwxrhtM1GN7O3c+5hJ3j2kWTNAHTz+K5dWmey8FRRajMrFJdQcn7HbHvlx/rWH9xPoxTrV7QPDcGh+fcSTSX2p3ZDXmoT48yYjoMDhUGTtQcD6kk40finWdIt0g1DwDqUUUYCJ/Y80F1EoHYDcjgf8AAKsRePrQ/wDHzoXiW19d+iXEmP8Av2rUAdVRXN/8JpFJ/wAemg+ILj0/4ljw5/7+7KT+3vEV5xpvhGa3P/PTVr6GFPriIyt+YFAHS1jaz4ms9IuI7JElv9UmXdDp1oA0zjpuOSAiZ/jYhffPFUToniTVuNc15LK3PW20WIxM3s07kt+KBD71raPoGl6BDJHpNmlv5rbpZMlpJm/vO7ZZz7sSaAMqz8O3mq6nBq/i5oZZrdvMs9NgYtb2bf3ySB5sv+2QAv8ACByT01FFABXL6/8A8j/4U/7e/wD0WK6iuW1//kf/AAp9bv8A9FigDqNq/wB0flRtX+6PypaKAOX8agD/AIR7AH/Ibtu3+9XUVzHjb/mXv+w3bf8As1dPQAUUUUAFFFFABRRRQAUUUUAFFFFABRRRQAUUUUAFFFFABRRRQAVy+v8A/I++Fvpef+ihXUVy+v8A/I++Fv8AdvP/AEUKAOg3N6n86Nzep/OkooAyfEWjS67Z20cN89lPa3Ud1FMIxJhkzjKngjmqo0nxQWA/4S3v/wBA2L/GugpV+8PrQBh/2J4n/wChu/8AKZF/jSHRPE4Un/hLv/KZF/jXS0jfdP0oA5b+yfFH/Q2/+U2L/GlGk+KCwH/CW9/+gbF/jXQUq/eH1oAw/wCxPE//AEN3/lMi/wAaQ6J4nCk/8Jd/5TIv8a6Wkb7p+lAHLf2T4o/6G3/ymxf40o0nxQWA/wCEt7/9A2L/ABroKVfvD60AYf8AYnif/obv/KZF/jSHRPE4Un/hLv8AymRf410tI33T9KAOW/snxR/0Nv8A5TYv8aUaT4oLAf8ACW9/+gbF/jXQUq/eH1oAw/7E8T/9Dd/5TIv8aQ6J4nCk/wDCXf8AlMi/xrpaRvun6UAct/ZPij/obf8Aymxf40o0nxQWA/4S3v8A9A2L/GugpV+8PrQBh/2J4n/6G7/ymRf40h0TxOFJ/wCEu/8AKZF/jXS0jfdP0oA5b+yfFH/Q2/8AlNi/xotfDmpv4isNT1jXmv8A7CJBFELRIhlwFJJHXgV0NKv3h9aAJ9q/3R+VG1f7o/KlooA//9k=)\n",
        "\n",
        "\n",
        "\n",
        "\n"
      ],
      "metadata": {
        "id": "HwTV8jNPzC9W"
      }
    },
    {
      "cell_type": "code",
      "source": [
        ""
      ],
      "metadata": {
        "id": "3gwtWOsyIKYL"
      },
      "execution_count": null,
      "outputs": []
    },
    {
      "cell_type": "code",
      "metadata": {
        "id": "ALd9JPTDOkdq"
      },
      "source": [
        "#correct answer\n",
        "\n",
        "for n in range(1, 31):\n",
        "  if n % 3 == 0 and n % 5 == 0:                #if n % 15 == 0: is OK\n",
        "    print (n, \": is a common multiple of 3 and 5\")\n",
        "\n",
        "  elif n %3 == 0:\n",
        "    print (n, \": is a multiple of 3\")\n",
        "\n",
        "  elif n %5 == 0:\n",
        "    print (n, \": is a multiple of 5\")\n",
        "\n",
        "  else:\n",
        "    print(n)\n",
        "\n"
      ],
      "execution_count": null,
      "outputs": []
    },
    {
      "cell_type": "code",
      "source": [
        ""
      ],
      "metadata": {
        "id": "jVTkf7Nlw656"
      },
      "execution_count": null,
      "outputs": []
    },
    {
      "cell_type": "code",
      "metadata": {
        "id": "q69edSlVw7f3"
      },
      "source": [
        "#The same number comes out many times\n",
        "\n",
        "for n in range(1, 31):\n",
        "  if n% 3 == 0 and n% 5 == 0: #if num% 15 == 0: may be\n",
        "    print (str (n) + \": common multiple of 3 and 5\")\n",
        "\n",
        "  if n % 3 == 0:\n",
        "    print (str (n) + \": is a multiple of 3\")\n",
        "\n",
        "  if n % 5 == 0:\n",
        "    print (str (n) + \": a multiple of 5\")\n",
        "\n",
        "  else:\n",
        "    print(str(n))\n",
        "\n",
        "\n"
      ],
      "execution_count": null,
      "outputs": []
    },
    {
      "cell_type": "code",
      "source": [
        ""
      ],
      "metadata": {
        "id": "YwbphGlTI5q8"
      },
      "execution_count": null,
      "outputs": []
    },
    {
      "cell_type": "code",
      "metadata": {
        "id": "DSi9ynPvrf-B"
      },
      "source": [
        "# 15 and 30 are displayed as \"multiples of 3\" instead of \"common multiples of 3 and 50\"\n",
        "\n",
        "for n in range(1, 31):\n",
        "  if n % 3 == 0:\n",
        "    print (n, \": is a multiple of 3\")\n",
        "\n",
        "  elif n %5 == 0:\n",
        "    print (n, \": is a multiple of 5\")\n",
        "\n",
        "  elif n % 3 == 0 and n % 5 == 0:\n",
        "    print (n, \": is a common multiple of 3 and 5\")\n",
        "\n",
        "  else:\n",
        "    print(n)\n",
        "\n"
      ],
      "execution_count": null,
      "outputs": []
    },
    {
      "cell_type": "code",
      "source": [
        ""
      ],
      "metadata": {
        "id": "27QmRu7aGO0K"
      },
      "execution_count": null,
      "outputs": []
    },
    {
      "cell_type": "markdown",
      "source": [
        "---\n",
        "[ Check it out ]\n",
        "\n",
        "When a computer reads a program and moves (calculates), there are only three ways for move.\n",
        "\n",
        "Computer is such a simple machine.\n",
        "\n",
        "\\\n",
        "(1) Read programs in order (from top to bottom sequently) \n",
        "\n",
        "\\\n",
        "(2) Move repeatedly\n",
        "\n",
        "\\\n",
        "(3) Movements are classified according to conditions (conditional branching / → case classification)\n",
        "\n",
        "\\\n",
        "(2) is `for statement` and (3) is `if statement`.\n"
      ],
      "metadata": {
        "id": "10DBcDU-z0E-"
      }
    },
    {
      "cell_type": "markdown",
      "metadata": {
        "id": "rneTCIO5EsoD"
      },
      "source": [
        "---\n",
        "Q?\n",
        "\n",
        "\n",
        "This problem is called \"FizzBuzz problem\" and seems a famous problem.\n",
        "\n",
        "\n",
        "\n",
        "\\\n",
        "\n",
        "“Write a program that prints the numbers from 1 to 100. \n",
        "\n",
        "But for multiples of three print “Fizz” instead of the number and \n",
        "\n",
        "for the multiples of five print “Buzz”. \n",
        "\n",
        "For numbers which are multiples of both three and five print “FizzBuzz”.”\n",
        "\n",
        "\n",
        "\n"
      ]
    },
    {
      "cell_type": "markdown",
      "source": [
        "ーーーーーーーーーーーーーーーーーーーーーーーーーーーーーーーーーーーーーーーー\n",
        "\n",
        "The solution is the same as the above problem\n",
        "\n"
      ],
      "metadata": {
        "id": "85VskSFqD7Ze"
      }
    },
    {
      "cell_type": "code",
      "metadata": {
        "id": "Z82WcO8CEsoE"
      },
      "source": [
        "#sample\n",
        "\n",
        "for i in range(1, 101) :\n",
        "    if i % 3 == 0 and i % 5 == 0:                     #if  i% 15 == 0: is OK\n",
        "      print(\"FizzBuzz\")\n",
        "    elif i % 3 == 0:\n",
        "      print(\"Fizz\")\n",
        "    elif i % 5 == 0:\n",
        "      print(\"Buzz\")\n",
        "    else:\n",
        "      print(i)"
      ],
      "execution_count": null,
      "outputs": []
    },
    {
      "cell_type": "markdown",
      "source": [
        "---\n",
        "Q?\n",
        "\n",
        "What is the program that asks them to enter a number(integer) \n",
        "\n",
        "and determines whether it is an even number or an odd number?\n"
      ],
      "metadata": {
        "id": "oJYroZVfq-uT"
      }
    },
    {
      "cell_type": "markdown",
      "source": [
        "ーーーーーーーーーーーーーーーーーーーーーーーーーーーーーーーーーーーーーーー\n",
        "\n",
        "First, display\n",
        "\n",
        "    print ('Determines even or odd')\n",
        "\n",
        "\\\n",
        "The code that \"gets a number (integer) entered and assign to variable(`a`) is\n",
        "\n",
        "    a = int (input ('Please enter an integer:'))\n",
        "\n",
        "\\\n",
        "The code that \" if `a` is divisible by 2, prints \" even \" \n",
        "\n",
        "and if a is not divisible, prints \" odd \".\n",
        "\n",
        "    if a % 2 == 0:\n",
        "      print (a, ' is an even number')\n",
        "\n",
        "    else:\n",
        "      print (a, ' is an odd number') \n",
        "\n",
        "\n",
        "Integers are only even or odd, so\n",
        "\n",
        "use `else:` in the sense of  \"if not even\"\n",
        "\n",
        "\\\n",
        " `if a% 2! = 0:` or `if a% 2 == 1:` is OK.\n",
        "\n",
        "\\\n",
        "`%` is an arithmetic operator which is a symbol for finding the remainder.\n",
        "\n",
        "\\\n",
        "`==` is a comparison operator and has the same meaning as `= (equal)` in arithmetic.\n",
        "\n",
        "\\\n",
        "`! =` is also a comparison operator, meaning `not equal`.\n",
        "\n",
        "\n"
      ],
      "metadata": {
        "id": "0-n_jQMgf9Zu"
      }
    },
    {
      "cell_type": "code",
      "source": [
        ""
      ],
      "metadata": {
        "id": "eodEfVTJn3c4"
      },
      "execution_count": null,
      "outputs": []
    },
    {
      "cell_type": "markdown",
      "metadata": {
        "id": "22ZKbhhx7fpY"
      },
      "source": [
        "\n",
        "Arithmetic operator summary\n",
        "\n",
        "\n",
        "\n",
        "| Arithmetic | Symbol |\n",
        "|:------:|:------:|\n",
        "| Addition | `+` |\n",
        "| Subtraction | `-` |\n",
        "| Multiplication | `*` |\n",
        "| Division | `/` |\n",
        "|Exponentiation | `**` |  \n",
        "| Division (quotient only) | `//` |\n",
        "| Division (remainder only) | `%` |\n",
        "\n",
        "\\\n",
        "\n"
      ]
    },
    {
      "cell_type": "markdown",
      "metadata": {
        "id": "A4HxSAgjleE1"
      },
      "source": [
        "---\n",
        "Q?\n",
        "\n",
        "What is the fraction between $ \\dfrac {2} {3} $ and $ \\dfrac {4} {5} $ and the numerator is 5?\n",
        "\n"
      ]
    },
    {
      "cell_type": "markdown",
      "source": [
        "ーーーーーーーーーーーーーーーーーーーーーーーーーーーーーーーーーーーーーーー\n",
        "\n",
        "[ Arithmetic solution ]\n",
        "\n",
        "\n",
        "\n",
        "Since we would find a fraction with numerator 5, the fraction that changes\n",
        "\n",
        " the numerator of $ \\dfrac {2} {3} $ and $ \\dfrac {4} {5} $ to 5.\n",
        "\n",
        "\n",
        "\\\n",
        "To change the numerator of $ \\dfrac {2} {3} $ to 5\n",
        "\n",
        "\\\n",
        "2 $\\times$ $\\dfrac{5}{2}$＝5\n",
        "\n",
        "\n",
        "\\\n",
        "So multiply the denominator by $ \\dfrac {5} {2} $\n",
        "\n",
        "\n",
        "\\\n",
        "3 $\\times$ $\\dfrac{5}{2}$＝$\\dfrac{15}{2}$ ＝ 7.5\n",
        "\n",
        "\n",
        "\\\n",
        "To change the numerator of $ \\dfrac {4} {5} $ to 5\n",
        "\n",
        "\n",
        "\\\n",
        "4 $\\times$ $\\dfrac{5}{4}$＝5\n",
        "\n",
        "\n",
        "\\\n",
        "So multiply the denominator by $ \\dfrac {5} {4} $ \n",
        "\n",
        "\n",
        "\\\n",
        "5 $\\times$ $\\dfrac{5}{4}$＝$\\dfrac{25}{4}$＝6.25\n",
        "\n",
        "\n",
        "\\\n",
        "The denominator of the fraction to be found must be greater than 6.25 and less than 7.5\n",
        "\n",
        "\n",
        "\\\n",
        "Since the integer between 6.25 and 7.5 is 7,   \n",
        "\n",
        " $ \\dfrac {5} {7} $ ... (answer)\n",
        "\n"
      ],
      "metadata": {
        "id": "kI37PJtu_zMW"
      }
    },
    {
      "cell_type": "markdown",
      "source": [
        "\n",
        "[ Python solution ]\n",
        "\n",
        "\n",
        "Image of solution is \n",
        "\n",
        "\"Since the numerator is 5 and the denominator is `x`, the fraction is` 5 / x` \n",
        "\n",
        "and `x` is an integer, put the integers in order in `x`.\n",
        "\n",
        "If $ \\dfrac {2} {3} \\lt  \\dfrac {5} {x} \\lt \\dfrac {4} {5} $,   print it. \"\n",
        "\n",
        "\n",
        "\n",
        "\n",
        "\n",
        "\\\n",
        "Because both $ \\dfrac {2} {3} $ and $ \\dfrac {4} {5} $ are greater than $\\dfrac {1} {2} $ and less than 1.\n",
        "\n",
        "\n",
        "\n",
        "A range of 5 to 10 is sufficient to check `x`\n",
        "\n",
        "\n",
        "\n",
        "\\\n",
        "\n",
        "    for x in range(5, 11):\n",
        "      if 2/3 < 5/x < 4/5:\n",
        "        print(5, \"/\", x)\n",
        "\n",
        "\n",
        "\n",
        "\\\n",
        "\n",
        "It was also a combination pattern of `for statement` and `if statement`\n",
        "\n",
        "\n",
        "\n",
        "\\\n",
        "\n",
        "If you want to display a beautiful fraction, try using Fraction etc.\n",
        "\n",
        "Don't forget `from fractions import Fraction` if you use `Fraction`.\n",
        "\n"
      ],
      "metadata": {
        "id": "IzhAfiBICq7C"
      }
    },
    {
      "cell_type": "code",
      "source": [
        ""
      ],
      "metadata": {
        "id": "Ri_2UYi2IJjW"
      },
      "execution_count": null,
      "outputs": []
    },
    {
      "cell_type": "markdown",
      "source": [
        "### continue"
      ],
      "metadata": {
        "id": "Vo5dc3b3fNGu"
      }
    },
    {
      "cell_type": "markdown",
      "metadata": {
        "id": "Ds-rOond00MN"
      },
      "source": [
        "---\n",
        "Q?\n",
        "\n",
        "\n",
        "What is the program to find the sum of numbers from 1 to 100 other than multiples of 3?\n",
        "\n"
      ]
    },
    {
      "cell_type": "markdown",
      "source": [
        "ーーーーーーーーーーーーーーーーーーーーーーーーーーーーーーーーーーーーーーー\n",
        "\n",
        "The procedure for creating code is as follows:\n",
        "\n",
        "\n",
        "\n",
        "\\\n",
        "\n",
        "First, set the box(variable) `total` to contain the total of numbers to 0.\n",
        "\n",
        "    total = 0\n",
        "\n",
        "Use `for loop` to retrieve numbers from 1 to 100\n",
        "\n",
        "    for i in range(1, 101):\n",
        "\n",
        "If the number retrieved is divisible by 3, do nothing and proceed to the next\n",
        "\n",
        "      if i % 3 == 0:\n",
        "        continue\n",
        "\n",
        "Add other numbers that are not divisible by 3 to `total`\n",
        "\n",
        "      total += i\n",
        "\n",
        "\n",
        "When you have finished checking everything (when the for loop is over), \n",
        "\n",
        "print the result with `print ()`\n",
        "\n",
        "    print(total)\n",
        "\n",
        "\n",
        "\n",
        "――――――――――――――――――――――――――――――――――――――――――――――\n",
        "\n",
        "\n",
        "\n",
        "There is a code `continue` in the code, \n",
        "\n",
        "this means\n",
        "\n",
        "`If ​​the condition in if stament is met, do nothing and proceed to the next number of iterations`\n",
        "\n",
        "\\\n",
        "In this case\n",
        "\n",
        "`If the number is divisible by 3, do nothing and proceed to the next number`\n",
        "\n",
        "\n",
        "    for i in range(1, 101):\n",
        "\n",
        "      total += i\n",
        "\n",
        "is the body of the for loop,\n",
        "\n",
        "       if i % 3 == 0:\n",
        "\n",
        "In the case of above, do nothing and proceed\n",
        "\n",
        "\n",
        "\n"
      ],
      "metadata": {
        "id": "1Y4myBwfdWrz"
      }
    },
    {
      "cell_type": "code",
      "source": [
        ""
      ],
      "metadata": {
        "id": "IMtdeMbmhtBD"
      },
      "execution_count": null,
      "outputs": []
    },
    {
      "cell_type": "code",
      "metadata": {
        "colab": {
          "base_uri": "https://localhost:8080/"
        },
        "outputId": "05b65d40-1b18-4aa5-ad59-762a975e0571",
        "id": "ZXDFpMV300MO",
        "collapsed": true
      },
      "source": [
        "#sample\n",
        "\n",
        "total = 0\n",
        "for i in range(100):\n",
        "    if i % 3 == 0: \n",
        "      continue\n",
        "    total += i\n",
        "print(total)"
      ],
      "execution_count": null,
      "outputs": [
        {
          "output_type": "stream",
          "name": "stdout",
          "text": [
            "3267\n"
          ]
        }
      ]
    },
    {
      "cell_type": "markdown",
      "metadata": {
        "id": "Pbivwa1mjelK"
      },
      "source": [
        "###How to make a list (mainly list comprehension)\n",
        "\n",
        "\n",
        "\n",
        "It is just for your reference when you need to create a `list comprehension`\n"
      ]
    },
    {
      "cell_type": "markdown",
      "source": [
        "ーーーーーーーーーーーーーーーーーーーーーーーーーーーーーーーーーーーーーーー\n",
        "\n",
        "For explanations of list comprehensions\n",
        "\n",
        "\n",
        "[List_comprehension](https://colab.research.google.com/github/Blackman9t/Effective_Python/blob/master/list_comprehensions_and_generators.ipynb)\n",
        "\n",
        "\n"
      ],
      "metadata": {
        "id": "Iq--tI-n7s1J"
      }
    },
    {
      "cell_type": "markdown",
      "source": [
        "ーーーーーーーーーーーーーーーーーーーーーーーーーーーーーーーーーーーーーーー\n",
        "\n",
        "\n",
        "You may not notice a big difference in the code here for reference,\n",
        "\n",
        "\n",
        "\n",
        "list comprehension is more effective when more complicated lists to be created.\n",
        "\n",
        "\n",
        "\n",
        "It's easy to see and looks elegant ...\n",
        "\n",
        "\n",
        "――――――――――――――――――――――――――――――――――――――――――――――\n",
        "\n",
        "\n",
        "\n",
        "Here is an example of specific code\n",
        "\n",
        "\n",
        "\n",
        "When creating a list of numbers that is tripled from 1 to 10\n",
        "\n",
        "\n",
        "\n",
        "Using the `for statement`, the code looks like below:\n",
        "\n",
        "\n",
        "\\\n",
        "\n",
        "Please check only the mechanism for creating comprehensions here.\n",
        "\n"
      ],
      "metadata": {
        "id": "8vHyMf2Hm05w"
      }
    },
    {
      "cell_type": "code",
      "metadata": {
        "id": "6HXp3DLY6Go8",
        "colab": {
          "base_uri": "https://localhost:8080/"
        },
        "outputId": "43e2b951-7e28-4671-d152-4b1f203a319c",
        "collapsed": true
      },
      "source": [
        "\n",
        "list1 = []\n",
        "\n",
        "for x in range(1, 11):\n",
        "  list1.append(x * 3)\n",
        "\n",
        "print(list1)\n",
        "\n"
      ],
      "execution_count": null,
      "outputs": [
        {
          "output_type": "stream",
          "name": "stdout",
          "text": [
            "[2, 4, 6, 8, 10, 12, 14, 16, 18, 20]\n"
          ]
        }
      ]
    },
    {
      "cell_type": "markdown",
      "source": [
        "The following code expresses by a comprehension. \n"
      ],
      "metadata": {
        "id": "J3UGrSAgso59"
      }
    },
    {
      "cell_type": "code",
      "metadata": {
        "id": "4SbZHmoUnajn",
        "colab": {
          "base_uri": "https://localhost:8080/"
        },
        "outputId": "138803a4-4e85-495b-879b-24df7ff632c8",
        "collapsed": true
      },
      "source": [
        "\n",
        "list1 = [x * 3 for x in range(1, 11)]\n",
        "\n",
        "print(list1)\n"
      ],
      "execution_count": null,
      "outputs": [
        {
          "output_type": "stream",
          "name": "stdout",
          "text": [
            "[2, 4, 6, 8, 10, 12, 14, 16, 18, 20]\n"
          ]
        }
      ]
    },
    {
      "cell_type": "markdown",
      "source": [
        "---\n",
        "\n",
        "When creating a list of only odd numbers from 1 to 9\n"
      ],
      "metadata": {
        "id": "RDUl5Op8jelM"
      }
    },
    {
      "cell_type": "code",
      "metadata": {
        "colab": {
          "base_uri": "https://localhost:8080/"
        },
        "outputId": "36df2469-56c7-407e-a17b-65996a9a65c3",
        "id": "Jjrmko3wjelN",
        "collapsed": true
      },
      "source": [
        "odd_list = []\n",
        "\n",
        "for x in range(1, 10):\n",
        "  if x % 2 == 1:\n",
        "    odd_list.append(x)\n",
        "\n",
        "print(odd_list)\n",
        "\n"
      ],
      "execution_count": null,
      "outputs": [
        {
          "output_type": "stream",
          "name": "stdout",
          "text": [
            "[1, 3, 5, 7, 9]\n"
          ]
        }
      ]
    },
    {
      "cell_type": "markdown",
      "source": [
        "\n",
        "If you write this in a list comprehension\n",
        "\n"
      ],
      "metadata": {
        "id": "OJaamye4uDql"
      }
    },
    {
      "cell_type": "code",
      "metadata": {
        "colab": {
          "base_uri": "https://localhost:8080/"
        },
        "outputId": "5e1b69e0-436e-46e9-8ced-b06e2c009720",
        "id": "sMIE-_IytJd4",
        "collapsed": true
      },
      "source": [
        "\n",
        "odd_list = [x for x in range(11) if x % 2 == 1]\n",
        "\n",
        "print(odd_list)  \n",
        "\n"
      ],
      "execution_count": null,
      "outputs": [
        {
          "output_type": "stream",
          "name": "stdout",
          "text": [
            "[1, 3, 5, 7, 9]\n"
          ]
        }
      ]
    },
    {
      "cell_type": "markdown",
      "source": [
        "---\n",
        "\n",
        "When creating an even list of numbers from 0 to 20\n",
        "\n"
      ],
      "metadata": {
        "id": "GVtyjeOztHO3"
      }
    },
    {
      "cell_type": "code",
      "metadata": {
        "colab": {
          "base_uri": "https://localhost:8080/"
        },
        "outputId": "745020e7-d2e1-4c6f-9387-3975bb190a42",
        "id": "1zEIlIfiuMy0",
        "collapsed": true
      },
      "source": [
        "even_list = []\n",
        "\n",
        "for x in range(21):\n",
        "  if x % 2 == 0:\n",
        "    even_list.append(x)\n",
        "\n",
        "print(even_list)\n",
        "\n"
      ],
      "execution_count": null,
      "outputs": [
        {
          "output_type": "stream",
          "name": "stdout",
          "text": [
            "[0, 2, 4, 6, 8, 10, 12, 14, 16, 18, 20]\n"
          ]
        }
      ]
    },
    {
      "cell_type": "markdown",
      "source": [
        "If you write this in a list comprehension\n",
        "\n"
      ],
      "metadata": {
        "id": "T-90uLA8u_Nr"
      }
    },
    {
      "cell_type": "code",
      "metadata": {
        "colab": {
          "base_uri": "https://localhost:8080/"
        },
        "outputId": "07d6fc83-d96b-417a-9897-0e49ad9c62c6",
        "id": "W0lf7n6yuO2t",
        "collapsed": true
      },
      "source": [
        "\n",
        "even_list = [x for x in range(21) if x % 2 == 0]\n",
        "\n",
        "print(even_list)\n"
      ],
      "execution_count": null,
      "outputs": [
        {
          "output_type": "stream",
          "name": "stdout",
          "text": [
            "[0, 2, 4, 6, 8, 10, 12, 14, 16, 18, 20]\n"
          ]
        }
      ]
    },
    {
      "cell_type": "markdown",
      "source": [
        "---\n",
        "\n",
        "Please take a look the following for reference.\n",
        "\n"
      ],
      "metadata": {
        "id": "QkZ89eOGvD0B"
      }
    },
    {
      "cell_type": "markdown",
      "source": [
        "ーーーーーーーーーーーーーーーーーーーーーーーーーーーーーーーーーーーーーーー\n",
        "\n",
        "Create a one-dimensional list from a two-dimensional list\n"
      ],
      "metadata": {
        "id": "49HjhEYjjelN"
      }
    },
    {
      "cell_type": "code",
      "metadata": {
        "colab": {
          "base_uri": "https://localhost:8080/"
        },
        "outputId": "535efe9c-26a2-4e82-fd32-5b5e9beb969c",
        "id": "wh5dgyRcjelN",
        "collapsed": true
      },
      "source": [
        "# <Example of how to make>\n",
        "\n",
        "\n",
        "matrix = [[1, 2, 3], [4, 5, 6], [7, 8, 9]]\n",
        "\n",
        "flat = []\n",
        "\n",
        "for row in matrix:\n",
        "  for x in row:\n",
        "    flat.append(x)\n",
        "\n",
        "print(flat)\n",
        "\n",
        "\n",
        "#Another way to make\n",
        "\n",
        "matrix = [[1, 2, 3], [4, 5, 6], [7, 8, 9]]\n",
        "\n",
        "flat = [x for row in matrix for x in row]\n",
        "\n",
        "print(flat)\n",
        "\n"
      ],
      "execution_count": null,
      "outputs": [
        {
          "output_type": "stream",
          "text": [
            "[1, 2, 3, 4, 5, 6, 7, 8, 9]\n",
            "[1, 2, 3, 4, 5, 6, 7, 8, 9]\n"
          ],
          "name": "stdout"
        }
      ]
    },
    {
      "cell_type": "markdown",
      "source": [
        "---\n",
        "\n",
        "A two-dimensional list made up of 0s and 1s\n"
      ],
      "metadata": {
        "id": "wqMQs9aWjelO"
      }
    },
    {
      "cell_type": "code",
      "metadata": {
        "colab": {
          "base_uri": "https://localhost:8080/"
        },
        "outputId": "df8c1457-bb84-428d-faa4-0687f66ddcd9",
        "id": "8c9hSzO6jelO",
        "collapsed": true
      },
      "source": [
        "\n",
        "a=[[0]*3 for i in range(3)]\n",
        "\n",
        "a[1][1]=1\n",
        "\n",
        "print(a)\n",
        "\n",
        "\n",
        "#Caution The result is different from the above. \n",
        "#This output comes from the difference in how to make the list.\n",
        "#Above list comprehension is recommended\n",
        "\n",
        "a=[[0]*3]*3\n",
        "\n",
        "a[1][1]=1\n",
        "\n",
        "print(a)\n",
        "\n"
      ],
      "execution_count": null,
      "outputs": [
        {
          "output_type": "stream",
          "text": [
            "[[0, 0, 0], [0, 1, 0], [0, 0, 0]]\n",
            "[[0, 1, 0], [0, 1, 0], [0, 1, 0]]\n"
          ],
          "name": "stdout"
        }
      ]
    },
    {
      "cell_type": "markdown",
      "source": [
        "---\n",
        "Comprehension notation to create a set\n",
        "\n"
      ],
      "metadata": {
        "id": "p61LMJWLjelP"
      }
    },
    {
      "cell_type": "code",
      "metadata": {
        "colab": {
          "base_uri": "https://localhost:8080/"
        },
        "outputId": "2d333d08-0e87-4491-d142-e3184875a3db",
        "id": "SW21N9rFjelP",
        "collapsed": true
      },
      "source": [
        "\n",
        "num = {i * 2 for i in range(15)}\n",
        "\n",
        "print(num)\n",
        "\n",
        "animal = { i for i in [\"Gorilla\", \"Lion\", \"Giraffe\", \"Elephant\"] }\n",
        "\n",
        "print(animal)"
      ],
      "execution_count": null,
      "outputs": [
        {
          "output_type": "stream",
          "name": "stdout",
          "text": [
            "{0, 2, 4, 6, 8, 10, 12, 14, 16, 18, 20, 22, 24, 26, 28}\n",
            "{'Elephant', 'Lion', 'Giraffe', 'Gorilla'}\n"
          ]
        }
      ]
    },
    {
      "cell_type": "markdown",
      "source": [
        "---\n",
        "\n",
        "Combine two lists\n",
        "\n"
      ],
      "metadata": {
        "id": "4a3JlugkjelP"
      }
    },
    {
      "cell_type": "code",
      "metadata": {
        "colab": {
          "base_uri": "https://localhost:8080/"
        },
        "outputId": "92ecad6d-c918-4620-c511-91ce1de711b5",
        "id": "1jH9qgDGjelQ",
        "collapsed": true
      },
      "source": [
        "\n",
        "years = [2000, 2010, 2020]\n",
        "seasons = [\"Spring\", \"Summer\", \"Autumn\", \"Winter\"]\n",
        " \n",
        "lst = [(year, season) for year in years for season in seasons]\n",
        " \n",
        "for year, season in lst:\n",
        "    print(year, season)\n"
      ],
      "execution_count": null,
      "outputs": [
        {
          "output_type": "stream",
          "name": "stdout",
          "text": [
            "2000 Spring\n",
            "2000 Summer\n",
            "2000 Autumn\n",
            "2000 Winter\n",
            "2010 Spring\n",
            "2010 Summer\n",
            "2010 Autumn\n",
            "2010 Winter\n",
            "2020 Spring\n",
            "2020 Summer\n",
            "2020 Autumn\n",
            "2020 Winter\n"
          ]
        }
      ]
    },
    {
      "cell_type": "markdown",
      "source": [
        "---\n",
        "\n",
        "A list of letters and numbers using sympy as set elements\n"
      ],
      "metadata": {
        "id": "Lxlxz2dGjelQ"
      }
    },
    {
      "cell_type": "code",
      "metadata": {
        "colab": {
          "base_uri": "https://localhost:8080/"
        },
        "outputId": "17f53f9c-8ae6-4750-aa1b-189bd1297846",
        "id": "nEN2K5dJjelQ",
        "collapsed": true
      },
      "source": [
        "\n",
        "from sympy import *\n",
        "\n",
        "var(\"r, b, w, y, p, q\")\n",
        "\n",
        "color_list = [r, b, w, y]              ## Red = r, Blue = b, White = w, Yellow = y      \n",
        "number_list = [1, 2, 3, 4]                           \n",
        "\n",
        "all_list = [[color, number] for color in color_list for number in number_list]  \n",
        "\n",
        "for A in all_list:\n",
        "  print(A) \n",
        "\n",
        "print(all_list)  "
      ],
      "execution_count": null,
      "outputs": [
        {
          "output_type": "stream",
          "name": "stdout",
          "text": [
            "[r, 1]\n",
            "[r, 2]\n",
            "[r, 3]\n",
            "[r, 4]\n",
            "[b, 1]\n",
            "[b, 2]\n",
            "[b, 3]\n",
            "[b, 4]\n",
            "[w, 1]\n",
            "[w, 2]\n",
            "[w, 3]\n",
            "[w, 4]\n",
            "[y, 1]\n",
            "[y, 2]\n",
            "[y, 3]\n",
            "[y, 4]\n",
            "[[r, 1], [r, 2], [r, 3], [r, 4], [b, 1], [b, 2], [b, 3], [b, 4], [w, 1], [w, 2], [w, 3], [w, 4], [y, 1], [y, 2], [y, 3], [y, 4]]\n"
          ]
        }
      ]
    },
    {
      "cell_type": "markdown",
      "source": [
        "\n",
        "### An example of using comprehension in the problem of the number of cases\n",
        "\n"
      ],
      "metadata": {
        "id": "zTOc5-jkxErB"
      }
    },
    {
      "cell_type": "markdown",
      "metadata": {
        "id": "_ySzctTzxFLq"
      },
      "source": [
        "---\n",
        "Q?\n",
        "\n",
        "How many ways to divide 5 apples and 6 oranges into 3 baskets a, b, c \n",
        "\n",
        "with 1 or more both apples and oranges in each basket?\n",
        "\n"
      ]
    },
    {
      "cell_type": "markdown",
      "source": [
        "ーーーーーーーーーーーーーーーーーーーーーーーーーーーーーーーーーーーーーーーーー\n",
        "\n",
        "[ Arithmetic solution ]\n",
        "\n",
        "\n",
        "\n",
        "The way to divide 5 apples into 3 is (1, 1, 3), (1, 2, 2), \n",
        "\n",
        "when you put them in the basket of a, b, c.\n",
        "\n",
        "\n",
        "\\\n",
        "In the case of each division, there are in total 6 ways of 3 ways and 3 ways.\n",
        "\n",
        "\n",
        "\\\n",
        "The way to divide 6 oranges into 3 is (1, 1, 4), (1, 2, 3), (2, 2, 2), \n",
        "\n",
        "when you put them in the basket of a, b, c.\n",
        "\n",
        "\n",
        "\\\n",
        "In the case of each division, there are in total 10 ways of 3 ways \n",
        "\n",
        "and 3 x 2 x 1 = 6 ways and 1 way.\n",
        "\n",
        "\n",
        "\n",
        "\\\n",
        "In grand total, 6 x 10 = 60 ways ... (answer)\n",
        "\n",
        "\n",
        "\n",
        "\\\n",
        "\n",
        "[ Python Solution ]\n",
        "\n",
        "\n",
        "\n",
        "Up to 3 apples and 4 oranges in one basket depending on the conditions of the problem.\n",
        "\n",
        "\n",
        "\\\n",
        "The number of oranges in one basket is 1 to 4\n",
        "\n",
        "\n",
        "\\\n",
        "The number of apples in one basket is 1 to 3, but\n",
        "\n",
        "\n",
        "\n",
        "the number of apples is expressd 10, 20, 30 to distinguish number of oranges.\n",
        "\n",
        "    orange_list = [1, 2, 3, 4]\n",
        "\n",
        "    apple_list = [10, 20, 30]\n",
        "\n",
        "\\\n",
        "\n",
        "The code that creates a list of the total possible number of both (`list1`)\n",
        "\n",
        "    list1 = []\n",
        "\n",
        "    for x in apple_list:\n",
        "      for y in orange_list:\n",
        "        list1.append(x + y)\n",
        "\n",
        "If you write this in one line in a list comprehension,\n",
        "\n",
        "    list1 = [(x + y) for x in apple_list for y in orange_list]\n",
        "\n",
        "\\\n",
        "\n",
        "Let `count = 0` to count the number of ways\n",
        "\n",
        "\n",
        "\\\n",
        "Create all cases of the total number of apples and oranges in a, b, c from `list1`.\n",
        "\n",
        "\n",
        "    count=0\n",
        "    for a in list1:\n",
        "      for b in list1:\n",
        "        for c in list1:\n",
        "\n",
        "The total number of oranges is up to 6, so it is 6, \n",
        "\n",
        "and the total number of apples is up to 5, so it is 50.\n",
        "\n",
        "\n",
        "\\\n",
        "Count only when the total of all becomes 56 (= 6 + 50),\n",
        "\n",
        "          if a + b + c == 56:\n",
        "            count += 1\n",
        "\n",
        "Finally output the count number\n",
        "\n",
        "    print (count, \"ways\")\n",
        "\n",
        "\n"
      ],
      "metadata": {
        "id": "EJpKgJfQiuzA"
      }
    },
    {
      "cell_type": "code",
      "source": [
        ""
      ],
      "metadata": {
        "id": "M0LsrHSMi_1M"
      },
      "execution_count": null,
      "outputs": []
    },
    {
      "cell_type": "code",
      "metadata": {
        "id": "w-zP7jS0jBjr",
        "colab": {
          "base_uri": "https://localhost:8080/"
        },
        "outputId": "41ae5491-80c4-487f-8fa8-aa55106e5dfd",
        "collapsed": true
      },
      "source": [
        "#sample using list comprehension\n",
        "\n",
        "\n",
        "apple_list = [10, 20, 30]\n",
        "orange_list = [1, 2, 3, 4]\n",
        "\n",
        "list1 = [(x + y) for x in apple_list for y in orange_list]\n",
        "\n",
        "count = 0\n",
        "for a in list1:\n",
        "  for b in list1:\n",
        "    for c in list1:\n",
        "      #print(a,b,c)\n",
        "      if a + b + c == 56:\n",
        "        #print(a,b,c)\n",
        "        count += 1\n",
        "\n",
        "print(count, \"ways\")"
      ],
      "execution_count": null,
      "outputs": [
        {
          "output_type": "stream",
          "name": "stdout",
          "text": [
            "60 ways\n"
          ]
        }
      ]
    },
    {
      "cell_type": "code",
      "source": [
        ""
      ],
      "metadata": {
        "id": "ofeYOnsOyFu6"
      },
      "execution_count": null,
      "outputs": []
    },
    {
      "cell_type": "code",
      "metadata": {
        "colab": {
          "base_uri": "https://localhost:8080/"
        },
        "outputId": "efdb783f-5b3c-4a72-e7c4-a87dfaad9aa6",
        "id": "htV8iyKEyGRM",
        "collapsed": true
      },
      "source": [
        "#sample　Not using comprehension\n",
        "\n",
        "orange_list = [1, 2, 3, 4]\n",
        "apple_list = [10, 20, 30]\n",
        "\n",
        "list1 = []\n",
        "for x in apple_list:\n",
        "  for y in orange_list:\n",
        "    list1.append(x + y)\n",
        "\n",
        "count = 0\n",
        "for a in list1:\n",
        "  for b in list1:\n",
        "    for c in list1:\n",
        "      #print(a,b,c)\n",
        "      if a + b + c == 56:\n",
        "        #print(a,b,c)\n",
        "        count+=1\n",
        "\n",
        "print(count, \"ways\")"
      ],
      "execution_count": null,
      "outputs": [
        {
          "output_type": "stream",
          "name": "stdout",
          "text": [
            "60 ways\n"
          ]
        }
      ]
    },
    {
      "cell_type": "markdown",
      "source": [
        "### Description of while "
      ],
      "metadata": {
        "id": "jqYc56CSnGwU"
      }
    },
    {
      "cell_type": "markdown",
      "source": [
        "We experienced `for loop` as iterative programming.\n",
        "\n",
        "There is another tool for iterative process which is `while loop`. \n",
        "\n",
        "\\\n",
        "The structure of `while loop` is same as `for loop` \n",
        "\n",
        "    while condition:\n",
        "      process to be repeated\n",
        "\n",
        "The `while loop` continues to process indefinitely until `condition` evaluates to False.\n",
        "\n"
      ],
      "metadata": {
        "id": "yGcLpOKSesP8"
      }
    },
    {
      "cell_type": "markdown",
      "source": [
        "Below is sample of `while stament`\n",
        "\n",
        "While `number` is less than 10, output `number` increased by one.\n",
        "\n",
        "Initially number is 0."
      ],
      "metadata": {
        "id": "AE_KoShgIcxB"
      }
    },
    {
      "cell_type": "code",
      "source": [
        "number = 0\n",
        "while number < 10:\n",
        "    print(number)\n",
        "    number += 1"
      ],
      "metadata": {
        "id": "ESDd4GzphV1I"
      },
      "execution_count": null,
      "outputs": []
    },
    {
      "cell_type": "markdown",
      "source": [
        "Another sample is that \" add from 1 to 99 \".\n",
        "\n"
      ],
      "metadata": {
        "id": "RFawRrtxi7nS"
      }
    },
    {
      "cell_type": "markdown",
      "source": [
        "ーーーーーーーーーーーーーーーーーーーーーーーーーーーーーーーーーーーーーーーー\n",
        "\n",
        "Variables `i` and `total` is set to 0.\n",
        "\n",
        "While `i` is less than 100, repeat `total += x` and `x += 1`.\n",
        "\n",
        "Code is like blow."
      ],
      "metadata": {
        "id": "oRJbmgcHre-W"
      }
    },
    {
      "cell_type": "code",
      "source": [
        "i = 0\n",
        "total = 0                # initialize variable\n",
        "\n",
        "while i < 100:          # while i < 100, repeat process below\n",
        "    total = total + i   # process1 \n",
        "    i += 1                 # process2\n",
        "\n",
        "print(total)              #output the result of process\n"
      ],
      "metadata": {
        "colab": {
          "base_uri": "https://localhost:8080/"
        },
        "id": "LWwY_7NNi8rA",
        "outputId": "8ab147fe-dc6b-4f3d-e774-35e9cc1db22f",
        "collapsed": true
      },
      "execution_count": null,
      "outputs": [
        {
          "output_type": "stream",
          "name": "stdout",
          "text": [
            "4950\n",
            "4950\n"
          ]
        }
      ]
    },
    {
      "cell_type": "markdown",
      "source": [
        "Same result can come from `for loop` as below."
      ],
      "metadata": {
        "id": "PDS7Td2lmnRm"
      }
    },
    {
      "cell_type": "code",
      "source": [
        "total = 0\n",
        "\n",
        "for i in range(100):   \n",
        "    total = total + i  \n",
        "\n",
        "print(total)\n"
      ],
      "metadata": {
        "colab": {
          "base_uri": "https://localhost:8080/"
        },
        "id": "181aA3NvjLBX",
        "outputId": "86d01149-ec31-4de4-ea1e-b6fb86f92b1a",
        "collapsed": true
      },
      "execution_count": null,
      "outputs": [
        {
          "output_type": "stream",
          "name": "stdout",
          "text": [
            "4950\n",
            "4950\n"
          ]
        }
      ]
    },
    {
      "cell_type": "markdown",
      "metadata": {
        "id": "lMbTnNXzpb8b"
      },
      "source": [
        "---\n",
        "Q?\n",
        "\n",
        "What is the minimum integer where the total exceeds 10,000 when adding from 1?\n",
        "\n"
      ]
    },
    {
      "cell_type": "markdown",
      "source": [
        "ーーーーーーーーーーーーーーーーーーーーーーーーーーーーーーーーーーーーーーーー\n",
        "\n",
        "Variables `x` and `total` is set to 0.\n",
        "\n",
        "While `total` is equal or less than 10000, repeat `total += x` and `x += 1`.\n",
        "\n",
        "Code is like blow."
      ],
      "metadata": {
        "id": "uwhB-NbQqw2V"
      }
    },
    {
      "cell_type": "code",
      "source": [
        ""
      ],
      "metadata": {
        "id": "7KmqyO9TqOOp"
      },
      "execution_count": null,
      "outputs": []
    },
    {
      "cell_type": "code",
      "metadata": {
        "colab": {
          "base_uri": "https://localhost:8080/"
        },
        "id": "16YnpvTJLJ49",
        "outputId": "10452a46-40c7-4639-d089-9593347a53ba",
        "collapsed": true
      },
      "source": [
        "#sample\n",
        "\n",
        "total = 0 \n",
        "x = 0\n",
        "\n",
        "while total <= 10000:\n",
        "  total += x\n",
        "  x += 1\n",
        "\n",
        "print (\"The minimum integer x is \", x)\n",
        "\n",
        "print (\"The total is when x is added is \", total)\n"
      ],
      "execution_count": null,
      "outputs": [
        {
          "output_type": "stream",
          "name": "stdout",
          "text": [
            "The minimum integer x is  141\n",
            "The total is when x is added is  10011\n"
          ]
        }
      ]
    },
    {
      "cell_type": "markdown",
      "source": [
        "Even in this case, we can write code using `for loop` with `break`.\n",
        "\n",
        "\\\n",
        "Depending on the problem, if you may not decide `stop` number in `range()`,\n",
        "\n",
        "`while stament` could be useful."
      ],
      "metadata": {
        "id": "97U3GVr_qgY_"
      }
    },
    {
      "cell_type": "code",
      "source": [
        "#sample\n",
        "\n",
        "total = 0\n",
        "\n",
        "for x in range(200):\n",
        "  total += x\n",
        "  if total > 10000:\n",
        "    break\n",
        "\n",
        "print (\"The minimum integer x is \", x)\n",
        "\n",
        "print (\"The total is when x is added is \", total)\n",
        "\n"
      ],
      "metadata": {
        "colab": {
          "base_uri": "https://localhost:8080/"
        },
        "outputId": "299dd93f-59a9-4d7c-8842-7e9262a266b2",
        "id": "ZHdUgZ-bqOi3",
        "collapsed": true
      },
      "execution_count": null,
      "outputs": [
        {
          "output_type": "stream",
          "name": "stdout",
          "text": [
            "The minimum integer x is  141\n",
            "The total is when x is added is  10011\n"
          ]
        }
      ]
    },
    {
      "cell_type": "markdown",
      "metadata": {
        "id": "v2s8xeoPFInM"
      },
      "source": [
        "---\n",
        "FizzBizz while version\n",
        "\n",
        "Q?\n",
        "\n",
        "\n",
        "Try using while to solve the \"FizzBuzz problem\" that appeared in the for statement.\n",
        "\n",
        "\n",
        "\n",
        "\\\n",
        "\n",
        "Write a programming that outputs numbers from 1 to 100.\n",
        "\n",
        "\n",
        "\n",
        "However, when the number is a multiple of 3, Fizz is output instead of the number.\n",
        "\n",
        "\n",
        "\n",
        "When it is a multiple of 5, it outputs Buzz instead of a number and outputs it as Buzz.\n",
        "\n",
        "\n",
        "\n",
        "When it is a multiple of 3 and 5, output as FizzBuzz.\n",
        "\n",
        "\n"
      ]
    },
    {
      "cell_type": "code",
      "metadata": {
        "id": "3TIECZZnFInM"
      },
      "source": [
        "#while version sample\n",
        "\n",
        "i = 1\n",
        "while i < 101:\n",
        "    if i % 15 == 0:\n",
        "        print(\"Fizz Buzz!\")\n",
        "    elif i % 3 == 0:\n",
        "        print(\"Fizz!\")\n",
        "    elif i % 5 == 0:\n",
        "        print(\"Buzz!\")\n",
        "    else:\n",
        "        print(i)\n",
        "\n",
        "    i += 1"
      ],
      "execution_count": null,
      "outputs": []
    },
    {
      "cell_type": "markdown",
      "source": [
        "### Fibonacci sequence"
      ],
      "metadata": {
        "id": "kf1FZuelSMQf"
      }
    },
    {
      "cell_type": "markdown",
      "metadata": {
        "id": "HvE05w8l_1c4"
      },
      "source": [
        "We already made programu of Fibnacci sequence at `for loop` section.\n",
        "\n",
        "Make another program with `while`\n",
        "\\\n",
        "---\n",
        "Q?\n",
        "\n",
        "\n",
        "The sequence of numbers obtained by adding the previous two numbers \n",
        "\n",
        "as shown below is called the Fibonacci sequence. \n",
        "\n",
        "1, 1, 2, 3, 5, 8, 13, 21, 34, 55, 89, 144, … \n",
        "\n",
        "\\\n",
        "Display this sequence up to the 100th\n",
        "\n",
        "\n"
      ]
    },
    {
      "cell_type": "markdown",
      "source": [
        "ーーーーーーーーーーーーーーーーーーーーーーーーーーーーーーーーーーーーーーーー\n",
        "\n",
        "Code made by `for loop` is as follows"
      ],
      "metadata": {
        "id": "H9e-A8ZRTBKl"
      }
    },
    {
      "cell_type": "code",
      "metadata": {
        "colab": {
          "base_uri": "https://localhost:8080/"
        },
        "outputId": "a40afa85-70fb-4215-aae3-873c7d6809fb",
        "id": "hmdlrZN36Nx2",
        "collapsed": true
      },
      "source": [
        "#sample\n",
        "\n",
        "a = 0\n",
        "b = 1\n",
        "for i in range(100):\n",
        "  print(b, end=',') \n",
        "  a, b = b, a + b\n"
      ],
      "execution_count": null,
      "outputs": [
        {
          "output_type": "stream",
          "name": "stdout",
          "text": [
            "1,1,2,3,5,8,13,21,34,55,89,144,233,377,610,987,1597,2584,4181,6765,10946,17711,28657,46368,75025,121393,196418,317811,514229,832040,1346269,2178309,3524578,5702887,9227465,14930352,24157817,39088169,63245986,102334155,165580141,267914296,433494437,701408733,1134903170,1836311903,2971215073,4807526976,7778742049,12586269025,20365011074,32951280099,53316291173,86267571272,139583862445,225851433717,365435296162,591286729879,956722026041,1548008755920,2504730781961,4052739537881,6557470319842,10610209857723,17167680177565,27777890035288,44945570212853,72723460248141,117669030460994,190392490709135,308061521170129,498454011879264,806515533049393,1304969544928657,2111485077978050,3416454622906707,5527939700884757,8944394323791464,14472334024676221,23416728348467685,37889062373143906,61305790721611591,99194853094755497,160500643816367088,259695496911122585,420196140727489673,679891637638612258,1100087778366101931,1779979416004714189,2880067194370816120,4660046610375530309,7540113804746346429,12200160415121876738,19740274219868223167,31940434634990099905,51680708854858323072,83621143489848422977,135301852344706746049,218922995834555169026,354224848179261915075,"
          ]
        }
      ]
    },
    {
      "cell_type": "markdown",
      "source": [
        "In case of `while loop`, the counter variable `count` is used.\n",
        "\n",
        "\\\n",
        "In the iteration of the while loop, the process of `count += 1` is added."
      ],
      "metadata": {
        "id": "RCNMJVQmTRdg"
      }
    },
    {
      "cell_type": "code",
      "source": [
        ""
      ],
      "metadata": {
        "id": "MAftID5JUI8a"
      },
      "execution_count": null,
      "outputs": []
    },
    {
      "cell_type": "code",
      "source": [
        "a = 0\n",
        "b = 1\n",
        "count = 0\n",
        "\n",
        "while count < 100:\n",
        "  print(b, end=', ')\n",
        "  a, b = b, a+b\n",
        "  count += 1\n"
      ],
      "metadata": {
        "id": "3T8m9UvpJjEo",
        "colab": {
          "base_uri": "https://localhost:8080/"
        },
        "outputId": "db69b92b-cf9d-40bd-e0a8-19bbcc2f74ba",
        "collapsed": true
      },
      "execution_count": null,
      "outputs": [
        {
          "output_type": "stream",
          "name": "stdout",
          "text": [
            "1, 1, 2, 3, 5, 8, 13, 21, 34, 55, 89, 144, 233, 377, 610, 987, 1597, 2584, 4181, 6765, 10946, 17711, 28657, 46368, 75025, 121393, 196418, 317811, 514229, 832040, 1346269, 2178309, 3524578, 5702887, 9227465, 14930352, 24157817, 39088169, 63245986, 102334155, 165580141, 267914296, 433494437, 701408733, 1134903170, 1836311903, 2971215073, 4807526976, 7778742049, 12586269025, 20365011074, 32951280099, 53316291173, 86267571272, 139583862445, 225851433717, 365435296162, 591286729879, 956722026041, 1548008755920, 2504730781961, 4052739537881, 6557470319842, 10610209857723, 17167680177565, 27777890035288, 44945570212853, 72723460248141, 117669030460994, 190392490709135, 308061521170129, 498454011879264, 806515533049393, 1304969544928657, 2111485077978050, 3416454622906707, 5527939700884757, 8944394323791464, 14472334024676221, 23416728348467685, 37889062373143906, 61305790721611591, 99194853094755497, 160500643816367088, 259695496911122585, 420196140727489673, 679891637638612258, 1100087778366101931, 1779979416004714189, 2880067194370816120, 4660046610375530309, 7540113804746346429, 12200160415121876738, 19740274219868223167, 31940434634990099905, 51680708854858323072, 83621143489848422977, 135301852344706746049, 218922995834555169026, 354224848179261915075, 100\n"
          ]
        }
      ]
    },
    {
      "cell_type": "markdown",
      "source": [
        "No counter is needed for the problem that all Fibonacci numbers \n",
        "\n",
        "less than or equal to 100 is displayed.\n",
        "\n",
        "\\\n",
        "As for this problem, while condition is \n",
        "\n",
        "    while b < 100:\n",
        "\n"
      ],
      "metadata": {
        "id": "N7YVkeroUdhf"
      }
    },
    {
      "cell_type": "code",
      "source": [
        "a = 0\n",
        "b = 1\n",
        "\n",
        "while b < 100:\n",
        "  print(b, end=', ')\n",
        "  a, b = b, a+b\n"
      ],
      "metadata": {
        "colab": {
          "base_uri": "https://localhost:8080/"
        },
        "outputId": "84f8eb11-2b7a-4f42-e12f-5c5581b71d0e",
        "id": "gtOf3uHr-8CM",
        "collapsed": true
      },
      "execution_count": null,
      "outputs": [
        {
          "output_type": "stream",
          "name": "stdout",
          "text": [
            "1, 1, 2, 3, 5, 8, 13, 21, 34, 55, 89, "
          ]
        }
      ]
    },
    {
      "cell_type": "markdown",
      "source": [
        "The program with `for loop` of function of Fibonacci sequence to 100th \n",
        "\n",
        "is as below."
      ],
      "metadata": {
        "id": "KwBfa8aWkjrE"
      }
    },
    {
      "cell_type": "code",
      "metadata": {
        "id": "_YZ6v6MJ_7Pq",
        "colab": {
          "base_uri": "https://localhost:8080/"
        },
        "outputId": "0bf990b6-f81b-4552-b8dd-f9a7ef4e6546",
        "collapsed": true
      },
      "source": [
        "def fib(n):\n",
        "    a, b = 0, 1\n",
        "    for i in range(n):\n",
        "        a, b = b, a + b\n",
        "    return b\n",
        "\n",
        "print([fib(i) for i in range(100)])  "
      ],
      "execution_count": null,
      "outputs": [
        {
          "output_type": "stream",
          "name": "stdout",
          "text": [
            "[1, 1, 2, 3, 5, 8, 13, 21, 34, 55, 89, 144, 233, 377, 610, 987, 1597, 2584, 4181, 6765, 10946, 17711, 28657, 46368, 75025, 121393, 196418, 317811, 514229, 832040, 1346269, 2178309, 3524578, 5702887, 9227465, 14930352, 24157817, 39088169, 63245986, 102334155, 165580141, 267914296, 433494437, 701408733, 1134903170, 1836311903, 2971215073, 4807526976, 7778742049, 12586269025, 20365011074, 32951280099, 53316291173, 86267571272, 139583862445, 225851433717, 365435296162, 591286729879, 956722026041, 1548008755920, 2504730781961, 4052739537881, 6557470319842, 10610209857723, 17167680177565, 27777890035288, 44945570212853, 72723460248141, 117669030460994, 190392490709135, 308061521170129, 498454011879264, 806515533049393, 1304969544928657, 2111485077978050, 3416454622906707, 5527939700884757, 8944394323791464, 14472334024676221, 23416728348467685, 37889062373143906, 61305790721611591, 99194853094755497, 160500643816367088, 259695496911122585, 420196140727489673, 679891637638612258, 1100087778366101931, 1779979416004714189, 2880067194370816120, 4660046610375530309, 7540113804746346429, 12200160415121876738, 19740274219868223167, 31940434634990099905, 51680708854858323072, 83621143489848422977, 135301852344706746049, 218922995834555169026, 354224848179261915075]\n"
          ]
        }
      ]
    },
    {
      "cell_type": "markdown",
      "source": [
        "Function with `while loop`\n",
        "\n",
        "Make empty list and change code to `(list name).append(b)`"
      ],
      "metadata": {
        "id": "DqoLWAV8lKvD"
      }
    },
    {
      "cell_type": "code",
      "source": [
        "def Fibo(n):\n",
        "  F_list = []\n",
        "  a = 0\n",
        "  b = 1\n",
        "  count = 0\n",
        "\n",
        "  while count < 100:\n",
        "    F_list.append(b)\n",
        "    a, b = b, a+b\n",
        "    count += 1\n",
        "  return F_list\n",
        "\n",
        "print(Fibo(100))"
      ],
      "metadata": {
        "colab": {
          "base_uri": "https://localhost:8080/"
        },
        "outputId": "a8a01092-9489-4014-ebde-ab837947d7c0",
        "id": "PiPsbDrABpHw",
        "collapsed": true
      },
      "execution_count": null,
      "outputs": [
        {
          "output_type": "stream",
          "name": "stdout",
          "text": [
            "[1, 1, 2, 3, 5, 8, 13, 21, 34, 55, 89, 144, 233, 377, 610, 987, 1597, 2584, 4181, 6765, 10946, 17711, 28657, 46368, 75025, 121393, 196418, 317811, 514229, 832040, 1346269, 2178309, 3524578, 5702887, 9227465, 14930352, 24157817, 39088169, 63245986, 102334155, 165580141, 267914296, 433494437, 701408733, 1134903170, 1836311903, 2971215073, 4807526976, 7778742049, 12586269025, 20365011074, 32951280099, 53316291173, 86267571272, 139583862445, 225851433717, 365435296162, 591286729879, 956722026041, 1548008755920, 2504730781961, 4052739537881, 6557470319842, 10610209857723, 17167680177565, 27777890035288, 44945570212853, 72723460248141, 117669030460994, 190392490709135, 308061521170129, 498454011879264, 806515533049393, 1304969544928657, 2111485077978050, 3416454622906707, 5527939700884757, 8944394323791464, 14472334024676221, 23416728348467685, 37889062373143906, 61305790721611591, 99194853094755497, 160500643816367088, 259695496911122585, 420196140727489673, 679891637638612258, 1100087778366101931, 1779979416004714189, 2880067194370816120, 4660046610375530309, 7540113804746346429, 12200160415121876738, 19740274219868223167, 31940434634990099905, 51680708854858323072, 83621143489848422977, 135301852344706746049, 218922995834555169026, 354224848179261915075]\n"
          ]
        }
      ]
    },
    {
      "cell_type": "markdown",
      "source": [
        "Below is a function outputs Fibonacci sequence below 100."
      ],
      "metadata": {
        "id": "VlkjTt5Jlx1p"
      }
    },
    {
      "cell_type": "code",
      "source": [
        ""
      ],
      "metadata": {
        "id": "X0wPtvi9K8Kt"
      },
      "execution_count": null,
      "outputs": []
    },
    {
      "cell_type": "code",
      "metadata": {
        "colab": {
          "base_uri": "https://localhost:8080/"
        },
        "outputId": "e4d6a1aa-f628-458e-b578-dff1f4776fb8",
        "id": "JGQlRhGegYy6",
        "collapsed": true
      },
      "source": [
        "def fibo(n):\n",
        "    fibo_list = []\n",
        "    a = 0\n",
        "    b = 1\n",
        "\n",
        "    while b < n:\n",
        "        fibo_list.append(b)\n",
        "        a, b = b, a+b\n",
        "    return fibo_list\n",
        "\n",
        "fibo(100)"
      ],
      "execution_count": null,
      "outputs": [
        {
          "output_type": "execute_result",
          "data": {
            "text/plain": [
              "[1, 1, 2, 3, 5, 8, 13, 21, 34, 55, 89]"
            ]
          },
          "metadata": {},
          "execution_count": 25
        }
      ]
    },
    {
      "cell_type": "markdown",
      "source": [
        "###★Recursive call"
      ],
      "metadata": {
        "id": "NIw77sm0i2Wo"
      }
    },
    {
      "cell_type": "markdown",
      "source": [
        "recursion is calling a function from itself"
      ],
      "metadata": {
        "id": "R-PkoFEZse8o"
      }
    },
    {
      "cell_type": "markdown",
      "source": [
        "A `recursive call` of the function is\n",
        "\n",
        " \"use (call) own function in the definition of a function\".\n",
        "\n",
        "\\\n",
        "A function that makes a recursive call is called `recursive function`.\n",
        "\n",
        "\\\n",
        "Taking the return value as an argument again, \n",
        "\n",
        "`recursive call` is used to realize a series of passing of return value and argument.\n",
        "\n",
        "\\\n",
        "You don't know what it is, so I'll explain it with an example.\n",
        "\n",
        "\\\n",
        "There is a rule on how to write the definition of a recursive function, \n",
        "\n",
        "so let's remember this rule.\n",
        "\n",
        "\n",
        "```Python\n",
        "def (function name):\n",
        "    if (condition of non recursive call):\n",
        "        return (process with non recursive call)\n",
        "    else:\n",
        "        (process with recursive call）\n",
        "```\n",
        "\n"
      ],
      "metadata": {
        "id": "vByHX4jBjQDD"
      }
    },
    {
      "cell_type": "markdown",
      "source": [
        "---\n",
        "We made this function which calculate sum of 1 to 10.\n"
      ],
      "metadata": {
        "id": "_67azjjz2I7n"
      }
    },
    {
      "cell_type": "markdown",
      "source": [
        "ーーーーーーーーーーーーーーーーーーーーーーーーーーーーーーーーーーーーーーーー\n",
        "\n",
        "There is a code with changing 10 to `n`.\n",
        "\n",
        "\n",
        "```Python\n",
        "def sum(n):\n",
        "  sum = 0\n",
        "  for n in range(1,11):\n",
        "    sum += n\n",
        "  return(sum)\n",
        "\n",
        "```\n",
        "\n",
        "When we call this function,\n",
        "\n",
        "    sum(10)\n",
        "\n"
      ],
      "metadata": {
        "id": "G5HQUV1tsGEV"
      }
    },
    {
      "cell_type": "code",
      "source": [
        "#sample\n",
        "\n",
        "def sum(n):\n",
        "  sum = 0\n",
        "  for n in range(1, 11):\n",
        "    sum += n\n",
        "  return sum\n",
        "\n",
        "sum(10)"
      ],
      "metadata": {
        "colab": {
          "base_uri": "https://localhost:8080/"
        },
        "outputId": "5d56dc90-5b6b-4960-9d9c-3edcb0afaf96",
        "id": "jv_Mi_BZ2I7o",
        "collapsed": true
      },
      "execution_count": null,
      "outputs": [
        {
          "output_type": "execute_result",
          "data": {
            "text/plain": [
              "55"
            ]
          },
          "metadata": {},
          "execution_count": 12
        }
      ]
    },
    {
      "cell_type": "markdown",
      "source": [
        "ーーーーーーーーーーーーーーーーーーーーーーーーーーーーーーーーーーーーーーーー\n",
        "\n",
        "Revise this code with recursive function as below\n",
        "\n",
        "\n",
        "```\n",
        "def sum(n):\n",
        "    if n < 1:\n",
        "      return n\n",
        "    else:\n",
        "      return sum(n-1) + n\n",
        "```\n",
        "\n",
        "In case of  n = 5, process of calculation is \n",
        "\n",
        "Add 5 to the sum of 1+2+3+4, which is sum(4) + 5\n",
        "\n",
        "n = 4 : Add 4 to the sum of 1+2+3, which is sum(3) + 4\n",
        "\n",
        "n = 3 : Add 3 to the sum of 1+2, which is sum(2) + 3\n",
        "\n",
        "n = 2 : Add 2 to the sum of 1, which is sum(1) + 2\n",
        "\n",
        "n = 1 : Add 1 to the sum of 0, which is sum(0) + 1\n",
        "\n",
        "In case of n = 0, As there is no recursive call, return 0.\n",
        "\n"
      ],
      "metadata": {
        "id": "G9rtCfF3smaj"
      }
    },
    {
      "cell_type": "code",
      "source": [
        "#sample\n",
        "#else:is no need\n",
        "\n",
        "def sum(n):\n",
        "    if n < 1:\n",
        "        return n\n",
        "    return sum(n - 1) + n\n",
        "\n",
        "sum(10)"
      ],
      "metadata": {
        "colab": {
          "base_uri": "https://localhost:8080/"
        },
        "id": "KmAWUNhT3-LL",
        "outputId": "15061d88-d8ce-43fc-a481-181282f0c3ae",
        "collapsed": true
      },
      "execution_count": null,
      "outputs": [
        {
          "output_type": "execute_result",
          "data": {
            "text/plain": [
              "55"
            ]
          },
          "metadata": {},
          "execution_count": 15
        }
      ]
    },
    {
      "cell_type": "markdown",
      "source": [
        "---\n",
        "\n",
        "We made the program below with `for loop` before.\n",
        "\n",
        "Q?\n",
        "\n",
        "What is the program of function that calculate `n!` and return the answer \n",
        "\n",
        "when positive integer is input? \n",
        "\n"
      ],
      "metadata": {
        "id": "x8OKUyU6i2-X"
      }
    },
    {
      "cell_type": "markdown",
      "source": [
        "ーーーーーーーーーーーーーーーーーーーーーーーーーーーーーーーーーーーーーーー\n",
        "\n",
        "The code of this function is \n",
        "\n",
        "(Name of function is changed to `fact`and variable `product` is `p` \n",
        "\n",
        "as abbreviation for factorial and product.)\n",
        "\n",
        "\n",
        "```\n",
        "    def fac(n):\n",
        "      p = 1\n",
        "      for i in range(n, 0, -1):\n",
        "        p *= i\n",
        "      return(p)\n",
        "```"
      ],
      "metadata": {
        "id": "DxuZ4KQ2i2-X"
      }
    },
    {
      "cell_type": "code",
      "source": [
        "def fact(n):\n",
        "      p = 1\n",
        "      for i in range(n, 0, -1):\n",
        "        p *= i\n",
        "      return(p)\n",
        "\n",
        "fact(5)"
      ],
      "metadata": {
        "colab": {
          "base_uri": "https://localhost:8080/"
        },
        "id": "o7x_U6Lsi2-X",
        "outputId": "7acec56d-9d97-45e7-c176-58d9916dfb5e",
        "collapsed": true
      },
      "execution_count": null,
      "outputs": [
        {
          "output_type": "execute_result",
          "data": {
            "text/plain": [
              "120"
            ]
          },
          "metadata": {},
          "execution_count": 17
        }
      ]
    },
    {
      "cell_type": "markdown",
      "source": [
        "The above code is coverted to the one below with recursive call.\n",
        "\n",
        "```\n",
        "def fact(n):\n",
        "  if n == 1:\n",
        "    return 1\n",
        "  else:\n",
        "    return n * fact(n - 1)\n",
        "```\n",
        "\n",
        "The idea here is the same as the `sum` example given above.\n",
        "\n",
        "If n = 1, 1 is returned because no recursive call is included.\n",
        "\n"
      ],
      "metadata": {
        "id": "HAAb5dICnJPn"
      }
    },
    {
      "cell_type": "code",
      "source": [
        ""
      ],
      "metadata": {
        "id": "J4jy0a4_7clS"
      },
      "execution_count": null,
      "outputs": []
    },
    {
      "cell_type": "code",
      "source": [
        "#sampe\n",
        "#No else: is OK\n",
        "\n",
        "def fact(n):\n",
        "  if n == 1:\n",
        "    return 1\n",
        "  return n * fact(n - 1)\n",
        "\n",
        "fact(5)"
      ],
      "metadata": {
        "colab": {
          "base_uri": "https://localhost:8080/"
        },
        "outputId": "30788908-12ba-4c48-cece-cb7fdc96d129",
        "id": "X--l65NzqPUI",
        "collapsed": true
      },
      "execution_count": null,
      "outputs": [
        {
          "output_type": "execute_result",
          "data": {
            "text/plain": [
              "120"
            ]
          },
          "metadata": {},
          "execution_count": 19
        }
      ]
    },
    {
      "cell_type": "markdown",
      "metadata": {
        "id": "qOmLfwxRW_iQ"
      },
      "source": [
        "---\n",
        "\n",
        "The output code up to the 10th in the Fibonacci sequence is as follows.\n"
      ]
    },
    {
      "cell_type": "code",
      "source": [
        "a = 0\n",
        "b = 1\n",
        "count = 0\n",
        "\n",
        "while count < 10:\n",
        "  print(b, end=', ')\n",
        "  a, b = b, a+b\n",
        "  count += 1\n"
      ],
      "metadata": {
        "colab": {
          "base_uri": "https://localhost:8080/"
        },
        "outputId": "33f3285c-180d-4bb9-d24f-0adc4b07947b",
        "id": "VBL_r58OGpvj",
        "collapsed": true
      },
      "execution_count": null,
      "outputs": [
        {
          "output_type": "stream",
          "name": "stdout",
          "text": [
            "1, 1, 2, 3, 5, 8, 13, 21, 34, 55, "
          ]
        }
      ]
    },
    {
      "cell_type": "markdown",
      "source": [
        "The code of function that outputs up to the n_th is as follows.\n",
        "\n",
        "Displays up to the 10th.\n"
      ],
      "metadata": {
        "id": "JMxUp5VpHmED"
      }
    },
    {
      "cell_type": "code",
      "source": [
        ""
      ],
      "metadata": {
        "id": "vLE74OHV8X4a"
      },
      "execution_count": null,
      "outputs": []
    },
    {
      "cell_type": "code",
      "source": [
        "def fibo(n):\n",
        "  a = 0\n",
        "  b = 1\n",
        "  count = 0\n",
        "\n",
        "  while count < n:\n",
        "    print(b, end=', ')\n",
        "    a, b = b, a+b\n",
        "    count += 1\n",
        "\n",
        "fibo(10)"
      ],
      "metadata": {
        "colab": {
          "base_uri": "https://localhost:8080/"
        },
        "outputId": "52b45341-e82e-4067-a769-eb36563d6970",
        "id": "MbEZXEFLF4J2",
        "collapsed": true
      },
      "execution_count": null,
      "outputs": [
        {
          "output_type": "stream",
          "name": "stdout",
          "text": [
            "1, 1, 2, 3, 5, 8, 13, 21, 34, 55, "
          ]
        }
      ]
    },
    {
      "cell_type": "markdown",
      "source": [
        "ーーーーーーーーーーーーーーーーーーーーーーーーーーーーーーーーーーーーーーーー\n",
        "\n",
        "If you create a function to find the n_th using a recursive function, it will be as follows.\n",
        "\n",
        "\n",
        "```\n",
        "def Fibo(n):\n",
        "    if n < 3:\n",
        "        return 1\n",
        "    return Fibo(n-1) + Fibo(n-2)\n",
        "```\n",
        "The Fibonacci sequence is lined up with 1, 1, 2, 3, 5, 8, 13, 21, 34, 55 ...\n",
        "\n",
        "(3rd: 2) = (2nd: 1) + (1st: 1)\n",
        "\n",
        "(4th: 3) = (3rd: 2) + (2nd: 1)\n",
        "\n",
        "Each term is the sum of the previous two terms.\n",
        "\n",
        "\\\n",
        "Expressing this in an equation, let the n_th Fibonacci number be `Fibo (n)`.\n",
        "\n",
        "`Fibo (n) = Fibo (n -1) + Fibo (n - 2)`\n",
        "\n",
        "\\\n",
        "If n is less than 3, it means that no recursive call is included, so 1 is `return`.\n",
        "\n"
      ],
      "metadata": {
        "id": "GT6nQ1R2M38v"
      }
    },
    {
      "cell_type": "code",
      "metadata": {
        "id": "up42EZF2J6Uq",
        "colab": {
          "base_uri": "https://localhost:8080/"
        },
        "outputId": "5d0f061b-313f-44df-8230-10bd3a6cacaa",
        "collapsed": true
      },
      "source": [
        "\n",
        "def Fibo(n):\n",
        "    if n < 3:\n",
        "        return 1\n",
        "    return Fibo(n-1) + Fibo(n-2)\n",
        "\n",
        "print(Fibo(5))\n"
      ],
      "execution_count": null,
      "outputs": [
        {
          "output_type": "stream",
          "name": "stdout",
          "text": [
            "5\n"
          ]
        }
      ]
    },
    {
      "cell_type": "markdown",
      "source": [
        "The code of function that outputs up to the n_th is as follows.\n",
        "\n",
        "Displays up to the 10th.\n"
      ],
      "metadata": {
        "id": "6DKH0DofFvKw"
      }
    },
    {
      "cell_type": "code",
      "metadata": {
        "colab": {
          "base_uri": "https://localhost:8080/"
        },
        "outputId": "0e9a406f-b879-46c2-ef39-ddc627350456",
        "id": "s6aHeYbPMzcB",
        "collapsed": true
      },
      "source": [
        "\n",
        "def Fibo(n):\n",
        "    if n < 3:\n",
        "        return 1\n",
        "    return Fibo(n-1) + Fibo(n-2)\n",
        "\n",
        "for i in range(10):\n",
        "    print(Fibo(i+1), end=', ')\n"
      ],
      "execution_count": null,
      "outputs": [
        {
          "output_type": "stream",
          "name": "stdout",
          "text": [
            "1, 1, 2, 3, 5, 8, 13, 21, 34, 55, "
          ]
        }
      ]
    },
    {
      "cell_type": "markdown",
      "source": [
        "###Fraction"
      ],
      "metadata": {
        "id": "m8N0oU-4NwyZ"
      }
    },
    {
      "cell_type": "markdown",
      "metadata": {
        "id": "U5vRpxeBlNaa"
      },
      "source": [
        "---\n",
        "Q?\n",
        "\n",
        "What is the smallest fraction that becomes an integer even if you multiply it\n",
        "\n",
        "by $ \\dfrac {88} {15} $ or divide it by $ \\dfrac {25} {144} $?\n",
        "\n"
      ]
    },
    {
      "cell_type": "markdown",
      "source": [
        "ーーーーーーーーーーーーーーーーーーーーーーーーーーーーーーーーーーーーーーーーーーーーーーーーー\n",
        "\n",
        "\n",
        "[ Arithmetic solution ]\n",
        "\n",
        "\\\n",
        "\n",
        "If the required fraction is set to $ \\dfrac {b} {a} $,\n",
        "\n",
        "\n",
        "\n",
        "Both $ \\dfrac {b} {a} $\\times$ \\dfrac {88} {15} $ and $ \\dfrac {b} {a} $\\times$ \\dfrac {144} {25} $ \n",
        "\n",
        "are integers.\n",
        "\n",
        "\\\n",
        "That is, when they are reduced, the denominator must be 1.\n",
        "\n",
        "\n",
        "\\\n",
        "Since b is a multiple of 15 and 25 and to find the smallest fraction, \n",
        "\n",
        "b should be the least common multiple of 15 and 25 = 75.\n",
        "\n",
        "\\\n",
        "Since a is reduced to 1, a is a divisor of 88 and 144.\n",
        "\n",
        "\\\n",
        "In order to make the fraction as small as possible,\n",
        "\n",
        "since a should be as large as possible, a is the greatest common divisor of 88 and 144 = 8\n",
        "\n",
        "\n",
        "\\\n",
        "Therefore, $ \\dfrac {b} {a} $ ＝ $ \\dfrac {75} {8} $ ・ ・ ・ (answer)\n",
        "\n"
      ],
      "metadata": {
        "id": "lus2wL-8vcjA"
      }
    },
    {
      "cell_type": "markdown",
      "source": [
        "ーーーーーーーーーーーーーーーーーーーーーーーーーーーーーーーーーーーーーーーーーーーーーーーーー\n",
        "\n",
        "\n",
        "[ Python ]\n",
        "\n",
        "\n",
        "\n",
        "As an image of coding,\n",
        "\n",
        "\n",
        "\n",
        "\"Set the desired fraction to $ \\dfrac {b} {a} $ and enter integers from \n",
        "\n",
        "1 to 100 for both a and b to create a fraction (100 x 100 = 10000 in total).\n",
        "\n",
        "\n",
        "\\\n",
        "$ \\dfrac {b} {a} $\\times$ \\dfrac {88} {15} $ and $ \\dfrac {b} {a} $\\times$ \\dfrac {144} {25} $ should be integers. \n",
        "\n",
        "Such a fraction $ \\dfrac {b} {a} $ to be found.\"\n",
        "\n",
        "\n",
        "\\\n",
        "\n",
        "As for fraction calculation, import Fraction first (`from fractions import Fraction`)\n",
        "\n",
        "    from fractions import Fraction\n",
        "\n",
        "\\\n",
        "The largest fraction of the $ \\dfrac {b} {a} $ created above is $ \\dfrac {100} {1} $, \n",
        "\n",
        "so put it in the variable `s` as`s = Fraction (100, 1) ` first.\n",
        "\n",
        "    s = Fraction (100, 1)\n",
        "\n",
        "\\\n",
        "Whenever a fraction that meets the above conditions is found, \n",
        "\n",
        "`s` will be overwritten (explained below).\n",
        "\n",
        "\n",
        "\n",
        "\\\n",
        "To make all combinations of $ \\dfrac {b} {a} $\n",
        "\n",
        "make a double of `for loop`\n",
        "\n",
        "    for a in range(1,101):\n",
        "      for b in range(1, 101):\n",
        "\n",
        "Keep in mind that this method will come up frequently in the future.\n",
        "\n",
        "\n",
        "\\\n",
        "\n",
        "Both product of $ \\dfrac {b} {a} $\\times$ \\dfrac {88} {15} $ and $ \\dfrac {b} {a} $\\times$ \\dfrac {144} {25} $ \n",
        "\n",
        "are to be integers and  those should be as small as possible. \n",
        "\n",
        "It is because we should find fraction, it should be smaller than `s`.\n",
        "\n",
        "    if (Fraction(b, a) * Fraction(88, 15)) % 1 == 0 and (Fraction(b, a) * Fraction(144, 25)) % 1 == 0 and s > Fraction(b,a):`)\n",
        "\n",
        "\n",
        "`and` is one of the logical operators and in this if statement, \n",
        "\n",
        "three conditions are connected by` and`, \n",
        "\n",
        "so only Fraction (b, a) that meets all three conditions is selected.\n",
        "\n",
        "\n",
        "\\\n",
        "Check in `Logical Operator Summary` below\n",
        "\n",
        "\n",
        "\\\n",
        "If you put a `Fraction (b, a)` that meets this condition in `s`, \n",
        "\n",
        " the previous Fraction (b, a) will be overwritten.\n",
        "\n",
        "      `s = Fraction(b,a)`\n",
        "\n",
        "\\\n",
        "After checking all the fractions, print the fractions in s\n",
        "\n",
        "    print(s)\n",
        "\n",
        "Fraction `75/8` is displayed.\n",
        "\n",
        "\\\n",
        "If you write `s` in stead of `print(s)`, `Fraction (75, 8)` will be displayed. \n",
        "\n",
        "\n",
        "\\\n",
        "If a fraction that meets the condition that \"the product becomes an integer\" is found, `s` is replacd.\n",
        "\n",
        "\n",
        "\\\n",
        "Since b is a multiple of 15 and 25 and we find the smallest fraction, b is the least common multiple of 15 and 25 = 75.\n",
        "\n",
        "\n",
        "\\\n",
        "Since a is reduced to 1, a is a divisor of 88 and 144. \n",
        "\n",
        "\\\n",
        "In order to make the fraction as small as possible,\n",
        "\n",
        "since a should be as large as possible, a is the greatest common divisor of 88 and 144 = 8.\n",
        "\n",
        "\n",
        "\\\n",
        "Therefore, $ \\dfrac {b} {a} $ ＝ $ \\dfrac {75} {8} $ ・ ・ ・ (answer)\n",
        "\n"
      ],
      "metadata": {
        "id": "PvTW7FGn7LZm"
      }
    },
    {
      "cell_type": "code",
      "source": [
        ""
      ],
      "metadata": {
        "id": "DtmGaubl400E"
      },
      "execution_count": null,
      "outputs": []
    },
    {
      "cell_type": "code",
      "metadata": {
        "id": "IoIiZCU541fG",
        "colab": {
          "base_uri": "https://localhost:8080/"
        },
        "outputId": "f1cba0b0-223f-41a8-bf9d-9f59f8a34684",
        "collapsed": true
      },
      "source": [
        "#sample\n",
        "\n",
        "from fractions import Fraction\n",
        "\n",
        "s = Fraction(100, 1)\n",
        "\n",
        "for a in range(1, 101) :\n",
        "  for b in range(1, 101) :\n",
        "    if (Fraction(b, a) * Fraction(88, 15)) % 1 == 0 and (Fraction(b, a) * Fraction(144, 25) )% 1 == 0 and s > Fraction(b, a) :\n",
        "      print(Fraction(b, a))      # You don't have to write this print(), but if you do, you can see what other fractions there are.\n",
        "      s = Fraction(b, a)\n",
        "\n",
        "print(s)\n"
      ],
      "execution_count": null,
      "outputs": [
        {
          "output_type": "stream",
          "name": "stdout",
          "text": [
            "75\n",
            "75/2\n",
            "75/4\n",
            "75/8\n",
            "75/8\n"
          ]
        }
      ]
    },
    {
      "cell_type": "code",
      "metadata": {
        "id": "YCm15swd4IbC"
      },
      "source": [
        "#If you want to separate in the conditional statement of if, add \\ (backslash).\n",
        "\n",
        "from fractions import Fraction\n",
        "\n",
        "s = Fraction(50,1)\n",
        "\n",
        "for a in range(1, 100) :\n",
        "  for b in range(1, 100) :\n",
        "    if (Fraction(b, a) * Fraction(88, 15)) % 1 == 0 and \\\n",
        "      (Fraction(b, a) * Fraction(144, 25)) % 1 == 0 and \\\n",
        "      s > Fraction(b, a):\n",
        "        s = Fraction(b, a)\n",
        "print(s) \n"
      ],
      "execution_count": null,
      "outputs": []
    },
    {
      "cell_type": "code",
      "metadata": {
        "id": "um5Jax4O4Kus"
      },
      "source": [
        "#Write by adding ( and )  at the beginning and end of the conditional statement of if.\n",
        "\n",
        "\n",
        "from fractions import Fraction\n",
        "\n",
        "s = Fraction(50, 1)\n",
        "\n",
        "for a in range(1, 100) :\n",
        "  for b in range(1, 100) :\n",
        "    if ((Fraction(b, a) * Fraction(88, 15)) % 1 == 0 \n",
        "        and (Fraction(b, a) * Fraction(144, 25)) % 1 == 0 \n",
        "        and s > Fraction(b, a)) :\n",
        "        s = Fraction(b, a)\n",
        "\n",
        "print(s) \n"
      ],
      "execution_count": null,
      "outputs": []
    },
    {
      "cell_type": "markdown",
      "source": [
        "Even if you do not use `Fraction`, the fraction will not be displayed, \n",
        "\n",
        "but it will be the same number as correct answers.\n"
      ],
      "metadata": {
        "id": "agQ-ALmf6pLG"
      }
    },
    {
      "cell_type": "code",
      "metadata": {
        "colab": {
          "base_uri": "https://localhost:8080/"
        },
        "outputId": "65963572-0912-4b76-8e93-6b74ec010532",
        "id": "D4MK1rer6pLG",
        "collapsed": true
      },
      "source": [
        "#sample\n",
        "\n",
        "min = 50/1\n",
        "\n",
        "for a in range(1, 100) :\n",
        "  for b in range(1, 100) :\n",
        "    if (b/a * 88/15 ) % 1 == 0 and (b/a * 144/25) % 1 == 0 \\\n",
        "      and min > b/a :\n",
        "        min = b/a\n",
        "\n",
        "print(min) \n"
      ],
      "execution_count": null,
      "outputs": [
        {
          "output_type": "stream",
          "name": "stdout",
          "text": [
            "9.375\n"
          ]
        }
      ]
    },
    {
      "cell_type": "markdown",
      "metadata": {
        "id": "ZbwvbeeGcMmq"
      },
      "source": [
        "\n",
        "##Summary of logical operators\n",
        "\n",
        "\\\n",
        "\n",
        "| Operator | Example | Meaning |\n",
        "|:------:|:------:|-------|\n",
        "| `and` | A and B | \"Logical AND\" The overlap of A and B in the Venn diagram of \"A and B \" set |\n",
        "| `or` | A or B | \"Logical SUM\" All of A and B and the overlapping parts of A and B in the Venn diagram |\n",
        "| `not` | not A | \"Logical Negation\"  Venn diagram other than A | \n",
        "\n",
        "\\\n",
        "\n",
        "\n",
        "\n",
        "\n"
      ]
    },
    {
      "cell_type": "markdown",
      "source": [
        "###fraction"
      ],
      "metadata": {
        "id": "H4I6o9b3SfHt"
      }
    },
    {
      "cell_type": "markdown",
      "metadata": {
        "id": "C4g4R9OFlNab"
      },
      "source": [
        "---\n",
        "Q?\n",
        "\n",
        "\n",
        "Let's consider a fraction with a denominator of 45 that is greater than 0 and less than 1.\n",
        "\n",
        "\n",
        "\\\n",
        "Answer the following questions.\n",
        "\n",
        "\n",
        "\\\n",
        "(1) How many fractions can be reduced are there in the above fractions?\n",
        "\n",
        "\\\n",
        "(2) Find the sum of fractions that cannot be reduced.\n",
        "\n",
        "\n"
      ]
    },
    {
      "cell_type": "markdown",
      "metadata": {
        "id": "5dSeMf62lNab"
      },
      "source": [
        "ーーーーーーーーーーーーーーーーーーーーーーーーーーーーーーーーーーーーーーー\n",
        "\n",
        "\n",
        "[ Arithmetic solution ]\n",
        "\n",
        "\n",
        "\n",
        "(1) Since the fraction can be reduced when the numerator is a divisor of 45, \n",
        "\n",
        "find the number of divisors of 45 other than 1 in 1 - 44.\n",
        "\n",
        "\n",
        "\\\n",
        "Since 45 = 3 x 3 x 5, the number of multiples of 3 is calculated as \n",
        "\n",
        "44/3 = 14 ...2 then 14 fractions.\n",
        "\n",
        "\\\n",
        "Number of multiples of 5 are 8 based on the calculation 44/5 = 8 (remainder 4),\n",
        "\n",
        "and number of multiples of 15 are 2 from 44/15 = 2 (remainder 14).\n",
        "\n",
        "\n",
        "\\\n",
        "From the above, 14 + 8 - 2 = 20 ... (answer)\n",
        "\n",
        "\n",
        "\\\n",
        "(2) The number of fractions that cannot be reduced is 44 - 20 = 24\n",
        "\n",
        "\n",
        "\\\n",
        "The smallest fraction that cannot be reduced is $ \\dfrac {1} {45} $ and the largest fraction is $ \\dfrac {44} {45} $.\n",
        "\n",
        "\n",
        "\\\n",
        "$\\left(\\dfrac{1}{45} + \\dfrac{44}{45}\\right) $\\times$ 24 $\\div$ 2 ＝ 12 $・・・(答）\n",
        "\n",
        "\\\n",
        "This is the same method to find the sum of 1 to 10 as\n",
        "\n",
        "(1 + 10) $\\times$ 10 $\\div$ 2 = 55 \n",
        "\n",
        "\n"
      ]
    },
    {
      "cell_type": "markdown",
      "source": [
        "ーーーーーーーーーーーーーーーーーーーーーーーーーーーーーーーーーーーーーーー\n",
        "\n",
        "\n",
        "[ Python ]\n",
        "\n",
        "\n",
        "\n",
        "(1) Decide a variable `count`to count the fractions that meet the conditions and set it to 0 at first.\n",
        "\n",
        "    count = 0\n",
        "\n",
        "\\\n",
        "Put 1 to 44 in the numerator variable`n` in order\n",
        "\n",
        "and `count += 1` if `n` is a multiple of 3 or (or) 5.\n",
        "\n",
        "    for n in range(1, 45):\n",
        "      if n % 3 == 0 or n % 5 == 0 :\n",
        "        count += 1\n",
        "\n",
        "\\\n",
        "When `for statement` (`for loop`) ends, print the last `count`\n",
        "\n",
        "    print(count)\n",
        "\n",
        "\n",
        "\\\n",
        "(2) Decide a variable `sum` to count the sum of numerator that meet the conditions, and set it to 0 at first.\n",
        "\n",
        "\n",
        "\n",
        "\\\n",
        "Since the denominators of fractions are all 45, \n",
        "\n",
        "when the sum of the numerator is calculated and divided by 45, \n",
        "\n",
        "we can get the answer.\n",
        "\n",
        "    sum = 0\n",
        "\n",
        "\\\n",
        "Put 1 to 44 in the numerator n in order, and if n is not divisible by 3 or 5 (the remainder is not 0), add `n` to `sum`.\n",
        "\n",
        "\n",
        "\\\n",
        "Here, \"and` is used because it is \"not divisible by 3\" and \"not divisible by 5\".\n",
        "\n",
        "    for n in range(1, 45):\n",
        "      if n % 3 != 0 and n % 5 != 0 :\n",
        "        sum += n\n",
        "\\\n",
        "When `for statement` (`for loop`) is finished, print the number of the last \n",
        "\n",
        "`sum` divided by the denominator 45.\n",
        "\n",
        "    print(sum/45)\n",
        "\n",
        "\n",
        "\\\n",
        "\n"
      ],
      "metadata": {
        "id": "Hz7-pGInO_Ft"
      }
    },
    {
      "cell_type": "code",
      "source": [
        ""
      ],
      "metadata": {
        "id": "zUPTqc1uNLry"
      },
      "execution_count": null,
      "outputs": []
    },
    {
      "cell_type": "code",
      "metadata": {
        "colab": {
          "base_uri": "https://localhost:8080/"
        },
        "outputId": "e9ff29d0-67e4-4414-a9b6-a05d7f2f9841",
        "id": "gc55Cu9yNXkm",
        "collapsed": true
      },
      "source": [
        "#(1)Sample\n",
        "\n",
        "count = 0\n",
        "\n",
        "for n in range(1, 45):\n",
        "  if n % 3 == 0 or n % 5 == 0:\n",
        "    count += 1\n",
        "\n",
        "print(count)\n"
      ],
      "execution_count": null,
      "outputs": [
        {
          "output_type": "stream",
          "name": "stdout",
          "text": [
            "20 個\n"
          ]
        }
      ]
    },
    {
      "cell_type": "code",
      "source": [
        ""
      ],
      "metadata": {
        "id": "HH2aaASNNMu7"
      },
      "execution_count": null,
      "outputs": []
    },
    {
      "cell_type": "code",
      "metadata": {
        "colab": {
          "base_uri": "https://localhost:8080/"
        },
        "outputId": "e35fac88-f50f-41e0-ba30-8f18a399b9dd",
        "id": "TiUrTjgjlNac",
        "collapsed": true
      },
      "source": [
        "#(2)Sample\n",
        "\n",
        "sum = 0\n",
        "\n",
        "for n in range(1, 45) :\n",
        "  if n % 3 != 0 and n %5 != 0:\n",
        "    sum += n\n",
        "\n",
        "print(int(sum/45))\n",
        "print(sum/45)\n"
      ],
      "execution_count": null,
      "outputs": [
        {
          "output_type": "stream",
          "name": "stdout",
          "text": [
            "12\n",
            "12.0\n"
          ]
        }
      ]
    },
    {
      "cell_type": "code",
      "source": [
        ""
      ],
      "metadata": {
        "id": "g2VZWMDoNN_W"
      },
      "execution_count": null,
      "outputs": []
    },
    {
      "cell_type": "code",
      "metadata": {
        "colab": {
          "base_uri": "https://localhost:8080/"
        },
        "outputId": "292062d4-98ca-4350-a7e0-e4ef70344723",
        "id": "xcvxG1xGOLoL",
        "collapsed": true
      },
      "source": [
        "# (1) (2) Together\n",
        "\n",
        "count = 0\n",
        "sum = 0\n",
        "\n",
        "for n in range(1,45):\n",
        "  if n % 3 == 0 or n % 5 == 0:\n",
        "    count += 1\n",
        "  if n % 3 != 0 and n % 5 != 0:\n",
        "    sum += n\n",
        "\n",
        "print(\"(1) \", count)\n",
        "#print(\"(2) \", int(sum/45))\n",
        "print(\"(2) \", sum/45)\n"
      ],
      "execution_count": null,
      "outputs": [
        {
          "output_type": "stream",
          "name": "stdout",
          "text": [
            "(1)  20\n",
            "(2)  12.0\n"
          ]
        }
      ]
    },
    {
      "cell_type": "code",
      "metadata": {
        "colab": {
          "base_uri": "https://localhost:8080/"
        },
        "outputId": "4622ed78-9688-4b22-c658-9937592ff2db",
        "id": "JMqscvB0K25c",
        "collapsed": true
      },
      "source": [
        "#Sample using #Fraction\n",
        "\n",
        "\n",
        "from fractions import Fraction\n",
        "\n",
        "count=0\n",
        "sum = 0\n",
        "\n",
        "for n in range(1,45):\n",
        "  if n % 3 == 0 or n % 5 == 0:\n",
        "    count += 1\n",
        "  if n % 3 != 0 and n % 5 != 0:\n",
        "    sum += Fraction(n,45)\n",
        "\n",
        "print(\"(1) \", count)\n",
        "print(\"(2) \", sum)\n"
      ],
      "execution_count": null,
      "outputs": [
        {
          "output_type": "stream",
          "name": "stdout",
          "text": [
            "(1)  20\n",
            "(2)  12\n"
          ]
        }
      ]
    },
    {
      "cell_type": "markdown",
      "metadata": {
        "id": "Lgp6j22QnQx1"
      },
      "source": [
        "### Multiplication table display / table creation\n",
        "\n",
        "We will make a multiplication table, before that, check the double of `for statement`.\n",
        "\n",
        "\n",
        "\\\n",
        "The double of `for statement` is called \"repeatedly nested structure / multiple loop\".\n",
        "\n",
        "\n",
        "\\\n",
        "We will see more than 3 layers thereafter\n",
        "\n",
        "\n",
        "\n",
        "\\\n",
        "Run the code below and check the result, paying attention to the two-step indentation.\n",
        "\n",
        "    list1 = [1, 2, 3]\n",
        "    list2 = [4, 5, 6]\n",
        "\n",
        "    for i in list1:\n",
        "      for j in list2:\n",
        "        print(i, j, sep=',')\n",
        "\n",
        "Result is\n",
        "\n",
        "1,4\n",
        "\n",
        "1,5\n",
        "\n",
        "1,6\n",
        "\n",
        "2,4\n",
        "\n",
        "2,5\n",
        "\n",
        "2,6\n",
        "\n",
        "3,4\n",
        "\n",
        "3,5\n",
        "\n",
        "3,6\n",
        "\n",
        "\\\n",
        "It is a combination (structure) of\n",
        "\n",
        "the first three lines are `list2's 4, 5, 6` corresponding to ` list1's 1`.\n",
        "\n",
        "the next three lines are `list2's 4, 5, 6` corresponding to ` list1's 2`.\n",
        "\n",
        "the last three lines are `list2's 4, 5, 6` corresponding to ` list1's 3`.\n",
        "\n",
        "\\\n",
        "In the `for statement loop`, the mechanism is that all the elements of the `second for loop` are corresponding to one element of the `first for`.\n",
        "\n",
        "\n",
        "\n",
        "\n",
        "\n"
      ]
    },
    {
      "cell_type": "markdown",
      "metadata": {
        "id": "eSEULJVZIuX5"
      },
      "source": [
        "---\n",
        "Q?\n",
        "\n",
        "Display all formulas of calculation of multiplication tables?\n",
        "\n"
      ]
    },
    {
      "cell_type": "markdown",
      "source": [
        "ーーーーーーーーーーーーーーーーーーーーーーーーーーーーーーーーーーーーーーーーーーーーーーーーー\n",
        "\n",
        "\n",
        "Multiplication table is\n",
        "\n",
        "\n",
        "\n",
        "1 x 1, 1 x 2, 1 x 3, ..., 1 x 9,\n",
        "\n",
        "\n",
        "\n",
        "2 x 1, 2 x 2, 2 x 3, ..., 2 x 9,\n",
        "\n",
        "\n",
        "\n",
        "...,\n",
        "\n",
        "\n",
        "\n",
        "9 x 1, 9 x 2, 9 x 3, ..., 9 x 9\n",
        "\n",
        "\n",
        "Think about the code with reference to the above\n",
        "\n",
        "    for x in range(1, 10):\n",
        "      for y  in range(1, 10):\n",
        "\n",
        "\\\n",
        "Put the productt of multiplying `x` and `y` in `z`\n",
        "\n",
        "        z = x * y\n",
        "\n",
        "As the product should be output every time of calculation,\n",
        "\n",
        "`print()` is to be inside the indent of double loop.\n",
        "\n",
        "\n",
        "        print(x, '$\\times$', y, '=', z)\n",
        "\n",
        "\n",
        "\\"
      ],
      "metadata": {
        "id": "DCiHBU26vPIu"
      }
    },
    {
      "cell_type": "code",
      "source": [
        ""
      ],
      "metadata": {
        "id": "JtXBBnCTk3AJ"
      },
      "execution_count": null,
      "outputs": []
    },
    {
      "cell_type": "markdown",
      "source": [
        "---\n",
        "\n",
        "Let's make a multiplication table.\n",
        "\n",
        "\\\n",
        "Instead of `print (x,'$\\times$', y,'=', z)`, \n",
        "\n",
        "print only the products of 1 x 1, 1 x 2, 1 x 3, ..., 1 x 9 on the first line, and `print(z, end=' ')` to avoid line breaks.\n",
        "\n",
        "\n",
        "\\\n",
        "\n",
        "At the end of the first line of the multiply table, put a `print ()` for a line break, but not in a double loop.\n",
        "\n",
        "\n",
        "\n",
        "Note that the indent will be at the same level of second `for loop`.\n",
        "\n",
        "```\n",
        "for x in range(1, 10):\n",
        "\tfor y in range(1, 10):\n",
        "\t\tprint(x * y, end=\" \")\n",
        "\tprint()\n",
        "```\n",
        "\n"
      ],
      "metadata": {
        "id": "R1EbTKk6SDG0"
      }
    },
    {
      "cell_type": "code",
      "source": [
        ""
      ],
      "metadata": {
        "id": "LZi1CrbNmOun"
      },
      "execution_count": null,
      "outputs": []
    },
    {
      "cell_type": "markdown",
      "source": [
        "ーーーーーーーーーーーーーーーーーーーーーーーーーーーーーーーーーーーーーーー\n",
        "\n",
        "\n",
        "This is enough because it's a table, but in order to make it look more like a table,\n",
        "\n",
        "use a 2D list and a program called `DataFrame`\n",
        "\n",
        "\n",
        "\\\n",
        "`DataFrame` is one of the programs (modules) called` pandas`.\n",
        "\n",
        "\n",
        "\n",
        "\\\n",
        "\n",
        "A multiplication table 2D list (= table) can be made with the code below.\n",
        "\n"
      ],
      "metadata": {
        "id": "2tD8pnJbOjsW"
      }
    },
    {
      "cell_type": "code",
      "source": [
        "#Multiplication table 2D list creation\n",
        "\n",
        "multi_table = []\n",
        "\n",
        "for a in range(1, 10):\n",
        "  row = []\n",
        "  for b in range(1, 10):\n",
        "    row.append(a * b)\n",
        "    print (row)     # If you put this code in, you can check the progress of list creation.\n",
        "  multi_table.append(row)\n",
        "\n",
        "print (multi_table)\n"
      ],
      "metadata": {
        "id": "dRuRD-QjRXG5"
      },
      "execution_count": null,
      "outputs": []
    },
    {
      "cell_type": "markdown",
      "source": [
        "\n",
        "### ★ pandas About Pandas\n",
        "\n",
        "\n",
        "\n",
        "Pandas is a collection of programs for analyzing data such as numbers and letters in Python.\n",
        "\n",
        "\n",
        "\\\n",
        "It can be used for processing, editing, and displaying data.\n",
        "\n",
        "\n",
        "\n",
        "\\\n",
        "\n",
        "Please study in detail when you proceed to data analysis and machine learning in the future \n",
        "\n",
        "→ [intro_to_pandas](https://colab.research.google.com/notebooks/mlcc/intro_to_pandas.ipynb)\n",
        "\n",
        "\n",
        "\n",
        "\\\n",
        "\n",
        "Here, in pandas, just create a multiplication table with a program \n",
        "\n",
        "called `DataFrame` which is used for table creation etc.\n",
        "\n",
        "\n",
        "\n",
        "\\\n",
        "\n",
        "An example of how to use `DataFrame` can be found in the cell below.\n",
        "\n",
        "\n",
        "\n",
        "\\\n",
        "\n",
        "You can create a beautiful table by putting a list you created (two-dimensional list) into `DataFrame`.\n",
        "\n",
        "\n",
        "\n"
      ],
      "metadata": {
        "id": "hd4vnR-gUq7K"
      }
    },
    {
      "cell_type": "markdown",
      "source": [
        "ーーーーーーーーーーーーーーーーーーーーーーーーーーーーーーーーーーーーーーーー\n",
        "\n",
        "Import `DataFrame` from` pandas`\n",
        "\n",
        "\n",
        "\\\n",
        "Create `my_list`\n",
        "\n",
        "\n",
        "\\\n",
        "Assign `DataFrame (my_list)` to the variable `df`\n",
        "\n",
        "\n",
        "\\\n",
        "Displayed with writing `df`\n",
        "\n",
        "\n",
        "\\\n",
        "If you use `print (df)`, table will not be displayed.\n",
        "\n",
        "\n",
        "\n",
        "\n"
      ],
      "metadata": {
        "id": "b81zBIHX4YF2"
      }
    },
    {
      "cell_type": "code",
      "source": [
        "#Example of using #DataFrame\n",
        "\n",
        "from pandas import DataFrame\n",
        "\n",
        "my_list = [\n",
        "  [1, 100, 0.23, 'January', 'February'],                    #January=1月,  February＝2月 \n",
        "  [2, 200, 0.59, 'March', 'April'],                             #March=3月,  April＝4月\n",
        "  [3, 300, 3, 'May', 'June'],                                   # May＝5月,  June=6月\n",
        "  [4, 400, 15.12, 'July', 'August'],                           #July＝7月,  August＝8月\n",
        "  [5, 500, 1.97, 'September', 'October'],                  #September＝9月,   October＝10月\n",
        "  [6, 600, 2.666, 'November', 'December']                #November＝11月,   December＝12月\n",
        "]\n",
        "\n",
        "df = DataFrame(my_list)\n",
        "df                                     #Note that if you use print(df), it will not be a table. \n"
      ],
      "metadata": {
        "colab": {
          "base_uri": "https://localhost:8080/",
          "height": 237
        },
        "outputId": "5e6f7aaa-81b6-42d9-c5e0-63d2dcbd4210",
        "id": "wV_zuspk3r8U",
        "collapsed": true
      },
      "execution_count": null,
      "outputs": [
        {
          "output_type": "execute_result",
          "data": {
            "text/plain": [
              "   0    1       2          3         4\n",
              "0  1  100   0.230    January  February\n",
              "1  2  200   0.590      March     April\n",
              "2  3  300   3.000        May      June\n",
              "3  4  400  15.120       July    August\n",
              "4  5  500   1.970  September   October\n",
              "5  6  600   2.666   November  December"
            ],
            "text/html": [
              "\n",
              "  <div id=\"df-398566a8-1921-4a7e-8621-6ecb5dcf93b0\">\n",
              "    <div class=\"colab-df-container\">\n",
              "      <div>\n",
              "<style scoped>\n",
              "    .dataframe tbody tr th:only-of-type {\n",
              "        vertical-align: middle;\n",
              "    }\n",
              "\n",
              "    .dataframe tbody tr th {\n",
              "        vertical-align: top;\n",
              "    }\n",
              "\n",
              "    .dataframe thead th {\n",
              "        text-align: right;\n",
              "    }\n",
              "</style>\n",
              "<table border=\"1\" class=\"dataframe\">\n",
              "  <thead>\n",
              "    <tr style=\"text-align: right;\">\n",
              "      <th></th>\n",
              "      <th>0</th>\n",
              "      <th>1</th>\n",
              "      <th>2</th>\n",
              "      <th>3</th>\n",
              "      <th>4</th>\n",
              "    </tr>\n",
              "  </thead>\n",
              "  <tbody>\n",
              "    <tr>\n",
              "      <th>0</th>\n",
              "      <td>1</td>\n",
              "      <td>100</td>\n",
              "      <td>0.230</td>\n",
              "      <td>January</td>\n",
              "      <td>February</td>\n",
              "    </tr>\n",
              "    <tr>\n",
              "      <th>1</th>\n",
              "      <td>2</td>\n",
              "      <td>200</td>\n",
              "      <td>0.590</td>\n",
              "      <td>March</td>\n",
              "      <td>April</td>\n",
              "    </tr>\n",
              "    <tr>\n",
              "      <th>2</th>\n",
              "      <td>3</td>\n",
              "      <td>300</td>\n",
              "      <td>3.000</td>\n",
              "      <td>May</td>\n",
              "      <td>June</td>\n",
              "    </tr>\n",
              "    <tr>\n",
              "      <th>3</th>\n",
              "      <td>4</td>\n",
              "      <td>400</td>\n",
              "      <td>15.120</td>\n",
              "      <td>July</td>\n",
              "      <td>August</td>\n",
              "    </tr>\n",
              "    <tr>\n",
              "      <th>4</th>\n",
              "      <td>5</td>\n",
              "      <td>500</td>\n",
              "      <td>1.970</td>\n",
              "      <td>September</td>\n",
              "      <td>October</td>\n",
              "    </tr>\n",
              "    <tr>\n",
              "      <th>5</th>\n",
              "      <td>6</td>\n",
              "      <td>600</td>\n",
              "      <td>2.666</td>\n",
              "      <td>November</td>\n",
              "      <td>December</td>\n",
              "    </tr>\n",
              "  </tbody>\n",
              "</table>\n",
              "</div>\n",
              "      <button class=\"colab-df-convert\" onclick=\"convertToInteractive('df-398566a8-1921-4a7e-8621-6ecb5dcf93b0')\"\n",
              "              title=\"Convert this dataframe to an interactive table.\"\n",
              "              style=\"display:none;\">\n",
              "        \n",
              "  <svg xmlns=\"http://www.w3.org/2000/svg\" height=\"24px\"viewBox=\"0 0 24 24\"\n",
              "       width=\"24px\">\n",
              "    <path d=\"M0 0h24v24H0V0z\" fill=\"none\"/>\n",
              "    <path d=\"M18.56 5.44l.94 2.06.94-2.06 2.06-.94-2.06-.94-.94-2.06-.94 2.06-2.06.94zm-11 1L8.5 8.5l.94-2.06 2.06-.94-2.06-.94L8.5 2.5l-.94 2.06-2.06.94zm10 10l.94 2.06.94-2.06 2.06-.94-2.06-.94-.94-2.06-.94 2.06-2.06.94z\"/><path d=\"M17.41 7.96l-1.37-1.37c-.4-.4-.92-.59-1.43-.59-.52 0-1.04.2-1.43.59L10.3 9.45l-7.72 7.72c-.78.78-.78 2.05 0 2.83L4 21.41c.39.39.9.59 1.41.59.51 0 1.02-.2 1.41-.59l7.78-7.78 2.81-2.81c.8-.78.8-2.07 0-2.86zM5.41 20L4 18.59l7.72-7.72 1.47 1.35L5.41 20z\"/>\n",
              "  </svg>\n",
              "      </button>\n",
              "      \n",
              "  <style>\n",
              "    .colab-df-container {\n",
              "      display:flex;\n",
              "      flex-wrap:wrap;\n",
              "      gap: 12px;\n",
              "    }\n",
              "\n",
              "    .colab-df-convert {\n",
              "      background-color: #E8F0FE;\n",
              "      border: none;\n",
              "      border-radius: 50%;\n",
              "      cursor: pointer;\n",
              "      display: none;\n",
              "      fill: #1967D2;\n",
              "      height: 32px;\n",
              "      padding: 0 0 0 0;\n",
              "      width: 32px;\n",
              "    }\n",
              "\n",
              "    .colab-df-convert:hover {\n",
              "      background-color: #E2EBFA;\n",
              "      box-shadow: 0px 1px 2px rgba(60, 64, 67, 0.3), 0px 1px 3px 1px rgba(60, 64, 67, 0.15);\n",
              "      fill: #174EA6;\n",
              "    }\n",
              "\n",
              "    [theme=dark] .colab-df-convert {\n",
              "      background-color: #3B4455;\n",
              "      fill: #D2E3FC;\n",
              "    }\n",
              "\n",
              "    [theme=dark] .colab-df-convert:hover {\n",
              "      background-color: #434B5C;\n",
              "      box-shadow: 0px 1px 3px 1px rgba(0, 0, 0, 0.15);\n",
              "      filter: drop-shadow(0px 1px 2px rgba(0, 0, 0, 0.3));\n",
              "      fill: #FFFFFF;\n",
              "    }\n",
              "  </style>\n",
              "\n",
              "      <script>\n",
              "        const buttonEl =\n",
              "          document.querySelector('#df-398566a8-1921-4a7e-8621-6ecb5dcf93b0 button.colab-df-convert');\n",
              "        buttonEl.style.display =\n",
              "          google.colab.kernel.accessAllowed ? 'block' : 'none';\n",
              "\n",
              "        async function convertToInteractive(key) {\n",
              "          const element = document.querySelector('#df-398566a8-1921-4a7e-8621-6ecb5dcf93b0');\n",
              "          const dataTable =\n",
              "            await google.colab.kernel.invokeFunction('convertToInteractive',\n",
              "                                                     [key], {});\n",
              "          if (!dataTable) return;\n",
              "\n",
              "          const docLinkHtml = 'Like what you see? Visit the ' +\n",
              "            '<a target=\"_blank\" href=https://colab.research.google.com/notebooks/data_table.ipynb>data table notebook</a>'\n",
              "            + ' to learn more about interactive tables.';\n",
              "          element.innerHTML = '';\n",
              "          dataTable['output_type'] = 'display_data';\n",
              "          await google.colab.output.renderOutput(dataTable, element);\n",
              "          const docLink = document.createElement('div');\n",
              "          docLink.innerHTML = docLinkHtml;\n",
              "          element.appendChild(docLink);\n",
              "        }\n",
              "      </script>\n",
              "    </div>\n",
              "  </div>\n",
              "  "
            ]
          },
          "metadata": {},
          "execution_count": 10
        }
      ]
    },
    {
      "cell_type": "markdown",
      "source": [
        "\n",
        "If nothing is specified in the vertical heading `index` and \n",
        "\n",
        "the horizontal heading` columns`, numbers will be displayed (0 - 5, 0 - 4).\n",
        "\n",
        "\n",
        "\\\n",
        "The cell below is the code to put the `index` and` columns`\n"
      ],
      "metadata": {
        "id": "ONy2rIv75CkB"
      }
    },
    {
      "cell_type": "code",
      "source": [
        "#Addition of index and columns\n",
        "\n",
        "from pandas import DataFrame\n",
        "\n",
        "my_list = [\n",
        "  [1, 100, 0.23, 'January', 'February'],                     \n",
        "  [2, 200, 0.59, 'March', 'April'],                             \n",
        "  [3, 300, 3, 'May', 'June'],                                  \n",
        "  [4, 400, 15.12, 'July', 'August'],                           \n",
        "  [5, 500, 1.97, 'September', 'October'],                 \n",
        "  [6, 600, 2.666, 'November', 'December']                \n",
        "]\n",
        "\n",
        "df = DataFrame (my_list, index = ['do','re','mi','fa','sol','la'], columns = ['number','integer','decimal',' Month','Month'])\n",
        "\n",
        "df       \n",
        "\n"
      ],
      "metadata": {
        "colab": {
          "base_uri": "https://localhost:8080/",
          "height": 237
        },
        "id": "c5yVq_wsZoEh",
        "outputId": "5c61f672-3418-4057-e3f5-1aeb7dff8e46",
        "collapsed": true
      },
      "execution_count": null,
      "outputs": [
        {
          "output_type": "execute_result",
          "data": {
            "text/plain": [
              "     number  integer  decimal      Month     Month\n",
              "do        1      100    0.230    January  February\n",
              "re        2      200    0.590      March     April\n",
              "mi        3      300    3.000        May      June\n",
              "fa        4      400   15.120       July    August\n",
              "sol       5      500    1.970  September   October\n",
              "la        6      600    2.666   November  December"
            ],
            "text/html": [
              "\n",
              "  <div id=\"df-285ffb70-a47c-4466-bb5b-86935fa8e203\">\n",
              "    <div class=\"colab-df-container\">\n",
              "      <div>\n",
              "<style scoped>\n",
              "    .dataframe tbody tr th:only-of-type {\n",
              "        vertical-align: middle;\n",
              "    }\n",
              "\n",
              "    .dataframe tbody tr th {\n",
              "        vertical-align: top;\n",
              "    }\n",
              "\n",
              "    .dataframe thead th {\n",
              "        text-align: right;\n",
              "    }\n",
              "</style>\n",
              "<table border=\"1\" class=\"dataframe\">\n",
              "  <thead>\n",
              "    <tr style=\"text-align: right;\">\n",
              "      <th></th>\n",
              "      <th>number</th>\n",
              "      <th>integer</th>\n",
              "      <th>decimal</th>\n",
              "      <th>Month</th>\n",
              "      <th>Month</th>\n",
              "    </tr>\n",
              "  </thead>\n",
              "  <tbody>\n",
              "    <tr>\n",
              "      <th>do</th>\n",
              "      <td>1</td>\n",
              "      <td>100</td>\n",
              "      <td>0.230</td>\n",
              "      <td>January</td>\n",
              "      <td>February</td>\n",
              "    </tr>\n",
              "    <tr>\n",
              "      <th>re</th>\n",
              "      <td>2</td>\n",
              "      <td>200</td>\n",
              "      <td>0.590</td>\n",
              "      <td>March</td>\n",
              "      <td>April</td>\n",
              "    </tr>\n",
              "    <tr>\n",
              "      <th>mi</th>\n",
              "      <td>3</td>\n",
              "      <td>300</td>\n",
              "      <td>3.000</td>\n",
              "      <td>May</td>\n",
              "      <td>June</td>\n",
              "    </tr>\n",
              "    <tr>\n",
              "      <th>fa</th>\n",
              "      <td>4</td>\n",
              "      <td>400</td>\n",
              "      <td>15.120</td>\n",
              "      <td>July</td>\n",
              "      <td>August</td>\n",
              "    </tr>\n",
              "    <tr>\n",
              "      <th>sol</th>\n",
              "      <td>5</td>\n",
              "      <td>500</td>\n",
              "      <td>1.970</td>\n",
              "      <td>September</td>\n",
              "      <td>October</td>\n",
              "    </tr>\n",
              "    <tr>\n",
              "      <th>la</th>\n",
              "      <td>6</td>\n",
              "      <td>600</td>\n",
              "      <td>2.666</td>\n",
              "      <td>November</td>\n",
              "      <td>December</td>\n",
              "    </tr>\n",
              "  </tbody>\n",
              "</table>\n",
              "</div>\n",
              "      <button class=\"colab-df-convert\" onclick=\"convertToInteractive('df-285ffb70-a47c-4466-bb5b-86935fa8e203')\"\n",
              "              title=\"Convert this dataframe to an interactive table.\"\n",
              "              style=\"display:none;\">\n",
              "        \n",
              "  <svg xmlns=\"http://www.w3.org/2000/svg\" height=\"24px\"viewBox=\"0 0 24 24\"\n",
              "       width=\"24px\">\n",
              "    <path d=\"M0 0h24v24H0V0z\" fill=\"none\"/>\n",
              "    <path d=\"M18.56 5.44l.94 2.06.94-2.06 2.06-.94-2.06-.94-.94-2.06-.94 2.06-2.06.94zm-11 1L8.5 8.5l.94-2.06 2.06-.94-2.06-.94L8.5 2.5l-.94 2.06-2.06.94zm10 10l.94 2.06.94-2.06 2.06-.94-2.06-.94-.94-2.06-.94 2.06-2.06.94z\"/><path d=\"M17.41 7.96l-1.37-1.37c-.4-.4-.92-.59-1.43-.59-.52 0-1.04.2-1.43.59L10.3 9.45l-7.72 7.72c-.78.78-.78 2.05 0 2.83L4 21.41c.39.39.9.59 1.41.59.51 0 1.02-.2 1.41-.59l7.78-7.78 2.81-2.81c.8-.78.8-2.07 0-2.86zM5.41 20L4 18.59l7.72-7.72 1.47 1.35L5.41 20z\"/>\n",
              "  </svg>\n",
              "      </button>\n",
              "      \n",
              "  <style>\n",
              "    .colab-df-container {\n",
              "      display:flex;\n",
              "      flex-wrap:wrap;\n",
              "      gap: 12px;\n",
              "    }\n",
              "\n",
              "    .colab-df-convert {\n",
              "      background-color: #E8F0FE;\n",
              "      border: none;\n",
              "      border-radius: 50%;\n",
              "      cursor: pointer;\n",
              "      display: none;\n",
              "      fill: #1967D2;\n",
              "      height: 32px;\n",
              "      padding: 0 0 0 0;\n",
              "      width: 32px;\n",
              "    }\n",
              "\n",
              "    .colab-df-convert:hover {\n",
              "      background-color: #E2EBFA;\n",
              "      box-shadow: 0px 1px 2px rgba(60, 64, 67, 0.3), 0px 1px 3px 1px rgba(60, 64, 67, 0.15);\n",
              "      fill: #174EA6;\n",
              "    }\n",
              "\n",
              "    [theme=dark] .colab-df-convert {\n",
              "      background-color: #3B4455;\n",
              "      fill: #D2E3FC;\n",
              "    }\n",
              "\n",
              "    [theme=dark] .colab-df-convert:hover {\n",
              "      background-color: #434B5C;\n",
              "      box-shadow: 0px 1px 3px 1px rgba(0, 0, 0, 0.15);\n",
              "      filter: drop-shadow(0px 1px 2px rgba(0, 0, 0, 0.3));\n",
              "      fill: #FFFFFF;\n",
              "    }\n",
              "  </style>\n",
              "\n",
              "      <script>\n",
              "        const buttonEl =\n",
              "          document.querySelector('#df-285ffb70-a47c-4466-bb5b-86935fa8e203 button.colab-df-convert');\n",
              "        buttonEl.style.display =\n",
              "          google.colab.kernel.accessAllowed ? 'block' : 'none';\n",
              "\n",
              "        async function convertToInteractive(key) {\n",
              "          const element = document.querySelector('#df-285ffb70-a47c-4466-bb5b-86935fa8e203');\n",
              "          const dataTable =\n",
              "            await google.colab.kernel.invokeFunction('convertToInteractive',\n",
              "                                                     [key], {});\n",
              "          if (!dataTable) return;\n",
              "\n",
              "          const docLinkHtml = 'Like what you see? Visit the ' +\n",
              "            '<a target=\"_blank\" href=https://colab.research.google.com/notebooks/data_table.ipynb>data table notebook</a>'\n",
              "            + ' to learn more about interactive tables.';\n",
              "          element.innerHTML = '';\n",
              "          dataTable['output_type'] = 'display_data';\n",
              "          await google.colab.output.renderOutput(dataTable, element);\n",
              "          const docLink = document.createElement('div');\n",
              "          docLink.innerHTML = docLinkHtml;\n",
              "          element.appendChild(docLink);\n",
              "        }\n",
              "      </script>\n",
              "    </div>\n",
              "  </div>\n",
              "  "
            ]
          },
          "metadata": {},
          "execution_count": 6
        }
      ]
    },
    {
      "cell_type": "code",
      "source": [
        ""
      ],
      "metadata": {
        "id": "U5ic5AtIUBKb"
      },
      "execution_count": null,
      "outputs": []
    },
    {
      "cell_type": "markdown",
      "source": [
        "\n",
        "Create a multiplication table and display it neatly with `DataFrame`.\n",
        "\n",
        "\n",
        "\\\n",
        "Just put the multiplication table 2D list (multi_table) in the DataFrame and display it.\n",
        "\n"
      ],
      "metadata": {
        "id": "S9-e8SClUrzh"
      }
    },
    {
      "cell_type": "code",
      "source": [
        ""
      ],
      "metadata": {
        "id": "sqtwOkTM_MIe"
      },
      "execution_count": null,
      "outputs": []
    },
    {
      "cell_type": "code",
      "source": [
        "\n",
        "#index, columns not specified\n",
        "\n",
        "\n",
        "\n",
        "from pandas import DataFrame\n",
        "\n",
        "table_list = []\n",
        "\n",
        "for i in range(1, 10):\n",
        "  row = []\n",
        "  for j in range(1, 10):\n",
        "    row.append(i * j)\n",
        "  table_list.append(row)\n",
        "\n",
        "#print(table_list)     #For checking 2D list\n",
        "\n",
        "multi_table = DataFrame(table_list)\n",
        "\n",
        "multi_table\n",
        "\n"
      ],
      "metadata": {
        "colab": {
          "base_uri": "https://localhost:8080/",
          "height": 331
        },
        "outputId": "56364ed4-ad71-4884-f594-a4a3ab4997c0",
        "id": "-lKVTw0h_Mhj",
        "collapsed": true
      },
      "execution_count": null,
      "outputs": [
        {
          "output_type": "execute_result",
          "data": {
            "text/plain": [
              "   0   1   2   3   4   5   6   7   8\n",
              "0  1   2   3   4   5   6   7   8   9\n",
              "1  2   4   6   8  10  12  14  16  18\n",
              "2  3   6   9  12  15  18  21  24  27\n",
              "3  4   8  12  16  20  24  28  32  36\n",
              "4  5  10  15  20  25  30  35  40  45\n",
              "5  6  12  18  24  30  36  42  48  54\n",
              "6  7  14  21  28  35  42  49  56  63\n",
              "7  8  16  24  32  40  48  56  64  72\n",
              "8  9  18  27  36  45  54  63  72  81"
            ],
            "text/html": [
              "\n",
              "  <div id=\"df-ed8df02c-e7fe-4aa1-bdc9-6a02e1dbfb02\">\n",
              "    <div class=\"colab-df-container\">\n",
              "      <div>\n",
              "<style scoped>\n",
              "    .dataframe tbody tr th:only-of-type {\n",
              "        vertical-align: middle;\n",
              "    }\n",
              "\n",
              "    .dataframe tbody tr th {\n",
              "        vertical-align: top;\n",
              "    }\n",
              "\n",
              "    .dataframe thead th {\n",
              "        text-align: right;\n",
              "    }\n",
              "</style>\n",
              "<table border=\"1\" class=\"dataframe\">\n",
              "  <thead>\n",
              "    <tr style=\"text-align: right;\">\n",
              "      <th></th>\n",
              "      <th>0</th>\n",
              "      <th>1</th>\n",
              "      <th>2</th>\n",
              "      <th>3</th>\n",
              "      <th>4</th>\n",
              "      <th>5</th>\n",
              "      <th>6</th>\n",
              "      <th>7</th>\n",
              "      <th>8</th>\n",
              "    </tr>\n",
              "  </thead>\n",
              "  <tbody>\n",
              "    <tr>\n",
              "      <th>0</th>\n",
              "      <td>1</td>\n",
              "      <td>2</td>\n",
              "      <td>3</td>\n",
              "      <td>4</td>\n",
              "      <td>5</td>\n",
              "      <td>6</td>\n",
              "      <td>7</td>\n",
              "      <td>8</td>\n",
              "      <td>9</td>\n",
              "    </tr>\n",
              "    <tr>\n",
              "      <th>1</th>\n",
              "      <td>2</td>\n",
              "      <td>4</td>\n",
              "      <td>6</td>\n",
              "      <td>8</td>\n",
              "      <td>10</td>\n",
              "      <td>12</td>\n",
              "      <td>14</td>\n",
              "      <td>16</td>\n",
              "      <td>18</td>\n",
              "    </tr>\n",
              "    <tr>\n",
              "      <th>2</th>\n",
              "      <td>3</td>\n",
              "      <td>6</td>\n",
              "      <td>9</td>\n",
              "      <td>12</td>\n",
              "      <td>15</td>\n",
              "      <td>18</td>\n",
              "      <td>21</td>\n",
              "      <td>24</td>\n",
              "      <td>27</td>\n",
              "    </tr>\n",
              "    <tr>\n",
              "      <th>3</th>\n",
              "      <td>4</td>\n",
              "      <td>8</td>\n",
              "      <td>12</td>\n",
              "      <td>16</td>\n",
              "      <td>20</td>\n",
              "      <td>24</td>\n",
              "      <td>28</td>\n",
              "      <td>32</td>\n",
              "      <td>36</td>\n",
              "    </tr>\n",
              "    <tr>\n",
              "      <th>4</th>\n",
              "      <td>5</td>\n",
              "      <td>10</td>\n",
              "      <td>15</td>\n",
              "      <td>20</td>\n",
              "      <td>25</td>\n",
              "      <td>30</td>\n",
              "      <td>35</td>\n",
              "      <td>40</td>\n",
              "      <td>45</td>\n",
              "    </tr>\n",
              "    <tr>\n",
              "      <th>5</th>\n",
              "      <td>6</td>\n",
              "      <td>12</td>\n",
              "      <td>18</td>\n",
              "      <td>24</td>\n",
              "      <td>30</td>\n",
              "      <td>36</td>\n",
              "      <td>42</td>\n",
              "      <td>48</td>\n",
              "      <td>54</td>\n",
              "    </tr>\n",
              "    <tr>\n",
              "      <th>6</th>\n",
              "      <td>7</td>\n",
              "      <td>14</td>\n",
              "      <td>21</td>\n",
              "      <td>28</td>\n",
              "      <td>35</td>\n",
              "      <td>42</td>\n",
              "      <td>49</td>\n",
              "      <td>56</td>\n",
              "      <td>63</td>\n",
              "    </tr>\n",
              "    <tr>\n",
              "      <th>7</th>\n",
              "      <td>8</td>\n",
              "      <td>16</td>\n",
              "      <td>24</td>\n",
              "      <td>32</td>\n",
              "      <td>40</td>\n",
              "      <td>48</td>\n",
              "      <td>56</td>\n",
              "      <td>64</td>\n",
              "      <td>72</td>\n",
              "    </tr>\n",
              "    <tr>\n",
              "      <th>8</th>\n",
              "      <td>9</td>\n",
              "      <td>18</td>\n",
              "      <td>27</td>\n",
              "      <td>36</td>\n",
              "      <td>45</td>\n",
              "      <td>54</td>\n",
              "      <td>63</td>\n",
              "      <td>72</td>\n",
              "      <td>81</td>\n",
              "    </tr>\n",
              "  </tbody>\n",
              "</table>\n",
              "</div>\n",
              "      <button class=\"colab-df-convert\" onclick=\"convertToInteractive('df-ed8df02c-e7fe-4aa1-bdc9-6a02e1dbfb02')\"\n",
              "              title=\"Convert this dataframe to an interactive table.\"\n",
              "              style=\"display:none;\">\n",
              "        \n",
              "  <svg xmlns=\"http://www.w3.org/2000/svg\" height=\"24px\"viewBox=\"0 0 24 24\"\n",
              "       width=\"24px\">\n",
              "    <path d=\"M0 0h24v24H0V0z\" fill=\"none\"/>\n",
              "    <path d=\"M18.56 5.44l.94 2.06.94-2.06 2.06-.94-2.06-.94-.94-2.06-.94 2.06-2.06.94zm-11 1L8.5 8.5l.94-2.06 2.06-.94-2.06-.94L8.5 2.5l-.94 2.06-2.06.94zm10 10l.94 2.06.94-2.06 2.06-.94-2.06-.94-.94-2.06-.94 2.06-2.06.94z\"/><path d=\"M17.41 7.96l-1.37-1.37c-.4-.4-.92-.59-1.43-.59-.52 0-1.04.2-1.43.59L10.3 9.45l-7.72 7.72c-.78.78-.78 2.05 0 2.83L4 21.41c.39.39.9.59 1.41.59.51 0 1.02-.2 1.41-.59l7.78-7.78 2.81-2.81c.8-.78.8-2.07 0-2.86zM5.41 20L4 18.59l7.72-7.72 1.47 1.35L5.41 20z\"/>\n",
              "  </svg>\n",
              "      </button>\n",
              "      \n",
              "  <style>\n",
              "    .colab-df-container {\n",
              "      display:flex;\n",
              "      flex-wrap:wrap;\n",
              "      gap: 12px;\n",
              "    }\n",
              "\n",
              "    .colab-df-convert {\n",
              "      background-color: #E8F0FE;\n",
              "      border: none;\n",
              "      border-radius: 50%;\n",
              "      cursor: pointer;\n",
              "      display: none;\n",
              "      fill: #1967D2;\n",
              "      height: 32px;\n",
              "      padding: 0 0 0 0;\n",
              "      width: 32px;\n",
              "    }\n",
              "\n",
              "    .colab-df-convert:hover {\n",
              "      background-color: #E2EBFA;\n",
              "      box-shadow: 0px 1px 2px rgba(60, 64, 67, 0.3), 0px 1px 3px 1px rgba(60, 64, 67, 0.15);\n",
              "      fill: #174EA6;\n",
              "    }\n",
              "\n",
              "    [theme=dark] .colab-df-convert {\n",
              "      background-color: #3B4455;\n",
              "      fill: #D2E3FC;\n",
              "    }\n",
              "\n",
              "    [theme=dark] .colab-df-convert:hover {\n",
              "      background-color: #434B5C;\n",
              "      box-shadow: 0px 1px 3px 1px rgba(0, 0, 0, 0.15);\n",
              "      filter: drop-shadow(0px 1px 2px rgba(0, 0, 0, 0.3));\n",
              "      fill: #FFFFFF;\n",
              "    }\n",
              "  </style>\n",
              "\n",
              "      <script>\n",
              "        const buttonEl =\n",
              "          document.querySelector('#df-ed8df02c-e7fe-4aa1-bdc9-6a02e1dbfb02 button.colab-df-convert');\n",
              "        buttonEl.style.display =\n",
              "          google.colab.kernel.accessAllowed ? 'block' : 'none';\n",
              "\n",
              "        async function convertToInteractive(key) {\n",
              "          const element = document.querySelector('#df-ed8df02c-e7fe-4aa1-bdc9-6a02e1dbfb02');\n",
              "          const dataTable =\n",
              "            await google.colab.kernel.invokeFunction('convertToInteractive',\n",
              "                                                     [key], {});\n",
              "          if (!dataTable) return;\n",
              "\n",
              "          const docLinkHtml = 'Like what you see? Visit the ' +\n",
              "            '<a target=\"_blank\" href=https://colab.research.google.com/notebooks/data_table.ipynb>data table notebook</a>'\n",
              "            + ' to learn more about interactive tables.';\n",
              "          element.innerHTML = '';\n",
              "          dataTable['output_type'] = 'display_data';\n",
              "          await google.colab.output.renderOutput(dataTable, element);\n",
              "          const docLink = document.createElement('div');\n",
              "          docLink.innerHTML = docLinkHtml;\n",
              "          element.appendChild(docLink);\n",
              "        }\n",
              "      </script>\n",
              "    </div>\n",
              "  </div>\n",
              "  "
            ]
          },
          "metadata": {},
          "execution_count": 7
        }
      ]
    },
    {
      "cell_type": "code",
      "source": [
        "\n",
        "#Specify characters for index vertical heading, columns horizontal heading\n",
        "\n",
        "from pandas import DataFrame\n",
        "\n",
        "multi_list = []\n",
        "\n",
        "for i in range(1, 10):\n",
        "  row = []\n",
        "  for j in range(1, 10):\n",
        "    row.append(i * j)\n",
        "  multi_list.append(row)\n",
        "\n",
        "multi_table = DataFrame(multi_list, index=['one','two','three','four','five','six','seven','eight','nine'], columns = range( 1, 10))\n",
        "\n",
        "multi_table   \n",
        "\n"
      ],
      "metadata": {
        "colab": {
          "base_uri": "https://localhost:8080/",
          "height": 331
        },
        "outputId": "217802e3-8ec1-4b69-98b6-06ebacb13065",
        "id": "dYvwRAZcUBpv",
        "collapsed": true
      },
      "execution_count": null,
      "outputs": [
        {
          "output_type": "execute_result",
          "data": {
            "text/plain": [
              "       1   2   3   4   5   6   7   8   9\n",
              "one    1   2   3   4   5   6   7   8   9\n",
              "two    2   4   6   8  10  12  14  16  18\n",
              "three  3   6   9  12  15  18  21  24  27\n",
              "four   4   8  12  16  20  24  28  32  36\n",
              "five   5  10  15  20  25  30  35  40  45\n",
              "six    6  12  18  24  30  36  42  48  54\n",
              "seven  7  14  21  28  35  42  49  56  63\n",
              "eight  8  16  24  32  40  48  56  64  72\n",
              "nine   9  18  27  36  45  54  63  72  81"
            ],
            "text/html": [
              "\n",
              "  <div id=\"df-92560952-7054-4acf-a981-a118912c60a0\">\n",
              "    <div class=\"colab-df-container\">\n",
              "      <div>\n",
              "<style scoped>\n",
              "    .dataframe tbody tr th:only-of-type {\n",
              "        vertical-align: middle;\n",
              "    }\n",
              "\n",
              "    .dataframe tbody tr th {\n",
              "        vertical-align: top;\n",
              "    }\n",
              "\n",
              "    .dataframe thead th {\n",
              "        text-align: right;\n",
              "    }\n",
              "</style>\n",
              "<table border=\"1\" class=\"dataframe\">\n",
              "  <thead>\n",
              "    <tr style=\"text-align: right;\">\n",
              "      <th></th>\n",
              "      <th>1</th>\n",
              "      <th>2</th>\n",
              "      <th>3</th>\n",
              "      <th>4</th>\n",
              "      <th>5</th>\n",
              "      <th>6</th>\n",
              "      <th>7</th>\n",
              "      <th>8</th>\n",
              "      <th>9</th>\n",
              "    </tr>\n",
              "  </thead>\n",
              "  <tbody>\n",
              "    <tr>\n",
              "      <th>one</th>\n",
              "      <td>1</td>\n",
              "      <td>2</td>\n",
              "      <td>3</td>\n",
              "      <td>4</td>\n",
              "      <td>5</td>\n",
              "      <td>6</td>\n",
              "      <td>7</td>\n",
              "      <td>8</td>\n",
              "      <td>9</td>\n",
              "    </tr>\n",
              "    <tr>\n",
              "      <th>two</th>\n",
              "      <td>2</td>\n",
              "      <td>4</td>\n",
              "      <td>6</td>\n",
              "      <td>8</td>\n",
              "      <td>10</td>\n",
              "      <td>12</td>\n",
              "      <td>14</td>\n",
              "      <td>16</td>\n",
              "      <td>18</td>\n",
              "    </tr>\n",
              "    <tr>\n",
              "      <th>three</th>\n",
              "      <td>3</td>\n",
              "      <td>6</td>\n",
              "      <td>9</td>\n",
              "      <td>12</td>\n",
              "      <td>15</td>\n",
              "      <td>18</td>\n",
              "      <td>21</td>\n",
              "      <td>24</td>\n",
              "      <td>27</td>\n",
              "    </tr>\n",
              "    <tr>\n",
              "      <th>four</th>\n",
              "      <td>4</td>\n",
              "      <td>8</td>\n",
              "      <td>12</td>\n",
              "      <td>16</td>\n",
              "      <td>20</td>\n",
              "      <td>24</td>\n",
              "      <td>28</td>\n",
              "      <td>32</td>\n",
              "      <td>36</td>\n",
              "    </tr>\n",
              "    <tr>\n",
              "      <th>five</th>\n",
              "      <td>5</td>\n",
              "      <td>10</td>\n",
              "      <td>15</td>\n",
              "      <td>20</td>\n",
              "      <td>25</td>\n",
              "      <td>30</td>\n",
              "      <td>35</td>\n",
              "      <td>40</td>\n",
              "      <td>45</td>\n",
              "    </tr>\n",
              "    <tr>\n",
              "      <th>six</th>\n",
              "      <td>6</td>\n",
              "      <td>12</td>\n",
              "      <td>18</td>\n",
              "      <td>24</td>\n",
              "      <td>30</td>\n",
              "      <td>36</td>\n",
              "      <td>42</td>\n",
              "      <td>48</td>\n",
              "      <td>54</td>\n",
              "    </tr>\n",
              "    <tr>\n",
              "      <th>seven</th>\n",
              "      <td>7</td>\n",
              "      <td>14</td>\n",
              "      <td>21</td>\n",
              "      <td>28</td>\n",
              "      <td>35</td>\n",
              "      <td>42</td>\n",
              "      <td>49</td>\n",
              "      <td>56</td>\n",
              "      <td>63</td>\n",
              "    </tr>\n",
              "    <tr>\n",
              "      <th>eight</th>\n",
              "      <td>8</td>\n",
              "      <td>16</td>\n",
              "      <td>24</td>\n",
              "      <td>32</td>\n",
              "      <td>40</td>\n",
              "      <td>48</td>\n",
              "      <td>56</td>\n",
              "      <td>64</td>\n",
              "      <td>72</td>\n",
              "    </tr>\n",
              "    <tr>\n",
              "      <th>nine</th>\n",
              "      <td>9</td>\n",
              "      <td>18</td>\n",
              "      <td>27</td>\n",
              "      <td>36</td>\n",
              "      <td>45</td>\n",
              "      <td>54</td>\n",
              "      <td>63</td>\n",
              "      <td>72</td>\n",
              "      <td>81</td>\n",
              "    </tr>\n",
              "  </tbody>\n",
              "</table>\n",
              "</div>\n",
              "      <button class=\"colab-df-convert\" onclick=\"convertToInteractive('df-92560952-7054-4acf-a981-a118912c60a0')\"\n",
              "              title=\"Convert this dataframe to an interactive table.\"\n",
              "              style=\"display:none;\">\n",
              "        \n",
              "  <svg xmlns=\"http://www.w3.org/2000/svg\" height=\"24px\"viewBox=\"0 0 24 24\"\n",
              "       width=\"24px\">\n",
              "    <path d=\"M0 0h24v24H0V0z\" fill=\"none\"/>\n",
              "    <path d=\"M18.56 5.44l.94 2.06.94-2.06 2.06-.94-2.06-.94-.94-2.06-.94 2.06-2.06.94zm-11 1L8.5 8.5l.94-2.06 2.06-.94-2.06-.94L8.5 2.5l-.94 2.06-2.06.94zm10 10l.94 2.06.94-2.06 2.06-.94-2.06-.94-.94-2.06-.94 2.06-2.06.94z\"/><path d=\"M17.41 7.96l-1.37-1.37c-.4-.4-.92-.59-1.43-.59-.52 0-1.04.2-1.43.59L10.3 9.45l-7.72 7.72c-.78.78-.78 2.05 0 2.83L4 21.41c.39.39.9.59 1.41.59.51 0 1.02-.2 1.41-.59l7.78-7.78 2.81-2.81c.8-.78.8-2.07 0-2.86zM5.41 20L4 18.59l7.72-7.72 1.47 1.35L5.41 20z\"/>\n",
              "  </svg>\n",
              "      </button>\n",
              "      \n",
              "  <style>\n",
              "    .colab-df-container {\n",
              "      display:flex;\n",
              "      flex-wrap:wrap;\n",
              "      gap: 12px;\n",
              "    }\n",
              "\n",
              "    .colab-df-convert {\n",
              "      background-color: #E8F0FE;\n",
              "      border: none;\n",
              "      border-radius: 50%;\n",
              "      cursor: pointer;\n",
              "      display: none;\n",
              "      fill: #1967D2;\n",
              "      height: 32px;\n",
              "      padding: 0 0 0 0;\n",
              "      width: 32px;\n",
              "    }\n",
              "\n",
              "    .colab-df-convert:hover {\n",
              "      background-color: #E2EBFA;\n",
              "      box-shadow: 0px 1px 2px rgba(60, 64, 67, 0.3), 0px 1px 3px 1px rgba(60, 64, 67, 0.15);\n",
              "      fill: #174EA6;\n",
              "    }\n",
              "\n",
              "    [theme=dark] .colab-df-convert {\n",
              "      background-color: #3B4455;\n",
              "      fill: #D2E3FC;\n",
              "    }\n",
              "\n",
              "    [theme=dark] .colab-df-convert:hover {\n",
              "      background-color: #434B5C;\n",
              "      box-shadow: 0px 1px 3px 1px rgba(0, 0, 0, 0.15);\n",
              "      filter: drop-shadow(0px 1px 2px rgba(0, 0, 0, 0.3));\n",
              "      fill: #FFFFFF;\n",
              "    }\n",
              "  </style>\n",
              "\n",
              "      <script>\n",
              "        const buttonEl =\n",
              "          document.querySelector('#df-92560952-7054-4acf-a981-a118912c60a0 button.colab-df-convert');\n",
              "        buttonEl.style.display =\n",
              "          google.colab.kernel.accessAllowed ? 'block' : 'none';\n",
              "\n",
              "        async function convertToInteractive(key) {\n",
              "          const element = document.querySelector('#df-92560952-7054-4acf-a981-a118912c60a0');\n",
              "          const dataTable =\n",
              "            await google.colab.kernel.invokeFunction('convertToInteractive',\n",
              "                                                     [key], {});\n",
              "          if (!dataTable) return;\n",
              "\n",
              "          const docLinkHtml = 'Like what you see? Visit the ' +\n",
              "            '<a target=\"_blank\" href=https://colab.research.google.com/notebooks/data_table.ipynb>data table notebook</a>'\n",
              "            + ' to learn more about interactive tables.';\n",
              "          element.innerHTML = '';\n",
              "          dataTable['output_type'] = 'display_data';\n",
              "          await google.colab.output.renderOutput(dataTable, element);\n",
              "          const docLink = document.createElement('div');\n",
              "          docLink.innerHTML = docLinkHtml;\n",
              "          element.appendChild(docLink);\n",
              "        }\n",
              "      </script>\n",
              "    </div>\n",
              "  </div>\n",
              "  "
            ]
          },
          "metadata": {},
          "execution_count": 8
        }
      ]
    },
    {
      "cell_type": "code",
      "source": [
        "#with multi list\n",
        "#index and columns are deleted\n",
        "\n",
        "from pandas import DataFrame\n",
        "\n",
        "multi_list = [\n",
        " [ 1,  2,  3,  4,  5,  6,  7,  8,  9],\n",
        " [ 2,  4,  6,  8, 10, 12, 14, 16, 18],\n",
        " [ 3,  6,  9, 12, 15, 18, 21, 24, 27],\n",
        " [ 4,  8, 12, 16, 20, 24, 28, 32, 36],\n",
        " [ 5, 10, 15, 20, 25, 30, 35, 40, 45],\n",
        " [ 6, 12, 18, 24, 30, 36, 42, 48, 54],\n",
        " [ 7, 14, 21, 28, 35, 42, 49, 56, 63],\n",
        " [ 8, 16, 24, 32, 40, 48, 56, 64, 72],\n",
        " [ 9, 18, 27, 36, 45, 54, 63, 72, 81]\n",
        "]\n",
        "\n",
        "multi_table = DataFrame(multi_list)\n",
        "\n",
        "multi_table.index = [\"\",\"\",\"\",\"\",\"\",\"\",\"\",\"\",\"\"]\n",
        "multi_table.columns = [\"\",\"\",\"\",\"\",\"\",\"\",\"\",\"\",\"\"]\n",
        "\n",
        "print(' \"Multiplication Table\" ')\n",
        "\n",
        "multi_table  \n"
      ],
      "metadata": {
        "colab": {
          "base_uri": "https://localhost:8080/",
          "height": 332
        },
        "outputId": "6887cc24-de43-4142-9e52-cb87a5c60767",
        "id": "UE-Xw-BUdjhk",
        "collapsed": true
      },
      "execution_count": null,
      "outputs": [
        {
          "output_type": "stream",
          "name": "stdout",
          "text": [
            " \"Multiplication Table\" \n"
          ]
        },
        {
          "output_type": "execute_result",
          "data": {
            "text/plain": [
              "                                   \n",
              "  1   2   3   4   5   6   7   8   9\n",
              "  2   4   6   8  10  12  14  16  18\n",
              "  3   6   9  12  15  18  21  24  27\n",
              "  4   8  12  16  20  24  28  32  36\n",
              "  5  10  15  20  25  30  35  40  45\n",
              "  6  12  18  24  30  36  42  48  54\n",
              "  7  14  21  28  35  42  49  56  63\n",
              "  8  16  24  32  40  48  56  64  72\n",
              "  9  18  27  36  45  54  63  72  81"
            ],
            "text/html": [
              "\n",
              "  <div id=\"df-8f4da94b-ce2c-4d20-91ad-4ca0b85e92fe\">\n",
              "    <div class=\"colab-df-container\">\n",
              "      <div>\n",
              "<style scoped>\n",
              "    .dataframe tbody tr th:only-of-type {\n",
              "        vertical-align: middle;\n",
              "    }\n",
              "\n",
              "    .dataframe tbody tr th {\n",
              "        vertical-align: top;\n",
              "    }\n",
              "\n",
              "    .dataframe thead th {\n",
              "        text-align: right;\n",
              "    }\n",
              "</style>\n",
              "<table border=\"1\" class=\"dataframe\">\n",
              "  <thead>\n",
              "    <tr style=\"text-align: right;\">\n",
              "      <th></th>\n",
              "      <th></th>\n",
              "      <th></th>\n",
              "      <th></th>\n",
              "      <th></th>\n",
              "      <th></th>\n",
              "      <th></th>\n",
              "      <th></th>\n",
              "      <th></th>\n",
              "      <th></th>\n",
              "    </tr>\n",
              "  </thead>\n",
              "  <tbody>\n",
              "    <tr>\n",
              "      <th></th>\n",
              "      <td>1</td>\n",
              "      <td>2</td>\n",
              "      <td>3</td>\n",
              "      <td>4</td>\n",
              "      <td>5</td>\n",
              "      <td>6</td>\n",
              "      <td>7</td>\n",
              "      <td>8</td>\n",
              "      <td>9</td>\n",
              "    </tr>\n",
              "    <tr>\n",
              "      <th></th>\n",
              "      <td>2</td>\n",
              "      <td>4</td>\n",
              "      <td>6</td>\n",
              "      <td>8</td>\n",
              "      <td>10</td>\n",
              "      <td>12</td>\n",
              "      <td>14</td>\n",
              "      <td>16</td>\n",
              "      <td>18</td>\n",
              "    </tr>\n",
              "    <tr>\n",
              "      <th></th>\n",
              "      <td>3</td>\n",
              "      <td>6</td>\n",
              "      <td>9</td>\n",
              "      <td>12</td>\n",
              "      <td>15</td>\n",
              "      <td>18</td>\n",
              "      <td>21</td>\n",
              "      <td>24</td>\n",
              "      <td>27</td>\n",
              "    </tr>\n",
              "    <tr>\n",
              "      <th></th>\n",
              "      <td>4</td>\n",
              "      <td>8</td>\n",
              "      <td>12</td>\n",
              "      <td>16</td>\n",
              "      <td>20</td>\n",
              "      <td>24</td>\n",
              "      <td>28</td>\n",
              "      <td>32</td>\n",
              "      <td>36</td>\n",
              "    </tr>\n",
              "    <tr>\n",
              "      <th></th>\n",
              "      <td>5</td>\n",
              "      <td>10</td>\n",
              "      <td>15</td>\n",
              "      <td>20</td>\n",
              "      <td>25</td>\n",
              "      <td>30</td>\n",
              "      <td>35</td>\n",
              "      <td>40</td>\n",
              "      <td>45</td>\n",
              "    </tr>\n",
              "    <tr>\n",
              "      <th></th>\n",
              "      <td>6</td>\n",
              "      <td>12</td>\n",
              "      <td>18</td>\n",
              "      <td>24</td>\n",
              "      <td>30</td>\n",
              "      <td>36</td>\n",
              "      <td>42</td>\n",
              "      <td>48</td>\n",
              "      <td>54</td>\n",
              "    </tr>\n",
              "    <tr>\n",
              "      <th></th>\n",
              "      <td>7</td>\n",
              "      <td>14</td>\n",
              "      <td>21</td>\n",
              "      <td>28</td>\n",
              "      <td>35</td>\n",
              "      <td>42</td>\n",
              "      <td>49</td>\n",
              "      <td>56</td>\n",
              "      <td>63</td>\n",
              "    </tr>\n",
              "    <tr>\n",
              "      <th></th>\n",
              "      <td>8</td>\n",
              "      <td>16</td>\n",
              "      <td>24</td>\n",
              "      <td>32</td>\n",
              "      <td>40</td>\n",
              "      <td>48</td>\n",
              "      <td>56</td>\n",
              "      <td>64</td>\n",
              "      <td>72</td>\n",
              "    </tr>\n",
              "    <tr>\n",
              "      <th></th>\n",
              "      <td>9</td>\n",
              "      <td>18</td>\n",
              "      <td>27</td>\n",
              "      <td>36</td>\n",
              "      <td>45</td>\n",
              "      <td>54</td>\n",
              "      <td>63</td>\n",
              "      <td>72</td>\n",
              "      <td>81</td>\n",
              "    </tr>\n",
              "  </tbody>\n",
              "</table>\n",
              "</div>\n",
              "      <button class=\"colab-df-convert\" onclick=\"convertToInteractive('df-8f4da94b-ce2c-4d20-91ad-4ca0b85e92fe')\"\n",
              "              title=\"Convert this dataframe to an interactive table.\"\n",
              "              style=\"display:none;\">\n",
              "        \n",
              "  <svg xmlns=\"http://www.w3.org/2000/svg\" height=\"24px\"viewBox=\"0 0 24 24\"\n",
              "       width=\"24px\">\n",
              "    <path d=\"M0 0h24v24H0V0z\" fill=\"none\"/>\n",
              "    <path d=\"M18.56 5.44l.94 2.06.94-2.06 2.06-.94-2.06-.94-.94-2.06-.94 2.06-2.06.94zm-11 1L8.5 8.5l.94-2.06 2.06-.94-2.06-.94L8.5 2.5l-.94 2.06-2.06.94zm10 10l.94 2.06.94-2.06 2.06-.94-2.06-.94-.94-2.06-.94 2.06-2.06.94z\"/><path d=\"M17.41 7.96l-1.37-1.37c-.4-.4-.92-.59-1.43-.59-.52 0-1.04.2-1.43.59L10.3 9.45l-7.72 7.72c-.78.78-.78 2.05 0 2.83L4 21.41c.39.39.9.59 1.41.59.51 0 1.02-.2 1.41-.59l7.78-7.78 2.81-2.81c.8-.78.8-2.07 0-2.86zM5.41 20L4 18.59l7.72-7.72 1.47 1.35L5.41 20z\"/>\n",
              "  </svg>\n",
              "      </button>\n",
              "      \n",
              "  <style>\n",
              "    .colab-df-container {\n",
              "      display:flex;\n",
              "      flex-wrap:wrap;\n",
              "      gap: 12px;\n",
              "    }\n",
              "\n",
              "    .colab-df-convert {\n",
              "      background-color: #E8F0FE;\n",
              "      border: none;\n",
              "      border-radius: 50%;\n",
              "      cursor: pointer;\n",
              "      display: none;\n",
              "      fill: #1967D2;\n",
              "      height: 32px;\n",
              "      padding: 0 0 0 0;\n",
              "      width: 32px;\n",
              "    }\n",
              "\n",
              "    .colab-df-convert:hover {\n",
              "      background-color: #E2EBFA;\n",
              "      box-shadow: 0px 1px 2px rgba(60, 64, 67, 0.3), 0px 1px 3px 1px rgba(60, 64, 67, 0.15);\n",
              "      fill: #174EA6;\n",
              "    }\n",
              "\n",
              "    [theme=dark] .colab-df-convert {\n",
              "      background-color: #3B4455;\n",
              "      fill: #D2E3FC;\n",
              "    }\n",
              "\n",
              "    [theme=dark] .colab-df-convert:hover {\n",
              "      background-color: #434B5C;\n",
              "      box-shadow: 0px 1px 3px 1px rgba(0, 0, 0, 0.15);\n",
              "      filter: drop-shadow(0px 1px 2px rgba(0, 0, 0, 0.3));\n",
              "      fill: #FFFFFF;\n",
              "    }\n",
              "  </style>\n",
              "\n",
              "      <script>\n",
              "        const buttonEl =\n",
              "          document.querySelector('#df-8f4da94b-ce2c-4d20-91ad-4ca0b85e92fe button.colab-df-convert');\n",
              "        buttonEl.style.display =\n",
              "          google.colab.kernel.accessAllowed ? 'block' : 'none';\n",
              "\n",
              "        async function convertToInteractive(key) {\n",
              "          const element = document.querySelector('#df-8f4da94b-ce2c-4d20-91ad-4ca0b85e92fe');\n",
              "          const dataTable =\n",
              "            await google.colab.kernel.invokeFunction('convertToInteractive',\n",
              "                                                     [key], {});\n",
              "          if (!dataTable) return;\n",
              "\n",
              "          const docLinkHtml = 'Like what you see? Visit the ' +\n",
              "            '<a target=\"_blank\" href=https://colab.research.google.com/notebooks/data_table.ipynb>data table notebook</a>'\n",
              "            + ' to learn more about interactive tables.';\n",
              "          element.innerHTML = '';\n",
              "          dataTable['output_type'] = 'display_data';\n",
              "          await google.colab.output.renderOutput(dataTable, element);\n",
              "          const docLink = document.createElement('div');\n",
              "          docLink.innerHTML = docLinkHtml;\n",
              "          element.appendChild(docLink);\n",
              "        }\n",
              "      </script>\n",
              "    </div>\n",
              "  </div>\n",
              "  "
            ]
          },
          "metadata": {},
          "execution_count": 9
        }
      ]
    },
    {
      "cell_type": "code",
      "source": [
        ""
      ],
      "metadata": {
        "id": "v0oagHVbDfJl"
      },
      "execution_count": null,
      "outputs": []
    },
    {
      "cell_type": "markdown",
      "metadata": {
        "id": "fEnth7n4J6Us"
      },
      "source": [
        "---\n",
        "\n",
        "What is the number of X in the formula below?\n",
        "\n",
        "\\\n",
        "\n",
        "\n",
        "\n",
        "$\\dfrac{X}{4}－\\dfrac{X}{7}＝3$\n"
      ]
    },
    {
      "cell_type": "markdown",
      "source": [
        "\n",
        "[ Arithmetic solution ]\n",
        "\n",
        "\n",
        "\n",
        "The formula in question is converted to $ \\left (\\dfrac {1} {4} － \\dfrac {1} {7} \\right) $\\times$ X = 3 $ \n",
        "\n",
        "based on the opposite idea of the distributive law.\n",
        "\n",
        "\n",
        "\\\n",
        "Calculate inside parentheses and $ \\dfrac {3} {28} $\\times$ X ＝ 3 $\n",
        "\n",
        "\\\n",
        "Accordingly X ＝ 28 ・ ・ ・ (answer)\n",
        "\n"
      ],
      "metadata": {
        "id": "Mc-GsWlyajy9"
      }
    },
    {
      "cell_type": "markdown",
      "source": [
        "\n",
        "[ Python ]\n",
        "\n",
        "\n",
        "\n",
        "It's easy to solve with math, but as a practice of Python, \n",
        "\n",
        "\n",
        "\\\n",
        "Considering the formula of the distributive law, enter the numbers in order from 1 in `X` and calculate\n",
        "\n",
        "\n",
        "`\n",
        "If `X` is found, break the for loop with `break` and display `X`\n",
        "\n",
        "\n",
        "    from fractions import Fraction\n",
        "\n",
        "    for X in range(1,100):\n",
        "      if (Fraction(1,4) - Fraction(1,7)) * X == 3 :\n",
        "        break\n",
        "\n",
        "    print(X) \n",
        "\n",
        "\n"
      ],
      "metadata": {
        "id": "YWJKouSBhQQu"
      }
    },
    {
      "cell_type": "code",
      "source": [
        ""
      ],
      "metadata": {
        "id": "JDDzJmF_yOAP"
      },
      "execution_count": null,
      "outputs": []
    },
    {
      "cell_type": "markdown",
      "source": [
        "###Divisors\n"
      ],
      "metadata": {
        "id": "IxOK7JFotL3e"
      }
    },
    {
      "cell_type": "markdown",
      "source": [
        "---\n",
        "Q?\n",
        "\n",
        "Find all divisors of 36.\n",
        "\n",
        "\n",
        "\n",
        "ーーーーーーーーーーーーーーーーーーーーーーーーーーーーーーーーーーーーーーーーー\n",
        "\n",
        "Just for your info.\n",
        "\n",
        "The greatest common divisor is abbreviated as `GCD`\n",
        "\n"
      ],
      "metadata": {
        "id": "YrtFv_S2jkiC"
      }
    },
    {
      "cell_type": "markdown",
      "source": [
        "ーーーーーーーーーーーーーーーーーーーーーーーーーーーーーーーーーーーーーーー\n",
        "\n",
        "\n",
        "Divisors of 36 are equal or less than 36.\n",
        "\n",
        "\\\n",
        "As an image of the program\n",
        "\n",
        "\n",
        "\"Divide 36 by the number from 1 to 36 in order and if it is divisible \n",
        "\n",
        "means if the remainder is 0, print that number.\"\n",
        "\n",
        "\n",
        "\n",
        "\\\n",
        "\n",
        "Paying attention to the indentation and make it a code\n",
        "\n",
        "```\n",
        "for d in range(1, 37):\n",
        "if 36 % d == 0:\n",
        "  print(d, end=\" \")\n",
        "```\n",
        "\n",
        "`end =\" \"` is used for not breaking a line\n",
        "\n",
        "\\"
      ],
      "metadata": {
        "id": "gwdozV4clcKU"
      }
    },
    {
      "cell_type": "code",
      "source": [
        ""
      ],
      "metadata": {
        "id": "ckYKZAp5MoZa"
      },
      "execution_count": null,
      "outputs": []
    },
    {
      "cell_type": "markdown",
      "metadata": {
        "id": "T5UzTCO974yM"
      },
      "source": [
        "\n",
        "If you want to print divisors of 36 in a list, first create an empty list to put the divisors.\n",
        "\n",
        "\n",
        "\\\n",
        "If you find a divisor, add it to the list with `.append ()`\n",
        "\n",
        "\n",
        "The last code `print()` is out of indent.\n",
        "\n",
        "```\n",
        "d_list = []\n",
        "\n",
        "for d in range(1, 37):\n",
        "  if 36 % d == 0:\n",
        "    d_list.append(d)\n",
        "\n",
        "print(d_list)\n",
        "```\n"
      ]
    },
    {
      "cell_type": "code",
      "source": [
        ""
      ],
      "metadata": {
        "id": "BHxgdrXGQ0bM"
      },
      "execution_count": null,
      "outputs": []
    },
    {
      "cell_type": "markdown",
      "source": [
        "ーーーーーーーーーーーーーーーーーーーーーーーーーーーーーーーーーーーーーーー\n",
        "\n",
        "\n",
        "Rewriting the code with the `list comprehension`we did earlier\n",
        "\n"
      ],
      "metadata": {
        "id": "Z5yh012JLeM-"
      }
    },
    {
      "cell_type": "code",
      "source": [
        ""
      ],
      "metadata": {
        "id": "SyQAJH4QQo92"
      },
      "execution_count": null,
      "outputs": []
    },
    {
      "cell_type": "code",
      "source": [
        "#List comprehension\n",
        "\n",
        "\n",
        "list1 = [d for d in range(1, 37) if 36 % d == 0]\n",
        "print(list1, end=\" \")"
      ],
      "metadata": {
        "colab": {
          "base_uri": "https://localhost:8080/"
        },
        "id": "ifMA7GQQLcu6",
        "outputId": "1f084bcf-b240-40d2-c7aa-6e71bb3794a0",
        "collapsed": true
      },
      "execution_count": null,
      "outputs": [
        {
          "output_type": "stream",
          "name": "stdout",
          "text": [
            "[1, 2, 3, 4, 6, 9, 12, 18, 36] "
          ]
        }
      ]
    },
    {
      "cell_type": "markdown",
      "source": [
        "ーーーーーーーーーーーーーーーーーーーーーーーーーーーーーーーーーーーーーーー\n",
        "\n",
        "\n",
        "If the divisors are output in descending order, the `while statement` may be easier to do.\n",
        "\n",
        "\n",
        "\\\n",
        "It is the same even if you list it with `for statement` and sort it with` sorted`.\n",
        "\n"
      ],
      "metadata": {
        "id": "urkQCWtjPiI3"
      }
    },
    {
      "cell_type": "code",
      "source": [
        ""
      ],
      "metadata": {
        "id": "luXN8EPaRwcx"
      },
      "execution_count": null,
      "outputs": []
    },
    {
      "cell_type": "code",
      "source": [
        "#using while\n",
        "\n",
        "n = 30\n",
        "x = n\n",
        "\n",
        "while n > 0:\n",
        "    if x % n ==0:\n",
        "      print(n, end=' ')\n",
        "    n -= 1\n"
      ],
      "metadata": {
        "colab": {
          "base_uri": "https://localhost:8080/"
        },
        "id": "7yi0uvr_Lw4x",
        "outputId": "300d2365-cd38-428f-b331-df75dc59725a",
        "collapsed": true
      },
      "execution_count": null,
      "outputs": [
        {
          "output_type": "stream",
          "name": "stdout",
          "text": [
            "30 15 10 6 5 3 2 1 "
          ]
        }
      ]
    },
    {
      "cell_type": "markdown",
      "source": [
        "ーーーーーーーーーーーーーーーーーーーーーーーーーーーーーーーーーーーーーーー\n",
        "\n",
        "If 36 is assigned to a variable, it will be a code to find divisors of \n",
        "\n",
        "various numbers just by changing 36.\n",
        "\n"
      ],
      "metadata": {
        "id": "fpeo3g4DMpnm"
      }
    },
    {
      "cell_type": "code",
      "source": [
        ""
      ],
      "metadata": {
        "id": "t8stztsyRx8Y"
      },
      "execution_count": null,
      "outputs": []
    },
    {
      "cell_type": "code",
      "metadata": {
        "colab": {
          "base_uri": "https://localhost:8080/"
        },
        "outputId": "ab30606f-3352-465f-9899-31bb24aeaa53",
        "id": "5MQIo9gJ74yM",
        "collapsed": true
      },
      "source": [
        "#sample\n",
        "\n",
        "num = 128\n",
        "for d in range(1, num+1):\n",
        "    if num % d == 0:\n",
        "        print(d, end=\" \")\n"
      ],
      "execution_count": null,
      "outputs": [
        {
          "output_type": "stream",
          "name": "stdout",
          "text": [
            "1 2 4 8 16 32 64 128 "
          ]
        }
      ]
    },
    {
      "cell_type": "markdown",
      "source": [
        "---\n",
        "Q?\n",
        "\n",
        "\n",
        "What is the function to find the divisor?\n",
        "\n"
      ],
      "metadata": {
        "id": "Zug2xM_sK_IL"
      }
    },
    {
      "cell_type": "markdown",
      "source": [
        "ーーーーーーーーーーーーーーーーーーーーーーーーーーーーーーーーーーーーーーー\n",
        "\n",
        "\n",
        "The work of creating a list of divisors and the work of putting 36 in the variable `num` will be helpful.\n",
        "\n",
        "\n",
        "\n",
        "\\\n",
        "\n",
        "Define the function as `divisors` and the argument as` num`.\n",
        "\n",
        "\n",
        "\n",
        "\\\n",
        "\n",
        "After that, put the code that make the list of divisors into the contents of the function,\n",
        "\n",
        "code `retrun` that returns the created divisor list` d_list`\n",
        "\n",
        "\n",
        "\n",
        "\\\n",
        "\n",
        "To `call a function`, put an argument in the function name and run it ▶\n",
        "\n"
      ],
      "metadata": {
        "id": "OeO0BmBHRzfc"
      }
    },
    {
      "cell_type": "code",
      "source": [
        ""
      ],
      "metadata": {
        "id": "SgitfOfAeqNP"
      },
      "execution_count": null,
      "outputs": []
    },
    {
      "cell_type": "code",
      "source": [
        "#sample\n",
        "\n",
        "def divisors(num):\n",
        "    d_list = []\n",
        "    for i in range(1, num+1):\n",
        "        if num % i == 0:\n",
        "            d_list.append(i)\n",
        "    return d_list\n",
        "\n",
        "divisors(36)"
      ],
      "metadata": {
        "colab": {
          "base_uri": "https://localhost:8080/"
        },
        "id": "3fIKtzSvK5by",
        "outputId": "c44d144e-a9fd-4e06-8324-060725167794",
        "collapsed": true
      },
      "execution_count": null,
      "outputs": [
        {
          "output_type": "execute_result",
          "data": {
            "text/plain": [
              "[1, 2, 3, 4, 6, 9, 12, 18, 36]"
            ]
          },
          "metadata": {},
          "execution_count": 57
        }
      ]
    },
    {
      "cell_type": "markdown",
      "source": [
        "---\n",
        "Q?\n",
        "\n",
        "What is the program that output all divisors when a number is input?\n",
        "\n"
      ],
      "metadata": {
        "id": "dN0DzoRxoVtB"
      }
    },
    {
      "cell_type": "markdown",
      "source": [
        "ーーーーーーーーーーーーーーーーーーーーーーーーーーーーーーーーーーーーーーー\n",
        "\n",
        "\n",
        "Use `input ()` to get the number entered, and put the input number in a variable\n",
        "\n",
        "\n",
        "\\\n",
        "Use a list to display divisors all together\n",
        "\n",
        "```\n",
        "print ('Output all divisors')\n",
        "\n",
        "number = int (input ('Please enter an integer:'))\n",
        "\n",
        "d_list = []\n",
        "\n",
        "for d in range (1, number + 1): \n",
        "  if number % d == 0:\n",
        "    d_list.append(d)\n",
        "\n",
        "print (\" Divisors of \", number, \" are\", d_list)\n",
        "\n",
        "```\n"
      ],
      "metadata": {
        "id": "AHlHINJropFU"
      }
    },
    {
      "cell_type": "code",
      "source": [
        ""
      ],
      "metadata": {
        "id": "THpRznfe7NXF"
      },
      "execution_count": null,
      "outputs": []
    },
    {
      "cell_type": "markdown",
      "metadata": {
        "id": "Mcd12ZxsjwBx"
      },
      "source": [
        "---\n",
        "Q?\n",
        "\n",
        "What is the 50th number from the smallest of the three-digit integers \n",
        "\n",
        "when they are divided by 7, remainder is 3?\n",
        "\n"
      ]
    },
    {
      "cell_type": "markdown",
      "source": [
        "ーーーーーーーーーーーーーーーーーーーーーーーーーーーーーーーーーーーーーーーーー\n",
        "\n",
        "\n",
        "Create a `count` variable that counts the number of integers and set the applicable number to variable ` x`, and check from 100 to 999.\n",
        "\n",
        "\n",
        "\n",
        "\\\n",
        "\n",
        "If the remainder becomes 3 when divided by 7, count the number of integer.\n",
        "\n",
        "\\\n",
        "If ​​the count reaches 50, the `for loop` is interrupted.\n",
        "\n",
        "\\\n",
        "Twice of case classification → twice of `if loop`\n",
        "\n",
        "\n",
        "\\\n",
        "If the loop is interrupted by `break`, output with` print`\n",
        "\n",
        "\\\n",
        "```\n",
        "count = 0\n",
        "\n",
        "for x in range(100, 1000):\n",
        "  if x % 7 == 3:\n",
        "    count += 1\n",
        "    if count == 50:\n",
        "      break\n",
        "\n",
        "print(x)\n",
        "```\n",
        "\n",
        "The answer is 444.\n",
        "\n",
        "\\\n",
        "\n",
        "\n"
      ],
      "metadata": {
        "id": "oX3AHxu74It-"
      }
    },
    {
      "cell_type": "code",
      "source": [
        ""
      ],
      "metadata": {
        "id": "4NNd2DJya1YG"
      },
      "execution_count": null,
      "outputs": []
    },
    {
      "cell_type": "markdown",
      "metadata": {
        "id": "F-hiqL4RlACB"
      },
      "source": [
        "---\n",
        "Q?\n",
        "\n",
        "\n",
        "Which integer is the closest to 2017 among the integers if it is added 6, \n",
        "\n",
        "it is to be a multiple of 11 and added 11 it is to be a multiple of 6?\n",
        "\n"
      ]
    },
    {
      "cell_type": "markdown",
      "source": [
        "ーーーーーーーーーーーーーーーーーーーーーーーーーーーーーーーーーーーーーーーーー\n",
        "\n",
        "\n",
        "[ Arithmetic solution ]\n",
        "\n",
        "\n",
        "\n",
        "\"Adding 6 gives a multiple of 11, and adding 11 gives a multiple of 6\" means\n",
        "\n",
        "if you add 6 + 11 = 17 to that number, you get a common multiple of 6 and 11.\n",
        "\n",
        "\n",
        "\n",
        "\\\n",
        "\n",
        "The smallest such number is 17 less than the least common multiple of 6 and 11 = 66 minus 17 and 66 - 17 = 49.\n",
        "\n",
        "\n",
        "\\\n",
        "The next applicable number is 66 x 2 - 17 = 115, the third is 66 x 3 - 17 = 181.\n",
        "\n",
        "\n",
        "\n",
        "\\\n",
        "\n",
        "For numbers close to 2017, make a guess based on the calculation of \n",
        "\n",
        "(2017 - 17) $\\div$ 66 = 30… 20.\n",
        "\n",
        "\n",
        "\\\n",
        "66 $\\times$ 30-17 = 1963\n",
        "\n",
        "\n",
        "\\\n",
        "66 $\\times$ 31-17 = 2029 ・ ・ ・ (Answer) This is closer to 2017\n",
        "\n",
        "\n",
        "\n"
      ],
      "metadata": {
        "id": "QFJxwgX37F3R"
      }
    },
    {
      "cell_type": "markdown",
      "source": [
        "### abs"
      ],
      "metadata": {
        "id": "7svI0sInD4tf"
      }
    },
    {
      "cell_type": "markdown",
      "source": [
        "ーーーーーーーーーーーーーーーーーーーーーーーーーーーーーーーーーーーーーーー\n",
        "\n",
        "\n",
        "\"The integer closest to 2017\" means \"the difference from 2017 is the smallest\",\n",
        "\n",
        "\n",
        "\n",
        "the number may be smaller or larger than 2017.\n",
        "\n",
        "\n",
        "\n",
        "\\\n",
        "\n",
        "In this case, use the `abs ()` function, which is a built-in function to find the difference from 2017.\n",
        "\n",
        "\n",
        "\\\n",
        "Check the description of the built-in function later\n",
        "\n",
        "\n",
        "\n",
        "\\\n",
        "\n",
        "The distance between a number and the origin `O` on the number line is called \n",
        "\n",
        "the `absolute value`, and the` abs() `function display `absolute value` in parentheses.\n",
        "\n",
        "\\\n",
        "\n",
        "As it's hard to understand in words, in terms of formula, it's as follows.\n",
        "\n",
        "\n",
        "\\\n",
        "Absolute values ​​are represented by the `| |` symbol.\n",
        "\n",
        "\n",
        "\\\n",
        "`| + 7 | = 7`\n",
        "\n",
        "\n",
        "\n",
        "`| -15 | = 15`\n",
        "\n",
        "\n",
        "\n",
        "`| 24 - 87 | = 63`\n",
        "\n",
        "\n",
        "\n",
        "\n",
        "\\\n",
        "\n",
        "Expressing the aboves with the `abs ()` function, (`=` here is equal sign)\n",
        "\n",
        "\n",
        "\\\n",
        "`abs(+7) = 7`\n",
        "\n",
        "\n",
        "\n",
        "`abs(-15) = 15`\n",
        "\n",
        "\n",
        "\n",
        "`abs(24 - 87) = 63`\n",
        "\n",
        "\n",
        "\\\n",
        "In case of using variable, it is same. \n",
        "\n",
        "\n",
        "\n",
        "`x = - 9`\n",
        "\n",
        "\n",
        "\n",
        "`abs(x) = 9`\n",
        "\n",
        "\n",
        "\n",
        "\\\n",
        "\n",
        "It is a function that displays(`returns`) the absolute value of the number(`argument`) in `()`.\n",
        "\n",
        "\n",
        "\\\n",
        "Since it is a built-in function, it can be used without importing like `print ()` etc.\n",
        "\n",
        "\n"
      ],
      "metadata": {
        "id": "GMI5GTbi8KMA"
      }
    },
    {
      "cell_type": "markdown",
      "source": [
        "ーーーーーーーーーーーーーーーーーーーーーーーーーーーーーーーーーーーーーーー\n",
        "\n",
        "\n",
        "[ Python ]\n",
        "\n",
        "\n",
        "\n",
        "Find the number `x` that meets the conditions from 1500 to 2500\n",
        "\n",
        "\n",
        "\\\n",
        "It may be about 1900 to 2100\n",
        "\n",
        "\n",
        "\\\n",
        "The structure of `if stament` is \n",
        "\n",
        "\" if 6 is added, the number is to be a multiple of 11 which means \n",
        "\n",
        "the remainder is 0 when the number is divided by 11 \n",
        "\n",
        "and if  11 is added, the number is to be a multiple of 6 which means\n",
        "\n",
        "the remainder is 0 when the number is divided by 6 \"\n",
        "\n",
        "\n",
        "\n",
        "\n",
        "\\\n",
        "\n",
        "There will be many numbers that meet the conditions, so we have to compare them to the previous numbers in order to keep the numbers close to 2017.\n",
        "\n",
        "\n",
        "\\\n",
        "Therefore, at first set an appropriate number to `number` and use it for comparison with the number found first.\n",
        "\n",
        "\n",
        "\n",
        "\\\n",
        "\n",
        "As another condition of `if statement`, the number which has \"the smaller absolute value of the difference from 2017\" is left in `nmber`.\n",
        "\n",
        "\n",
        "\\\n",
        "\"Only when the three conditions of the if statement are Yes\", so connect them with `and`.\n",
        "\n",
        "\n",
        "\n",
        "\\\n",
        "\n",
        "When the `for loop` ends, print the number with `print()`\n",
        "\n",
        "```\n",
        "number = 1500\n",
        "\n",
        "for x  in range(1500, 2500):\n",
        "    if (x + 6) % 11 == 0 and (x + 11) % 6 == 0 and\n",
        "      abs(2017 - number) > abs(2017 - x):\n",
        "        number = x\n",
        "\n",
        "print(number)\n",
        "```\n",
        "\n",
        " "
      ],
      "metadata": {
        "id": "64eI0Gik7seu"
      }
    },
    {
      "cell_type": "code",
      "source": [
        ""
      ],
      "metadata": {
        "id": "x5hKDuwMAvVv"
      },
      "execution_count": null,
      "outputs": []
    },
    {
      "cell_type": "code",
      "metadata": {
        "id": "Kp_2QOdK8DQs",
        "colab": {
          "base_uri": "https://localhost:8080/"
        },
        "outputId": "6db0d12e-71f3-4000-f083-af403fd7d4c4",
        "collapsed": true
      },
      "source": [
        "#<Code sample>\n",
        "\n",
        "number = 1500\n",
        "\n",
        "for x in range(1500, 2500):\n",
        "  if (x + 6) % 11 == 0 and (x + 11) % 6 == 0 and abs(2017 - number) > abs(2017 - x):\n",
        "      number = x\n",
        "      print(number)          # If you put this code, you can see that the number in number changes\n",
        "\n",
        "print(number, \"・・・(Answer)\")\n",
        "    "
      ],
      "execution_count": null,
      "outputs": [
        {
          "output_type": "stream",
          "name": "stdout",
          "text": [
            "1501\n",
            "1567\n",
            "1633\n",
            "1699\n",
            "1765\n",
            "1831\n",
            "1897\n",
            "1963\n",
            "2029\n",
            "2029 ・・・(Answer)\n"
          ]
        }
      ]
    },
    {
      "cell_type": "markdown",
      "source": [
        "#Supplement"
      ],
      "metadata": {
        "id": "ExtAhDEO4bSf"
      }
    },
    {
      "cell_type": "markdown",
      "metadata": {
        "id": "_h1-p-lYPVTv"
      },
      "source": [
        "##Japanese Math for Kids\n",
        "\n",
        "* As a site with arithmetic problems in English, it is just for reference for those who are interested in.\n",
        "\n",
        "*   [Japanese Math for Kids](https://sites.google.com/site/japanesemathforkids2016/home)\n",
        "\n",
        "*   [Japanese Math for Kids2](https://sites.google.com/view/japanesemathforkidsv2/home)  \n",
        "\n",
        "\n"
      ]
    },
    {
      "cell_type": "markdown",
      "source": [
        "##Greek list \n",
        "lowercase\n",
        "\n",
        "|  |  |||||||\n",
        "|:------:|:------:|:------:|:------:|:------:|:------:|:------:|:------:|\n",
        "|alpha |$\\alpha$  ||iota|$\\iota$||rho|$\\rho$|\n",
        "| beta |$\\beta$  ||kappa|$\\kappa$||sigma|$\\sigma$|\n",
        "| gamma |$\\gamma$  ||lambda|$\\lambda$||tau|$\\tau$|\n",
        "| delta |$\\delta$  ||mu|$\\mu$||upsilon|$\\upsilon$|\n",
        "| epsilon |$\\epsilon$  ||nu|$\\nu$||phi|$\\phi$|\n",
        "| zeta |$\\zeta$  ||xi|$\\xi$||chi|$\\chi$|\n",
        "| eta |$\\eta$  ||omicron|o||psi|$\\psi$|\n",
        "| theta |$\\theta$  ||pi|$\\pi$||omega|$\\omega$|\n",
        "\n",
        "\\\n",
        "Uppercase\n",
        "\n",
        "|  |  |||||||\n",
        "|:------:|:------:|:------:|:------:|:------:|:------:|:------:|:------:|\n",
        "|alpha |A  ||iota|I||rho|P|\n",
        "| beta |B  ||kappa|K||sigma|$\\Sigma$|\n",
        "| gamma |$\\Gamma$  ||lambda|$\\Lambda$||tau|T|\n",
        "| delta |$\\Delta$  ||mu|M||upsilon|$\\Upsilon$|\n",
        "| epsilon |E  ||nu|N||phi|$\\Phi$|\n",
        "| zeta |Z  ||xi|$\\Xi$||chi|X|\n",
        "| eta |H  ||omicron|O||psi|$\\Psi$|\n",
        "| theta |$\\Theta$  ||pi|$\\Pi$||omega|$\\Omega$|"
      ],
      "metadata": {
        "id": "08w3gstBopKO"
      }
    },
    {
      "cell_type": "markdown",
      "source": [
        "##Blender(3D CG) with Python"
      ],
      "metadata": {
        "id": "vyYMuyoR-3xM"
      }
    },
    {
      "cell_type": "markdown",
      "source": [
        "What is `Blender`--> [Wikipedia](https://en.wikipedia.org/wiki/Blender_(software))\n",
        "\n",
        "Blender is a free and open-source 3D computer graphics software toolset \n",
        "\n",
        "used for creating animated films, visual effects, art, 3D-printed models, \n",
        "\n",
        "motion graphics, interactive 3D applications, virtual reality, and, formerly, \n",
        "\n",
        "video games.\n",
        "\n",
        "[Blender Home](https://www.blender.org/)\n",
        "\n"
      ],
      "metadata": {
        "id": "7igZdkFev_8s"
      }
    },
    {
      "cell_type": "markdown",
      "source": [
        "---\n",
        "As I just started playing with `Blender`,\n",
        "\n",
        "hopefully have a chance to show you `Blender with Python` \n",
        "\n",
        "in later Volume ( Vol.2 or Vol.3).\n",
        "\n",
        "As for Blender-rendering, Colab [blender-render](https://colab.research.google.com/github/ynshung/blender-colab/blob/master/blender_render.ipynb)"
      ],
      "metadata": {
        "id": "-uDf8djvx8Tm"
      }
    }
  ]
}
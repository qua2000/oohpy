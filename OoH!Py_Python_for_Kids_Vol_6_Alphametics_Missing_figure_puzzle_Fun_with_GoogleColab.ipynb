{
  "nbformat": 4,
  "nbformat_minor": 0,
  "metadata": {
    "colab": {
      "provenance": [],
      "collapsed_sections": [
        "59biC89Ra4Zj",
        "oj5hdPvtli7o",
        "IZvaNBZGB5eF",
        "bnqBi2sH-MMC",
        "PVU10HV0nExP",
        "wHxp9X3bTRk0",
        "S8UNmnW5A2RQ",
        "_-EwCNnl9j9n",
        "k3i0_l-YRXes",
        "zRRkvRhaZXfW",
        "DIFXUOmdqZIP",
        "4Le95gqZuFcn",
        "zpVx8u56qmY2",
        "DC9PcJT9ugpz",
        "oxpQMFJEu59n",
        "cyixIIXtvzeT",
        "HQja0NyJwcwv",
        "xfmqZiPRwxOu",
        "kEb5aGl5w_vE"
      ],
      "authorship_tag": "ABX9TyONy0I/eudzreHb0SZbiQgZ",
      "include_colab_link": true
    },
    "kernelspec": {
      "name": "python3",
      "display_name": "Python 3"
    },
    "language_info": {
      "name": "python"
    },
    "gpuClass": "standard"
  },
  "cells": [
    {
      "cell_type": "markdown",
      "metadata": {
        "id": "view-in-github",
        "colab_type": "text"
      },
      "source": [
        "<a href=\"https://colab.research.google.com/github/qua2000/oohpy/blob/main/OoH!Py_Python_for_Kids_Vol_6_Alphametics_Missing_figure_puzzle_Fun_with_GoogleColab.ipynb\" target=\"_parent\"><img src=\"https://colab.research.google.com/assets/colab-badge.svg\" alt=\"Open In Colab\"/></a>"
      ]
    },
    {
      "cell_type": "markdown",
      "source": [
        "# **Python for Kids Vol.6**\n",
        "# **Alphametic / Missing figure puzzle** \n",
        "# Fun with Google Colab"
      ],
      "metadata": {
        "id": "CYX_j4VMqaF2"
      }
    },
    {
      "cell_type": "markdown",
      "source": [
        "Colab is explained in Vol.1 --> [![Open In Colab](https://colab.research.google.com/assets/colab-badge.svg)](https://colab.research.google.com/drive/1YrP2S-kpEKzaham3d4s7mq0Rsf0qUP7h?usp=sharing)"
      ],
      "metadata": {
        "id": "ooK4q4QBwClf"
      }
    },
    {
      "cell_type": "markdown",
      "source": [
        "# ★ Rule of Alphametics"
      ],
      "metadata": {
        "id": "NwOLkNQVwPy0"
      }
    },
    {
      "cell_type": "markdown",
      "source": [
        "There are two fairly obvious rules which every alphametic obeys:\n",
        "\n",
        "1. The same letter always stands for the same digit, and the same digit is always represented by the same letter.\n",
        "\n",
        "2. The digit zero is not allowed to appear as the left-most digit in any of the addends or the sum."
      ],
      "metadata": {
        "id": "DrlmlbE--WfN"
      }
    },
    {
      "cell_type": "markdown",
      "source": [
        "# ★ How to solve Alphametics\n",
        "\n",
        "Take two steps for solution :\n",
        "\n",
        "\n",
        "1. Find a number that is obvious from the formula\n",
        "2. Represent the problem formula in code\n",
        "\n",
        "\n",
        "\n"
      ],
      "metadata": {
        "id": "dzu-tIAk66aJ"
      }
    },
    {
      "cell_type": "markdown",
      "source": [
        "# ★ AB + BC + CA = ABC\n",
        "\n",
        "|||||\n",
        "|:---:|:---:|:---:|:---:|\n",
        "|||A|B|\n",
        "|||B|C|\n",
        "|+ )||C|A|\n",
        "|&mdash;&mdash;|&mdash;&mdash;|&mdash;&mdash;|&mdash;&mdash;|\n",
        "||A|B|C|\n"
      ],
      "metadata": {
        "id": "lNG9EP3r1Fiw"
      }
    },
    {
      "cell_type": "markdown",
      "source": [
        "Techniques such as how to write code avoiding multiple loops (nesting) \n",
        "\n",
        "in for statements will be explained in later examples, \n",
        "\n",
        "but first, let's master the following basic concepts.\n",
        "\n",
        "1. Create all combinations of elements with `for statement`\n",
        "2. Find a combination that satisfies the conditions with `if statement`\n",
        "\n",
        "The first step is to think about whether there is a number \n",
        "\n",
        "that can be definitely applied to a particular character."
      ],
      "metadata": {
        "id": "zpsT3aBbwYzy"
      }
    },
    {
      "cell_type": "markdown",
      "source": [
        "As for for or if statement --> Vol.1  [![Open In Colab](https://colab.research.google.com/assets/colab-badge.svg)](https://colab.research.google.com/drive/1YrP2S-kpEKzaham3d4s7mq0Rsf0qUP7h?usp=sharing)"
      ],
      "metadata": {
        "id": "EyT9Llb0xQNw"
      }
    },
    {
      "cell_type": "markdown",
      "source": [
        "**< Sample of solution procedure >**\n",
        "\n",
        "Create a list list1 of candidate numbers that apply to A, B, and C.\n",
        "\n",
        "A, B, C are not 0, so 0 cannot be put in list1\n",
        "\n",
        "    list1 =  [1,2,3,4,5,6,7,8,9]\n",
        "\n",
        "Create a combination of [A, B, C] using a for statement to find A, B, C that meet the conditions\n",
        "\n",
        "    for A in list1:\n",
        "      for B in list1:\n",
        "        for C in list1:\n",
        "\n",
        "Create a condition with an if statement\\\n",
        "Condition 1: AB + BC + CA = ABC\\\n",
        "Condition 2: A, B, C are not the same number\n",
        "\n",
        "         if (10*A + B + 10*B + C + 10*C + A == 100*A + 10*B + C  \n",
        "            and A!=B and A!=C and B!=C ) :    \n",
        "\n",
        "If a set of A, B, C that satisfies the conditions is found, display it with the print() function\n",
        "\n",
        "            print(A,B, '+', B,C, '+', C,A, '=', A,B,C)"
      ],
      "metadata": {
        "id": "9vWkleP3xjAZ"
      }
    },
    {
      "cell_type": "code",
      "source": [
        "# Write your own code here\n"
      ],
      "metadata": {
        "id": "TjixVTNIKx2U"
      },
      "execution_count": null,
      "outputs": []
    },
    {
      "cell_type": "code",
      "metadata": {
        "id": "mEUyuki_bLlb"
      },
      "source": [
        "# Sample code\n",
        "# You can see that A = 1 because there is no 2 in addition, \n",
        "# but there are only 3 letters, so check them all.\n",
        "# A, B, C are not 0, so 0 cannot be put in list1\n",
        "# If the if statement is long, wrap all the conditions in ( ) and write the code in multiple steps\n",
        "\n",
        "list1 = [1,2,3,4,5,6,7,8,9]                               \n",
        "\n",
        "# Examine all combinations of A, B, and C\n",
        "for A in list1:\n",
        "  for B in list1:\n",
        "    for C in list1:\n",
        "      if (10*A + B + 10*B + C + 10*C + A == 100*A + 10*B + C   \n",
        "          and A!=B and A!=C and B!=C ) :                       \n",
        "          print(A,B, '+', B,C, '+', C,A, '=', A,B,C)\n",
        "                 \n",
        "  "
      ],
      "execution_count": null,
      "outputs": []
    },
    {
      "cell_type": "code",
      "source": [
        "# The above for statement and if statement can be written together with comprehension, \n",
        "# but it is difficult to understand\n",
        "\n",
        "list1 = [1,2,3,4,5,6,7,8,9] \n",
        "\n",
        "list2 = [[A, B, C] for A in list1 for B in list1 for C in list1 \n",
        "         if A!=B and B!=C and C!=A\n",
        "         and 10*A + B + 10*B + C + 10*C + A == 100*A + 10*B + C]\n",
        "\n",
        "print('A =', list2[0][0], ', B =', list2[0][1], ', C =', list2[0][2])\n"
      ],
      "metadata": {
        "id": "YEvsAFEvCgB_"
      },
      "execution_count": null,
      "outputs": []
    },
    {
      "cell_type": "markdown",
      "source": [
        "List comprehensions are also explained in Vol.1\n",
        "\n",
        "Vol.1  [![Open In Colab](https://colab.research.google.com/assets/colab-badge.svg)](https://colab.research.google.com/drive/1YrP2S-kpEKzaham3d4s7mq0Rsf0qUP7h?usp=sharing)"
      ],
      "metadata": {
        "id": "jG72Nb6u1kte"
      }
    },
    {
      "cell_type": "markdown",
      "source": [
        "Or [here](https://colab.research.google.com/github/Blackman9t/Effective_Python/blob/master/list_comprehensions_and_generators.ipynb) as you like"
      ],
      "metadata": {
        "id": "3qCqTIKo2QWl"
      }
    },
    {
      "cell_type": "markdown",
      "source": [
        "# ★ MAN + WOMAN = CHILD\n",
        "\n",
        "||||||||\n",
        "|:---:|:---:|:---:|:---:|:---:|:---:|:---:|\n",
        "||||M|A|N|\n",
        "|+ )|W|O|M|A|N|\n",
        "|&mdash;&mdash;|&mdash;&mdash;|&mdash;&mdash;|&mdash;&mdash;|&mdash;&mdash;|&mdash;&mdash;|\n",
        "||C|H|I|L|D|\n"
      ],
      "metadata": {
        "id": "59biC89Ra4Zj"
      }
    },
    {
      "cell_type": "markdown",
      "source": [
        "`permutations` below is a permutation function in the itertools module"
      ],
      "metadata": {
        "id": "SM1u3kbv2lCh"
      }
    },
    {
      "cell_type": "markdown",
      "source": [
        "About `itertools` module, ----> Vol.2   [![Open In Colab](https://colab.research.google.com/assets/colab-badge.svg)](https://colab.research.google.com/drive/1XHj0GIkct4zI5ni-oUK2aGt023gyuwVB?usp=sharing)"
      ],
      "metadata": {
        "id": "BZ9CyWOvH6Zd"
      }
    },
    {
      "cell_type": "markdown",
      "source": [
        "There are many possible program codes to solve this problem.\n",
        "\n",
        "The following code is an example.\n",
        "\n",
        "There are 3 answers for this question.\n",
        "\n",
        "    %%time  ← In Colab, if you write this at the beginning, you can see the processing time\n",
        "\n",
        "    from itertools import permutations\n",
        "\n",
        "    for A,C,D,H,I,L,M,N,O,W in permutations(range(10), 10):\n",
        "      s = [A,C,D,H,I,L,M,N,O,W]\n",
        "      if (\n",
        "         M*W*C != 0 and\n",
        "          len(set(s)) == len(s) and \n",
        "          100*M + 10*A + N + 10000*W + 1000*O + 100*M + 10*A + N \n",
        "          == 10000*C + 1000*H + 100*I + 10*L + D\n",
        "          ) : \n",
        "          print(M,A,N, '+', W,O,M,A,N, '=', C,H,I,L,D)\n",
        "    \n",
        "    ＜Output＞\n",
        "    8 5 6 + 3 9 8 5 6 = 4 0 7 1 2\n",
        "    5 8 6 + 3 9 5 8 6 = 4 0 1 7 2\n",
        "    7 8 1 + 3 9 7 8 1 = 4 0 5 6 2\n",
        "    CPU times: user 5.66 s, sys: 20.9 ms, total: 5.68 s\n",
        "    Wall time: 5.69 s\n",
        "\n",
        "\n",
        "The code above takes a long time (not so long though).\n",
        "\n",
        "The point of writing code for faster processing is \n",
        "\n",
        "to first find out how many numbers of a particular character \n",
        "\n",
        "you are sure of from the problem.\n",
        "\n",
        "In the code below, it is besed on the findings that \n",
        "\n",
        "O = 9, H = 0, C = W + 1, N + N = D or N + N = 10 + D.\n",
        "\n",
        "    %%time\n",
        "\n",
        "    from itertools import permutations\n",
        "\n",
        "    O = 9\n",
        "    H = 0\n",
        "    list1 = [1,2,3,4,5,6,7,8] \n",
        "\n",
        "    for A,D,I,L,M,N,W in permutations(list1, 7):\n",
        "      C = W + 1\n",
        "      s = [A,C,D,H,I,L,M,N,O,W]\n",
        "      if (\n",
        "          ((N + N == D) or (N + N == 10 + D)) and\n",
        "          len(set(s)) == len(s) and \n",
        "          M*W != 0 and\n",
        "         100*M + 10*A + N + 10000*W + 1000*O + 100*M + 10*A + N \n",
        "         == 10000*C + 1000*H + 100*I + 10*L + D\n",
        "          ) :\n",
        "          print(M,A,N, '+', W,O,M,A,N, '=', C,H,I,L,D)\n",
        "\n",
        "    '''\n",
        "    ＜Output＞\n",
        "    8 5 6 + 3 9 8 5 6 = 4 0 7 1 2\n",
        "    5 8 6 + 3 9 5 8 6 = 4 0 1 7 2\n",
        "    7 8 1 + 3 9 7 8 1 = 4 0 5 6 2\n",
        "    CPU times: user 56.6 ms, sys: 2.01 ms, total: 58.6 ms\n",
        "    Wall time: 55.9 ms\n",
        "    '''\n"
      ],
      "metadata": {
        "id": "3K3InJOd2liT"
      }
    },
    {
      "cell_type": "markdown",
      "source": [
        "Below, I will write the code according to the procedure to consider the problem.\n",
        "\n",
        "\\\n",
        "\n",
        "At first decide the numbers that can be found from the problem sentence. \n",
        "\n",
        "As the thousands place is O and H, you can see that number is \n",
        "\n",
        "carried up to the ten thousand place.\n",
        "\n",
        "Then we can find the O = 9, H = 0.\n",
        "\n",
        "\\\n",
        "\n",
        "As W is rounded up from the thousands place to C, C = W + 1.\n",
        "\n",
        "Create a list of numbers with numbers other than 0 and 9.\n",
        "\n",
        "\\\n",
        "\n",
        "In addition, if we focus on the one's place, we notice N + N = D.\n",
        "\n",
        "So we can put (N + N = D) or (N + N = 10 + D) in the condition, \n",
        "\n",
        "for now it is not included.\n",
        "\n",
        "\\\n",
        "\n",
        "After that, create all the combinations and display the combination \n",
        "\n",
        "of numbers that meet the conditions.\n",
        "\n",
        "\n",
        "The for loop and the condition that \"different characters express \n",
        "\n",
        "different numbers\" are supposed to be amazing.\n",
        "\n",
        "However, it still takes less time than the first example above."
      ],
      "metadata": {
        "id": "CdEZc2MU5a1s"
      }
    },
    {
      "cell_type": "code",
      "metadata": {
        "id": "EzTlkyBmrOMi"
      },
      "source": [
        "\n",
        "%%time\n",
        "\n",
        "O = 9\n",
        "H = 0\n",
        "list1 = [1,2,3,4,5,6,7,8]                               \n",
        "\n",
        "for A in list1:\n",
        "  for D in list1:\n",
        "    for I in list1:\n",
        "      for L in list1:\n",
        "        for M in list1:\n",
        "          for N in list1:\n",
        "            for W in list1:\n",
        "              C = W + 1\n",
        "              if (100*M + 10*A + N + 10000*W + 1000*O + 100*M + 10*A + N == 10000*C + 1000*H + 100*I + 10*L + D\n",
        "                  and A!=C and A!=D and A!=H and A!=I and A!=L and A!=M and A!=N and A!=O and A!=W \n",
        "                  and C!=D and C!=H and C!=I and C!=L and C!=M and C!=N and C!=O and C!=W\n",
        "                  and D!=H and D!=I and D!=L and D!=M and D!=N and D!=O and D!=W\n",
        "                  and H!=I and H!=L and H!=M and H!=N and H!=O and H!=W\n",
        "                  and I!=L and I!=M and I!=N and I!=O and I!=W\n",
        "                  and L!=M and L!=N and L!=O and L!=W\n",
        "                  and M!=N and M!=O and M!=W\n",
        "                  and N!=O and N!=W\n",
        "                  and O!=W) :\n",
        "                  print(M,A,N, '+', W,O,M,A,N, '=', C,H,I,L,D)\n",
        "                 \n",
        "  "
      ],
      "execution_count": null,
      "outputs": []
    },
    {
      "cell_type": "markdown",
      "source": [
        "Use \"list comprehension\" to eliminate the nesting of for statements."
      ],
      "metadata": {
        "id": "nNUL7NIN7cs_"
      }
    },
    {
      "cell_type": "code",
      "metadata": {
        "id": "ca1Fu9JZwnlW"
      },
      "source": [
        "\n",
        "%%time\n",
        "\n",
        "O = 9\n",
        "H = 0\n",
        "list1 = [1,2,3,4,5,6,7,8] \n",
        "list2 = [[p,q,r,s,t,u,v] for p in list1 for q in list1 for r in list1 for s in list1\n",
        "       for t in list1 for u in list1 for v in list1]\n",
        "\n",
        "for A,D,I,L,M,N,W in list2:\n",
        "  C = W + 1\n",
        "  if (100*M + 10*A + N + 10000*W + 1000*O + 100*M + 10*A + N == 10000*C + 1000*H + 100*I + 10*L + D\n",
        "     and A!=C and A!=D and A!=H and A!=I and A!=L and A!=M and A!=N and A!=O and A!=W \n",
        "     and C!=D and C!=H and C!=I and C!=L and C!=M and C!=N and C!=O and C!=W\n",
        "     and D!=H and D!=I and D!=L and D!=M and D!=N and D!=O and D!=W\n",
        "     and H!=I and H!=L and H!=M and H!=N and H!=O and H!=W\n",
        "     and I!=L and I!=M and I!=N and I!=O and I!=W\n",
        "     and L!=M and L!=N and L!=O and L!=W\n",
        "     and M!=N and M!=O and M!=W\n",
        "     and N!=O and N!=W\n",
        "     and O!=W) :\n",
        "     \n",
        "     print(M,A,N, '+', W,O,M,A,N, '=', C,H,I,L,D)\n",
        "                \n",
        "  "
      ],
      "execution_count": null,
      "outputs": []
    },
    {
      "cell_type": "markdown",
      "source": [
        "Since it is difficult to scoop up ``different characters have different numbers'', \n",
        "\n",
        "we use the `set()` function that came out in the set."
      ],
      "metadata": {
        "id": "8DNE0SFa7xrT"
      }
    },
    {
      "cell_type": "markdown",
      "source": [
        "As for `set()`,---> Vol.2   [![Open In Colab](https://colab.research.google.com/assets/colab-badge.svg)](https://colab.research.google.com/drive/1XHj0GIkct4zI5ni-oUK2aGt023gyuwVB?usp=sharing)"
      ],
      "metadata": {
        "id": "orRM2mWVugoN"
      }
    },
    {
      "cell_type": "code",
      "metadata": {
        "id": "_iF35N8SugoN"
      },
      "source": [
        "\n",
        "%%time\n",
        "\n",
        "O = 9\n",
        "H = 0\n",
        "list1 = [1,2,3,4,5,6,7,8] \n",
        "list2 = [[p,q,r,s,t,u,v] for p in list1 for q in list1 for r in list1 for s in list1\n",
        "       for t in list1 for u in list1 for v in list1]\n",
        "\n",
        "for A,D,I,L,M,N,W in list2:\n",
        "  C = W + 1\n",
        "  s = [A,C,D,H,I,L,M,N,O,W]\n",
        "  if (\n",
        "      len(set(s)) == len(s) and \n",
        "      100*M + 10*A + N + 10000*W + 1000*O + 100*M + 10*A + N == 10000*C + 1000*H + 100*I + 10*L + D\n",
        "      ) : \n",
        "      print(M,A,N, '+', W,O,M,A,N, '=', C,H,I,L,D)\n",
        "\n",
        "'''\n",
        "＜Outcome＞\n",
        "8 5 6 + 3 9 8 5 6 = 4 0 7 1 2\n",
        "5 8 6 + 3 9 5 8 6 = 4 0 1 7 2\n",
        "7 8 1 + 3 9 7 8 1 = 4 0 5 6 2\n",
        "CPU times: user 4.36 s, sys: 134 ms, total: 4.49 s\n",
        "Wall time: 4.51 s\n",
        "'''\n",
        "  "
      ],
      "execution_count": null,
      "outputs": []
    },
    {
      "cell_type": "markdown",
      "source": [
        "As a next step, we use permutations."
      ],
      "metadata": {
        "id": "c8ubts3p8XCF"
      }
    },
    {
      "cell_type": "markdown",
      "source": [
        "About `itertools` module, ----> Vol.2   [![Open In Colab](https://colab.research.google.com/assets/colab-badge.svg)](https://colab.research.google.com/drive/1XHj0GIkct4zI5ni-oUK2aGt023gyuwVB?usp=sharing)"
      ],
      "metadata": {
        "id": "QpAh-NIpY-87"
      }
    },
    {
      "cell_type": "code",
      "metadata": {
        "id": "GLD8LWttugoO"
      },
      "source": [
        "\n",
        "%%time\n",
        "\n",
        "from itertools import permutations\n",
        "\n",
        "O = 9\n",
        "H = 0\n",
        "list1 = [1,2,3,4,5,6,7,8] \n",
        "\n",
        "for A,D,I,L,M,N,W in permutations(list1, 7):\n",
        "  C = W + 1\n",
        "  s = [A,C,D,H,I,L,M,N,O,W]\n",
        "  if (\n",
        "      len(set(s)) == len(s) and \n",
        "      100*M + 10*A + N + 10000*W + 1000*O + 100*M + 10*A + N == 10000*C + 1000*H + 100*I + 10*L + D\n",
        "      ) : \n",
        "      print(M,A,N, '+', W,O,M,A,N, '=', C,H,I,L,D)\n",
        "\n",
        "'''\n",
        "8 5 6 + 3 9 8 5 6 = 4 0 7 1 2\n",
        "5 8 6 + 3 9 5 8 6 = 4 0 1 7 2\n",
        "7 8 1 + 3 9 7 8 1 = 4 0 5 6 2\n",
        "CPU times: user 62.8 ms, sys: 3.71 ms, total: 66.5 ms\n",
        "Wall time: 70.4 ms\n",
        "'''\n",
        "  "
      ],
      "execution_count": null,
      "outputs": []
    },
    {
      "cell_type": "code",
      "metadata": {
        "id": "gA-boyriugoO"
      },
      "source": [
        "# If numbers of list is 10, it takes time.\n",
        "# Since the first character cannot be 0, the condition \"M*W*C != 0\" is required in the if statement.\n",
        "\n",
        "%%time\n",
        "\n",
        "from itertools import permutations\n",
        "\n",
        "list1 = [0,1,2,3,4,5,6,7,8,9] \n",
        "\n",
        "for A,C,D,H,I,L,M,N,O,W in permutations(list1, 10):\n",
        "  s = [A,C,D,H,I,L,M,N,O,W]\n",
        "  if (\n",
        "      M*W*C != 0 and\n",
        "      len(set(s)) == len(s) and \n",
        "      100*M + 10*A + N + 10000*W + 1000*O + 100*M + 10*A + N == 10000*C + 1000*H + 100*I + 10*L + D\n",
        "      ) : \n",
        "      print(M,A,N, '+', W,O,M,A,N, '=', C,H,I,L,D)\n",
        "\n",
        "'''\n",
        "8 5 6 + 3 9 8 5 6 = 4 0 7 1 2\n",
        "5 8 6 + 3 9 5 8 6 = 4 0 1 7 2\n",
        "7 8 1 + 3 9 7 8 1 = 4 0 5 6 2\n",
        "CPU times: user 5.74 s, sys: 0 ns, total: 5.74 s\n",
        "Wall time: 5.77 s\n",
        "'''\n",
        "  "
      ],
      "execution_count": null,
      "outputs": []
    },
    {
      "cell_type": "markdown",
      "source": [
        "`range()` is explained in `iteration` of Vol.1\n",
        "\n",
        "Vol.1 ---> [![Open In Colab](https://colab.research.google.com/assets/colab-badge.svg)](https://colab.research.google.com/drive/1YrP2S-kpEKzaham3d4s7mq0Rsf0qUP7h?usp=sharing)"
      ],
      "metadata": {
        "id": "GgF7zQY29TcT"
      }
    },
    {
      "cell_type": "markdown",
      "source": [
        "As some sample codes are showned below, \n",
        "\n",
        "please try to make your code to speed it up."
      ],
      "metadata": {
        "id": "ITlbKpcM1MvC"
      }
    },
    {
      "cell_type": "code",
      "metadata": {
        "id": "RkWB5NESugoO"
      },
      "source": [
        "\n",
        "%%time\n",
        "\n",
        "from itertools import permutations\n",
        "\n",
        "for A,C,D,H,I,L,M,N,O,W in permutations(range(10), 10):\n",
        "  s = [A,C,D,H,I,L,M,N,O,W]\n",
        "  if (\n",
        "      M*W*C != 0 and\n",
        "      len(set(s)) == len(s) and \n",
        "      100*M + 10*A + N + 10000*W + 1000*O + 100*M + 10*A + N == 10000*C + 1000*H + 100*I + 10*L + D\n",
        "      ) : \n",
        "      print(M,A,N, '+', W,O,M,A,N, '=', C,H,I,L,D)\n",
        "\n",
        "'''\n",
        "8 5 6 + 3 9 8 5 6 = 4 0 7 1 2\n",
        "5 8 6 + 3 9 5 8 6 = 4 0 1 7 2\n",
        "7 8 1 + 3 9 7 8 1 = 4 0 5 6 2\n",
        "CPU times: user 5.67 s, sys: 0 ns, total: 5.67 s\n",
        "Wall time: 5.7 s\n",
        "'''\n",
        "  "
      ],
      "execution_count": null,
      "outputs": []
    },
    {
      "cell_type": "code",
      "metadata": {
        "id": "fxVejZlZcgoX"
      },
      "source": [
        "\n",
        "%%time\n",
        "\n",
        "from itertools import permutations\n",
        "\n",
        "O = 9\n",
        "H = 0\n",
        "list1 = [1,2,3,4,5,6,7,8] \n",
        "\n",
        "for A,D,I,L,M,N,W in permutations(list1, 7):\n",
        "  C = W + 1\n",
        "  s = [A,C,D,H,I,L,M,N,O,W]\n",
        "  if (\n",
        "      M*W*C != 0 and\n",
        "      len(set(s)) == len(s) and \n",
        "      100*M + 10*A + N + 10000*W + 1000*O + 100*M + 10*A + N == 10000*C + 1000*H + 100*I + 10*L + D\n",
        "      ) : \n",
        "      print(M,A,N, '+', W,O,M,A,N, '=', C,H,I,L,D)\n",
        "                 \n",
        "'''\n",
        "8 5 6 + 3 9 8 5 6 = 4 0 7 1 2\n",
        "5 8 6 + 3 9 5 8 6 = 4 0 1 7 2\n",
        "7 8 1 + 3 9 7 8 1 = 4 0 5 6 2\n",
        "CPU times: user 64.4 ms, sys: 910 µs, total: 65.3 ms\n",
        "Wall time: 65 ms\n",
        "'''"
      ],
      "execution_count": null,
      "outputs": []
    },
    {
      "cell_type": "code",
      "metadata": {
        "id": "MG2bkfAF4BnL"
      },
      "source": [
        "\n",
        "%%time\n",
        "\n",
        "from itertools import permutations\n",
        "\n",
        "O = 9\n",
        "H = 0\n",
        "list1 = [1,2,3,4,5,6,7,8] \n",
        "\n",
        "for A,D,I,L,M,N,W in permutations(list1, 7):\n",
        "  C = W + 1\n",
        "  if (\n",
        "      M*W*C != 0 and\n",
        "      100*M + 10*A + N + 10000*W + 1000*O + 100*M + 10*A + N == 10000*C + 1000*H + 100*I + 10*L + D\n",
        "      ) : \n",
        "      print(M,A,N, '+', W,O,M,A,N, '=', C,H,I,L,D)\n",
        "                 \n"
      ],
      "execution_count": null,
      "outputs": []
    },
    {
      "cell_type": "code",
      "metadata": {
        "id": "_IyDJf0bdcEM"
      },
      "source": [
        "\n",
        "%%time\n",
        "\n",
        "from itertools import permutations\n",
        "\n",
        "O = 9\n",
        "H = 0\n",
        "list1 = [1,2,3,4,5,6,7,8] \n",
        "\n",
        "for D,N in permutations(list1, 2):\n",
        "  list2 = [D,N]\n",
        "  if (N + N == D) or (N + N == 10 + D):\n",
        "    for A,I,L,M,W in permutations(list(set(list1) - set(list2)), 5):\n",
        "      C = W + 1\n",
        "      if (\n",
        "          M*W != 0 and\n",
        "          100*M + 10*A + N + 10000*W + 1000*O + 100*M + 10*A + N \n",
        "          == 10000*C + 1000*H + 100*I + 10*L + D\n",
        "         ) :\n",
        "         print(M,A,N, '+', W,O,M,A,N, '=', C,H,I,L,D)\n",
        "  \n",
        "  "
      ],
      "execution_count": null,
      "outputs": []
    },
    {
      "cell_type": "code",
      "metadata": {
        "id": "G1y7oXfIu6VM"
      },
      "source": [
        "\n",
        "%%time\n",
        "\n",
        "from itertools import permutations\n",
        "\n",
        "O = 9\n",
        "H = 0\n",
        "list1 = [1,2,3,4,5,6,7,8] \n",
        "\n",
        "for A,D,I,L,M,N,W in permutations(list1, 7):\n",
        "  C = W + 1\n",
        "  s = [A,C,D,H,I,L,M,N,O,W]\n",
        "  if (\n",
        "      ((N + N == D) or (N + N == 10 + D)) and\n",
        "      len(set(s)) == len(s) and \n",
        "      M*W != 0 and\n",
        "      100*M + 10*A + N + 10000*W + 1000*O + 100*M + 10*A + N \n",
        "      == 10000*C + 1000*H + 100*I + 10*L + D\n",
        "      ) :\n",
        "      print(M,A,N, '+', W,O,M,A,N, '=', C,H,I,L,D)\n",
        "\n",
        "'''\n",
        "8 5 6 + 3 9 8 5 6 = 4 0 7 1 2\n",
        "5 8 6 + 3 9 5 8 6 = 4 0 1 7 2\n",
        "7 8 1 + 3 9 7 8 1 = 4 0 5 6 2\n",
        "CPU times: user 56.6 ms, sys: 2.01 ms, total: 58.6 ms\n",
        "Wall time: 55.9 ms\n",
        "'''\n",
        "  "
      ],
      "execution_count": null,
      "outputs": []
    },
    {
      "cell_type": "markdown",
      "source": [
        "# ★ KYOTO + OSAKA = TOKYO\n",
        "\n",
        "||||||||\n",
        "|:---:|:---:|:---:|:---:|:---:|:---:|:---:|\n",
        "||K|Y|O|T|O|\n",
        "|+ )|O|S|A|K|A|\n",
        "|&mdash;&mdash;|&mdash;&mdash;|&mdash;&mdash;|&mdash;&mdash;|&mdash;&mdash;|&mdash;&mdash;|&mdash;&mdash;|\n",
        "||T|O|K|Y|O|\n"
      ],
      "metadata": {
        "id": "y40Sqi16Towt"
      }
    },
    {
      "cell_type": "code",
      "source": [],
      "metadata": {
        "id": "c3pF6_9OTowt"
      },
      "execution_count": null,
      "outputs": []
    },
    {
      "cell_type": "code",
      "metadata": {
        "id": "UBy1jy9KTowu"
      },
      "source": [
        "\n",
        "from itertools import permutations\n",
        "\n",
        "for K,Y,O,T,S,A in permutations(range(10), 6): \n",
        "  if ( \n",
        "      K*O*T != 0 and\n",
        "      10000*K + 1000*Y + 100*O + 10*T + O + 10000*O + 1000*S + 100*A + 10*K + A == 10000*T + 1000*O + 100*K + 10*Y + O\n",
        "      ) : \n",
        "      print(K,Y,O,T,O, '+', O,S,A,K,A, '=', T,O,K,Y,O)\n",
        "                 \n",
        "  "
      ],
      "execution_count": null,
      "outputs": []
    },
    {
      "cell_type": "code",
      "source": [],
      "metadata": {
        "id": "nm68WEwjTowu"
      },
      "execution_count": null,
      "outputs": []
    },
    {
      "cell_type": "code",
      "metadata": {
        "id": "xoYqSprFTowu"
      },
      "source": [
        "\n",
        "from itertools import permutations\n",
        "\n",
        "for K,Y,O,T,S,A in permutations(range(10), 6): \n",
        "  s = [K,Y,O,T,S,A]\n",
        "  if ( \n",
        "      K*O*T != 0 and\n",
        "      len(set(s)) == len(s) and \n",
        "      10000*K + 1000*Y + 100*O + 10*T + O + 10000*O + 1000*S + 100*A + 10*K + A == 10000*T + 1000*O + 100*K + 10*Y + O\n",
        "      ) : \n",
        "      print(K,Y,O,T,O, '+', O,S,A,K,A, '=', T,O,K,Y,O)\n",
        "                 \n",
        "  "
      ],
      "execution_count": null,
      "outputs": []
    },
    {
      "cell_type": "markdown",
      "source": [
        "# ★ SEND + MORE = MONEY\n",
        "\n",
        "||||||||\n",
        "|:---:|:---:|:---:|:---:|:---:|:---:|:---:|\n",
        "|||S|E|N|D|\n",
        "|+ )||M|O|R|E|\n",
        "|&mdash;&mdash;|&mdash;&mdash;|&mdash;&mdash;|&mdash;&mdash;|&mdash;&mdash;|&mdash;&mdash;|&mdash;&mdash;|\n",
        "||M|O|N|E|Y|\n"
      ],
      "metadata": {
        "id": "4OdKweVRTowv"
      }
    },
    {
      "cell_type": "code",
      "metadata": {
        "id": "Xh0GMHXoTowv"
      },
      "source": [
        "\n",
        "%%time\n",
        "\n",
        "from itertools import permutations\n",
        "\n",
        "for S,E,N,D,M,O,R,Y in permutations(range(10), 8):  \n",
        "  s = [S,E,N,D,M,O,R,Y]\n",
        "  if ( \n",
        "      S*M != 0 and\n",
        "      len(set(s)) == len(s) and \n",
        "      1000*S + 100*E + 10*N + D + 1000*M + 100*O + 10*R + E == 10000*M + 1000*O + 100*N + 10*E + Y\n",
        "      ) : \n",
        "      print(S,E,N,D, '+', M,O,R,E, '=', M,O,N,E,Y)\n",
        "                 \n",
        "  "
      ],
      "execution_count": null,
      "outputs": []
    },
    {
      "cell_type": "code",
      "metadata": {
        "id": "HDC0Jh4NTowv"
      },
      "source": [
        "# Another code to measure the time\n",
        "\n",
        "import time\n",
        "from itertools import permutations\n",
        "\n",
        "for S,E,N,D,M,O,R,Y in permutations(range(10), 8):  \n",
        "  s = [S,E,N,D,M,O,R,Y]\n",
        "  if ( \n",
        "      S*M != 0 and\n",
        "      len(set(s)) == len(s) and \n",
        "      1000*S + 100*E + 10*N + D + 1000*M + 100*O + 10*R + E == 10000*M + 1000*O + 100*N + 10*E + Y\n",
        "      ) : \n",
        "      print(S,E,N,D, '+', M,O,R,E, '=', M,O,N,E,Y)\n",
        "\n",
        "s = time.time()\n",
        "print(time.time() - s)               \n",
        "  "
      ],
      "execution_count": null,
      "outputs": []
    },
    {
      "cell_type": "markdown",
      "source": [
        "# ★ KANTO + HAKONE = KANSAI "
      ],
      "metadata": {
        "id": "aah5Xz1yTowx"
      }
    },
    {
      "cell_type": "markdown",
      "source": [
        "\n",
        "||||||||\n",
        "|:---:|:---:|:---:|:---:|:---:|:---:|:---:|\n",
        "||K|Y|O|T|O|\n",
        "|+ )|O|S|A|K|A|\n",
        "|&mdash;&mdash;|&mdash;&mdash;|&mdash;&mdash;|&mdash;&mdash;|&mdash;&mdash;|&mdash;&mdash;|&mdash;&mdash;|\n",
        "||T|O|K|Y|O|\n"
      ],
      "metadata": {
        "id": "8lHTxOl3Towx"
      }
    },
    {
      "cell_type": "code",
      "metadata": {
        "id": "MRymSCgbTowy"
      },
      "source": [
        "\n",
        "from itertools import permutations\n",
        "\n",
        "for K,Y,O,T,S,A in permutations(range(10), 6): \n",
        "  s = [K,Y,O,T,S,A]\n",
        "  if ( \n",
        "      K*O*T != 0 and\n",
        "      len(set(s)) == len(s) and \n",
        "      10000*K + 1000*Y + 100*O + 10*T + O + 10000*O + 1000*S + 100*A + 10*K + A == 10000*T + 1000*O + 100*K + 10*Y + O\n",
        "      ) : \n",
        "      print(K,Y,O,T,O, '+', O,S,A,K,A, '=', T,O,K,Y,O)\n",
        "                 \n",
        "  "
      ],
      "execution_count": null,
      "outputs": []
    },
    {
      "cell_type": "markdown",
      "source": [
        "# ★ WWWDOT - GOOGLE = DOTCOM"
      ],
      "metadata": {
        "id": "JVMvjEM1Towy"
      }
    },
    {
      "cell_type": "markdown",
      "source": [
        "\n",
        "\n",
        "\n",
        "\n",
        "|||||||||\n",
        "|:---:|:---:|:---:|:---:|:---:|:---:|:---:|:---:|\n",
        "||W|W|W|D|O|T|\n",
        "|&mdash;)|G|O|O|G|L|E|\n",
        "|&mdash;&mdash;|&mdash;&mdash;|&mdash;&mdash;|&mdash;&mdash;|&mdash;&mdash;|&mdash;&mdash;|&mdash;&mdash;|\n",
        "||D|O|T|C|O|M|\n",
        "\n"
      ],
      "metadata": {
        "id": "Ibp_KraHTowz"
      }
    },
    {
      "cell_type": "code",
      "source": [],
      "metadata": {
        "id": "yX9GSlkYTowz"
      },
      "execution_count": null,
      "outputs": []
    },
    {
      "cell_type": "code",
      "metadata": {
        "id": "jG8a1iQsTowz"
      },
      "source": [
        "\n",
        "%%time\n",
        "\n",
        "from itertools import permutations\n",
        "\n",
        "for W,D,O,T,G,L,E,C,M in permutations(range(10), 9): \n",
        "  if ( \n",
        "      W*G*D != 0 and\n",
        "      100000*W + 10000*W + 1000*W + 100*D + 10*O + T \n",
        "      - (100000*G + 10000*O + 1000*O + 100*G + 10*L + E) \n",
        "      == 100000*D + 10000*O + 1000*T + 100*C + 10*O + M\n",
        "      ) : \n",
        "      print(W,W,W,D,O,T, '-', G,O,O,G,L,E, '=', D,O,T,C,O,M)\n",
        "                 \n",
        "'''\n",
        "7 7 7 5 8 9 - 1 8 8 1 0 3 = 5 8 9 4 8 6\n",
        "7 7 7 5 8 9 - 1 8 8 1 0 6 = 5 8 9 4 8 3\n",
        "CPU times: user 4.53 s, sys: 0 ns, total: 4.53 s\n",
        "Wall time: 4.56 s\n",
        "'''"
      ],
      "execution_count": null,
      "outputs": []
    },
    {
      "cell_type": "code",
      "metadata": {
        "id": "WdiJk8YuTow0"
      },
      "source": [
        "\n",
        "%%time\n",
        "\n",
        "from itertools import permutations\n",
        "\n",
        "for q in permutations(range(10), 3):\n",
        "  T,E,M = q\n",
        "  if (T - E == M) or (10 + T - E == M):   \n",
        "    for W,D,O,G,L,C in permutations(list(set(range(10)) - set(q)),6):\n",
        "      if ( \n",
        "          W*G*D != 0 and\n",
        "          100000*W + 10000*W + 1000*W + 100*D + 10*O + T \n",
        "          - (100000*G + 10000*O + 1000*O + 100*G + 10*L + E) \n",
        "          == 100000*D + 10000*O + 1000*T + 100*C + 10*O + M\n",
        "          ) :\n",
        "          print(W,W,W,D,O,T, '-', G,O,O,G,L,E, '=', D,O,T,C,O,M)\n",
        "                 \n",
        "'''\n",
        "7 7 7 5 8 9 - 1 8 8 1 0 3 = 5 8 9 4 8 6\n",
        "7 7 7 5 8 9 - 1 8 8 1 0 6 = 5 8 9 4 8 3\n",
        "CPU times: user 411 ms, sys: 0 ns, total: 411 ms\n",
        "Wall time: 411 ms\n",
        "'''"
      ],
      "execution_count": null,
      "outputs": []
    },
    {
      "cell_type": "markdown",
      "source": [
        "# ★ Number that fits the vertex"
      ],
      "metadata": {
        "id": "NE22L4_o3YLq"
      }
    },
    {
      "cell_type": "markdown",
      "source": [
        "In the triangle below, the number in the middle of each side is the sum of \n",
        "\n",
        "the number of vertices on either side of the side.\n",
        "\n",
        "With the same rule, find numbers (positive integers) in the triangles A, B and C below."
      ],
      "metadata": {
        "id": "vjclFQib3m7m"
      }
    },
    {
      "cell_type": "markdown",
      "source": [
        "\n",
        "\n",
        "|    |    | 7  |    |   |  \n",
        "| -- | -- | -- | -- | - |  \n",
        "|    | 17 |    | 11 |   |  \n",
        "| 10 |    | 14 |    | 4 |  \n",
        "\n",
        "\\\n",
        "\n",
        "|   |    | A  |    |   |\n",
        "| - | -- | -- | -- | - |\n",
        "|   | 15 |    | 23 |   |\n",
        "| B |    | 12 |    | C |"
      ],
      "metadata": {
        "id": "NBNQ-crh47Fq"
      }
    },
    {
      "cell_type": "code",
      "source": [],
      "metadata": {
        "id": "v1uL2EF9Tow0"
      },
      "execution_count": null,
      "outputs": []
    },
    {
      "cell_type": "code",
      "metadata": {
        "id": "hyjJ0LVxTow0"
      },
      "source": [
        "\n",
        "from itertools import permutations\n",
        "\n",
        "for A,B,C in permutations(range(1,23), 3):\n",
        "  if  A + B == 15 and A + C == 23 and B + C == 12 :\n",
        "    print('A =',A,',', 'B =',B,',', 'C =',C)\n",
        "                 \n",
        "  "
      ],
      "execution_count": null,
      "outputs": []
    },
    {
      "cell_type": "markdown",
      "source": [
        "With the same rule\n",
        "\n",
        "Find the number in P,Q,R,S.\n",
        "\n",
        "5 solutions\n",
        "\n",
        "\\\n",
        "\n",
        "\n",
        "\n",
        "|  P  |  7  | Q  | \n",
        "| -- | -- | -- |   \n",
        "| 10  |  | 21   |  \n",
        "| R | 24   | S |  \n",
        "\n",
        "\n"
      ],
      "metadata": {
        "id": "y5d3V-GJ5Gd9"
      }
    },
    {
      "cell_type": "code",
      "source": [],
      "metadata": {
        "id": "yJohbw8OTow1"
      },
      "execution_count": null,
      "outputs": []
    },
    {
      "cell_type": "code",
      "metadata": {
        "id": "-crFQ0g7Tow1"
      },
      "source": [
        "# A,B,C is 1 <=  and < 23\n",
        "\n",
        "from itertools import permutations\n",
        "\n",
        "for P,Q,R,S in permutations(range(1,24), 4):\n",
        "  if  P + Q == 7 and Q + S == 21 and S + R == 24 and R + P == 10 :\n",
        "    print('P =',P,',', 'Q =',Q, 'R =',R, ',' 'S =', S)\n",
        "                 \n",
        "  "
      ],
      "execution_count": null,
      "outputs": []
    },
    {
      "cell_type": "markdown",
      "source": [
        "# ★ RED + WHITE = COLOR\n",
        "\n",
        "||||||||\n",
        "|:---:|:---:|:---:|:---:|:---:|:---:|:---:|\n",
        "||||R|E|D|\n",
        "|+ )|W|H|I|T|E|\n",
        "|&mdash;&mdash;|&mdash;&mdash;|&mdash;&mdash;|&mdash;&mdash;|&mdash;&mdash;|&mdash;&mdash;|&mdash;&mdash;|\n",
        "||C|O|L|O|R|\n"
      ],
      "metadata": {
        "id": "8-3NESTwTow1"
      }
    },
    {
      "cell_type": "code",
      "source": [],
      "metadata": {
        "id": "0oL-WdICTow2"
      },
      "execution_count": null,
      "outputs": []
    },
    {
      "cell_type": "code",
      "metadata": {
        "id": "-6eSFcPXTow4"
      },
      "source": [
        "\n",
        "from itertools import permutations\n",
        "\n",
        "for R,E,D,W,H,I,T,C,O,L in permutations(range(10), 10):  \n",
        "  s = [R,E,D,W,H,I,T,C,O,L]\n",
        "  if ( \n",
        "      R*E*D != 0 and           \n",
        "      len(set(s)) == len(s) and \n",
        "      100*R + 10*E + D + 10000*W + 1000*H + 100*I + 10*T + E   # RED + WHITE = COLOR \n",
        "      == 10000*C + 1000*O + 100*L + 10*O + R\n",
        "      ) : \n",
        "      print(R,E,D, '+', W,H,I,T,E, '=', C,O,L,O,R)\n",
        "                 \n",
        "  "
      ],
      "execution_count": null,
      "outputs": []
    },
    {
      "cell_type": "markdown",
      "source": [
        "# ★ AA $\\times$ BCB = DDDD\n",
        "\n",
        "4 solutions\n",
        "\n",
        "||||||||\n",
        "|:---:|:---:|:---:|:---:|:---:|:---:|:---:|\n",
        "||||A|A|\n",
        "|$\\times$ )||B|C|B|\n",
        "|&mdash;&mdash;|&mdash;&mdash;|&mdash;&mdash;|&mdash;&mdash;|&mdash;&mdash;|&mdash;&mdash;|&mdash;&mdash;|\n",
        "||D|D|D|D|\n"
      ],
      "metadata": {
        "id": "cslFwBr4Tow4"
      }
    },
    {
      "cell_type": "code",
      "source": [],
      "metadata": {
        "id": "AN_rBpDhTow4"
      },
      "execution_count": null,
      "outputs": []
    },
    {
      "cell_type": "code",
      "metadata": {
        "id": "IW9eSN78Tow5"
      },
      "source": [
        "\n",
        "from itertools import permutations\n",
        "\n",
        "for A,B,C,D in permutations(range(10), 4):  \n",
        "  s = [A,B,C,D]\n",
        "  if ( \n",
        "      len(set(s)) == len(s) and \n",
        "      (10*A + A) * (100*B + 10*C + B) == 1000*D + 100*D + 10*D + D\n",
        "      ) : \n",
        "      print(A,A, '×', B,C,B, '=', D,D,D,D)\n",
        "                 \n",
        "  "
      ],
      "execution_count": null,
      "outputs": []
    },
    {
      "cell_type": "markdown",
      "source": [
        "# ★ AB $\\times$ CB = BAFC\n",
        "\n",
        "\n",
        "||||||||\n",
        "|:---:|:---:|:---:|:---:|:---:|:---:|:---:|\n",
        "||||A|B|\n",
        "|$\\times$ )|||C|B|\n",
        "|&mdash;&mdash;|&mdash;&mdash;|&mdash;&mdash;|&mdash;&mdash;|&mdash;&mdash;|&mdash;&mdash;|&mdash;&mdash;|\n",
        "|||D|B|C|\n",
        "||B|C|E||\n",
        "|&mdash;&mdash;|&mdash;&mdash;|&mdash;&mdash;|&mdash;&mdash;|&mdash;&mdash;|&mdash;&mdash;|&mdash;&mdash;|\n",
        "||B|A|F|C|\n"
      ],
      "metadata": {
        "id": "CEE5qtQXTow5"
      }
    },
    {
      "cell_type": "code",
      "source": [],
      "metadata": {
        "id": "5OHAYAOvTow5"
      },
      "execution_count": null,
      "outputs": []
    },
    {
      "cell_type": "code",
      "metadata": {
        "id": "HJolBGkYTow5"
      },
      "source": [
        "\n",
        "from itertools import permutations\n",
        "\n",
        "for A,B,C,D,E,F in permutations(range(10), 6):  \n",
        "  s = [A,B,C,D,E,F]\n",
        "  if ( \n",
        "      len(set(s)) == len(s) and \n",
        "      (10*A + B) * B == 100*D + 10*B + C and    #途中式も入れないと答えが複数になる\n",
        "      (10*A + B) * C == 100*B + 10*C + E and\n",
        "      (10*A + B) * (10*C + B) == 1000*B + 100*A + 10*F + C\n",
        "      ) : \n",
        "      print(A,B, '×', C,B, '=', B,A,F,C)\n",
        "                 \n",
        "  "
      ],
      "execution_count": null,
      "outputs": []
    },
    {
      "cell_type": "markdown",
      "source": [
        "# ★ READ + WRITE + TALK = SKILL\n",
        "\n",
        "10 solutions\n",
        "\n",
        "||||||||\n",
        "|:---:|:---:|:---:|:---:|:---:|:---:|:---:|\n",
        "|||R|E|A|D|\n",
        "||W|R|I|T|E|\n",
        "|+ )||T|A|L|K|\n",
        "|&mdash;&mdash;|&mdash;&mdash;|&mdash;&mdash;|&mdash;&mdash;|&mdash;&mdash;|&mdash;&mdash;|&mdash;&mdash;|\n",
        "||S|K|I|L|L|\n"
      ],
      "metadata": {
        "id": "kEb5aGl5w_vE"
      }
    },
    {
      "cell_type": "code",
      "metadata": {
        "id": "qUKXuPpEc47c"
      },
      "source": [
        "\n",
        "%%time\n",
        "from itertools import permutations\n",
        "\n",
        "count = 0\n",
        "for R,E,A,D,W,I,T,L,S,K in permutations(range(10), 10):  \n",
        "  if ( \n",
        "      R*W*T*S != 0 and           \n",
        "      1000*R + 100*E + 10*A + D + 10000*W + 1000*R + 100*I + 10*T + E + 1000*T + 100*A + 10*L + K\n",
        "      == 10000*S + 1000*K + 100*I + 10*L + L\n",
        "      ) :\n",
        "      count += 1\n",
        "      print(R,E,A,D, '+', W,R,I,T,E, '+', T,A,L,K, '=', S,K,I,L,L)\n",
        "\n",
        "print(count)                 \n",
        "  "
      ],
      "execution_count": null,
      "outputs": []
    },
    {
      "cell_type": "code",
      "metadata": {
        "id": "pqUJwpWkw_vF"
      },
      "source": [
        "\n",
        "%%time\n",
        "from itertools import permutations\n",
        "\n",
        "count = 0\n",
        "for R,E,A,D,W,I,T,L,S,K in permutations(range(10), 10):  \n",
        "  s = [R,E,A,D,W,I,T,L,S,K]\n",
        "  if ( \n",
        "      R*W*T*S != 0 and           \n",
        "      len(set(s)) == len(s) and \n",
        "      1000*R + 100*E + 10*A + D + 10000*W + 1000*R + 100*I + 10*T + E + 1000*T + 100*A + 10*L + K\n",
        "      == 10000*S + 1000*K + 100*I + 10*L + L\n",
        "      ) :\n",
        "      count += 1\n",
        "      print(R,E,A,D, '+', W,R,I,T,E, '+', T,A,L,K, '=', S,K,I,L,L)\n",
        "\n",
        "print(count)                 \n",
        "  "
      ],
      "execution_count": null,
      "outputs": []
    },
    {
      "cell_type": "markdown",
      "source": [
        "# ★ (Division)  &#9744;&#9744;&#9744;64 / &#9744;&#9744; = 1&#9744;2"
      ],
      "metadata": {
        "id": "orVfOWhSdWlF"
      }
    },
    {
      "cell_type": "markdown",
      "source": [
        "\n",
        "\n",
        "||||||||||||||||\n",
        "|:-:|:-:|:-:|:-:|:-:|:-:|:-:|:-:|:-:|:-:|:-:|:-:|:-:|:-:|:-:|\n",
        "|||||||||1|&#9744;|2||||\n",
        "||||||___|___|___|___|___|___|||||\n",
        "|||&#9744;|&#9744;|)||&#9744;|&#9744;|&#9744;|6|4|||\n",
        "||||||||&#9744;|&#9744;|||||||\n",
        "|||||||&mdash;&mdash;|&mdash;&mdash;|&mdash;&mdash;|&mdash;&mdash;|&mdash;&mdash;||\n",
        "||||||||2|4|6|||||\n",
        "||||||||&#9744;|&#9744;|1|||||||\n",
        "||||||||&mdash;&mdash;|&mdash;&mdash;|&mdash;&mdash;|&mdash;&mdash;||\n",
        "|||||||||&#9744;|&#9744;|4|||||\n",
        "|||||||||&#9744;|&#9744;|4|||||\n",
        "||||||||&mdash;&mdash;|&mdash;&mdash;|&mdash;&mdash;|&mdash;&mdash;||\n",
        "|||||||||||0||||||||\n",
        "\n"
      ],
      "metadata": {
        "id": "rISmjBLjdWlF"
      }
    },
    {
      "cell_type": "markdown",
      "source": [
        "Set characters in applicable &#9744;."
      ],
      "metadata": {
        "id": "JGSI_GM4fICI"
      }
    },
    {
      "cell_type": "markdown",
      "source": [
        "\n",
        "\n",
        "||||||||||||||||\n",
        "|:-:|:-:|:-:|:-:|:-:|:-:|:-:|:-:|:-:|:-:|:-:|:-:|:-:|:-:|:-:|\n",
        "|||||||||1|C|2||||\n",
        "||||||___|___|___|___|___|___|||||\n",
        "|||A|B|)||P|Q|R|6|4|||\n",
        "||||||||A|B|||||||\n",
        "|||||||&mdash;&mdash;|&mdash;&mdash;|&mdash;&mdash;|&mdash;&mdash;|&mdash;&mdash;||\n",
        "||||||||2|4|6|||||\n",
        "||||||||&#9744;|&#9744;|1|||||||\n",
        "||||||||&mdash;&mdash;|&mdash;&mdash;|&mdash;&mdash;|&mdash;&mdash;||\n",
        "|||||||||&#9744;|&#9744;|4|||||\n",
        "|||||||||&#9744;|&#9744;|4|||||\n",
        "||||||||&mdash;&mdash;|&mdash;&mdash;|&mdash;&mdash;|&mdash;&mdash;||\n",
        "|||||||||||0||||||||\n",
        "\n"
      ],
      "metadata": {
        "id": "AGQdiUdiemTn"
      }
    },
    {
      "cell_type": "code",
      "source": [],
      "metadata": {
        "id": "sY0hyyDXdWlG"
      },
      "execution_count": null,
      "outputs": []
    },
    {
      "cell_type": "code",
      "source": [
        "# Findings\n",
        "# (1) According to ones place of B * 2 is 4, B = 2 or 7.\n",
        "# (2) As B * 2 is 3 digits, A is 5 or more.\n",
        "# (3) As PQR - AB = 24, P is 1.\n",
        "# B and R could be fixed based on other conditions in the formula,\n",
        "# but in this code they are not considered.\n",
        "\n",
        "\n",
        "%%time\n",
        "\n",
        "P = 1\n",
        "for A in range(5,9):\n",
        "  for B in [2, 7]:\n",
        "    for C in range(10):\n",
        "      for Q in range(10):\n",
        "        for R in range(10):\n",
        "          PQR64 = 10000*P + 1000*Q + 100*R + 64\n",
        "          AB = 10*A + B\n",
        "          _1C2 = 102 + 10*C\n",
        "          if PQR64 / AB == _1C2 and 100*P + 10*Q + R - AB == 24:\n",
        "            print('      ',_1C2)\n",
        "            print('    _______')\n",
        "            print( AB, ')', PQR64)\n",
        "            print('      ',AB)\n",
        "            print('     ------')\n",
        "            print('     ',246)\n",
        "            print('     ',AB * C)\n",
        "            print('     -----')\n",
        "            print('      ',AB * 2)\n",
        "            print('      ',AB * 2)\n",
        "            print('     ------')\n",
        "            print('        ',0)\n",
        "            print()\n",
        "\n"
      ],
      "metadata": {
        "id": "tOGImhbfdWlG"
      },
      "execution_count": null,
      "outputs": []
    },
    {
      "cell_type": "markdown",
      "source": [
        "# ★ QTPAI / CML = QCN ... MI"
      ],
      "metadata": {
        "id": "SmqDWs4AWgge"
      }
    },
    {
      "cell_type": "markdown",
      "source": [
        "\n",
        "\n",
        "||||||||||||||||\n",
        "|:-:|:-:|:-:|:-:|:-:|:-:|:-:|:-:|:-:|:-:|:-:|:-:|:-:|:-:|:-:|\n",
        "|||||||||Q|C|N||||\n",
        "|||||___|___|___|___|___|___|___|||||\n",
        "||C|M|L|)||Q|T|P|A|I|||\n",
        "|||||||Q|I|S|||||||\n",
        "|||||||&mdash;&mdash;|&mdash;&mdash;|&mdash;&mdash;|&mdash;&mdash;|&mdash;&mdash;||\n",
        "||||||||Q|P|A|||||\n",
        "||||||||C|M|L|||||||\n",
        "||||||||&mdash;&mdash;|&mdash;&mdash;|&mdash;&mdash;|&mdash;&mdash;||\n",
        "||||||||C|C|C|I|||||\n",
        "||||||||C|S|N|S|||||\n",
        "||||||||&mdash;&mdash;|&mdash;&mdash;|&mdash;&mdash;|&mdash;&mdash;||\n",
        "||||||||||M|I||||||||\n",
        "\n"
      ],
      "metadata": {
        "id": "6cE-x4KV3ukg"
      }
    },
    {
      "cell_type": "code",
      "source": [],
      "metadata": {
        "id": "3yireOtB6NwX"
      },
      "execution_count": null,
      "outputs": []
    },
    {
      "cell_type": "code",
      "source": [
        "%%time\n",
        "\n",
        "from itertools import permutations\n",
        "\n",
        "for A,C,I,L,M,N,P,Q,S,T in permutations(range(10),10):\n",
        "  QTPAI = 10000*Q + 1000*T + 100*P + 10*A + I \n",
        "  CML = 100*C + 10*M + L\n",
        "  QCN = 100*Q + 10*C + N\n",
        "  MI = 10*M + I\n",
        "  if (\n",
        "      Q != 0 and C != 0 and M != 0  and QTPAI==CML*QCN+MI\n",
        "      and CML*Q==100*Q+10*I+S and CML*C==100*C+10*M+L \n",
        "      ):\n",
        "    print('         ',Q,C,N)\n",
        "    print('    ____________')\n",
        "    print(CML, ')', Q,T,P,A,I)\n",
        "    print('     ',Q,I,S)\n",
        "    print('     ---------')\n",
        "    print('       ',Q,P,A)\n",
        "    print('       ',C,M,L)\n",
        "    print('       --------')\n",
        "    print('       ',C,C,C,I)\n",
        "    print('       ',C,S,N,S)\n",
        "    print('       ---------')\n",
        "    print('           ',M,I)\n",
        "    print()\n",
        "\n",
        "\n",
        "'''\n",
        "Result\n",
        "\n",
        "          2 1 8\n",
        "    ____________\n",
        "135 ) 2 9 4 6 7\n",
        "      2 7 0\n",
        "     ------\n",
        "        2 4 6\n",
        "        1 3 5\n",
        "       --------\n",
        "        1 1 1 7\n",
        "        1 0 8 0\n",
        "       ---------\n",
        "            3 7\n",
        "\n",
        "CPU times: user 4.67 s, sys: 8.42 ms, total: 4.68 s\n",
        "Wall time: 4.69 s\n",
        "'''"
      ],
      "metadata": {
        "id": "IqDr9tDd6OEb"
      },
      "execution_count": null,
      "outputs": []
    },
    {
      "cell_type": "markdown",
      "source": [
        "# ★ &#9744;55&#9744;&#9744;5&#9744; / &#9744;&#9744;&#9744;&#9744; = &#9744;5&#9744;"
      ],
      "metadata": {
        "id": "pxZrVs9ZpMcS"
      }
    },
    {
      "cell_type": "markdown",
      "source": [
        "\n",
        "\n",
        "||||||||||||||||\n",
        "|:-:|:-:|:-:|:-:|:-:|:-:|:-:|:-:|:-:|:-:|:-:|:-:|:-:|:-:|:-:|\n",
        "||||||||||&#9744;|5|&#9744;||\n",
        "|||||___|___|___|___|___|___|___|___||||\n",
        "|&#9744;|&#9744;|&#9744;|&#9744;|)|&#9744;|5|5|&#9744;|&#9744;|5|&#9744;\n",
        "||||||&#9744;|&#9744;|5|&#9744;|&#9744;||||||\n",
        "||||||&mdash;&mdash;|&mdash;&mdash;|&mdash;&mdash;|&mdash;&mdash;|&mdash;&mdash;|&mdash;&mdash;||\n",
        "|||||||&#9744;|&#9744;|&#9744;|&#9744;|&#9744;|||||||\n",
        "|||||||&#9744;|&#9744;|&#9744;|&#9744;|&#9744;|||||||\n",
        "||||||&mdash;&mdash;|&mdash;&mdash;|&mdash;&mdash;|&mdash;&mdash;|&mdash;&mdash;|&mdash;&mdash;||\n",
        "|||||||||&#9744;|&#9744;|&#9744;|&#9744;||||||\n",
        "|||||||||&#9744;|&#9744;|&#9744;|&#9744;||||||\n",
        "|||||||||&mdash;&mdash;|&mdash;&mdash;|&mdash;&mdash;|&mdash;&mdash;||\n",
        "||||||||||||0||||||||\n",
        "\n"
      ],
      "metadata": {
        "id": "BGOsLADmpMt4"
      }
    },
    {
      "cell_type": "markdown",
      "source": [
        "\n",
        "\n",
        "||||||||||||||||\n",
        "|:-:|:-:|:-:|:-:|:-:|:-:|:-:|:-:|:-:|:-:|:-:|:-:|:-:|:-:|:-:|\n",
        "||||||||||a|5|b||\n",
        "|||||___|___|___|___|___|___|___|___||||\n",
        "|c|d|e|f|)|p|5|5|q|r|5|s|\n",
        "||||||&#9744;|&#9744;|5|&#9744;|&#9744;||||||\n",
        "||||||&mdash;&mdash;|&mdash;&mdash;|&mdash;&mdash;|&mdash;&mdash;|&mdash;&mdash;|&mdash;&mdash;||\n",
        "|||||||&#9744;|&#9744;|&#9744;|&#9744;|5|||||||\n",
        "|||||||&#9744;|&#9744;|&#9744;|&#9744;|&#9744;|||||||\n",
        "||||||&mdash;&mdash;|&mdash;&mdash;|&mdash;&mdash;|&mdash;&mdash;|&mdash;&mdash;|&mdash;&mdash;|&mdash;&mdash;|\n",
        "|||||||||&#9744;|&#9744;|&#9744;|s||||||\n",
        "|||||||||&#9744;|&#9744;|&#9744;|s||||||\n",
        "|||||||||&mdash;&mdash;|&mdash;&mdash;|&mdash;&mdash;|&mdash;&mdash;||\n",
        "||||||||||||0||||||||\n",
        "\n"
      ],
      "metadata": {
        "id": "WKrYSeSgrdun"
      }
    },
    {
      "cell_type": "code",
      "source": [],
      "metadata": {
        "id": "WidLn5oW3kHl"
      },
      "execution_count": null,
      "outputs": []
    },
    {
      "cell_type": "code",
      "source": [
        "\n",
        "%%time\n",
        "\n",
        "for a in range(2,10):\n",
        "  for b in range(1,10):\n",
        "    for c in range(2,10):\n",
        "      for d in range(10):\n",
        "        for e in range(10):\n",
        "          for f in range(10):\n",
        "            cdef = 1000*c + 100*d + 10*e + f\n",
        "            if (\n",
        "                10000 <= cdef * a <= 89999 and\n",
        "                (e*a)//10 + (d*a)%10 == 5 and\n",
        "                10000 <= cdef * 5 <= 49995 and\n",
        "                1000 <= cdef * b <= 9999\n",
        "               ):\n",
        "              for p in range(1,10):\n",
        "                for q in range(10):\n",
        "                  for r in range(10):\n",
        "                    for s in range(10):\n",
        "                      a5b = 100*a + 50 + b\n",
        "                      p55qr5s = 1000000*p + 550000 + 1000*q + 100*r + 50 + s\n",
        "                      if (\n",
        "                          cdef * a5b == p55qr5s and\n",
        "                          cdef * b == p55qr5s - cdef * (100*a + 50) \n",
        "                         ) :\n",
        "                         reminder_1 = 10000*p + 5500 + 10*q +r - cdef*a\n",
        "                         reminder_2 = (reminder_1 * 10 + 5) - cdef * 5\n",
        "                         print('          ',str(a5b))\n",
        "                         print('     ____________')\n",
        "                         print(str(cdef), ')', str(p55qr5s))\n",
        "                         print('      ',str(cdef*a))\n",
        "                         print('     ---------')\n",
        "                         print('       ',str(reminder_1 * 10 + 5))\n",
        "                         print('       ',str(cdef*5))\n",
        "                         print('       --------')\n",
        "                         print('         ',str(reminder_2*10 + s))\n",
        "                         print('         ',str(cdef*b))\n",
        "                         print('       ---------')\n",
        "                         print('            ',0)\n",
        "                         print()\n",
        "\n",
        "'''\n",
        "Result\n",
        "\n",
        "           652\n",
        "     ____________\n",
        "3926 ) 2559752\n",
        "       23556\n",
        "     ---------\n",
        "        20415\n",
        "        19630\n",
        "       --------\n",
        "          7852\n",
        "          7852\n",
        "       ---------\n",
        "             0\n",
        "\n",
        "CPU times: user 49.3 s, sys: 92.2 ms, total: 49.4 s\n",
        "Wall time: 50.1 s\n",
        "'''"
      ],
      "metadata": {
        "id": "Ji46BFdD3kkk"
      },
      "execution_count": null,
      "outputs": []
    },
    {
      "cell_type": "markdown",
      "source": [
        "# ★ &#9744;&#9744;&#9744;&#9744;&#9744;&#9744;&#9744;&#9744; / &#9744;&#9744;&#9744;  = &#9744;7&#9744;&#9744;&#9744;"
      ],
      "metadata": {
        "id": "Q3rmFb-q9G5A"
      }
    },
    {
      "cell_type": "markdown",
      "source": [
        "\n",
        "\n",
        "||||||||||||||||\n",
        "|:-:|:-:|:-:|:-:|:-:|:-:|:-:|:-:|:-:|:-:|:-:|:-:|:-:|:-:|:-:|\n",
        "|||||||||&#9744;|7|&#9744;|&#9744;|&#9744;||\n",
        "|||||___|___|___|___|___|___|___|___|___|||\n",
        "||&#9744;|&#9744;|&#9744;|)|&#9744;|&#9744;|&#9744;|&#9744;|&#9744;|&#9744;|&#9744;|&#9744;\n",
        "||||||&#9744;|&#9744;|&#9744;|&#9744;|||||||\n",
        "||||||&mdash;&mdash;|&mdash;&mdash;|&mdash;&mdash;|&mdash;&mdash;|&mdash;&mdash;|&mdash;&mdash;||\n",
        "||||||||&#9744;|&#9744;|&#9744;||||||||\n",
        "||||||||&#9744;|&#9744;|&#9744;||||||||\n",
        "||||||&mdash;&mdash;|&mdash;&mdash;|&mdash;&mdash;|&mdash;&mdash;|&mdash;&mdash;|&mdash;&mdash;||\n",
        "||||||||&#9744;|&#9744;|&#9744;|&#9744;|||||||\n",
        "|||||||||&#9744;|&#9744;|&#9744;|||||||\n",
        "|||||||||&mdash;&mdash;|&mdash;&mdash;|&mdash;&mdash;|&mdash;&mdash;|&mdash;&mdash;|\n",
        "||||||||||&#9744;|&#9744;|&#9744;|&#9744;|||||\n",
        "||||||||||&#9744;|&#9744;|&#9744;|&#9744;|||||\n",
        "|||||||||&mdash;&mdash;|&mdash;&mdash;|&mdash;&mdash;|&mdash;&mdash;|&mdash;&mdash;||\n",
        "|||||||||||||0||||||||\n",
        "\n"
      ],
      "metadata": {
        "id": "GZySEJ_SkNaG"
      }
    },
    {
      "cell_type": "markdown",
      "source": [
        "\n",
        "\n",
        "||||||||||||||||\n",
        "|:-:|:-:|:-:|:-:|:-:|:-:|:-:|:-:|:-:|:-:|:-:|:-:|:-:|:-:|:-:|\n",
        "|||||||||&#9733;|7|&#9744;|&#9734;|&#9733;||\n",
        "|||||___|___|___|___|___|___|___|___|___|||\n",
        "||&hearts;|&clubs;|&#9744;|)|&#9744;|&#9744;|&#9744;|&#9744;|&#9744;|&#9744;|&#9744;|&#9744;\n",
        "||||||&hearts;|&#9744;|&#9744;|&#9744;|||||||\n",
        "||||||&mdash;&mdash;|&mdash;&mdash;|&mdash;&mdash;|&mdash;&mdash;|&mdash;&mdash;|&mdash;&mdash;||\n",
        "||||||||&#9744;|&#9744;|&#9744;||||||||\n",
        "||||||||&#9744;|&#9744;|&#9744;||||||||\n",
        "||||||&mdash;&mdash;|&mdash;&mdash;|&mdash;&mdash;|&mdash;&mdash;|&mdash;&mdash;|&mdash;&mdash;||\n",
        "||||||||&hearts;|&#9744;|&#9744;|&#9744;|||||||\n",
        "|||||||||&spades;|&#9744;|&#9744;|||||||\n",
        "|||||||||&mdash;&mdash;|&mdash;&mdash;|&mdash;&mdash;|&mdash;&mdash;|&mdash;&mdash;|\n",
        "||||||||||&hearts;|&#9744;|&#9744;|&#9744;|||||\n",
        "||||||||||&hearts;|&#9744;|&#9744;|&#9744;|||||\n",
        "|||||||||&mdash;&mdash;|&mdash;&mdash;|&mdash;&mdash;|&mdash;&mdash;|&mdash;&mdash;||\n",
        "|||||||||||||0||||||||\n",
        "\n"
      ],
      "metadata": {
        "id": "SEKEsIzivHWp"
      }
    },
    {
      "cell_type": "markdown",
      "source": [
        "\n",
        "\n",
        "||||||||||||||||\n",
        "|:-:|:-:|:-:|:-:|:-:|:-:|:-:|:-:|:-:|:-:|:-:|:-:|:-:|:-:|:-:|\n",
        "|||||||||&#9733;|7|&#9744;|0|&#9733;||\n",
        "|||||___|___|___|___|___|___|___|___|___|||\n",
        "||1|&clubs;|&#9744;|)|&#9744;|&#9744;|&#9744;|&#9744;|&#9744;|&#9744;|&#9744;|&#9744;\n",
        "||||||1|&#9744;|&#9744;|&#9744;|||||||\n",
        "||||||&mdash;&mdash;|&mdash;&mdash;|&mdash;&mdash;|&mdash;&mdash;|&mdash;&mdash;|&mdash;&mdash;||\n",
        "||||||||&#9744;|&#9744;|&#9744;||||||||\n",
        "||||||||&diams;|&#9744;|&#9744;||||||||\n",
        "||||||&mdash;&mdash;|&mdash;&mdash;|&mdash;&mdash;|&mdash;&mdash;|&mdash;&mdash;|&mdash;&mdash;||\n",
        "||||||||1|&#9744;|&#9744;|&#9744;|||||||\n",
        "|||||||||9|&#9744;|&#9744;|||||||\n",
        "|||||||||&mdash;&mdash;|&mdash;&mdash;|&mdash;&mdash;|&mdash;&mdash;|&mdash;&mdash;|\n",
        "||||||||||1|&#9744;|&#9744;|&#9744;|||||\n",
        "||||||||||1|&#9744;|&#9744;|&#9744;|||||\n",
        "|||||||||&mdash;&mdash;|&mdash;&mdash;|&mdash;&mdash;|&mdash;&mdash;|&mdash;&mdash;||\n",
        "|||||||||||||0||||||||\n",
        "\n"
      ],
      "metadata": {
        "id": "tYosV4DmzsnI"
      }
    },
    {
      "cell_type": "markdown",
      "source": [
        "&diams; is not 9."
      ],
      "metadata": {
        "id": "aS-ireioWpWl"
      }
    },
    {
      "cell_type": "markdown",
      "source": [
        "\n",
        "\n",
        "||||||||||||||||\n",
        "|:-:|:-:|:-:|:-:|:-:|:-:|:-:|:-:|:-:|:-:|:-:|:-:|:-:|:-:|:-:|\n",
        "|||||||||c|7|d|0|e||\n",
        "|||||___|___|___|___|___|___|___|___|___|||\n",
        "||1|a|b|)|&#9744;|&#9744;|&#9744;|&#9744;|&#9744;|&#9744;|&#9744;|&#9744;\n",
        "||||||1|&#9744;|&#9744;|&#9744;|||||||\n",
        "||||||&mdash;&mdash;|&mdash;&mdash;|&mdash;&mdash;|&mdash;&mdash;|&mdash;&mdash;|&mdash;&mdash;||\n",
        "||||||||&#9744;|&#9744;|&#9744;||||||||\n",
        "||||||||&diams;|&#9744;|&#9744;||||||||\n",
        "||||||&mdash;&mdash;|&mdash;&mdash;|&mdash;&mdash;|&mdash;&mdash;|&mdash;&mdash;|&mdash;&mdash;||\n",
        "||||||||1|&#9744;|&#9744;|&#9744;|||||||\n",
        "|||||||||9|&#9744;|&#9744;|||||||\n",
        "|||||||||&mdash;&mdash;|&mdash;&mdash;|&mdash;&mdash;|&mdash;&mdash;|&mdash;&mdash;|\n",
        "||||||||||1|&#9744;|&#9744;|&#9744;|||||\n",
        "||||||||||1|&#9744;|&#9744;|&#9744;|||||\n",
        "|||||||||&mdash;&mdash;|&mdash;&mdash;|&mdash;&mdash;|&mdash;&mdash;|&mdash;&mdash;||\n",
        "|||||||||||||0||||||||\n",
        "\n"
      ],
      "metadata": {
        "id": "BNzcuGb07x10"
      }
    },
    {
      "cell_type": "markdown",
      "source": [
        "ABC $\\times$ X = 4 digits, ABC $\\times$ 7 = 3 digits, ABC $\\times$ Y = 3 digits, ABC $\\times$ Z = 4 digits\n",
        "\n",
        "Only X = 9, Y = 8 and Z = 9 are applied.\n",
        "\n",
        "Also, it is clear that A = 1"
      ],
      "metadata": {
        "id": "KDNv9oYA-EBc"
      }
    },
    {
      "cell_type": "code",
      "source": [
        "# 1st step : focusing on a,b,c,d,e\n",
        "\n",
        "%%time\n",
        "\n",
        "for a in [1, 2]:\n",
        "  for b in range(10):\n",
        "    for c in [8, 9]:\n",
        "      for d in range(10):\n",
        "        for e in [8, 9]:\n",
        "          _1ab = 100 + 10*a + b\n",
        "          if (\n",
        "              1000 <= _1ab * c <= 1999 and \n",
        "              100 <= _1ab * 7 <= 899 and\n",
        "              900 <= _1ab * d <= 999 and\n",
        "              1000 <= _1ab * e <= 1999                \n",
        "             ):\n",
        "            print(a,b,c,d,e)\n",
        " "
      ],
      "metadata": {
        "id": "ihqGdWRceAAn"
      },
      "execution_count": null,
      "outputs": []
    },
    {
      "cell_type": "code",
      "source": [
        "# 2nd step\n",
        "\n",
        "%%time\n",
        "\n",
        "for a in [1, 2]:\n",
        "  for b in range(10):\n",
        "    for c in [8, 9]:\n",
        "      for d in range(10):\n",
        "        for e in [8, 9]:\n",
        "          _1ab = 100 + 10*a + b\n",
        "          if (\n",
        "              1000 <= _1ab * c <= 1999 and \n",
        "              100 <= _1ab * 7 <= 899 and\n",
        "              900 <= _1ab * d <= 999 and\n",
        "              1000 <= _1ab * e <= 1999     \n",
        "             ):\n",
        "            answer = 10000*c + 1000*7 + 100*d + e\n",
        "            dividend = _1ab * answer\n",
        "\n",
        "            fourth_digit = (dividend//1000)%10\n",
        "            third_digit = (dividend//100)%10\n",
        "            last_two_digits = dividend%100\n",
        "\n",
        "            reminder_1 = dividend//10000 - _1ab*c\n",
        "            reminder_2 = reminder_1*10 + fourth_digit - _1ab*7\n",
        "            if 100 <= reminder_2 <= 199:\n",
        "              reminder_3 = reminder_2*10 + third_digit - _1ab*d\n",
        "              if _1ab*e == reminder_3*100 + last_two_digits :\n",
        "                print('        ',str(answer))\n",
        "                print('     ____________')\n",
        "                print(str(_1ab), ')', str(dividend))\n",
        "                print('     ',str(_1ab*c))\n",
        "                print('     ---------')\n",
        "                print('       ',str(reminder_1*10 + fourth_digit))\n",
        "                print('       ',str(_1ab*7))\n",
        "                print('       --------')\n",
        "                print('       ',str(reminder_2*10 + third_digit))\n",
        "                print('        ',str(_1ab*d))\n",
        "                print('       ---------')\n",
        "                print('         ',str(reminder_3*100 + last_two_digits))\n",
        "                print('         ',str(_1ab*e))\n",
        "                print('       ---------')\n",
        "                print('            ',0)\n",
        "                print()\n",
        " "
      ],
      "metadata": {
        "id": "D5MmBlV6oNsp"
      },
      "execution_count": null,
      "outputs": []
    },
    {
      "cell_type": "markdown",
      "source": [
        "Answer\n",
        "\n",
        "||||||||||||||||\n",
        "|:-:|:-:|:-:|:-:|:-:|:-:|:-:|:-:|:-:|:-:|:-:|:-:|:-:|:-:|:-:|\n",
        "|||||||||9|7|8|0|9||\n",
        "|||||___|___|___|___|___|___|___|___|___|||\n",
        "||1|2|4|)|1|2|1|2|8|3|1|6|\n",
        "||||||1|1|1|6|||||||\n",
        "||||||&mdash;&mdash;|&mdash;&mdash;|&mdash;&mdash;|&mdash;&mdash;|&mdash;&mdash;|&mdash;&mdash;||\n",
        "||||||||9|6|8||||||||\n",
        "||||||||8|6|8||||||||\n",
        "||||||&mdash;&mdash;|&mdash;&mdash;|&mdash;&mdash;|&mdash;&mdash;|&mdash;&mdash;|&mdash;&mdash;||\n",
        "||||||||1|0|0|3|||||||\n",
        "|||||||||9|9|2|||||||\n",
        "|||||||||&mdash;&mdash;|&mdash;&mdash;|&mdash;&mdash;|&mdash;&mdash;|&mdash;&mdash;|\n",
        "||||||||||1|1|1|6|||||\n",
        "||||||||||1|1|1|6|||||\n",
        "|||||||||&mdash;&mdash;|&mdash;&mdash;|&mdash;&mdash;|&mdash;&mdash;|&mdash;&mdash;||\n",
        "|||||||||||||0||||||||\n",
        "\n"
      ],
      "metadata": {
        "id": "Qh-kBjBJeEW-"
      }
    },
    {
      "cell_type": "markdown",
      "source": [
        "# ★ XLQAB $\\times$ AKLB = FFLBQCXB"
      ],
      "metadata": {
        "id": "mxgvGiKXAnda"
      }
    },
    {
      "cell_type": "markdown",
      "source": [
        "\n",
        "\n",
        "||||||||||||||||\n",
        "|:-:|:-:|:-:|:-:|:-:|:-:|:-:|:-:|:-:|:-:|:-:|:-:|:-:|:-:|:-:|\n",
        "||||||||X|L|Q|A|B||||\n",
        "|$\\times$ )||||||||A|K|L|B||||\n",
        "|&mdash;&mdash;|&mdash;&mdash;|&mdash;&mdash;|&mdash;&mdash;|&mdash;&mdash;|&mdash;&mdash;|&mdash;&mdash;|&mdash;&mdash;|&mdash;&mdash;|&mdash;&mdash;|&mdash;&mdash;|&mdash;&mdash;|&mdash;&mdash;|\n",
        "||||||||F|H|A|L|B||||\n",
        "|||||||L|H|F|B|K|||||\n",
        "|||||X|C|B|C|D|K||||||\n",
        "|||||B|B|Q|K|C|||||||\n",
        "|&mdash;&mdash;|&mdash;&mdash;|&mdash;&mdash;|&mdash;&mdash;|&mdash;&mdash;|&mdash;&mdash;|&mdash;&mdash;|&mdash;&mdash;|&mdash;&mdash;|&mdash;&mdash;|&mdash;&mdash;|&mdash;&mdash;|&mdash;&mdash;|\n",
        "|||||F|F|L|B|Q|C|X|B|||||||\n",
        "\n"
      ],
      "metadata": {
        "id": "lV4iEpBgWg0x"
      }
    },
    {
      "cell_type": "code",
      "source": [
        "\n",
        "%%time\n",
        "from itertools import permutations\n",
        "\n",
        "for A,B,C,D,F,H,K,L,Q,X in permutations(range(10),10):\n",
        "  XLQAB = 10000*X + 1000*L + 100*Q + 10*A + B \n",
        "  AKLB = 1000*A + 100*K + 10*L + B\n",
        "  FFLBQCXB = 10000000*F + 1000000*F + 100000*L + 10000*B + 1000*Q + 100*C + 10*X + B\n",
        "  if XLQAB*AKLB==FFLBQCXB :\n",
        "    print(XLQAB, '×', AKLB, '=', FFLBQCXB)\n",
        "    print()\n",
        "    print('        ',XLQAB)\n",
        "    print('×)','      ',AKLB)\n",
        "    print('------------------')\n",
        "    print('        ',XLQAB * B)\n",
        "    print('       ',XLQAB * L)\n",
        "    print('     ',XLQAB * K)\n",
        "    print('     ',XLQAB * A)\n",
        "    print('-------------------')\n",
        "    print('     ',FFLBQCXB)\n",
        "    print()\n"
      ],
      "metadata": {
        "id": "goPoXGrBwdJp"
      },
      "execution_count": null,
      "outputs": []
    },
    {
      "cell_type": "markdown",
      "source": [
        "# ★ 6&#9744;&#9744; $\\times$ &#9744;6&#9744; = &#9744;6&#9744;&#9744;6&#9744; "
      ],
      "metadata": {
        "id": "WMCs_2X3fIgF"
      }
    },
    {
      "cell_type": "markdown",
      "source": [
        "\n",
        "\n",
        "||||||||||||||||\n",
        "|:-:|:-:|:-:|:-:|:-:|:-:|:-:|:-:|:-:|:-:|:-:|:-:|:-:|:-:|:-:|\n",
        "|||||||6|&#9744;|&#9744;|||||\n",
        "|$\\times$ )||||||&#9744;|6|&#9744;|||||\n",
        "|&mdash;&mdash;|&mdash;&mdash;|&mdash;&mdash;|&mdash;&mdash;|&mdash;&mdash;|&mdash;&mdash;|&mdash;&mdash;|&mdash;&mdash;|&mdash;&mdash;|\n",
        "||||||&#9744;|&#9744;|&#9744;|6|||||\n",
        "|||||&#9744;|&#9744;|&#9744;|&#9744;||||||\n",
        "||||6|&#9744;|&#9744;|&#9744;|||||||\n",
        "|&mdash;&mdash;|&mdash;&mdash;|&mdash;&mdash;|&mdash;&mdash;|&mdash;&mdash;|&mdash;&mdash;|&mdash;&mdash;|&mdash;&mdash;|&mdash;&mdash;|\n",
        "||||&#9744;|6|&#9744;|&#9744;|6|&#9744;||||||\n",
        "\n"
      ],
      "metadata": {
        "id": "yE-0xHsYfIgT"
      }
    },
    {
      "cell_type": "markdown",
      "source": [
        "Set character in each &#9744; of multiple numbers"
      ],
      "metadata": {
        "id": "IJ6VpDdQI0ju"
      }
    },
    {
      "cell_type": "markdown",
      "source": [
        "\n",
        "\n",
        "||||||||||||||||\n",
        "|:-:|:-:|:-:|:-:|:-:|:-:|:-:|:-:|:-:|:-:|:-:|:-:|:-:|:-:|:-:|\n",
        "|||||||6|a|b|||||\n",
        "|$\\times$ )||||||c|6|d|||||\n",
        "|&mdash;&mdash;|&mdash;&mdash;|&mdash;&mdash;|&mdash;&mdash;|&mdash;&mdash;|&mdash;&mdash;|&mdash;&mdash;|&mdash;&mdash;|&mdash;&mdash;|\n",
        "||||||&#9744;|&#9744;|&#9744;|6|||||\n",
        "|||||&#9744;|&#9744;|&#9744;|&#9744;||||||\n",
        "||||6|&#9744;|&#9744;|&#9744;|||||||\n",
        "|&mdash;&mdash;|&mdash;&mdash;|&mdash;&mdash;|&mdash;&mdash;|&mdash;&mdash;|&mdash;&mdash;|&mdash;&mdash;|&mdash;&mdash;|&mdash;&mdash;|\n",
        "||||&#9744;|6|&#9744;|&#9744;|6|&#9744;||||||\n",
        "\n"
      ],
      "metadata": {
        "id": "Rt4fsl8E7QdG"
      }
    },
    {
      "cell_type": "code",
      "source": [],
      "metadata": {
        "id": "K2Lfps2EUWvY"
      },
      "execution_count": null,
      "outputs": []
    },
    {
      "cell_type": "code",
      "source": [
        "# As first of variable should be character, set s instead of 6.\n",
        "# Set s = 6 and formula is expressed as sab × c6d, but s,a,b,c,d could be same number.\n",
        "# Findings\n",
        "# (1) Each digit of each product is 4 and thousand place of 6ab × c is 6, so c = 9.\n",
        "# (2) Ones place of b * d is 6.\n",
        "# line1,2,3 in below code represents product of sab * d, sab * 6 and sab * c.\n",
        "\n",
        "from itertools import product\n",
        "\n",
        "list_y = [1000, 100, 10, 1]\n",
        "list_a = [100000, 10000, 1000, 100, 10, 1]\n",
        "\n",
        "for a,b,c,d in product(range(10), repeat=4):\n",
        "  s = 6           \n",
        "  sab = 100*6 + 10*a + b \n",
        "  c6d = 100*c + 10*6 + d\n",
        "  if (\n",
        "      1000 <= sab * d <= 9999 and\n",
        "      1000 <= sab * 6 <= 4999 and\n",
        "      6000 <= sab * c <= 6999 and\n",
        "      600000 <= sab * c6d <= 999999\n",
        "     ) :\n",
        "     line1 = [(sab * d // y) % 10 for y in list_y]\n",
        "     line2 = [(sab * 6 // y) % 10 for y in list_y]\n",
        "     line3 = [(sab * c // y) % 10 for y in list_y]\n",
        "     answer = [(sab * c6d // y) % 10 for y in list_a]\n",
        "     if (\n",
        "         c == 9\n",
        "         and\n",
        "         (b * d) % 10 == 6 \n",
        "         and\n",
        "         line1[3] == 6 and line3[0] == 6 and answer[1] == 6 and answer[4] == 6  \n",
        "         and\n",
        "         # Possible ones place considering carrying up\n",
        "         (((line1[2] + line2[3]) % 10 == 6) or \n",
        "          ((line1[2] + line2[3] + 1) % 10 == 6)  \n",
        "          )\n",
        "         and\n",
        "         (((line2[0] + line3[1] ) % 10 == 6) or \n",
        "          ((line2[0] + line3[1] + 1) % 10 == 6) or\n",
        "          ((line2[0] + line3[1] + 2) % 10 == 6)) \n",
        "         ) :\n",
        "         print(sab, '×', c6d, '=', sab * c6d)\n",
        "         print()\n",
        "         print('      ',sab)\n",
        "         print('×)','   ',c6d)\n",
        "         print('------------------')\n",
        "         print('     ',sab * d)\n",
        "         print('    ',sab * 6)\n",
        "         print('   ',sab * c)\n",
        "         print('-------------------')\n",
        "         print('   ',sab * c6d)\n",
        "\n",
        "                          "
      ],
      "metadata": {
        "id": "zhrcU45HUXG6"
      },
      "execution_count": null,
      "outputs": []
    },
    {
      "cell_type": "markdown",
      "source": [
        "# ★ A&#9744;&#9744;&#9744; $\\times$ A&#9744;&#9744;&#9744; = &#9744;&#9744;&#9744;A&#9744;&#9744;&#9744; "
      ],
      "metadata": {
        "id": "n3qKyK_FwkK3"
      }
    },
    {
      "cell_type": "markdown",
      "source": [
        "\n",
        "\n",
        "||||||||||||||||\n",
        "|:-:|:-:|:-:|:-:|:-:|:-:|:-:|:-:|:-:|:-:|:-:|:-:|:-:|:-:|:-:|\n",
        "|||||||||A|&#9744;|&#9744;|&#9744;||||\n",
        "|$\\times$ )||||||||A|&#9744;|&#9744;|&#9744;||||\n",
        "|&mdash;&mdash;|&mdash;&mdash;|&mdash;&mdash;|&mdash;&mdash;|&mdash;&mdash;|&mdash;&mdash;|&mdash;&mdash;|&mdash;&mdash;|&mdash;&mdash;|&mdash;&mdash;|&mdash;&mdash;|&mdash;&mdash;|&mdash;&mdash;|\n",
        "|||||||||A|&#9744;|&#9744;|&#9744;||||\n",
        "||||||||&#9744;|A|&#9744;|&#9744;|||||\n",
        "|||||||&#9744;|&#9744;|A|&#9744;||||||\n",
        "||||||&#9744;|&#9744;|&#9744;|A|||||||\n",
        "|&mdash;&mdash;|&mdash;&mdash;|&mdash;&mdash;|&mdash;&mdash;|&mdash;&mdash;|&mdash;&mdash;|&mdash;&mdash;|&mdash;&mdash;|&mdash;&mdash;|&mdash;&mdash;|&mdash;&mdash;|&mdash;&mdash;|&mdash;&mdash;|\n",
        "||||||&#9744;|&#9744;|&#9744;|A|&#9744;|&#9744;|&#9744;||||\n",
        "\n"
      ],
      "metadata": {
        "id": "--ziV2lvCacr"
      }
    },
    {
      "cell_type": "markdown",
      "source": [
        "Set character"
      ],
      "metadata": {
        "id": "vJeO-r6ZVvZo"
      }
    },
    {
      "cell_type": "markdown",
      "source": [
        "\n",
        "\n",
        "||||||||||||||||\n",
        "|:-:|:-:|:-:|:-:|:-:|:-:|:-:|:-:|:-:|:-:|:-:|:-:|:-:|:-:|:-:|\n",
        "|||||||||A|b|c|d||||\n",
        "|$\\times$ )||||||||A|h|i|j||||\n",
        "|&mdash;&mdash;|&mdash;&mdash;|&mdash;&mdash;|&mdash;&mdash;|&mdash;&mdash;|&mdash;&mdash;|&mdash;&mdash;|&mdash;&mdash;|&mdash;&mdash;|&mdash;&mdash;|&mdash;&mdash;|&mdash;&mdash;|&mdash;&mdash;|\n",
        "|||||||||A|&#9744;|&#9744;|&#9744;||||\n",
        "||||||||&#9744;|A|&#9744;|&#9744;|||||\n",
        "|||||||&#9744;|&#9744;|A|&#9744;||||||\n",
        "||||||&#9744;|&#9744;|&#9744;|A|||||||\n",
        "|&mdash;&mdash;|&mdash;&mdash;|&mdash;&mdash;|&mdash;&mdash;|&mdash;&mdash;|&mdash;&mdash;|&mdash;&mdash;|&mdash;&mdash;|&mdash;&mdash;|&mdash;&mdash;|&mdash;&mdash;|&mdash;&mdash;|&mdash;&mdash;|\n",
        "||||||&#9744;|&#9744;|&#9744;|A|&#9744;|&#9744;|&#9744;||||\n",
        "\n"
      ],
      "metadata": {
        "id": "KVooFrXCVZTZ"
      }
    },
    {
      "cell_type": "code",
      "source": [
        "# Expressing as Abcd × Ahij, but A,b,c,d,h,i,j could be same number.\n",
        "# Findings are the problem\n",
        "# (1)A is not 0\n",
        "# (2)There is no carrying up in Axxx × A = xxxA, so A is 1 or 2 or 3.\n",
        "# (3)A + A + A + A + 0,1,2(carrying up) = (ones place is A)\n",
        "\n",
        "from itertools import product\n",
        "\n",
        "list_y = [1000, 100, 10, 1]\n",
        "list_a = [1000000, 100000, 10000, 1000, 100, 10, 1]\n",
        "\n",
        "for A,b,c,d,h,i,j in product(range(10), repeat=7):\n",
        "  Abcd = 1000*A + 100*b + 10*c + d \n",
        "  Ahij = 1000*A + 100*h + 10*i + j\n",
        "  if (\n",
        "      1000 <= Abcd * j <= 9999 and\n",
        "      1000 <= Abcd * i <= 9999 and\n",
        "      1000 <= Abcd * h <= 9999 and\n",
        "      1000 <= Abcd * A <= 9999 and\n",
        "      1000000 <= Abcd * Ahij <= 9999999\n",
        "     ) :\n",
        "     line1 = [(Abcd * j // y) % 10 for y in list_y]\n",
        "     line2 = [(Abcd * i // y) % 10 for y in list_y]\n",
        "     line3 = [(Abcd * h // y) % 10 for y in list_y]\n",
        "     line4 = [(Abcd * A // y) % 10 for y in list_y]\n",
        "     answer = [(Abcd * Ahij // y) % 10 for y in list_a]\n",
        "     if (\n",
        "         # (1) in Findings\n",
        "         A != 0\n",
        "         and\n",
        "         # (2) in Findings\n",
        "         (A == 1 or A == 2 or A == 3)\n",
        "         and\n",
        "         # All A in thousands place, hundreds palce, tens place and ones place of each product of each multiple\n",
        "         line1[0] == line2[1] == line3[2] == line4[3] == answer[3] == A\n",
        "         and\n",
        "         # (3) in Findings\n",
        "         ((line1[0] + line2[1] + line3[2] + line4[3]) % 10 == A or (line1[0] + line2[1] + line3[2] + line4[3] + 1) % 10 == A or (line1[0] + line2[1] + line3[2] + line4[3] + 2) % 10 == A) \n",
        "         ) :\n",
        "         print(Abcd, '×', Ahij, '=', Abcd * Ahij)\n",
        "         print()\n",
        "         #print(f\"{Abcd:>5}\")\n",
        "         print('     ',Abcd)\n",
        "         print('×)','  ',Ahij)\n",
        "         print('------------------')\n",
        "         print('     ',Abcd * j)\n",
        "         print('    ',Abcd * i)\n",
        "         print('   ',Abcd * h)\n",
        "         print('  ',Abcd * A)\n",
        "         print('-------------------')\n",
        "         print('  ',Abcd * Ahij)\n",
        "\n",
        "                          "
      ],
      "metadata": {
        "id": "zDFzKPzeBibR"
      },
      "execution_count": null,
      "outputs": []
    },
    {
      "cell_type": "markdown",
      "source": [
        "# ★ PUZZLE $\\times$ &#9744;&#9744;&#9744;&#9744;&#9744;&#9744;&#9744; = &#9744;P&#9744;U&#9744;Z&#9744;Z&#9744;L&#9744;E&#9744;"
      ],
      "metadata": {
        "id": "oiWuN4dJ-D3r"
      }
    },
    {
      "cell_type": "markdown",
      "source": [
        "\n",
        "||||||||||||||||\n",
        "|:-:|:-:|:-:|:-:|:-:|:-:|:-:|:-:|:-:|:-:|:-:|:-:|:-:|:-:|:-:|\n",
        "||||||||||P|U|Z|Z|L|E|\n",
        "|$\\times$ )||||||||&#9744;|&#9744;|&#9744;|&#9744;|&#9744;|&#9744;|&#9744;|\n",
        "|&mdash;&mdash;|&mdash;&mdash;|&mdash;&mdash;|&mdash;&mdash;|&mdash;&mdash;|&mdash;&mdash;|&mdash;&mdash;|&mdash;&mdash;|&mdash;&mdash;|&mdash;&mdash;|&mdash;&mdash;|&mdash;&mdash;|&mdash;&mdash;|&mdash;&mdash;|&mdash;&mdash;|\n",
        "|||||||||&#9744;|&#9744;|&#9744;|&#9744;|&#9744;|&#9744;|&#9744;|\n",
        "||||||||&#9744;|W|&#9744;|&#9744;|&#9744;|&#9744;|&#9744;|||\n",
        "|||||||&#9744;|&#9744;|O|&#9744;|&#9744;|&#9744;|&#9744;||||\n",
        "||||||&#9744;|W|O|R|L|D|&#9744;|||||\n",
        "|||||&#9744;|&#9744;|&#9744;|&#9744;|L|&#9744;|&#9744;||||||\n",
        "||||&#9744;|&#9744;|&#9744;|&#9744;|&#9744;|D|&#9744;|||||||\n",
        "|||&#9744;|&#9744;|&#9744;|&#9744;|&#9744;|&#9744;|&#9744;||||||||\n",
        "|&mdash;&mdash;|&mdash;&mdash;|&mdash;&mdash;|&mdash;&mdash;|&mdash;&mdash;|&mdash;&mdash;|&mdash;&mdash;|&mdash;&mdash;|&mdash;&mdash;|&mdash;&mdash;|&mdash;&mdash;|&mdash;&mdash;|&mdash;&mdash;|&mdash;&mdash;|&mdash;&mdash;|\n",
        "|||&#9744;|P|&#9744;|U|&#9744;|Z|&#9744;|Z|&#9744;|L|&#9744;|E|&#9744;|\n",
        "\n"
      ],
      "metadata": {
        "id": "y20sju8NtZRr"
      }
    },
    {
      "cell_type": "markdown",
      "source": [
        "\n",
        "||||||||||||||||\n",
        "|:-:|:-:|:-:|:-:|:-:|:-:|:-:|:-:|:-:|:-:|:-:|:-:|:-:|:-:|:-:|\n",
        "||||||||||P|U|Z|Z|L|E|\n",
        "|$\\times$ )||||||||a|b|c|d|e|f|g|\n",
        "|&mdash;&mdash;|&mdash;&mdash;|&mdash;&mdash;|&mdash;&mdash;|&mdash;&mdash;|&mdash;&mdash;|&mdash;&mdash;|&mdash;&mdash;|&mdash;&mdash;|&mdash;&mdash;|&mdash;&mdash;|&mdash;&mdash;|&mdash;&mdash;|&mdash;&mdash;|&mdash;&mdash;|\n",
        "|||||||||&#9744;|&#9744;|&#9744;|&#9744;|&#9744;|&#9744;|&#9744;|\n",
        "||||||||&#9744;|W|&#9744;|&#9744;|&#9744;|&#9744;|&#9744;|||\n",
        "|||||||&#9744;|&#9744;|O|&#9744;|&#9744;|&#9744;|&#9744;||||\n",
        "||||||&#9744;|W|O|R|L|D|&#9744;|||||\n",
        "|||||&#9744;|&#9744;|&#9744;|&#9744;|L|&#9744;|&#9744;||||||\n",
        "||||&#9744;|&#9744;|&#9744;|&#9744;|&#9744;|D|&#9744;|||||||\n",
        "|||&#9744;|&#9744;|&#9744;|&#9744;|&#9744;|&#9744;|&#9744;||||||||\n",
        "|&mdash;&mdash;|&mdash;&mdash;|&mdash;&mdash;|&mdash;&mdash;|&mdash;&mdash;|&mdash;&mdash;|&mdash;&mdash;|&mdash;&mdash;|&mdash;&mdash;|&mdash;&mdash;|&mdash;&mdash;|&mdash;&mdash;|&mdash;&mdash;|&mdash;&mdash;|&mdash;&mdash;|\n",
        "|||&#9744;|P|&#9744;|U|&#9744;|Z|&#9744;|Z|&#9744;|L|&#9744;|E|&#9744;|\n",
        "\n"
      ],
      "metadata": {
        "id": "dvzDUylhYo-n"
      }
    },
    {
      "cell_type": "code",
      "source": [
        "\n",
        "%%time\n",
        "\n",
        "from itertools import permutations\n",
        "\n",
        "list1 = [[b,c,e,f] for b in range(2,10) for c in range(2,10) for e in range(2,10) for f in range(2,10)]\n",
        "\n",
        "for P,U,Z,L,E,W,O,R,D in permutations(range(10),9):\n",
        "  PUZZLE = 100000*P + 10000*U + 1000*Z + 100*Z + 10*L + E\n",
        "  for d in range(2,10):\n",
        "    if (\n",
        "        ((PUZZLE * d)//100000)%10 == W and\n",
        "        ((PUZZLE * d)//10000)%10 == O and\n",
        "        ((PUZZLE * d)//1000)%10 == R and\n",
        "        ((PUZZLE * d)//100)%10 == L and\n",
        "        ((PUZZLE * d)//10)%10 == D\n",
        "       ):\n",
        "      for b,c,e,f in list1:\n",
        "        if (\n",
        "            ((PUZZLE * f)//100000)%10 == W and\n",
        "            ((PUZZLE * e)//10000)%10 == O and\n",
        "            ((PUZZLE * c)//100)%10 == L and\n",
        "            ((PUZZLE * b)//10)%10 == D\n",
        "            ) :\n",
        "            for a in range(2,10):\n",
        "              for g in range(2,10):\n",
        "                 abcdefg = 1000000*a + 100000*b + 10000*c + 1000*d + 100*e + 10*f + g\n",
        "                 if (\n",
        "                    ((PUZZLE * abcdefg)//100000000000)%10 == P and\n",
        "                    ((PUZZLE * abcdefg)//1000000000)%10 == U and\n",
        "                    ((PUZZLE * abcdefg)//10000000)%10 == Z and\n",
        "                    ((PUZZLE * abcdefg)//100000)%10 == Z and\n",
        "                    ((PUZZLE * abcdefg)//1000)%10 == L and\n",
        "                    ((PUZZLE * abcdefg)//10)%10 == E\n",
        "                    ) :\n",
        "                    print(PUZZLE, '×', abcdefg, '=', PUZZLE * abcdefg)\n",
        "                    print()\n",
        "                    print('          ',PUZZLE)\n",
        "                    print('×)','      ',abcdefg)\n",
        "                    print('------------------')\n",
        "                    print('         ',PUZZLE * g)\n",
        "                    print('        ',PUZZLE * f)\n",
        "                    print('       ',PUZZLE * e)\n",
        "                    print('      ',PUZZLE * d)\n",
        "                    print('     ',PUZZLE * c)\n",
        "                    print('    ',PUZZLE * b)\n",
        "                    print('   ',PUZZLE * a)\n",
        "                    print('-------------------')\n",
        "                    print('   ',PUZZLE * abcdefg)\n",
        "                    print()\n",
        "\n",
        "'''\n",
        "695503 × 6684445 = 4649051550835\n",
        "\n",
        "           695503\n",
        "×)        6684445\n",
        "------------------\n",
        "          3477515\n",
        "         2782012\n",
        "        2782012\n",
        "       2782012\n",
        "      5564024\n",
        "     4173018\n",
        "    4173018\n",
        "-------------------\n",
        "    4649051550835\n",
        "\n",
        "CPU times: user 10.4 s, sys: 26 ms, total: 10.4 s\n",
        "Wall time: 10.4 s\n",
        "'''\n"
      ],
      "metadata": {
        "id": "_mtpcBS8iUYD"
      },
      "execution_count": null,
      "outputs": []
    },
    {
      "cell_type": "markdown",
      "source": [
        "Answer\n",
        "\n",
        "||||||||||||||||\n",
        "|:-:|:-:|:-:|:-:|:-:|:-:|:-:|:-:|:-:|:-:|:-:|:-:|:-:|:-:|:-:|\n",
        "||||||||||6|9|5|5|0|3|\n",
        "|$\\times$ )||||||||6|6|8|4|4|4|5|\n",
        "|&mdash;&mdash;|&mdash;&mdash;|&mdash;&mdash;|&mdash;&mdash;|&mdash;&mdash;|&mdash;&mdash;|&mdash;&mdash;|&mdash;&mdash;|&mdash;&mdash;|&mdash;&mdash;|&mdash;&mdash;|&mdash;&mdash;|&mdash;&mdash;|&mdash;&mdash;|&mdash;&mdash;|\n",
        "|||||||||3|4|7|7|5|1|5|\n",
        "||||||||2|7|8|2|0|1|2|||\n",
        "|||||||2|7|8|2|0|1|2||||\n",
        "||||||2|7|8|2|0|1|2|||||\n",
        "|||||5|5|6|4|0|2|4||||||\n",
        "||||4|1|7|3|0|1|8|||||||\n",
        "|||4|1|7|3|0|1|8||||||||\n",
        "|&mdash;&mdash;|&mdash;&mdash;|&mdash;&mdash;|&mdash;&mdash;|&mdash;&mdash;|&mdash;&mdash;|&mdash;&mdash;|&mdash;&mdash;|&mdash;&mdash;|&mdash;&mdash;|&mdash;&mdash;|&mdash;&mdash;|&mdash;&mdash;|&mdash;&mdash;|&mdash;&mdash;|\n",
        "|||4|6|4|9|0|5|1|5|5|0|8|3|5|\n",
        "\n"
      ],
      "metadata": {
        "id": "ETINiCfDhxO1"
      }
    },
    {
      "cell_type": "markdown",
      "source": [
        "# ★ &#9744;&#9744;&#9744;&#9744;&#9744;1 $\\times$ &#9744;&#9744;&#9744;&#9744;&#9744;2&#9744; = &#9744;&#9744;0&#9744;&#9744;&#9744;&#9744;&#9744;&#9744;&#9744;&#9744;&#9744;"
      ],
      "metadata": {
        "id": "tSAtQT_T_OCc"
      }
    },
    {
      "cell_type": "markdown",
      "source": [
        "\n",
        "||||||||||||||||\n",
        "|:-:|:-:|:-:|:-:|:-:|:-:|:-:|:-:|:-:|:-:|:-:|:-:|:-:|:-:|:-:|\n",
        "||||||||||&#9744;|&#9744;|&#9744;|&#9744;|&#9744;|1|\n",
        "|$\\times$ )||||||||&#9744;|&#9744;|&#9744;|&#9744;|&#9744;|2|&#9744;|\n",
        "|&mdash;&mdash;|&mdash;&mdash;|&mdash;&mdash;|&mdash;&mdash;|&mdash;&mdash;|&mdash;&mdash;|&mdash;&mdash;|&mdash;&mdash;|&mdash;&mdash;|&mdash;&mdash;|&mdash;&mdash;|&mdash;&mdash;|&mdash;&mdash;|&mdash;&mdash;|&mdash;&mdash;|\n",
        "||||||||||&#9744;|&#9744;|&#9744;|3|&#9744;|&#9744;|\n",
        "|||||||||&#9744;|&#9744;|&#9744;|4|&#9744;|&#9744;|||\n",
        "||||||||&#9744;|&#9744;|&#9744;|5|&#9744;|&#9744;||||\n",
        "|||||||&#9744;|&#9744;|&#9744;|6|&#9744;|&#9744;|||||\n",
        "||||||&#9744;|&#9744;|&#9744;|7|&#9744;|&#9744;||||||\n",
        "|||||&#9744;|&#9744;|&#9744;|8|&#9744;|&#9744;|||||||\n",
        "||||&#9744;|&#9744;|&#9744;|9|&#9744;|&#9744;||||||||\n",
        "|&mdash;&mdash;|&mdash;&mdash;|&mdash;&mdash;|&mdash;&mdash;|&mdash;&mdash;|&mdash;&mdash;|&mdash;&mdash;|&mdash;&mdash;|&mdash;&mdash;|&mdash;&mdash;|&mdash;&mdash;|&mdash;&mdash;|&mdash;&mdash;|&mdash;&mdash;|&mdash;&mdash;|\n",
        "||||&#9744;|&#9744;|0|&#9744;|&#9744;|&#9744;|&#9744;|&#9744;|&#9744;|&#9744;|&#9744;|&#9744;|\n",
        "\n"
      ],
      "metadata": {
        "id": "QEverVPvzlrU"
      }
    },
    {
      "cell_type": "markdown",
      "source": [
        "\n",
        "||||||||||||||||\n",
        "|:-:|:-:|:-:|:-:|:-:|:-:|:-:|:-:|:-:|:-:|:-:|:-:|:-:|:-:|:-:|\n",
        "||||||||||&#9744;|&#9744;|&#9744;|&#9744;|&#9744;|1|\n",
        "|$\\times$ )||||||||a|b|c|d|e|2|f|\n",
        "|&mdash;&mdash;|&mdash;&mdash;|&mdash;&mdash;|&mdash;&mdash;|&mdash;&mdash;|&mdash;&mdash;|&mdash;&mdash;|&mdash;&mdash;|&mdash;&mdash;|&mdash;&mdash;|&mdash;&mdash;|&mdash;&mdash;|&mdash;&mdash;|&mdash;&mdash;|&mdash;&mdash;|\n",
        "||||||||||&#9744;|&#9744;|&#9744;|3|&#9744;|f|\n",
        "|||||||||&#9744;|&#9744;|&#9744;|4|&#9744;|2|||\n",
        "||||||||&#9744;|&#9744;|&#9744;|5|&#9744;|e||||\n",
        "|||||||&#9744;|&#9744;|&#9744;|6|&#9744;|d|||||\n",
        "||||||&#9744;|&#9744;|&#9744;|7|&#9744;|c||||||\n",
        "|||||&#9744;|&#9744;|&#9744;|8|&#9744;|b|||||||\n",
        "||||&#9744;|&#9744;|&#9744;|9|&#9744;|a||||||||\n",
        "|&mdash;&mdash;|&mdash;&mdash;|&mdash;&mdash;|&mdash;&mdash;|&mdash;&mdash;|&mdash;&mdash;|&mdash;&mdash;|&mdash;&mdash;|&mdash;&mdash;|&mdash;&mdash;|&mdash;&mdash;|&mdash;&mdash;|&mdash;&mdash;|&mdash;&mdash;|&mdash;&mdash;|\n",
        "||||&#9744;|&#9744;|0|&#9744;|&#9744;|&#9744;|&#9744;|&#9744;|&#9744;|&#9744;|&#9744;|f|\n",
        "\n"
      ],
      "metadata": {
        "id": "H1rt09xG6Qjl"
      }
    },
    {
      "cell_type": "code",
      "source": [],
      "metadata": {
        "id": "mR_moHtKfrcZ"
      },
      "execution_count": null,
      "outputs": []
    },
    {
      "cell_type": "code",
      "source": [
        "\n",
        "%%time\n",
        "\n",
        "from itertools import permutations\n",
        "\n",
        "for s in [2,7]:\n",
        "  for t in [1,2,3,4]:\n",
        "    for a,b,c,d,e,f in permutations([1,3,4,5,6,7,8,9],6):\n",
        "      if (\n",
        "          (t*f)//10 + (s*f)%10 == 3 and\n",
        "          (t*2)//10 + (s*2)%10 == 4 and\n",
        "          (t*e)//10 + (s*e)%10 == 5 and\n",
        "          (t*d)//10 + (s*d)%10 == 6 and\n",
        "          (t*c)//10 + (s*c)%10 == 7 and\n",
        "          (t*b)//10 + (s*b)%10 == 8 and\n",
        "          (t*a)//10 + (s*a)%10 == 9 \n",
        "         ) :\n",
        "         #print(a,b,c,d,e,f,s,t)\n",
        "         for p in range(1,10):\n",
        "           for q in range(10):\n",
        "             for r in range(10):\n",
        "               pqrst1 = 100000*p + 10000*q + 1000*r + 100*s + 10*t + 1\n",
        "               abcde2f = 1000000*a + 100000*b + 10000*c + 1000*d + 100*e + 10*2 + f\n",
        "               if (\n",
        "                   100000 < pqrst1 * f < 1000000 and \n",
        "                   100000 < pqrst1 * 2 < 1000000 and\n",
        "                   100000 < pqrst1 * e < 1000000 and\n",
        "                   100000 < pqrst1 * d < 1000000 and\n",
        "                   100000 < pqrst1 * c < 1000000 and\n",
        "                   100000 < pqrst1 * b < 1000000 and\n",
        "                   100000 < pqrst1 * a < 1000000 and\n",
        "                   100000000000 <= pqrst1 * abcde2f < 1000000000000 and\n",
        "                   ((pqrst1 * abcde2f)//1000000000)%10 == 0 \n",
        "                   ):\n",
        "                 print(pqrst1, '×', abcde2f, '=', pqrst1 * abcde2f)\n",
        "                 print()\n",
        "                 print('         ',pqrst1)\n",
        "                 print('×)','     ',abcde2f)\n",
        "                 print('------------------')\n",
        "                 print('         ',pqrst1 * f)\n",
        "                 print('        ',pqrst1 * 2)\n",
        "                 print('       ',pqrst1 * e)\n",
        "                 print('      ',pqrst1 * d)\n",
        "                 print('     ',pqrst1 * c)\n",
        "                 print('    ',pqrst1 * b)\n",
        "                 print('   ',pqrst1 * a)\n",
        "                 print('-------------------')\n",
        "                 print('   ',pqrst1 * abcde2f)\n",
        "                 print()\n",
        "\n",
        "'''\n",
        "     Result\n",
        "\n",
        "    100221 × 9483726 = 950468503446\n",
        "\n",
        "          100221\n",
        "×)       9483726\n",
        "------------------\n",
        "          601326\n",
        "         200442\n",
        "        701547\n",
        "       300663\n",
        "      801768\n",
        "     400884\n",
        "    901989\n",
        "-------------------\n",
        "    950468503446\n",
        "\n",
        "CPU times: user 81.1 ms, sys: 2.67 ms, total: 83.8 ms\n",
        "Wall time: 83 ms\n",
        "'''        \n",
        "\n"
      ],
      "metadata": {
        "id": "Q27uwhqEHGEb"
      },
      "execution_count": null,
      "outputs": []
    },
    {
      "cell_type": "code",
      "source": [
        "\n",
        "%%time\n",
        "\n",
        "from itertools import permutations\n",
        "\n",
        "for s in [2,7]:\n",
        "  for t in [1,2,3,4]:\n",
        "    for a,b,c,d,e,f in permutations([1,3,4,5,6,7,8,9],6):\n",
        "      for p in range(1,10):\n",
        "           for q in range(10):\n",
        "             for r in range(10):\n",
        "               pqrst1 = 100000*p + 10000*q + 1000*r + 100*s + 10*t + 1\n",
        "               abcde2f = 1000000*a + 100000*b + 10000*c + 1000*d + 100*e + 10*2 + f\n",
        "               if (\n",
        "                   (t*f)//10 + (s*f)%10 == 3 and\n",
        "                   (t*2)//10 + (s*2)%10 == 4 and\n",
        "                   (t*e)//10 + (s*e)%10 == 5 and\n",
        "                   (t*d)//10 + (s*d)%10 == 6 and\n",
        "                   (t*c)//10 + (s*c)%10 == 7 and\n",
        "                   (t*b)//10 + (s*b)%10 == 8 and\n",
        "                   (t*a)//10 + (s*a)%10 == 9 and\n",
        "                   100000 < pqrst1 * f < 1000000 and \n",
        "                   100000 < pqrst1 * 2 < 1000000 and\n",
        "                   100000 < pqrst1 * e < 1000000 and\n",
        "                   100000 < pqrst1 * d < 1000000 and\n",
        "                   100000 < pqrst1 * c < 1000000 and\n",
        "                   100000 < pqrst1 * b < 1000000 and\n",
        "                   100000 < pqrst1 * a < 1000000 and\n",
        "                   100000000000 <= pqrst1 * abcde2f < 1000000000000 and\n",
        "                   ((pqrst1 * abcde2f)//1000000000)%10 == 0 \n",
        "                   ):\n",
        "                 print(pqrst1, '×', abcde2f, '=', pqrst1 * abcde2f)\n",
        "                 print()\n",
        "                 print('         ',pqrst1)\n",
        "                 print('×)','     ',abcde2f)\n",
        "                 print('------------------')\n",
        "                 print('         ',pqrst1 * f)\n",
        "                 print('        ',pqrst1 * 2)\n",
        "                 print('       ',pqrst1 * e)\n",
        "                 print('      ',pqrst1 * d)\n",
        "                 print('     ',pqrst1 * c)\n",
        "                 print('    ',pqrst1 * b)\n",
        "                 print('   ',pqrst1 * a)\n",
        "                 print('-------------------')\n",
        "                 print('   ',pqrst1 * abcde2f)\n",
        "                 print()\n",
        "                 \n",
        "'''\n",
        "Result\n",
        "100221 × 9483726 = 950468503446\n",
        "\n",
        "          100221\n",
        "×)       9483726\n",
        "------------------\n",
        "          601326\n",
        "         200442\n",
        "        701547\n",
        "       300663\n",
        "      801768\n",
        "     400884\n",
        "    901989\n",
        "-------------------\n",
        "    950468503446\n",
        "\n",
        "CPU times: user 2min 53s, sys: 410 ms, total: 2min 53s\n",
        "Wall time: 2min 53s\n",
        "'''\n",
        "\n"
      ],
      "metadata": {
        "id": "Eo3YGsbHKujm"
      },
      "execution_count": null,
      "outputs": []
    },
    {
      "cell_type": "markdown",
      "source": [
        "# ★ &#9744;NIFTY&#9744; $\\times$ &#9744;SERVE&#9744; = &#9744;&#9744;&#9744;&#9744;&#9744;&#9744;RR&#9744;&#9744;&#9744;&#9744;&#9744;&#9744; "
      ],
      "metadata": {
        "id": "62strLwBqWpQ"
      }
    },
    {
      "cell_type": "markdown",
      "source": [
        "\n",
        "||||||||||||||||\n",
        "|:-:|:-:|:-:|:-:|:-:|:-:|:-:|:-:|:-:|:-:|:-:|:-:|:-:|:-:|:-:|\n",
        "|||||||||&#9744;|N|I|F|T|Y|&#9744;|||\n",
        "|$\\times$ )||||||||&#9744;|S|E|R|V|E|&#9744;|||\n",
        "|&mdash;&mdash;|&mdash;&mdash;|&mdash;&mdash;|&mdash;&mdash;|&mdash;&mdash;|&mdash;&mdash;|&mdash;&mdash;|&mdash;&mdash;|&mdash;&mdash;|&mdash;&mdash;|&mdash;&mdash;|&mdash;&mdash;|&mdash;&mdash;|&mdash;&mdash;|&mdash;&mdash;\n",
        "||||||||&#9744;|&#9744;|&#9744;|&#9744;|&#9744;|&#9744;|&#9744;|&#9744;|\n",
        "|||||||&#9744;|N|N|&#9744;|&#9744;|&#9744;|&#9744;|&#9744;|||\n",
        "||||||&#9744;|&#9744;|I|I|&#9744;|&#9744;|&#9744;|&#9744;||||\n",
        "|||||&#9744;|&#9744;|&#9744;|F|F|&#9744;|&#9744;|&#9744;|||||\n",
        "||||&#9744;|&#9744;|&#9744;|&#9744;|T|T|&#9744;|&#9744;||||||\n",
        "|||&#9744;|&#9744;|&#9744;|&#9744;|&#9744;|Y|Y|&#9744;|||||||\n",
        "||&#9744;|&#9744;|&#9744;|&#9744;|&#9744;|&#9744;|&#9744;|&#9744;||||||||\n",
        "|&mdash;&mdash;|&mdash;&mdash;|&mdash;&mdash;|&mdash;&mdash;|&mdash;&mdash;|&mdash;&mdash;|&mdash;&mdash;|&mdash;&mdash;|&mdash;&mdash;|&mdash;&mdash;|&mdash;&mdash;|&mdash;&mdash;|&mdash;&mdash;|&mdash;&mdash;|&mdash;&mdash;\n",
        "||&#9744;|&#9744;|&#9744;|&#9744;|&#9744;|&#9744;|R|R|&#9744;|&#9744;|&#9744;|&#9744;|&#9744;|&#9744;||\n",
        "\n"
      ],
      "metadata": {
        "id": "4VZZpku9mDKG"
      }
    },
    {
      "cell_type": "markdown",
      "source": [
        "\n",
        "||||||||||||||||\n",
        "|:-:|:-:|:-:|:-:|:-:|:-:|:-:|:-:|:-:|:-:|:-:|:-:|:-:|:-:|:-:|\n",
        "|||||||||a|N|I|F|T|Y|b|||\n",
        "|$\\times$ )||||||||c|S|E|R|V|E|d|||\n",
        "|&mdash;&mdash;|&mdash;&mdash;|&mdash;&mdash;|&mdash;&mdash;|&mdash;&mdash;|&mdash;&mdash;|&mdash;&mdash;|&mdash;&mdash;|&mdash;&mdash;|&mdash;&mdash;|&mdash;&mdash;|&mdash;&mdash;|&mdash;&mdash;|&mdash;&mdash;|&mdash;&mdash;\n",
        "||||||||&#9744;|&#9744;|&#9744;|&#9744;|&#9744;|&#9744;|&#9744;|&#9744;|\n",
        "|||||||&#9744;|N|N|&#9744;|&#9744;|&#9744;|&#9744;|&#9744;|||\n",
        "||||||&#9744;|&#9744;|I|I|&#9744;|&#9744;|&#9744;|&#9744;||||\n",
        "|||||&#9744;|&#9744;|&#9744;|F|F|&#9744;|&#9744;|&#9744;|||||\n",
        "||||&#9744;|&#9744;|&#9744;|&#9744;|T|T|&#9744;|&#9744;||||||\n",
        "|||&#9744;|&#9744;|&#9744;|&#9744;|&#9744;|Y|Y|&#9744;|||||||\n",
        "||&#9744;|&#9744;|&#9744;|&#9744;|&#9744;|&#9744;|&#9744;|&#9744;||||||||\n",
        "|&mdash;&mdash;|&mdash;&mdash;|&mdash;&mdash;|&mdash;&mdash;|&mdash;&mdash;|&mdash;&mdash;|&mdash;&mdash;|&mdash;&mdash;|&mdash;&mdash;|&mdash;&mdash;|&mdash;&mdash;|&mdash;&mdash;|&mdash;&mdash;|&mdash;&mdash;|&mdash;&mdash;\n",
        "||&#9744;|&#9744;|&#9744;|&#9744;|&#9744;|&#9744;|R|R|&#9744;|&#9744;|&#9744;|&#9744;|&#9744;|&#9744;||\n",
        "\n"
      ],
      "metadata": {
        "id": "VV6k20ovqWpR"
      }
    },
    {
      "cell_type": "code",
      "source": [],
      "metadata": {
        "id": "xCD52ja4qWpR"
      },
      "execution_count": null,
      "outputs": []
    },
    {
      "cell_type": "code",
      "source": [
        "# Took time over 4 minutes\n",
        "# Findings\n",
        "# a,b,c,d could be same number and those may be same as other than a,b,c,d.\n",
        "# (1) a,c are not 0.\n",
        "# (2) As each product is 8 digits, c,S.E,R,V,E,d is 2 or more.\n",
        "# (3) Different numbers are applied to different upper case characters.\n",
        "# (4) N,I,F,T,R are applicable in the numbers of line2~6 and answer.\n",
        "# (5)(▢+N+I+F+T+Y+▢)＋carry(0,1,2,3,4,5) ==> Ones place is R.\n",
        "\n",
        "%%time\n",
        "\n",
        "from itertools import permutations\n",
        "\n",
        "# Create list1 considering (1) and(2)\n",
        "list1 = [[N,I,F,T,Y,S,E,R,V] for N,I,F,T,Y,S,E,R,V in permutations(range(10),9)]\n",
        "\n",
        "\n",
        "for N,I,F,T,Y,S,E,R,V in list1:\n",
        "  for a in range(1,10):\n",
        "    for b in range(10):\n",
        "      aNIFTYb = 1000000*a + 100000*N + 10000*I + 1000*F + 100*T + 10*Y + b  \n",
        "      if ( 2 <= S and 2 <= E and 2 <= R and 2 <= V and 2 <= E  \n",
        "          and ((aNIFTYb * E)//100000)%10 == ((aNIFTYb * E)//1000000)%10 == N \n",
        "          and ((aNIFTYb * V)//10000)%10 == ((aNIFTYb * V)//100000)%10 == I \n",
        "          and ((aNIFTYb * R)//1000)%10 == ((aNIFTYb * R)//10000)%10 == F \n",
        "          and ((aNIFTYb * E)//100)%10 == ((aNIFTYb * E)//1000)%10 == T \n",
        "          and ((aNIFTYb * S)//10)%10 == ((aNIFTYb * S)//100)%10 == Y\n",
        "         ) :\n",
        "          print('aNIFTYb = ', aNIFTYb, 'S =', S, 'E =', E, 'R =', R, 'V =', V)\n",
        "          for c in range(2,10):\n",
        "            for d in range(2,10):\n",
        "              cSERVEd = 1000000*c + 100000*S + 10000*E + 1000*R + 100*V + 10*E + d\n",
        "              if ((aNIFTYb * cSERVEd)//1000000)%10 == ((aNIFTYb * cSERVEd)//10000000)%10 == R:\n",
        "                print(aNIFTYb, '×', cSERVEd, '=', aNIFTYb * cSERVEd)\n",
        "                print()\n",
        "                print('        ',aNIFTYb)\n",
        "                print('×)','     ',cSERVEd)\n",
        "                print('------------------')\n",
        "                print('       ',aNIFTYb * d)\n",
        "                print('      ',aNIFTYb * E)\n",
        "                print('     ',aNIFTYb * V)\n",
        "                print('    ',aNIFTYb * R)\n",
        "                print('   ',aNIFTYb * E)\n",
        "                print('  ',aNIFTYb * S)\n",
        "                print(' ',aNIFTYb * c)\n",
        "                print('-------------------')\n",
        "                print(' ',aNIFTYb * cSERVEd)\n",
        "                print()\n",
        "\n",
        "'''\n",
        "Result\n",
        "\n",
        "aNIFTYb =  8501495 S = 2 E = 3 R = 8 V = 6\n",
        "8501495 × 8238632 = 70040688754840\n",
        "\n",
        "         8501495\n",
        "×)       8238632\n",
        "------------------\n",
        "        17002990\n",
        "       25504485\n",
        "      51008970\n",
        "     68011960\n",
        "    25504485\n",
        "   17002990\n",
        "  68011960\n",
        "-------------------\n",
        "  70040688754840\n",
        "\n",
        "aNIFTYb =  8501496 S = 2 E = 3 R = 8 V = 6\n",
        "aNIFTYb =  8501497 S = 2 E = 3 R = 8 V = 6\n",
        "aNIFTYb =  8501498 S = 2 E = 3 R = 8 V = 6\n",
        "aNIFTYb =  8501499 S = 2 E = 3 R = 8 V = 6\n",
        "aNIFTYb =  8501499 S = 6 E = 3 R = 8 V = 2\n",
        "CPU times: user 4min 33s, sys: 1.17 s, total: 4min 34s\n",
        "Wall time: 4min 37s\n",
        "'''\n"
      ],
      "metadata": {
        "id": "-kAD92kDVAKn"
      },
      "execution_count": null,
      "outputs": []
    },
    {
      "cell_type": "markdown",
      "source": [
        "Answer\n",
        "\n",
        "\n",
        "||||||||||||||||\n",
        "|:-:|:-:|:-:|:-:|:-:|:-:|:-:|:-:|:-:|:-:|:-:|:-:|:-:|:-:|:-:|\n",
        "|  |  |  |  |  |  |   |   | 8 | 5 | 0 | 1 | 4 | 9 | 5 |  |\n",
        "| $\\times$ ) |  |  |  |  |  |  |  | 8 | 2 | 3 | 8 | 6 | 3 | 2 |  |\n",
        "|&mdash;&mdash;|&mdash;&mdash;|&mdash;&mdash;|&mdash;&mdash;|&mdash;&mdash;|&mdash;&mdash;|&mdash;&mdash;|&mdash;&mdash;|&mdash;&mdash;|&mdash;&mdash;|&mdash;&mdash;|&mdash;&mdash;|&mdash;&mdash;|&mdash;&mdash;|&mdash;&mdash;\n",
        "|  |  |  |  |  |  |  |  |  |  |  |  |  |  |  |  |\n",
        "|  |  |  |  |  |  |  | 1 | 7 | 0 | 0 | 2 | 9 | 9 | 0 |  |\n",
        "|  |  |  |  |  |  | 2 | 5 | 5 | 0 | 4 | 4 | 8 | 5 |  |  |\n",
        "|  |  |  |  |  | 5 | 1 | 0 | 0 | 8 | 9 | 7 | 0 |  |  |  |\n",
        "|  |  |  |  | 6 | 8 | 0 | 1 | 1 | 9 | 6 | 0 |  |  |  |  |\n",
        "|  |  |  | 2 | 5 | 5 | 0 | 4 | 4 | 8 | 5 |  |  |  |  |  |\n",
        "|  |  | 1 | 7 | 0 | 0 | 2 | 9 | 9 | 0 |  |  |  |  |  |  |\n",
        "|  | 6 | 8 | 0 | 1 | 1 | 9 | 6 | 0 |  |  |  |  |  |  |  |\n",
        "|&mdash;&mdash;|&mdash;&mdash;|&mdash;&mdash;|&mdash;&mdash;|&mdash;&mdash;|&mdash;&mdash;|&mdash;&mdash;|&mdash;&mdash;|&mdash;&mdash;|&mdash;&mdash;|&mdash;&mdash;|&mdash;&mdash;|&mdash;&mdash;|&mdash;&mdash;|&mdash;&mdash;\n",
        "|  | 7 | 0 | 0 | 4 | 0 | 6 | 8 | 8 | 7 | 5 | 4 | 8 | 4 | 0 |  |\n"
      ],
      "metadata": {
        "id": "peFPD98TqWpR"
      }
    },
    {
      "cell_type": "markdown",
      "source": [
        "# ★ &#9744;&#9744;&#9744;&#9744;&#9744;&#9744;&#9744; $\\times$ &#9744;&#9744;&#9744;&#9744;&#9744;&#9744;&#9744; = &#9744;000000000000&#9744;\n",
        "\n",
        "(Notice: line4 includes number 0)\n",
        "\n",
        "\\\n",
        "\n",
        "2 solutions"
      ],
      "metadata": {
        "id": "1GC0S_QEoRcO"
      }
    },
    {
      "cell_type": "markdown",
      "source": [
        "\n",
        "||||||||||||||||\n",
        "|:-:|:-:|:-:|:-:|:-:|:-:|:-:|:-:|:-:|:-:|:-:|:-:|:-:|:-:|:-:|\n",
        "|||||||||&#9744;|&#9744;|&#9744;|&#9744;|&#9744;|&#9744;|&#9744;|\n",
        "|$\\times$ )||||||||&#9744;|&#9744;|&#9744;|&#9744;|&#9744;|&#9744;|&#9744;|\n",
        "|&mdash;&mdash;|&mdash;&mdash;|&mdash;&mdash;|&mdash;&mdash;|&mdash;&mdash;|&mdash;&mdash;|&mdash;&mdash;|&mdash;&mdash;|&mdash;&mdash;|&mdash;&mdash;|&mdash;&mdash;|&mdash;&mdash;|&mdash;&mdash;|&mdash;&mdash;|&mdash;&mdash;|\n",
        "||||||||&#9744;|&#9744;|&#9744;|&#9744;|&#9744;|&#9744;|&#9744;|&#9744;|\n",
        "|||||||&#9744;|&#9744;|&#9744;|&#9744;|&#9744;|&#9744;|&#9744;|&#9744;|||\n",
        "||||||&#9744;|&#9744;|&#9744;|&#9744;|&#9744;|&#9744;|&#9744;|&#9744;||||\n",
        "|||||&#9744;|&#9744;|&#9744;|0|&#9744;|&#9744;|&#9744;|&#9744;|||||\n",
        "||||&#9744;|&#9744;|&#9744;|&#9744;|&#9744;|&#9744;|&#9744;|&#9744;||||||\n",
        "|||&#9744;|&#9744;|&#9744;|&#9744;|&#9744;|&#9744;|&#9744;|&#9744;|||||||\n",
        "||&#9744;|&#9744;|&#9744;|&#9744;|&#9744;|&#9744;|&#9744;|&#9744;||||||||\n",
        "|&mdash;&mdash;|&mdash;&mdash;|&mdash;&mdash;|&mdash;&mdash;|&mdash;&mdash;|&mdash;&mdash;|&mdash;&mdash;|&mdash;&mdash;|&mdash;&mdash;|&mdash;&mdash;|&mdash;&mdash;|&mdash;&mdash;|&mdash;&mdash;|&mdash;&mdash;|&mdash;&mdash;|\n",
        "||&#9744;|0|0|0|0|0|0|0|0|0|0|0|0|&#9744;|\n",
        "\n"
      ],
      "metadata": {
        "id": "jbQ-yrQe3FBa"
      }
    },
    {
      "cell_type": "code",
      "source": [],
      "metadata": {
        "id": "bG_WtyTQ9m9y"
      },
      "execution_count": null,
      "outputs": []
    },
    {
      "cell_type": "code",
      "source": [
        "# Back calculation method\n",
        "\n",
        "from sympy import *\n",
        "\n",
        "for p in range(1,10):\n",
        "  for q in range(10):\n",
        "    answer = p*10000000000000 + q\n",
        "    div_list = divisors(answer)\n",
        "    for i in div_list:\n",
        "      for j in div_list:\n",
        "        if (\n",
        "            (1 <= i // 1000000 <= 9) and (1 <= j // 1000000 <= 9) \n",
        "            and 2 <= j // 1000000 and 2 <= (j//100000)%10 and 2 <= (j//10000)%10 \n",
        "            and 2 <= (j//1000)%10 and 2 <= (j//100)%10 and 2 <= (j//10)%10 and 2 <= j % 10   \n",
        "            and i * j == answer\n",
        "           ):\n",
        "           k = (j // 1000) % 10\n",
        "           if ((i * k) // 10000) % 10 == 0:\n",
        "             print(i, '×', j, '=', answer)\n",
        "             print()\n",
        "             print('        ', i)\n",
        "             print('×)','     ', j)\n",
        "             print('------------------')\n",
        "             print('       ',i * (j%10))\n",
        "             print('      ',i * ((j//10)%10))\n",
        "             print('     ',i * ((j//100)%10))\n",
        "             print('    ',i * ((j//1000)%10))\n",
        "             print('   ',i * ((j//10000)%10))\n",
        "             print('  ',i * ((j//100000)%10))\n",
        "             print(' ',i * (j//1000000))\n",
        "             print('-------------------')\n",
        "             print(' ',answer)\n",
        "             print()\n",
        "           else:\n",
        "             continue\n",
        "    \n"
      ],
      "metadata": {
        "id": "xf6mMetxHpm5"
      },
      "execution_count": null,
      "outputs": []
    },
    {
      "cell_type": "markdown",
      "source": [
        "Solution(1)\n",
        "\n",
        "||||||||||||||||\n",
        "|:-:|:-:|:-:|:-:|:-:|:-:|:-:|:-:|:-:|:-:|:-:|:-:|:-:|:-:|:-:|\n",
        "|||||||||5|1|2|0|0|0|0|\n",
        "|$\\times$ )||||||||9|7|6|5|6|2|5|\n",
        "|&mdash;&mdash;|&mdash;&mdash;|&mdash;&mdash;|&mdash;&mdash;|&mdash;&mdash;|&mdash;&mdash;|&mdash;&mdash;|&mdash;&mdash;|&mdash;&mdash;|&mdash;&mdash;|&mdash;&mdash;|&mdash;&mdash;|&mdash;&mdash;|&mdash;&mdash;|&mdash;&mdash;|\n",
        "||||||||2|5|6|0|0|0|0|0|\n",
        "|||||||1|0|2|4|0|0|0|0||\n",
        "||||||3|0|7|2|0|0|0|0|||\n",
        "|||||2|5|6|0|0|0|0|0||||\n",
        "||||3|0|7|2|0|0|0|0|||||\n",
        "|||3|5|8|4|0|0|0|0||||||\n",
        "||4|6|0|8|0|0|0|0|||||||\n",
        "|&mdash;&mdash;|&mdash;&mdash;|&mdash;&mdash;|&mdash;&mdash;|&mdash;&mdash;|&mdash;&mdash;|&mdash;&mdash;|&mdash;&mdash;|&mdash;&mdash;|&mdash;&mdash;|&mdash;&mdash;|&mdash;&mdash;|&mdash;&mdash;|&mdash;&mdash;|&mdash;&mdash;|\n",
        "||5|0|0|0|0|0|0|0|0|0|0|0|0|0|\n",
        "\n"
      ],
      "metadata": {
        "id": "An95gfzfA_qH"
      }
    },
    {
      "cell_type": "markdown",
      "source": [
        "Solution(2)\n",
        "\n",
        "\n",
        "||||||||||||||||\n",
        "|:-:|:-:|:-:|:-:|:-:|:-:|:-:|:-:|:-:|:-:|:-:|:-:|:-:|:-:|:-:|\n",
        "|||||||||7|2|3|4|1|9|7|\n",
        "|$\\times$ )||||||||9|6|7|6|2|6|4|\n",
        "|ー|ー|ー|ー|ー|ー|ー|ー|ー|ー|ー|ー|ー|ー|ー|\n",
        "||||||||2|8|9|3|6|7|8|8|\n",
        "|||||||4|3|4|0|5|1|8|2||\n",
        "||||||1|4|4|6|8|3|9|4|||\n",
        "|||||4|3|4|0|5|1|8|2||||\n",
        "||||5|0|6|3|9|3|7|9|||||\n",
        "|||4|3|4|0|5|1|8|2||||||\n",
        "||6|5|1|0|7|7|7|3|||||||\n",
        "|ー|ー|ー|ー|ー|ー|ー|ー|ー|ー|ー|ー|ー|ー|ー|\n",
        "||7|0|0|0|0|0|0|0|0|0|0|0|0|8|\n"
      ],
      "metadata": {
        "id": "GISOwd_1BBtB"
      }
    },
    {
      "cell_type": "markdown",
      "source": [
        "# ★ QUARK $\\times$ PUZZLE = &#9744;6&#9744;4&#9744;9&#9744;1&#9744;3&#9744; "
      ],
      "metadata": {
        "id": "ttQe6S-SwUtw"
      }
    },
    {
      "cell_type": "markdown",
      "source": [
        "\n",
        "\n",
        "||||||||||||||||\n",
        "|:-:|:-:|:-:|:-:|:-:|:-:|:-:|:-:|:-:|:-:|:-:|:-:|:-:|:-:|:-:|\n",
        "||||||||Q|U|A|R|K||||\n",
        "|$\\times$ )||||||P|U|Z|Z|L|E||||\n",
        "|&mdash;&mdash;|&mdash;&mdash;|&mdash;&mdash;|&mdash;&mdash;|&mdash;&mdash;|&mdash;&mdash;|&mdash;&mdash;|&mdash;&mdash;|&mdash;&mdash;|&mdash;&mdash;|&mdash;&mdash;|&mdash;&mdash;|&mdash;&mdash;|\n",
        "|||||||&#9744;|&#9744;|&#9744;|&#9744;|&#9744;|&#9744;||||\n",
        "||||||&#9744;|&#9744;|&#9744;|&#9744;|&#9744;|&#9744;|||||\n",
        "|||||&#9744;|&#9744;|&#9744;|&#9744;|&#9744;|&#9744;||||||\n",
        "||||&#9744;|&#9744;|&#9744;|&#9744;|&#9744;|&#9744;|||||||\n",
        "|||&#9744;|&#9744;|&#9744;|&#9744;|&#9744;|&#9744;||||||\n",
        "||&#9744;|&#9744;|&#9744;|&#9744;|&#9744;|&#9744;|||||||\n",
        "|&mdash;&mdash;|&mdash;&mdash;|&mdash;&mdash;|&mdash;&mdash;|&mdash;&mdash;|&mdash;&mdash;|&mdash;&mdash;|&mdash;&mdash;|&mdash;&mdash;|&mdash;&mdash;|&mdash;&mdash;|&mdash;&mdash;|&mdash;&mdash;|\n",
        "||&#9744;|6|&#9744;|4|&#9744;|9|&#9744;|1|&#9744;|3|&#9744;|||||||\n",
        "\n"
      ],
      "metadata": {
        "id": "_-Fa74S8XOZB"
      }
    },
    {
      "cell_type": "code",
      "source": [],
      "metadata": {
        "id": "3JqopO_lrk-q"
      },
      "execution_count": null,
      "outputs": []
    },
    {
      "cell_type": "code",
      "source": [
        "# Took a long time to get solution\n",
        "# Please find another way.\n",
        "\n",
        "# Findings fron the problem\n",
        "# (1) P,Q are not 0.\n",
        "# (2) As each product is 6 digits, P,U,Z,L,E are 2 or more.\n",
        "# (3) 6,4,9,1,3 are found in answer number.\n",
        "# (4) Ones place of (sum of applicable numbers in product) + 0,1,2,3,4 is 6,4,9,1,3.\n",
        "\n",
        "%%time\n",
        "\n",
        "from itertools import product\n",
        "\n",
        "list_y = [100000, 10000, 1000, 100, 10, 1]\n",
        "list_a = [10000000000, 1000000000, 100000000, 10000000, 1000000, 100000, 10000, 1000, 100, 10, 1]\n",
        "\n",
        "for Q,U,A,R,K,P,Z,L,E in product(range(10), repeat=9):\n",
        "  QUARK = 10000*Q + 1000*U + 100*A + 10*R + K \n",
        "  PUZZLE = 100000*P + 10000*U + 1000*Z + 100*Z + 10*L + E\n",
        "  s = [Q,U,A,R,K,P,Z,L,E]\n",
        "  if (\n",
        "      len(set(s)) == len(s)\n",
        "      and\n",
        "      Q != 0 and 2 <= P and 2 <= U and 2 <= Z and 2 <= L and 2 <= E\n",
        "     ) :\n",
        "     line1 = [(QUARK * E // y) % 10 for y in list_y]\n",
        "     line2 = [(QUARK * L // y) % 10 for y in list_y]\n",
        "     line3 = [(QUARK * Z // y) % 10 for y in list_y]\n",
        "     line4 = [(QUARK * Z // y) % 10 for y in list_y]\n",
        "     line5 = [(QUARK * U // y) % 10 for y in list_y]\n",
        "     line6 = [(QUARK * P // y) % 10 for y in list_y]\n",
        "     answer = [(QUARK * PUZZLE // y) % 10 for y in list_a]\n",
        "     if (\n",
        "         answer[1] == 6 and answer[3] == 4 and answer[5] == 9 and answer[7] == 1 and answer[9] == 3 \n",
        "         and \n",
        "         (line1[4] + line2[5]) % 10 == 3 and\n",
        "         (((line1[2] + line2[3] + line3[4] + line4[5]) % 10 == 1) or \n",
        "          ((line1[2] + line2[3] + line3[4] + line4[5] + 1) % 10 == 1) or\n",
        "          ((line1[2] + line2[3] + line3[4] + line4[5] + 2) % 10 == 1)) and\n",
        "         (((line1[0] + line2[1] + line3[2] + line4[3] + line5[4] + line6[5]) % 10 == 9) or \n",
        "          ((line1[0] + line2[1] + line3[2] + line4[3] + line5[4] + line6[5] + 1) % 10 == 9) or\n",
        "          ((line1[0] + line2[1] + line3[2] + line4[3] + line5[4] + line6[5] + 2) % 10 == 9) or\n",
        "          ((line1[0] + line2[1] + line3[2] + line4[3] + line5[4] + line6[5] + 3) % 10 == 9) or\n",
        "          ((line1[0] + line2[1] + line3[2] + line4[3] + line5[4] + line6[5] + 4) % 10 == 9)) and\n",
        "         (((line3[0] + line4[1] + line5[2] + line6[3]) % 10 == 4) or\n",
        "          ((line3[0] + line4[1] + line5[2] + line6[3] + 1) % 10 == 4) or\n",
        "          ((line3[0] + line4[1] + line5[2] + line6[3] + 2) % 10 == 4) or\n",
        "          ((line3[0] + line4[1] + line5[2] + line6[3] + 3) % 10 == 4) or\n",
        "          ((line3[0] + line4[1] + line5[2] + line6[3] + 4) % 10 == 4)) and\n",
        "         (((line5[0] + line6[1]) % 10 == 6) or\n",
        "          ((line5[0] + line6[1] + 1) % 10 == 6) or\n",
        "          ((line5[0] + line6[1] + 2) % 10 == 6)) \n",
        "         ) :\n",
        "         print(QUARK, '×', PUZZLE, '=', QUARK * PUZZLE)\n",
        "         print()\n",
        "         print('        ',QUARK)\n",
        "         print('×)','   ',PUZZLE)\n",
        "         print('------------------')\n",
        "         print('       ',QUARK * E)\n",
        "         print('      ',QUARK * L)\n",
        "         print('     ',QUARK * Z)\n",
        "         print('    ',QUARK * Z)\n",
        "         print('   ',QUARK * U)\n",
        "         print('  ',QUARK * P)\n",
        "         print('-------------------')\n",
        "         print('  ',QUARK * PUZZLE)\n",
        "         print()\n",
        "\n",
        "\n",
        "                          "
      ],
      "metadata": {
        "id": "npjlxQ4sG_4-"
      },
      "execution_count": null,
      "outputs": []
    }
  ]
}